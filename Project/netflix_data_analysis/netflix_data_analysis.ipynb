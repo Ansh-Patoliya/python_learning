{
 "cells": [
  {
   "metadata": {
    "ExecuteTime": {
     "end_time": "2025-09-29T13:35:42.799995Z",
     "start_time": "2025-09-29T13:35:42.793794Z"
    }
   },
   "cell_type": "code",
   "source": [
    "from cProfile import label\n",
    "\n",
    "import pandas as pd\n",
    "import numpy as np\n",
    "import matplotlib.pyplot as plt"
   ],
   "id": "1e339f4190f6493",
   "outputs": [],
   "execution_count": 65
  },
  {
   "metadata": {
    "ExecuteTime": {
     "end_time": "2025-09-29T13:35:42.878853Z",
     "start_time": "2025-09-29T13:35:42.820458Z"
    }
   },
   "cell_type": "code",
   "source": "df=pd.read_csv(\"netflix_titles.csv\",encoding='latin1')",
   "id": "a8945e6b611f5241",
   "outputs": [],
   "execution_count": 66
  },
  {
   "metadata": {},
   "cell_type": "markdown",
   "source": [
    "## Step 1: Understand the Data (Exploration)\n",
    "    (1) How many total rows and columns are in the dataset?\n",
    "    (2) What is the data type of each column (e.g., number, text, date)?\n",
    "    (3) Are there any missing values in any column? If yes, which column has the most missing values?\n",
    "    (4) Is there more content categorized as \"Movie\" or \"TV Show\" on Netflix? Show the count for each.\n",
    "    (5) Initial Preview: Display the first 10 and last 10 rows of the dataset to see how the data is recorded.\n",
    "    (6) Unique Values: How many unique categories are there in columns like type, rating, and country?\n",
    "    (7) Value Counts: What are the counts of each category within the type column (i.e., how many Movies vs. TV\n",
    "     Shows)? What are the top 10 most frequent values in country, director, and listed_in (genre)?\n",
    "    (8) Numerical Summary: What are the basic descriptive statistics (mean, median, standard deviation, min, max) for numerical columns like release_year?\n",
    "    (9) Timespan of Data: What is the earliest and latest release_year in the dataset? What about the date_added?"
   ],
   "id": "98f7b61399967cf0"
  },
  {
   "metadata": {
    "ExecuteTime": {
     "end_time": "2025-09-29T13:35:42.895612Z",
     "start_time": "2025-09-29T13:35:42.890277Z"
    }
   },
   "cell_type": "code",
   "source": [
    "# 1. How many total rows and columns are in the dataset?\n",
    "print(f\"Total rows = {df.shape[0]} , column = {df.shape[1]}\")"
   ],
   "id": "92f4ad7ceb31de29",
   "outputs": [
    {
     "name": "stdout",
     "output_type": "stream",
     "text": [
      "Total rows = 8807 , column = 12\n"
     ]
    }
   ],
   "execution_count": 67
  },
  {
   "metadata": {
    "ExecuteTime": {
     "end_time": "2025-09-29T13:35:42.943314Z",
     "start_time": "2025-09-29T13:35:42.932849Z"
    }
   },
   "cell_type": "code",
   "source": [
    "# 2. What is the data type of each column (e.g., number, text, date)?\n",
    "print(df.dtypes)"
   ],
   "id": "e79aa293b023ee8a",
   "outputs": [
    {
     "name": "stdout",
     "output_type": "stream",
     "text": [
      "show_id         object\n",
      "type            object\n",
      "title           object\n",
      "director        object\n",
      "cast            object\n",
      "country         object\n",
      "date_added      object\n",
      "release_year     int64\n",
      "rating          object\n",
      "duration        object\n",
      "listed_in       object\n",
      "description     object\n",
      "dtype: object\n"
     ]
    }
   ],
   "execution_count": 68
  },
  {
   "metadata": {
    "ExecuteTime": {
     "end_time": "2025-09-29T13:35:43.023007Z",
     "start_time": "2025-09-29T13:35:43.004990Z"
    }
   },
   "cell_type": "code",
   "source": [
    "# 3. Are there any missing values in any column? If yes, which column has the most missing values?\n",
    "\n",
    "# print(f\"Most missing values column = {df.isnull().sum().index[np.argmax(df.isnull().sum().values)]}\")\n",
    "\n",
    "# best way\n",
    "print(f\"Most missing values column = {df.isnull().sum().idxmax()}\")"
   ],
   "id": "6f014cdc325ad6f1",
   "outputs": [
    {
     "name": "stdout",
     "output_type": "stream",
     "text": [
      "Most missing values column = director\n"
     ]
    }
   ],
   "execution_count": 69
  },
  {
   "metadata": {
    "ExecuteTime": {
     "end_time": "2025-09-29T13:35:43.088295Z",
     "start_time": "2025-09-29T13:35:43.079165Z"
    }
   },
   "cell_type": "code",
   "source": [
    "# 4. Is there more content categorized as \"Movie\" or \"TV Show\" on Netflix? Show the count for each.\n",
    "print(f\"there more content categorized as = {df.groupby('type')['show_id'].count().idxmax()}\")\n",
    "print(f\"count for each = {df.groupby('type')['show_id'].count()}\")"
   ],
   "id": "1523b394272a4905",
   "outputs": [
    {
     "name": "stdout",
     "output_type": "stream",
     "text": [
      "there more content categorized as = Movie\n",
      "count for each = type\n",
      "Movie      6131\n",
      "TV Show    2676\n",
      "Name: show_id, dtype: int64\n"
     ]
    }
   ],
   "execution_count": 70
  },
  {
   "metadata": {
    "ExecuteTime": {
     "end_time": "2025-09-29T13:35:43.143552Z",
     "start_time": "2025-09-29T13:35:43.131668Z"
    }
   },
   "cell_type": "code",
   "source": [
    "# 5. Initial Preview: Display the first 10 and last 10 rows of the dataset to see how the data is recorded.\n",
    "print(f\"first 10 = \\n {df.head(10)}\")\n",
    "print(f\"lst 10 = \\n {df.tail(10)}\")"
   ],
   "id": "adeb8c8dc764e0e3",
   "outputs": [
    {
     "name": "stdout",
     "output_type": "stream",
     "text": [
      "first 10 = \n",
      "   show_id     type                             title  \\\n",
      "0      s1    Movie              Dick Johnson Is Dead   \n",
      "1      s2  TV Show                     Blood & Water   \n",
      "2      s3  TV Show                         Ganglands   \n",
      "3      s4  TV Show             Jailbirds New Orleans   \n",
      "4      s5  TV Show                      Kota Factory   \n",
      "5      s6  TV Show                     Midnight Mass   \n",
      "6      s7    Movie  My Little Pony: A New Generation   \n",
      "7      s8    Movie                           Sankofa   \n",
      "8      s9  TV Show     The Great British Baking Show   \n",
      "9     s10    Movie                      The Starling   \n",
      "\n",
      "                         director  \\\n",
      "0                 Kirsten Johnson   \n",
      "1                             NaN   \n",
      "2                 Julien Leclercq   \n",
      "3                             NaN   \n",
      "4                             NaN   \n",
      "5                   Mike Flanagan   \n",
      "6  Robert Cullen, JosÃ© Luis Ucha   \n",
      "7                    Haile Gerima   \n",
      "8                 Andy Devonshire   \n",
      "9                  Theodore Melfi   \n",
      "\n",
      "                                                cast  \\\n",
      "0                                                NaN   \n",
      "1  Ama Qamata, Khosi Ngema, Gail Mabalane, Thaban...   \n",
      "2  Sami Bouajila, Tracy Gotoas, Samuel Jouy, Nabi...   \n",
      "3                                                NaN   \n",
      "4  Mayur More, Jitendra Kumar, Ranjan Raj, Alam K...   \n",
      "5  Kate Siegel, Zach Gilford, Hamish Linklater, H...   \n",
      "6  Vanessa Hudgens, Kimiko Glenn, James Marsden, ...   \n",
      "7  Kofi Ghanaba, Oyafunmike Ogunlano, Alexandra D...   \n",
      "8  Mel Giedroyc, Sue Perkins, Mary Berry, Paul Ho...   \n",
      "9  Melissa McCarthy, Chris O'Dowd, Kevin Kline, T...   \n",
      "\n",
      "                                             country          date_added  \\\n",
      "0                                      United States  September 25, 2021   \n",
      "1                                       South Africa  September 24, 2021   \n",
      "2                                                NaN  September 24, 2021   \n",
      "3                                                NaN  September 24, 2021   \n",
      "4                                              India  September 24, 2021   \n",
      "5                                                NaN  September 24, 2021   \n",
      "6                                                NaN  September 24, 2021   \n",
      "7  United States, Ghana, Burkina Faso, United Kin...  September 24, 2021   \n",
      "8                                     United Kingdom  September 24, 2021   \n",
      "9                                      United States  September 24, 2021   \n",
      "\n",
      "   release_year rating   duration  \\\n",
      "0          2020  PG-13     90 min   \n",
      "1          2021  TV-MA  2 Seasons   \n",
      "2          2021  TV-MA   1 Season   \n",
      "3          2021  TV-MA   1 Season   \n",
      "4          2021  TV-MA  2 Seasons   \n",
      "5          2021  TV-MA   1 Season   \n",
      "6          2021     PG     91 min   \n",
      "7          1993  TV-MA    125 min   \n",
      "8          2021  TV-14  9 Seasons   \n",
      "9          2021  PG-13    104 min   \n",
      "\n",
      "                                           listed_in  \\\n",
      "0                                      Documentaries   \n",
      "1    International TV Shows, TV Dramas, TV Mysteries   \n",
      "2  Crime TV Shows, International TV Shows, TV Act...   \n",
      "3                             Docuseries, Reality TV   \n",
      "4  International TV Shows, Romantic TV Shows, TV ...   \n",
      "5                 TV Dramas, TV Horror, TV Mysteries   \n",
      "6                           Children & Family Movies   \n",
      "7   Dramas, Independent Movies, International Movies   \n",
      "8                       British TV Shows, Reality TV   \n",
      "9                                   Comedies, Dramas   \n",
      "\n",
      "                                         description  \n",
      "0  As her father nears the end of his life, filmm...  \n",
      "1  After crossing paths at a party, a Cape Town t...  \n",
      "2  To protect his family from a powerful drug lor...  \n",
      "3  Feuds, flirtations and toilet talk go down amo...  \n",
      "4  In a city of coaching centers known to train I...  \n",
      "5  The arrival of a charismatic young priest brin...  \n",
      "6  Equestria's divided. But a bright-eyed hero be...  \n",
      "7  On a photo shoot in Ghana, an American model s...  \n",
      "8  A talented batch of amateur bakers face off in...  \n",
      "9  A woman adjusting to life after a loss contend...  \n",
      "lst 10 = \n",
      "      show_id     type               title                 director  \\\n",
      "8797   s8798  TV Show           Zak Storm                      NaN   \n",
      "8798   s8799    Movie            Zed Plus  Chandra Prakash Dwivedi   \n",
      "8799   s8800    Movie               Zenda           Avadhoot Gupte   \n",
      "8800   s8801  TV Show  Zindagi Gulzar Hai                      NaN   \n",
      "8801   s8802    Movie             Zinzana          Majid Al Ansari   \n",
      "8802   s8803    Movie              Zodiac            David Fincher   \n",
      "8803   s8804  TV Show         Zombie Dumb                      NaN   \n",
      "8804   s8805    Movie          Zombieland          Ruben Fleischer   \n",
      "8805   s8806    Movie                Zoom             Peter Hewitt   \n",
      "8806   s8807    Movie              Zubaan              Mozez Singh   \n",
      "\n",
      "                                                   cast  \\\n",
      "8797  Michael Johnston, Jessica Gee-George, Christin...   \n",
      "8798  Adil Hussain, Mona Singh, K.K. Raina, Sanjay M...   \n",
      "8799  Santosh Juvekar, Siddharth Chandekar, Sachit P...   \n",
      "8800  Sanam Saeed, Fawad Khan, Ayesha Omer, Mehreen ...   \n",
      "8801  Ali Suliman, Saleh Bakri, Yasa, Ali Al-Jabri, ...   \n",
      "8802  Mark Ruffalo, Jake Gyllenhaal, Robert Downey J...   \n",
      "8803                                                NaN   \n",
      "8804  Jesse Eisenberg, Woody Harrelson, Emma Stone, ...   \n",
      "8805  Tim Allen, Courteney Cox, Chevy Chase, Kate Ma...   \n",
      "8806  Vicky Kaushal, Sarah-Jane Dias, Raaghav Chanan...   \n",
      "\n",
      "                                            country          date_added  \\\n",
      "8797  United States, France, South Korea, Indonesia  September 13, 2018   \n",
      "8798                                          India   December 31, 2019   \n",
      "8799                                          India   February 15, 2018   \n",
      "8800                                       Pakistan   December 15, 2016   \n",
      "8801                   United Arab Emirates, Jordan       March 9, 2016   \n",
      "8802                                  United States   November 20, 2019   \n",
      "8803                                            NaN        July 1, 2019   \n",
      "8804                                  United States    November 1, 2019   \n",
      "8805                                  United States    January 11, 2020   \n",
      "8806                                          India       March 2, 2019   \n",
      "\n",
      "      release_year rating   duration  \\\n",
      "8797          2016  TV-Y7  3 Seasons   \n",
      "8798          2014  TV-MA    131 min   \n",
      "8799          2009  TV-14    120 min   \n",
      "8800          2012  TV-PG   1 Season   \n",
      "8801          2015  TV-MA     96 min   \n",
      "8802          2007      R    158 min   \n",
      "8803          2018  TV-Y7  2 Seasons   \n",
      "8804          2009      R     88 min   \n",
      "8805          2006     PG     88 min   \n",
      "8806          2015  TV-14    111 min   \n",
      "\n",
      "                                              listed_in  \\\n",
      "8797                                           Kids' TV   \n",
      "8798             Comedies, Dramas, International Movies   \n",
      "8799                       Dramas, International Movies   \n",
      "8800  International TV Shows, Romantic TV Shows, TV ...   \n",
      "8801            Dramas, International Movies, Thrillers   \n",
      "8802                     Cult Movies, Dramas, Thrillers   \n",
      "8803             Kids' TV, Korean TV Shows, TV Comedies   \n",
      "8804                            Comedies, Horror Movies   \n",
      "8805                 Children & Family Movies, Comedies   \n",
      "8806     Dramas, International Movies, Music & Musicals   \n",
      "\n",
      "                                            description  \n",
      "8797  Teen surfer Zak Storm is mysteriously transpor...  \n",
      "8798  A philandering small-town mechanic's political...  \n",
      "8799  A change in the leadership of a political part...  \n",
      "8800  Strong-willed, middle-class Kashaf and carefre...  \n",
      "8801  Recovering alcoholic Talal wakes up inside a s...  \n",
      "8802  A political cartoonist, a crime reporter and a...  \n",
      "8803  While living alone in a spooky town, a young g...  \n",
      "8804  Looking to survive in a world taken over by zo...  \n",
      "8805  Dragged from civilian life, a former superhero...  \n",
      "8806  A scrappy but poor boy worms his way into a ty...  \n"
     ]
    }
   ],
   "execution_count": 71
  },
  {
   "metadata": {
    "ExecuteTime": {
     "end_time": "2025-09-29T13:35:43.181065Z",
     "start_time": "2025-09-29T13:35:43.173917Z"
    }
   },
   "cell_type": "code",
   "source": [
    "# 6. Unique Values: How many unique categories are there in columns like type, rating, and country?\n",
    "\n",
    "# print(f\"type = {df['type'].unique().size}\")\n",
    "# print(f\"rating = {df['rating'].unique().size}\")\n",
    "# print(f\"country = {df['country'].unique().size}\")\n",
    "\n",
    "# Best Way\n",
    "print(df[['type','rating','country']].nunique())"
   ],
   "id": "4288a6b999c8000",
   "outputs": [
    {
     "name": "stdout",
     "output_type": "stream",
     "text": [
      "type         2\n",
      "rating      17\n",
      "country    748\n",
      "dtype: int64\n"
     ]
    }
   ],
   "execution_count": 72
  },
  {
   "metadata": {
    "ExecuteTime": {
     "end_time": "2025-09-29T13:35:43.220802Z",
     "start_time": "2025-09-29T13:35:43.208009Z"
    }
   },
   "cell_type": "code",
   "source": [
    "# 7. Value Counts: What are the counts of each category within the type column (i.e., how many Movies vs. TV Shows)? What are the top 10 most frequent values in country, director, and listed_in (genre)?\n",
    "\n",
    "# print(f\"count for each = {df.groupby('type')['show_id'].count()}\")\n",
    "# print(f\"country = {df.groupby('country')['show_id'].count().sort_values(ascending=False).head(10)}\")\n",
    "# print(f\"director = {df.groupby('director')['show_id'].count().sort_values(ascending=False).head(10)}\")\n",
    "# print(f'listed in = {df.groupby('listed_in')['show_id'].count().sort_values(ascending=False).head(10)}')\n",
    "\n",
    "# best way\n",
    "print(\"--- Type Counts ---\")\n",
    "print(df['type'].value_counts())\n",
    "print(\"\\n\" + \"=\"*30 + \"\\n\") # For clean separation\n",
    "\n",
    "print(\"--- Top 10 Countries ---\")\n",
    "print(df['country'].value_counts().head(10))\n",
    "print(\"\\n\" + \"=\"*30 + \"\\n\")\n",
    "\n",
    "print(\"--- Top 10 Directors ---\")\n",
    "print(df['director'].value_counts().head(10))\n",
    "print(\"\\n\" + \"=\"*30 + \"\\n\")\n",
    "\n",
    "print(\"--- Top 10 Genres (listed_in) ---\")\n",
    "print(df['listed_in'].value_counts().head(10))"
   ],
   "id": "8b812cd485ad28b2",
   "outputs": [
    {
     "name": "stdout",
     "output_type": "stream",
     "text": [
      "--- Type Counts ---\n",
      "type\n",
      "Movie      6131\n",
      "TV Show    2676\n",
      "Name: count, dtype: int64\n",
      "\n",
      "==============================\n",
      "\n",
      "--- Top 10 Countries ---\n",
      "country\n",
      "United States     2818\n",
      "India              972\n",
      "United Kingdom     419\n",
      "Japan              245\n",
      "South Korea        199\n",
      "Canada             181\n",
      "Spain              145\n",
      "France             124\n",
      "Mexico             110\n",
      "Egypt              106\n",
      "Name: count, dtype: int64\n",
      "\n",
      "==============================\n",
      "\n",
      "--- Top 10 Directors ---\n",
      "director\n",
      "Rajiv Chilaka              19\n",
      "RaÃºl Campos, Jan Suter    18\n",
      "Suhas Kadav                16\n",
      "Marcus Raboy               16\n",
      "Jay Karas                  14\n",
      "Cathy Garcia-Molina        13\n",
      "Martin Scorsese            12\n",
      "Youssef Chahine            12\n",
      "Jay Chapman                12\n",
      "Steven Spielberg           11\n",
      "Name: count, dtype: int64\n",
      "\n",
      "==============================\n",
      "\n",
      "--- Top 10 Genres (listed_in) ---\n",
      "listed_in\n",
      "Dramas, International Movies                        362\n",
      "Documentaries                                       359\n",
      "Stand-Up Comedy                                     334\n",
      "Comedies, Dramas, International Movies              274\n",
      "Dramas, Independent Movies, International Movies    252\n",
      "Kids' TV                                            220\n",
      "Children & Family Movies                            215\n",
      "Children & Family Movies, Comedies                  201\n",
      "Documentaries, International Movies                 186\n",
      "Dramas, International Movies, Romantic Movies       180\n",
      "Name: count, dtype: int64\n"
     ]
    }
   ],
   "execution_count": 73
  },
  {
   "metadata": {
    "ExecuteTime": {
     "end_time": "2025-09-29T13:35:43.251665Z",
     "start_time": "2025-09-29T13:35:43.238360Z"
    }
   },
   "cell_type": "code",
   "source": [
    "# 8. Numerical Summary: What are the basic descriptive statistics (mean, median, standard deviation, min, max) for numerical columns like release_year?\n",
    "print(df.describe())"
   ],
   "id": "40b533c4f27ee04d",
   "outputs": [
    {
     "name": "stdout",
     "output_type": "stream",
     "text": [
      "       release_year\n",
      "count   8807.000000\n",
      "mean    2014.180198\n",
      "std        8.819312\n",
      "min     1925.000000\n",
      "25%     2013.000000\n",
      "50%     2017.000000\n",
      "75%     2019.000000\n",
      "max     2021.000000\n"
     ]
    }
   ],
   "execution_count": 74
  },
  {
   "metadata": {
    "ExecuteTime": {
     "end_time": "2025-09-29T13:35:43.298029Z",
     "start_time": "2025-09-29T13:35:43.280407Z"
    }
   },
   "cell_type": "code",
   "source": [
    "# 9. Timespan of Data: What is the earliest and latest release_year in the dataset? What about the date_added?\n",
    "# print(df['release_year'].max())\n",
    "# print(df['release_year'].min())\n",
    "df['date_added']=pd.to_datetime(df['date_added'].str.strip())\n",
    "print(df['date_added'].max())\n",
    "print(df['date_added'].min())"
   ],
   "id": "cad34a1ed2c42fea",
   "outputs": [
    {
     "name": "stdout",
     "output_type": "stream",
     "text": [
      "2021-09-25 00:00:00\n",
      "2008-01-01 00:00:00\n"
     ]
    }
   ],
   "execution_count": 75
  },
  {
   "metadata": {},
   "cell_type": "markdown",
   "source": [
    "\n",
    "## Step 2: Clean the Data (Cleaning & Preprocessing)\n",
    "    (1) How would you handle the missing values in the date_added column? Would you remove them or fill them with a\n",
    "     default value?\n",
    "    (2) The rating column also has missing values. Fill them with the most frequently occurring rating (the mode).\n",
    "    (3)The cast and director columns also have null values. For now, you can leave them, but think about how you might\n",
    "     handle them.\n",
    "    (4) Handling Missing Directors/Cast/Country: Decide on a strategy for the missing values in director, cast, and country. Should you fill them\n",
    "     with a placeholder like \"Unknown\" or drop the rows? Justify your choice.\n",
    "    (5) Fixing Missing Ratings: The rating column has missing values. How would you fill them? A good approach is to use the mode (the most\n",
    "     frequently occurring rating).\n",
    "    (6) Managing Missing Dates: Address the missing values in date_added. Is it better to drop these few rows or fill them with the release_year?\n",
    "    (7) Data Type Conversion: The date_added column is currently a string (object). Convert it to a proper datetime format so you can perform\n",
    "    time-based analysis.\n",
    "    (8) Cleaning the Duration Column: The duration column contains mixed data (e.g., \"100 min\" for movies, \"2 Seasons\" for TV shows). Separate the\n",
    "     dataset into two: one for Movies and one for TV Shows. For the Movie dataset, convert the duration column to a numerical type (integer) by\n",
    "      removing \"min\". Do the same for the TV Show dataset, converting seasons to an integer.\n",
    "    (9) Handling Duplicates: Check if there are any duplicate rows in the dataset and remove them if they exist.\n",
    "    (10) Standardizing Genres: The listed_in column often contains multiple genres in one string (e.g., \"Dramas, International Movies\"). Should you\n",
    "     split these into a list or just use the primary genre for analysis?"
   ],
   "id": "4a0a14453904dee2"
  },
  {
   "metadata": {
    "ExecuteTime": {
     "end_time": "2025-09-29T13:35:43.338480Z",
     "start_time": "2025-09-29T13:35:43.330320Z"
    }
   },
   "cell_type": "code",
   "source": [
    "# 1. How would you handle the missing values in the date_added column? Would you remove them or fill them with a default value?\n",
    "df.dropna(subset=['date_added'],inplace=True)"
   ],
   "id": "a11d6c36a526f347",
   "outputs": [],
   "execution_count": 76
  },
  {
   "metadata": {
    "ExecuteTime": {
     "end_time": "2025-09-29T13:35:43.362462Z",
     "start_time": "2025-09-29T13:35:43.353677Z"
    }
   },
   "cell_type": "code",
   "source": [
    "# 2. The rating column also has missing values. Fill them with the most frequently occurring rating (the mode).\n",
    "df['rating'].fillna(df['rating'].mode()[0],inplace=True)"
   ],
   "id": "9552a7a5aab77b89",
   "outputs": [
    {
     "name": "stderr",
     "output_type": "stream",
     "text": [
      "C:\\Users\\ansh\\AppData\\Local\\Temp\\ipykernel_20596\\3430456595.py:2: FutureWarning: A value is trying to be set on a copy of a DataFrame or Series through chained assignment using an inplace method.\n",
      "The behavior will change in pandas 3.0. This inplace method will never work because the intermediate object on which we are setting values always behaves as a copy.\n",
      "\n",
      "For example, when doing 'df[col].method(value, inplace=True)', try using 'df.method({col: value}, inplace=True)' or df[col] = df[col].method(value) instead, to perform the operation inplace on the original object.\n",
      "\n",
      "\n",
      "  df['rating'].fillna(df['rating'].mode()[0],inplace=True)\n"
     ]
    }
   ],
   "execution_count": 77
  },
  {
   "metadata": {
    "ExecuteTime": {
     "end_time": "2025-09-29T13:35:43.420076Z",
     "start_time": "2025-09-29T13:35:43.397717Z"
    }
   },
   "cell_type": "code",
   "source": [
    "# 3. The cast and director columns also have null values. For now, you can leave them, but think about how you might handle them.\n",
    "df.info()\n",
    "'''\n",
    "Strategy 1: Fill with a Placeholder (Jagya Purvi)\n",
    "    - This is the most common and safest approach for text columns like cast and director.\n",
    "    - What to do: Instead of leaving the cells blank, we can fill them with a placeholder word like \"Unknown\", \"Not Available\", or \"No Director\".\n",
    "    - Why it's a good idea:\n",
    "        - No Data Loss: We don't have to delete the entire row. We can still use the information from other columns like release_year, country, and rating for our analysis.\n",
    "        - Clarity: It clearly tells us that the information was missing, not that the movie had no director or cast.\n",
    "        - Easy Analysis: We can later easily count how many movies have an \"Unknown\" director or filter them out if needed.\n",
    "\n",
    "Strategy 2: Do Nothing (Kaai Na Karvu)\n",
    "    - Sometimes, the best action is no action.\n",
    "    - What to do: Leave the missing values as they are (NaN).\n",
    "    - Why it might work:\n",
    "        - Specific Analysis: If you are only analyzing trends by country or release year, the director and cast columns don't matter. Pandas is smart enough to ignore missing values during many calculations (like counting).\n",
    "        - Honesty: It keeps the data in its original, raw state.\n",
    "    - The downside: This can cause errors or unexpected results in certain analyses, especially if you try to search for a specific director's name.\n",
    "\n",
    "Strategy 3: Deleting Rows (Rows Kadhi Nakhvi)\n",
    "    - This is a more aggressive approach and generally not recommended for these columns.\n",
    "    - What to do: Delete any row where the director or cast information is missing.\n",
    "    - Why it's risky:\n",
    "        - Major Data Loss: The director column has thousands of missing values. Deleting all those rows would mean throwing away a large portion of our dataset (almost 30%). This would make our overall analysis much less reliable.\n",
    "'''"
   ],
   "id": "d87ebeb76da492b",
   "outputs": [
    {
     "name": "stdout",
     "output_type": "stream",
     "text": [
      "<class 'pandas.core.frame.DataFrame'>\n",
      "Index: 8797 entries, 0 to 8806\n",
      "Data columns (total 12 columns):\n",
      " #   Column        Non-Null Count  Dtype         \n",
      "---  ------        --------------  -----         \n",
      " 0   show_id       8797 non-null   object        \n",
      " 1   type          8797 non-null   object        \n",
      " 2   title         8797 non-null   object        \n",
      " 3   director      6173 non-null   object        \n",
      " 4   cast          7972 non-null   object        \n",
      " 5   country       7967 non-null   object        \n",
      " 6   date_added    8797 non-null   datetime64[ns]\n",
      " 7   release_year  8797 non-null   int64         \n",
      " 8   rating        8797 non-null   object        \n",
      " 9   duration      8794 non-null   object        \n",
      " 10  listed_in     8797 non-null   object        \n",
      " 11  description   8797 non-null   object        \n",
      "dtypes: datetime64[ns](1), int64(1), object(10)\n",
      "memory usage: 893.4+ KB\n"
     ]
    },
    {
     "data": {
      "text/plain": [
       "'\\nStrategy 1: Fill with a Placeholder (Jagya Purvi)\\n    - This is the most common and safest approach for text columns like cast and director.\\n    - What to do: Instead of leaving the cells blank, we can fill them with a placeholder word like \"Unknown\", \"Not Available\", or \"No Director\".\\n    - Why it\\'s a good idea:\\n        - No Data Loss: We don\\'t have to delete the entire row. We can still use the information from other columns like release_year, country, and rating for our analysis.\\n        - Clarity: It clearly tells us that the information was missing, not that the movie had no director or cast.\\n        - Easy Analysis: We can later easily count how many movies have an \"Unknown\" director or filter them out if needed.\\n\\nStrategy 2: Do Nothing (Kaai Na Karvu)\\n    - Sometimes, the best action is no action.\\n    - What to do: Leave the missing values as they are (NaN).\\n    - Why it might work:\\n        - Specific Analysis: If you are only analyzing trends by country or release year, the director and cast columns don\\'t matter. Pandas is smart enough to ignore missing values during many calculations (like counting).\\n        - Honesty: It keeps the data in its original, raw state.\\n    - The downside: This can cause errors or unexpected results in certain analyses, especially if you try to search for a specific director\\'s name.\\n\\nStrategy 3: Deleting Rows (Rows Kadhi Nakhvi)\\n    - This is a more aggressive approach and generally not recommended for these columns.\\n    - What to do: Delete any row where the director or cast information is missing.\\n    - Why it\\'s risky:\\n        - Major Data Loss: The director column has thousands of missing values. Deleting all those rows would mean throwing away a large portion of our dataset (almost 30%). This would make our overall analysis much less reliable.\\n'"
      ]
     },
     "execution_count": 78,
     "metadata": {},
     "output_type": "execute_result"
    }
   ],
   "execution_count": 78
  },
  {
   "metadata": {
    "ExecuteTime": {
     "end_time": "2025-09-29T13:35:43.463399Z",
     "start_time": "2025-09-29T13:35:43.456905Z"
    }
   },
   "cell_type": "code",
   "source": [
    "# 4. Handling Missing Directors/Cast/Country: Decide on a strategy for the missing values in director, cast, and country. Should you fill them with a placeholder like \"Unknown\" or drop the rows? Justify your choice.\n",
    "df['director'].fillna('Unknown', inplace=True)\n",
    "df['cast'].fillna('Unknown', inplace=True)"
   ],
   "id": "8b7939a1662b2b8c",
   "outputs": [
    {
     "name": "stderr",
     "output_type": "stream",
     "text": [
      "C:\\Users\\ansh\\AppData\\Local\\Temp\\ipykernel_20596\\1844306670.py:2: FutureWarning: A value is trying to be set on a copy of a DataFrame or Series through chained assignment using an inplace method.\n",
      "The behavior will change in pandas 3.0. This inplace method will never work because the intermediate object on which we are setting values always behaves as a copy.\n",
      "\n",
      "For example, when doing 'df[col].method(value, inplace=True)', try using 'df.method({col: value}, inplace=True)' or df[col] = df[col].method(value) instead, to perform the operation inplace on the original object.\n",
      "\n",
      "\n",
      "  df['director'].fillna('Unknown', inplace=True)\n",
      "C:\\Users\\ansh\\AppData\\Local\\Temp\\ipykernel_20596\\1844306670.py:3: FutureWarning: A value is trying to be set on a copy of a DataFrame or Series through chained assignment using an inplace method.\n",
      "The behavior will change in pandas 3.0. This inplace method will never work because the intermediate object on which we are setting values always behaves as a copy.\n",
      "\n",
      "For example, when doing 'df[col].method(value, inplace=True)', try using 'df.method({col: value}, inplace=True)' or df[col] = df[col].method(value) instead, to perform the operation inplace on the original object.\n",
      "\n",
      "\n",
      "  df['cast'].fillna('Unknown', inplace=True)\n"
     ]
    }
   ],
   "execution_count": 79
  },
  {
   "metadata": {
    "ExecuteTime": {
     "end_time": "2025-09-29T13:35:43.505962Z",
     "start_time": "2025-09-29T13:35:43.501684Z"
    }
   },
   "cell_type": "code",
   "source": [
    "# 5. Fixing Missing Ratings: The rating column has missing values. How would you fill them? A good approach is to use the mode (the most frequently occurring rating).\n",
    "# Already done in step 2"
   ],
   "id": "ce26c8cf4bd8977b",
   "outputs": [],
   "execution_count": 80
  },
  {
   "metadata": {
    "ExecuteTime": {
     "end_time": "2025-09-29T13:35:43.533331Z",
     "start_time": "2025-09-29T13:35:43.529727Z"
    }
   },
   "cell_type": "code",
   "source": [
    "# 6. Managing Missing Dates: Address the missing values in date_added. Is it better to drop these few rows or fill them with the release_year?\n",
    "# Already done in step 1"
   ],
   "id": "1d59c722367cf574",
   "outputs": [],
   "execution_count": 81
  },
  {
   "metadata": {
    "ExecuteTime": {
     "end_time": "2025-09-29T13:35:43.544943Z",
     "start_time": "2025-09-29T13:35:43.541770Z"
    }
   },
   "cell_type": "code",
   "source": [
    "# 7. Data Type Conversion: The date_added column is currently a string (object). Convert it to a proper datetime format so you can perform time-based analysis.\n",
    "# Already done in exploration step 9"
   ],
   "id": "316494afd2d653a5",
   "outputs": [],
   "execution_count": 82
  },
  {
   "metadata": {
    "ExecuteTime": {
     "end_time": "2025-09-29T13:35:43.595789Z",
     "start_time": "2025-09-29T13:35:43.556395Z"
    }
   },
   "cell_type": "code",
   "source": [
    "# 8. Cleaning the Duration Column: The duration column contains mixed data (e.g., \"100 min\" for movies, \"2 Seasons\" for TV shows). Separate the dataset into two: one for Movies and one for TV Shows. For the Movie dataset, convert the duration column to a numerical type (integer) by removing \"min\". Do the same for the TV Show dataset, converting seasons to an integer.\n",
    "df['duration']=df['duration'].str.replace('min','',regex=False)\n",
    "mask=df['type']=='Movie'\n",
    "df['movie_duration']=pd.to_numeric(df.loc[mask,'duration'])\n",
    "\n",
    "df['duration']=df['duration'].str.replace('s','',regex=False)\n",
    "df['duration']=df['duration'].str.replace('Seaon','',regex=False)\n",
    "mask1=df['type']=='TV Show'\n",
    "df['tv_show_duration']=pd.to_numeric(df.loc[mask1,'duration'])"
   ],
   "id": "8be9d1ef85cb2872",
   "outputs": [],
   "execution_count": 83
  },
  {
   "metadata": {
    "ExecuteTime": {
     "end_time": "2025-09-29T13:35:43.638997Z",
     "start_time": "2025-09-29T13:35:43.607628Z"
    }
   },
   "cell_type": "code",
   "source": [
    "# 9. Handling Duplicates: Check if there are any duplicate rows in the dataset and remove them if they exist.\n",
    "df[df.duplicated()] # not available"
   ],
   "id": "f096a867d325e7c1",
   "outputs": [
    {
     "data": {
      "text/plain": [
       "Empty DataFrame\n",
       "Columns: [show_id, type, title, director, cast, country, date_added, release_year, rating, duration, listed_in, description, movie_duration, tv_show_duration]\n",
       "Index: []"
      ],
      "text/html": [
       "<div>\n",
       "<style scoped>\n",
       "    .dataframe tbody tr th:only-of-type {\n",
       "        vertical-align: middle;\n",
       "    }\n",
       "\n",
       "    .dataframe tbody tr th {\n",
       "        vertical-align: top;\n",
       "    }\n",
       "\n",
       "    .dataframe thead th {\n",
       "        text-align: right;\n",
       "    }\n",
       "</style>\n",
       "<table border=\"1\" class=\"dataframe\">\n",
       "  <thead>\n",
       "    <tr style=\"text-align: right;\">\n",
       "      <th></th>\n",
       "      <th>show_id</th>\n",
       "      <th>type</th>\n",
       "      <th>title</th>\n",
       "      <th>director</th>\n",
       "      <th>cast</th>\n",
       "      <th>country</th>\n",
       "      <th>date_added</th>\n",
       "      <th>release_year</th>\n",
       "      <th>rating</th>\n",
       "      <th>duration</th>\n",
       "      <th>listed_in</th>\n",
       "      <th>description</th>\n",
       "      <th>movie_duration</th>\n",
       "      <th>tv_show_duration</th>\n",
       "    </tr>\n",
       "  </thead>\n",
       "  <tbody>\n",
       "  </tbody>\n",
       "</table>\n",
       "</div>"
      ]
     },
     "execution_count": 84,
     "metadata": {},
     "output_type": "execute_result"
    }
   ],
   "execution_count": 84
  },
  {
   "metadata": {
    "ExecuteTime": {
     "end_time": "2025-09-29T13:35:43.683809Z",
     "start_time": "2025-09-29T13:35:43.671251Z"
    }
   },
   "cell_type": "code",
   "source": [
    "# 10. Standardizing Genres: The listed_in column often contains multiple genres in one string (e.g., \"Dramas, International Movies\"). Should you split these into a list or just use the primary genre for analysis?\n",
    "df['listed_in']=df['listed_in'].str.split(',')"
   ],
   "id": "b35b177d0a464918",
   "outputs": [],
   "execution_count": 85
  },
  {
   "metadata": {},
   "cell_type": "markdown",
   "source": [
    "## Step 3: Gain Insights from Data (Analysis & Transformation)\n",
    "    (1) In which year was the most content released? Find the top 5 years using the release_year column.\n",
    "    (2) In which month was the most content added? (Use the date_added column).\n",
    "    (3) Who are the top 5 directors with the most movies?\n",
    "    (4) Who are the top 10 actors who have appeared in the most movies/shows?\n",
    "    (5) Create a list of all Movies that were produced in India (country = 'India').\n",
    "    (6) Feature Engineering (Time): From the date_added (datetime) column, create new columns for added_year, added_month,\n",
    "     and added_day_of_week.\n",
    "    (7) Old vs. New Content: What is the average time lag between the release_year and the date_added? This tells you how\n",
    "     old content generally is when it arrives on Netflix.\n",
    "    (8) Content by Decade: Create a new column called release_decade (e.g., 1990s, 2000s, 2010s). Which decade has produced\n",
    "     the most content?\n",
    "    (9) Longest Movies: After cleaning the duration column, find the top 10 longest movies on Netflix.\n",
    "    (10) Most Seasons in TV Shows: Find the top 10 TV shows with the most seasons.\n",
    "    (11) Director-Genre Specialization: Find the top director for the \"Dramas\" genre. Who is the top director for \"Comedies\"?\n",
    "    (12) Actor-Director Collaboration: Which actor and director pair has collaborated the most?\n",
    "    (13) Country-Specific Analysis: What is the most common genre for content produced in 'India'? What about in the 'United\n",
    "     States'?\n",
    "    (14) Content Targeting: Which rating is most common for Movies? Is it different for TV Shows?\n",
    "    (15) Text Analysis: Analyze the description column. What are the most common words found in the descriptions of 'Horror'\n",
    "     Movies'?"
   ],
   "id": "fca988aee7b8c0db"
  },
  {
   "metadata": {
    "ExecuteTime": {
     "end_time": "2025-09-29T13:35:43.713724Z",
     "start_time": "2025-09-29T13:35:43.706692Z"
    }
   },
   "cell_type": "code",
   "source": [
    "# 1. In which year was the most content released? Find the top 5 years using the release_year column.\n",
    "print(f'{df['release_year'].value_counts().idxmax()} year was the most content released')\n",
    "print(f'top 5 years = \\n{df['release_year'].value_counts().head(5)}')"
   ],
   "id": "e6d0011dc4038e08",
   "outputs": [
    {
     "name": "stdout",
     "output_type": "stream",
     "text": [
      "2018 year was the most content released\n",
      "top 5 years = \n",
      "release_year\n",
      "2018    1146\n",
      "2017    1032\n",
      "2019    1030\n",
      "2020     953\n",
      "2016     901\n",
      "Name: count, dtype: int64\n"
     ]
    }
   ],
   "execution_count": 86
  },
  {
   "metadata": {
    "ExecuteTime": {
     "end_time": "2025-09-29T13:35:43.752112Z",
     "start_time": "2025-09-29T13:35:43.737110Z"
    }
   },
   "cell_type": "code",
   "source": [
    "# 2. In which month was the most content added? (Use the date_added column).\n",
    "print(f'{df['date_added'].dt.month_name().value_counts().idxmax()} month was the most content added')"
   ],
   "id": "f92ab31e5101efec",
   "outputs": [
    {
     "name": "stdout",
     "output_type": "stream",
     "text": [
      "July month was the most content added\n"
     ]
    }
   ],
   "execution_count": 87
  },
  {
   "metadata": {
    "ExecuteTime": {
     "end_time": "2025-09-29T13:35:43.804565Z",
     "start_time": "2025-09-29T13:35:43.784705Z"
    }
   },
   "cell_type": "code",
   "source": [
    "# 3. Who are the top 5 directors with the most movies?\n",
    "masked=(df['type']=='Movie') & (df['director']!='Unknown')\n",
    "print(f'top 5 directors with the most movies = \\n{df[masked]['director'].value_counts().head()}')\n",
    "\n",
    "# another way\n",
    "# print(f'top 5 directors with the most movies = \\n{df[df['type']=='Movie']['director'].value_counts().drop('Unknown').head()}')"
   ],
   "id": "95e43ad614c190fd",
   "outputs": [
    {
     "name": "stdout",
     "output_type": "stream",
     "text": [
      "top 5 directors with the most movies = \n",
      "director\n",
      "Rajiv Chilaka              19\n",
      "RaÃºl Campos, Jan Suter    18\n",
      "Suhas Kadav                16\n",
      "Marcus Raboy               15\n",
      "Jay Karas                  14\n",
      "Name: count, dtype: int64\n"
     ]
    }
   ],
   "execution_count": 88
  },
  {
   "metadata": {
    "ExecuteTime": {
     "end_time": "2025-09-29T13:35:43.854161Z",
     "start_time": "2025-09-29T13:35:43.826550Z"
    }
   },
   "cell_type": "code",
   "source": [
    "# 4. Who are the top 10 actors who have appeared in the most movies/shows?\n",
    "# df['cast']=df['cast'].str.split(',')\n",
    "# df['cast'] = df['cast'].apply(lambda cast_list: [actor.strip() for actor in cast_list])\n",
    "print(f'the top 10 actors who have appeared in the most movies/shows = \\n{df.explode('cast')['cast'].value_counts().drop('Unknown').head(10)}')\n",
    "'''\n",
    ".explode() Method Shu Chhe?\n",
    ".explode() method e darek list na andar na badha j items ne alag-alag row ma gotthvi de chhe. E list ne 'fodi' ne tena darek tukda ne ek navi, alag line aapi de chhe.\n",
    "\n",
    "Example\n",
    "Mani lo ke tamaro data aavo chhe (explode karya pehla):\n",
    "\n",
    "  show_id                             listed_in\n",
    "0      s1             ['Dramas', 'International']\n",
    "1      s2                        ['Comedies']\n",
    "2      s3  ['Action & Adventure', 'Comedies']\n",
    "Have, jyare aapde .explode('listed_in') vaprisu, to data aavo thai jashe (explode karya pachhi):\n",
    "\n",
    "  show_id             listed_in\n",
    "0      s1                Dramas\n",
    "0      s1         International\n",
    "1      s2              Comedies\n",
    "2      s3  Action & Adventure\n",
    "2      s3              Comedies\n",
    "'''"
   ],
   "id": "2442a83bd34855d5",
   "outputs": [
    {
     "name": "stdout",
     "output_type": "stream",
     "text": [
      "the top 10 actors who have appeared in the most movies/shows = \n",
      "cast\n",
      "David Attenborough                                                                                                        19\n",
      "Vatsal Dubey, Julie Tejwani, Rupa Bhimani, Jigna Bhardwaj, Rajesh Kava, Mousam, Swapnil                                   14\n",
      "Samuel West                                                                                                               10\n",
      "Jeff Dunham                                                                                                                7\n",
      "Kevin Hart                                                                                                                 6\n",
      "David Spade, London Hughes, Fortune Feimster                                                                               6\n",
      "Michela Luci, Jamie Watson, Eric Peterson, Anna Claire Bartlam, Nicolas Aqui, Cory Doran, Julie Lemieux, Derek McGrath     6\n",
      "Craig Sechler                                                                                                              6\n",
      "Bill Burr                                                                                                                  5\n",
      "Iliza Shlesinger                                                                                                           5\n",
      "Name: count, dtype: int64\n"
     ]
    },
    {
     "data": {
      "text/plain": [
       "\"\\n.explode() Method Shu Chhe?\\n.explode() method e darek list na andar na badha j items ne alag-alag row ma gotthvi de chhe. E list ne 'fodi' ne tena darek tukda ne ek navi, alag line aapi de chhe.\\n\\nExample\\nMani lo ke tamaro data aavo chhe (explode karya pehla):\\n\\n  show_id                             listed_in\\n0      s1             ['Dramas', 'International']\\n1      s2                        ['Comedies']\\n2      s3  ['Action & Adventure', 'Comedies']\\nHave, jyare aapde .explode('listed_in') vaprisu, to data aavo thai jashe (explode karya pachhi):\\n\\n  show_id             listed_in\\n0      s1                Dramas\\n0      s1         International\\n1      s2              Comedies\\n2      s3  Action & Adventure\\n2      s3              Comedies\\n\""
      ]
     },
     "execution_count": 89,
     "metadata": {},
     "output_type": "execute_result"
    }
   ],
   "execution_count": 89
  },
  {
   "metadata": {
    "ExecuteTime": {
     "end_time": "2025-09-29T13:35:43.894775Z",
     "start_time": "2025-09-29T13:35:43.882412Z"
    }
   },
   "cell_type": "code",
   "source": [
    "# 5. Create a list of all Movies that were produced in India (country = 'India').\n",
    "mask=(df['country']=='India')&(df['type']=='Movie')\n",
    "print(df[mask])"
   ],
   "id": "cb14f51e5e3e224d",
   "outputs": [
    {
     "name": "stdout",
     "output_type": "stream",
     "text": [
      "     show_id   type                  title                 director  \\\n",
      "24       s25  Movie                  Jeans               S. Shankar   \n",
      "105     s106  Movie       Angamaly Diaries     Lijo Jose Pellissery   \n",
      "114     s115  Movie                 Anjaam             Rahul Rawail   \n",
      "116     s117  Movie                 Dhanak          Nagesh Kukunoor   \n",
      "118     s119  Movie                Gurgaon            Shanker Raman   \n",
      "...      ...    ...                    ...                      ...   \n",
      "8772   s8773  Movie  Yamla Pagla Deewana 2           Sangeeth Sivan   \n",
      "8773   s8774  Movie    Yanda Kartavya Aahe             Kedar Shinde   \n",
      "8798   s8799  Movie               Zed Plus  Chandra Prakash Dwivedi   \n",
      "8799   s8800  Movie                  Zenda           Avadhoot Gupte   \n",
      "8806   s8807  Movie                 Zubaan              Mozez Singh   \n",
      "\n",
      "                                                   cast country date_added  \\\n",
      "24    Prashanth, Aishwarya Rai Bachchan, Sri Lakshmi...   India 2021-09-21   \n",
      "105   Antony Varghese, Reshma Rajan, Binny Rinky Ben...   India 2021-09-05   \n",
      "114   Madhuri Dixit, Shah Rukh Khan, Tinnu Anand, Jo...   India 2021-09-02   \n",
      "116   Krrish Chhabria, Hetal Gada, Vipin Sharma, Gul...   India 2021-09-02   \n",
      "118   Akshay Oberoi, Pankaj Tripathi, Ragini Khanna,...   India 2021-09-02   \n",
      "...                                                 ...     ...        ...   \n",
      "8772  Dharmendra, Sunny Deol, Bobby Deol, Neha Sharm...   India 2017-05-01   \n",
      "8773  Ankush Choudhary, Smita Shewale, Mohan Joshi, ...   India 2018-01-01   \n",
      "8798  Adil Hussain, Mona Singh, K.K. Raina, Sanjay M...   India 2019-12-31   \n",
      "8799  Santosh Juvekar, Siddharth Chandekar, Sachit P...   India 2018-02-15   \n",
      "8806  Vicky Kaushal, Sarah-Jane Dias, Raaghav Chanan...   India 2019-03-02   \n",
      "\n",
      "      release_year rating duration  \\\n",
      "24            1998  TV-14     166    \n",
      "105           2017  TV-14     128    \n",
      "114           1994  TV-14     143    \n",
      "116           2015  TV-PG     114    \n",
      "118           2017  TV-14     106    \n",
      "...            ...    ...      ...   \n",
      "8772          2013  TV-14     147    \n",
      "8773          2006  TV-PG     151    \n",
      "8798          2014  TV-MA     131    \n",
      "8799          2009  TV-14     120    \n",
      "8806          2015  TV-14     111    \n",
      "\n",
      "                                              listed_in  \\\n",
      "24    [Comedies,  International Movies,  Romantic Mo...   \n",
      "105            [Action & Adventure,  Comedies,  Dramas]   \n",
      "114         [Dramas,  International Movies,  Thrillers]   \n",
      "116            [Comedies,  Dramas,  Independent Movies]   \n",
      "118         [Dramas,  International Movies,  Thrillers]   \n",
      "...                                                 ...   \n",
      "8772  [Action & Adventure,  Comedies,  International...   \n",
      "8773         [Comedies,  Dramas,  International Movies]   \n",
      "8798         [Comedies,  Dramas,  International Movies]   \n",
      "8799                    [Dramas,  International Movies]   \n",
      "8806  [Dramas,  International Movies,  Music & Music...   \n",
      "\n",
      "                                            description  movie_duration  \\\n",
      "24    When the father of the man she loves insists t...           166.0   \n",
      "105   After growing up amidst the gang wars of his h...           128.0   \n",
      "114   A wealthy industrialistâs dangerous obsessio...           143.0   \n",
      "116   A movie-loving 10-year-old and her blind littl...           114.0   \n",
      "118   When the daughter of a wealthy family returns ...           106.0   \n",
      "...                                                 ...             ...   \n",
      "8772  Up to his old tricks, con man Dharam poses as ...           147.0   \n",
      "8773  Thanks to an arranged marriage that was design...           151.0   \n",
      "8798  A philandering small-town mechanic's political...           131.0   \n",
      "8799  A change in the leadership of a political part...           120.0   \n",
      "8806  A scrappy but poor boy worms his way into a ty...           111.0   \n",
      "\n",
      "      tv_show_duration  \n",
      "24                 NaN  \n",
      "105                NaN  \n",
      "114                NaN  \n",
      "116                NaN  \n",
      "118                NaN  \n",
      "...                ...  \n",
      "8772               NaN  \n",
      "8773               NaN  \n",
      "8798               NaN  \n",
      "8799               NaN  \n",
      "8806               NaN  \n",
      "\n",
      "[893 rows x 14 columns]\n"
     ]
    }
   ],
   "execution_count": 90
  },
  {
   "metadata": {
    "ExecuteTime": {
     "end_time": "2025-09-29T13:35:43.945688Z",
     "start_time": "2025-09-29T13:35:43.937600Z"
    }
   },
   "cell_type": "code",
   "source": [
    "# 6. Feature Engineering (Time): From the date_added (datetime) column, create new columns for added_year, added_month, and added_day_of_week.\n",
    "df['added_day_of_week']=df['date_added'].dt.day_of_week\n",
    "df['added_month']=df['date_added'].dt.month\n",
    "df['added_year']=df['date_added'].dt.year"
   ],
   "id": "ce770228db9e3899",
   "outputs": [],
   "execution_count": 91
  },
  {
   "metadata": {
    "ExecuteTime": {
     "end_time": "2025-09-29T13:35:43.963383Z",
     "start_time": "2025-09-29T13:35:43.958333Z"
    }
   },
   "cell_type": "code",
   "source": [
    "# 7. Old vs. New Content: What is the average time lag between the release_year and the date_added? This tells you how old content generally is when it arrives on Netflix.\n",
    "print(f'the average time lag between the release_year and the date_added is {(df['added_year']-df['release_year']).mean()}')"
   ],
   "id": "91fad39839d6b39",
   "outputs": [
    {
     "name": "stdout",
     "output_type": "stream",
     "text": [
      "the average time lag between the release_year and the date_added is 4.688416505626918\n"
     ]
    }
   ],
   "execution_count": 92
  },
  {
   "metadata": {
    "ExecuteTime": {
     "end_time": "2025-09-29T13:35:43.998463Z",
     "start_time": "2025-09-29T13:35:43.988285Z"
    }
   },
   "cell_type": "code",
   "source": [
    "# 8. Content by Decade: Create a new column called release_decade (e.g., 1990s, 2000s, 2010s). Which decade has produced the most content?\n",
    "decade_start = (df['release_year'] // 10) * 10\n",
    "\n",
    "df['release_decade'] = decade_start.astype(str) + 's'\n",
    "most_common_decade = df['release_decade'].value_counts().idxmax()\n",
    "print(f'the decade has produced the most content = {most_common_decade}')"
   ],
   "id": "c87ecb18ae6f64b7",
   "outputs": [
    {
     "name": "stdout",
     "output_type": "stream",
     "text": [
      "the decade has produced the most content = 2010s\n"
     ]
    }
   ],
   "execution_count": 93
  },
  {
   "metadata": {
    "ExecuteTime": {
     "end_time": "2025-09-29T13:35:44.038381Z",
     "start_time": "2025-09-29T13:35:44.027938Z"
    }
   },
   "cell_type": "code",
   "source": [
    "# 9. Longest Movies: After cleaning the duration column, find the top 10 longest movies on Netflix.\n",
    "\n",
    "# print(f'the top 10 longest movies on Netflix = \\n{df.loc[df['movie_duration'].sort_values(ascending=False).index]['title'].head(10)}')\n",
    "\n",
    "# best way\n",
    "print(f'the top 10 longest movies on Netflix = \\n{df.sort_values(by='movie_duration', ascending=False)['title'].head(10)}')"
   ],
   "id": "cb2c347211bdad0e",
   "outputs": [
    {
     "name": "stdout",
     "output_type": "stream",
     "text": [
      "the top 10 longest movies on Netflix = \n",
      "4253     Black Mirror: Bandersnatch\n",
      "717     Headspace: Unwind Your Mind\n",
      "2491         The School of Mischief\n",
      "2487                 No Longer kids\n",
      "2484             Lock Your Girls In\n",
      "2488                Raya and Sakina\n",
      "166     Once Upon a Time in America\n",
      "7932                         Sangam\n",
      "1019                         Lagaan\n",
      "4573                   Jodhaa Akbar\n",
      "Name: title, dtype: object\n"
     ]
    }
   ],
   "execution_count": 94
  },
  {
   "metadata": {
    "ExecuteTime": {
     "end_time": "2025-09-29T13:35:44.074142Z",
     "start_time": "2025-09-29T13:35:44.060863Z"
    }
   },
   "cell_type": "code",
   "source": [
    "# 10. Most Seasons in TV Shows: Find the top 10 TV shows with the most seasons.\n",
    "df.sort_values(by='tv_show_duration',ascending=False)[['title','tv_show_duration']].head(10)"
   ],
   "id": "14d8125867c085f4",
   "outputs": [
    {
     "data": {
      "text/plain": [
       "                       title  tv_show_duration\n",
       "548           Grey's Anatomy              17.0\n",
       "2423            Supernatural              15.0\n",
       "4798                    NCIS              15.0\n",
       "4220  COMEDIANS of the world              13.0\n",
       "1354               Heartland              13.0\n",
       "4964       Trailer Park Boys              12.0\n",
       "5412          Criminal Minds              12.0\n",
       "6456                  Cheers              11.0\n",
       "1622           Stargate SG-1              10.0\n",
       "2203        Shameless (U.S.)              10.0"
      ],
      "text/html": [
       "<div>\n",
       "<style scoped>\n",
       "    .dataframe tbody tr th:only-of-type {\n",
       "        vertical-align: middle;\n",
       "    }\n",
       "\n",
       "    .dataframe tbody tr th {\n",
       "        vertical-align: top;\n",
       "    }\n",
       "\n",
       "    .dataframe thead th {\n",
       "        text-align: right;\n",
       "    }\n",
       "</style>\n",
       "<table border=\"1\" class=\"dataframe\">\n",
       "  <thead>\n",
       "    <tr style=\"text-align: right;\">\n",
       "      <th></th>\n",
       "      <th>title</th>\n",
       "      <th>tv_show_duration</th>\n",
       "    </tr>\n",
       "  </thead>\n",
       "  <tbody>\n",
       "    <tr>\n",
       "      <th>548</th>\n",
       "      <td>Grey's Anatomy</td>\n",
       "      <td>17.0</td>\n",
       "    </tr>\n",
       "    <tr>\n",
       "      <th>2423</th>\n",
       "      <td>Supernatural</td>\n",
       "      <td>15.0</td>\n",
       "    </tr>\n",
       "    <tr>\n",
       "      <th>4798</th>\n",
       "      <td>NCIS</td>\n",
       "      <td>15.0</td>\n",
       "    </tr>\n",
       "    <tr>\n",
       "      <th>4220</th>\n",
       "      <td>COMEDIANS of the world</td>\n",
       "      <td>13.0</td>\n",
       "    </tr>\n",
       "    <tr>\n",
       "      <th>1354</th>\n",
       "      <td>Heartland</td>\n",
       "      <td>13.0</td>\n",
       "    </tr>\n",
       "    <tr>\n",
       "      <th>4964</th>\n",
       "      <td>Trailer Park Boys</td>\n",
       "      <td>12.0</td>\n",
       "    </tr>\n",
       "    <tr>\n",
       "      <th>5412</th>\n",
       "      <td>Criminal Minds</td>\n",
       "      <td>12.0</td>\n",
       "    </tr>\n",
       "    <tr>\n",
       "      <th>6456</th>\n",
       "      <td>Cheers</td>\n",
       "      <td>11.0</td>\n",
       "    </tr>\n",
       "    <tr>\n",
       "      <th>1622</th>\n",
       "      <td>Stargate SG-1</td>\n",
       "      <td>10.0</td>\n",
       "    </tr>\n",
       "    <tr>\n",
       "      <th>2203</th>\n",
       "      <td>Shameless (U.S.)</td>\n",
       "      <td>10.0</td>\n",
       "    </tr>\n",
       "  </tbody>\n",
       "</table>\n",
       "</div>"
      ]
     },
     "execution_count": 95,
     "metadata": {},
     "output_type": "execute_result"
    }
   ],
   "execution_count": 95
  },
  {
   "metadata": {
    "ExecuteTime": {
     "end_time": "2025-09-29T13:35:44.164055Z",
     "start_time": "2025-09-29T13:35:44.103344Z"
    }
   },
   "cell_type": "code",
   "source": [
    "# 11. Director-Genre Specialization: Find the top director for the \"Dramas\" genre. Who is the top director for \"Comedies\"?\n",
    "df['listed_in'] = df['listed_in'].apply(lambda cast_list: [actor.strip() for actor in cast_list])\n",
    "explode_list=df.explode('listed_in')\n",
    "print(f'for drama = \\n{explode_list[explode_list['listed_in']=='Dramas'].groupby('director')['show_id'].count().sort_values(ascending=False).drop('Unknown').head()}')\n",
    "print(f'for comedy = \\n{explode_list[explode_list['listed_in']=='Comedies'].groupby('director')['show_id'].count().sort_values(ascending=False).drop('Unknown').head()}')"
   ],
   "id": "e590217439073ffa",
   "outputs": [
    {
     "name": "stdout",
     "output_type": "stream",
     "text": [
      "for drama = \n",
      "director\n",
      "Youssef Chahine        12\n",
      "Cathy Garcia-Molina     9\n",
      "Martin Scorsese         9\n",
      "Hidenori Inoue          7\n",
      "S.S. Rajamouli          7\n",
      "Name: show_id, dtype: int64\n",
      "for comedy = \n",
      "director\n",
      "David Dhawan           9\n",
      "Hakan AlgÃ¼l           8\n",
      "Suhas Kadav            8\n",
      "Cathy Garcia-Molina    7\n",
      "Prakash Satam          7\n",
      "Name: show_id, dtype: int64\n"
     ]
    }
   ],
   "execution_count": 96
  },
  {
   "metadata": {
    "ExecuteTime": {
     "end_time": "2025-09-29T13:35:44.236136Z",
     "start_time": "2025-09-29T13:35:44.189876Z"
    }
   },
   "cell_type": "code",
   "source": [
    "# 12. Actor-Director Collaboration: Which actor and director pair has collaborated the most?\n",
    "clean_df = df[(df['director'] != 'Unknown') & (df['cast'].apply(lambda x: x != ['Unknown']))]\n",
    "clean_df.explode('cast').groupby(['cast','director'])['show_id'].count().sort_values(ascending=False).head(10)"
   ],
   "id": "186c963031ac4647",
   "outputs": [
    {
     "data": {
      "text/plain": [
       "cast                                                                                                     director           \n",
       "Vatsal Dubey, Julie Tejwani, Rupa Bhimani, Jigna Bhardwaj, Rajesh Kava, Mousam, Swapnil                  Rajiv Chilaka          12\n",
       "Prabhas, Rana Daggubati, Anushka Shetty, Tamannaah Bhatia, Sathyaraj, Nassar, Ramya Krishnan, Sudeep     S.S. Rajamouli          4\n",
       "Aishwarya Rajesh, Vidhu, Surya Ganapathy, Madhuri, Pavel Navageethan, Avantika Vandanapu                 Rathindran R Prasad     4\n",
       "Unknown                                                                                                  HernÃ¡n Zin             4\n",
       "Louis C.K.                                                                                               Louis C.K.              3\n",
       "Dave Chappelle                                                                                           Stan Lathan             3\n",
       "Prabhas, Rana Daggubati, Anushka Shetty, Tamannaah Bhatia, Sathyaraj, Ramya Krishnan, Nassar, Subbaraju  S.S. Rajamouli          3\n",
       "Rachael Stirling                                                                                         Edward Cotterill        3\n",
       "David Attenborough                                                                                       Alastair Fothergill     3\n",
       "Sam Kinison                                                                                              Walter C. Miller        3\n",
       "Name: show_id, dtype: int64"
      ]
     },
     "execution_count": 97,
     "metadata": {},
     "output_type": "execute_result"
    }
   ],
   "execution_count": 97
  },
  {
   "metadata": {
    "ExecuteTime": {
     "end_time": "2025-09-29T13:35:44.366401Z",
     "start_time": "2025-09-29T13:35:44.271779Z"
    }
   },
   "cell_type": "code",
   "source": [
    "# 13. Country-Specific Analysis: What is the most common genre for content produced in 'India'? What about in the 'United States'?\n",
    "explode_list=df.explode('listed_in')\n",
    "print(f'india = {explode_list[explode_list['country'].str.contains('India', na=False)].groupby('listed_in')['show_id'].count().idxmax()}')\n",
    "print(f'Usa = {explode_list[explode_list['country'].str.contains('United States', na=False)].groupby('listed_in')['show_id'].count().idxmax()}')"
   ],
   "id": "d92927719824c783",
   "outputs": [
    {
     "name": "stdout",
     "output_type": "stream",
     "text": [
      "india = International Movies\n",
      "Usa = Dramas\n"
     ]
    }
   ],
   "execution_count": 98
  },
  {
   "metadata": {
    "ExecuteTime": {
     "end_time": "2025-09-29T13:35:44.420881Z",
     "start_time": "2025-09-29T13:35:44.403891Z"
    }
   },
   "cell_type": "code",
   "source": [
    "# 14. Content Targeting: Which rating is most common for Movies? Is it different for TV Shows?\n",
    "print(f'common rating for movie = {df[df['type']=='Movie']['rating'].value_counts().idxmax()}')\n",
    "print(f'common rating for Tv show = {df[df['type']=='TV Show']['rating'].value_counts().idxmax()}')"
   ],
   "id": "582ab6dfa24a9e30",
   "outputs": [
    {
     "name": "stdout",
     "output_type": "stream",
     "text": [
      "common rating for movie = TV-MA\n",
      "common rating for Tv show = TV-MA\n"
     ]
    }
   ],
   "execution_count": 99
  },
  {
   "metadata": {
    "ExecuteTime": {
     "end_time": "2025-09-29T13:35:44.463373Z",
     "start_time": "2025-09-29T13:35:44.446468Z"
    }
   },
   "cell_type": "code",
   "source": [
    "# 15. Text Analysis: Analyze the description column. What are the most common words found in the descriptions of 'Horror Movies'?\n",
    "\n",
    "# Pehla, 'Horror Movies' na description alag karo\n",
    "horror_desc = explode_list[explode_list['listed_in'] == 'Horror Movies']['description']\n",
    "\n",
    "# Step 1: Text ne saaf karo (lowercase + punctuation kadho)\n",
    "# [^\\w\\s] e badha j punctuation ne kadhi nakhshe\n",
    "cleaned_desc = horror_desc.str.lower().str.replace('[^\\w\\s]', '', regex=True)\n",
    "\n",
    "# Step 2: Shabdo ne alag kari ne explode karo\n",
    "all_words = cleaned_desc.str.split(' ').explode()\n",
    "\n",
    "# Step 3: Faltu shabdo (Stop Words) ni list banavo\n",
    "stop_words = ['a', 'the', 'in', 'is', 'of', 'to', 'and', 'his', 'her', 'their', 'with', 'for', 'an', 'as', 'at', 'by', 'on']\n",
    "\n",
    "# Step 4: Ganatri karo ANE stop words ne kadhi nakho\n",
    "# .isin() method check karshe ke shabd stop_words ni list ma chhe ke nahi\n",
    "word_counts = all_words.value_counts()\n",
    "meaningful_words = word_counts[~word_counts.index.isin(stop_words)]\n",
    "\n",
    "\n",
    "print(\"--- Top 10 Meaningful Words in Horror Movie Descriptions ---\")\n",
    "print(meaningful_words.head(10))"
   ],
   "id": "2f3029a4da7ae788",
   "outputs": [
    {
     "name": "stdout",
     "output_type": "stream",
     "text": [
      "--- Top 10 Meaningful Words in Horror Movie Descriptions ---\n",
      "description\n",
      "when     98\n",
      "that     67\n",
      "after    58\n",
      "from     48\n",
      "into     47\n",
      "young    45\n",
      "but      43\n",
      "home     39\n",
      "they     36\n",
      "new      35\n",
      "Name: count, dtype: int64\n"
     ]
    },
    {
     "name": "stderr",
     "output_type": "stream",
     "text": [
      "<>:8: SyntaxWarning: invalid escape sequence '\\w'\n",
      "<>:8: SyntaxWarning: invalid escape sequence '\\w'\n",
      "C:\\Users\\ansh\\AppData\\Local\\Temp\\ipykernel_20596\\1058794362.py:8: SyntaxWarning: invalid escape sequence '\\w'\n",
      "  cleaned_desc = horror_desc.str.lower().str.replace('[^\\w\\s]', '', regex=True)\n"
     ]
    }
   ],
   "execution_count": 100
  },
  {
   "metadata": {},
   "cell_type": "markdown",
   "source": [
    "## Step 4: Visualize the Data (Plotting) 📊\n",
    "    (1) Create a bar chart to show the count of Movies vs. TV Shows available on Netflix.\n",
    "    (2) Create a histogram to show the distribution of release_year. (e.g., how many titles were released in the\n",
    "     1990s, 2000s, etc.).\n",
    "    (3) Create a bar chart showing the top 10 countries that produce the most content.\n",
    "    (4) What is the proportion of different ratings (e.g., TV-MA, TV-14, R)? You can create a pie chart for this.\n",
    "    (5) Create a line chart that shows the number of titles added each year (release_year). This will give you a trend\n",
    "     of content growth over time.\n",
    "\n",
    "     Comparisons & Rankings (Bar Charts)\n",
    "        (11) Content Type Distribution: Create a bar chart comparing the total number of Movies vs. TV Shows.\n",
    "        (6) Top Content-Producing Countries: Visualize the top 10 countries with the most content using a horizontal bar\n",
    "         chart.\n",
    "        (7) Most Common Genres: Create a bar chart showing the top 15 most common genres.\n",
    "        (8) Peak Addition Months: Create a bar chart showing the number of titles added per month. Which are the busiest\n",
    "         months?\n",
    "        (9) Audience Ratings Distribution: Use a bar chart to show the count of content across different ratings.\n",
    "        (10) Movies vs. TV Shows by Country: Create a stacked bar chart for the top 10 countries, showing the proportion\n",
    "         of Movies vs. TV Shows within each country.\n",
    "\n",
    "    Trends Over Time (Line Charts)\n",
    "        (12) Content Growth Over Years: Plot a line chart showing the number of titles added to Netflix each year.\n",
    "        (13) Separate Growth Trends: On a single graph, plot two lines: one for the growth of Movies and one for TV Shows\n",
    "         added over time.\n",
    "        (14) Cumulative Content Growth: Create a line chart showing the cumulative sum of content added over the years.\n",
    "\n",
    "    Distributions (Histograms & Box Plots)\n",
    "        (15) Release Year Distribution: Create a histogram to understand the distribution of content based on\n",
    "         release_year.\n",
    "        (16) Movie Duration Analysis: Create a histogram to show the distribution of movie durations (in minutes).\n",
    "        (17) TV Show Season Analysis: Create a histogram to see the distribution of the number of seasons for TV shows.\n",
    "        (18) Duration Outliers: Use a box plot to visualize the spread of movie durations and identify outliers.\n",
    "        (19) Duration by Rating: Create box plots to compare movie durations across different ratings (e.g., 'R',\n",
    "         'PG-13').\n",
    "\n",
    "    Proportions & Text (Pie Charts & Word Clouds)\n",
    "        (20) Content Type Share: Create a pie chart to show the percentage share of Movies vs. TV Shows.\n",
    "        (21) Common Genre Keywords: Create a word cloud from the listed_in column to visually represent the most frequent\n",
    "         genre tags."
   ],
   "id": "aba756fbd424512"
  },
  {
   "metadata": {
    "ExecuteTime": {
     "end_time": "2025-09-29T13:51:40.940909Z",
     "start_time": "2025-09-29T13:51:40.834164Z"
    }
   },
   "cell_type": "code",
   "source": [
    "# 1. Create a bar chart to show the count of Movies vs. TV Shows available on Netflix.\n",
    "x=df.groupby('type')['show_id'].count().index\n",
    "height=df.groupby('type')['show_id'].count().values\n",
    "plt.figure(figsize=(5, 4))\n",
    "plt.bar(x,height,align='center',color=['skyblue', 'salmon'], width=0.6)\n",
    "plt.xlabel(\"Type of shows\")\n",
    "plt.ylabel(\"Count of shows\")\n",
    "plt.title(\"count of Movies vs. TV Shows\")\n",
    "plt.show()"
   ],
   "id": "4f4aef9191a494dc",
   "outputs": [
    {
     "data": {
      "text/plain": [
       "<Figure size 500x400 with 1 Axes>"
      ],
      "image/png": "[encoded data removed]"
     },
     "metadata": {},
     "output_type": "display_data",
     "jetTransient": {
      "display_id": null
     }
    }
   ],
   "execution_count": 152
  },
  {
   "metadata": {
    "ExecuteTime": {
     "end_time": "2025-09-29T14:16:33.517703Z",
     "start_time": "2025-09-29T14:16:33.289413Z"
    }
   },
   "cell_type": "code",
   "source": [
    "# 2. Create a histogram to show the distribution of release_year. (e.g., how many titles were released in the 1990s, 2000s, etc.).\n",
    "y=df['release_decade'].value_counts().sort_index().values\n",
    "x=df['release_decade'].value_counts().sort_index().index\n",
    "plt.figure(figsize=(12,7))\n",
    "plt.hist(df['release_year'], bins=30, color='royalblue', edgecolor='black',label='distribution of release_year')\n",
    "plt.xlabel(\"Decades\")\n",
    "plt.ylabel(\"Title count\")\n",
    "plt.title(\"distribution of release_year\")\n",
    "plt.legend()\n",
    "plt.show()"
   ],
   "id": "191b1c5e328399e0",
   "outputs": [
    {
     "data": {
      "text/plain": [
       "<Figure size 1200x700 with 1 Axes>"
      ],
      "image/png": "[encoded data removed]"
     },
     "metadata": {},
     "output_type": "display_data",
     "jetTransient": {
      "display_id": null
     }
    }
   ],
   "execution_count": 182
  },
  {
   "metadata": {
    "ExecuteTime": {
     "end_time": "2025-09-29T14:29:36.111213Z",
     "start_time": "2025-09-29T14:29:35.924687Z"
    }
   },
   "cell_type": "code",
   "source": [
    "# 3. Create a bar chart showing the top 10 countries that produce the most content.\n",
    "plt.figure(figsize=(7,5))\n",
    "country=df['country'].value_counts().head(10)\n",
    "plt.bar(country.index,country.values)\n",
    "plt.xlabel(\"Country\")\n",
    "plt.ylabel(\"Content count\")\n",
    "plt.title(\"top 10 countries\")\n",
    "plt.xticks(country.index,rotation=45)\n",
    "plt.show()"
   ],
   "id": "8ff7b9f0dedb1ee",
   "outputs": [
    {
     "data": {
      "text/plain": [
       "<Figure size 700x500 with 1 Axes>"
      ],
      "image/png": "[encoded data removed]"
     },
     "metadata": {},
     "output_type": "display_data",
     "jetTransient": {
      "display_id": null
     }
    }
   ],
   "execution_count": 202
  },
  {
   "metadata": {
    "ExecuteTime": {
     "end_time": "2025-09-29T14:33:11.327452Z",
     "start_time": "2025-09-29T14:33:11.207711Z"
    }
   },
   "cell_type": "code",
   "source": [
    "# 4. What is the proportion of different ratings (e.g., TV-MA, TV-14, R)? You can create a pie chart for this.\n",
    "rating=df['rating'].value_counts()\n",
    "plt.pie(rating.values,labels=rating.index)\n",
    "plt.show()"
   ],
   "id": "135cd79fffd363a4",
   "outputs": [
    {
     "data": {
      "text/plain": [
       "<Figure size 640x480 with 1 Axes>"
      ],
      "image/png": "[encoded data removed]"
     },
     "metadata": {},
     "output_type": "display_data",
     "jetTransient": {
      "display_id": null
     }
    }
   ],
   "execution_count": 207
  },
  {
   "metadata": {
    "ExecuteTime": {
     "end_time": "2025-09-29T13:35:44.560714Z",
     "start_time": "2025-09-29T13:35:44.557385Z"
    }
   },
   "cell_type": "code",
   "source": "# 5. Create a line chart that shows the number of titles added each year (release_year). This will give you a trend of content growth over time.",
   "id": "164b9ce4e0d402d1",
   "outputs": [],
   "execution_count": 105
  },
  {
   "metadata": {
    "ExecuteTime": {
     "end_time": "2025-09-29T13:35:44.574513Z",
     "start_time": "2025-09-29T13:35:44.571215Z"
    }
   },
   "cell_type": "code",
   "source": "# 6. Top Content-Producing Countries: Visualize the top 10 countries with the most content using a horizontal bar chart.",
   "id": "68f4eed15f334c6c",
   "outputs": [],
   "execution_count": 106
  },
  {
   "metadata": {
    "ExecuteTime": {
     "end_time": "2025-09-29T13:35:44.589206Z",
     "start_time": "2025-09-29T13:35:44.585947Z"
    }
   },
   "cell_type": "code",
   "source": "# 7. Most Common Genres: Create a bar chart showing the top 15 most common",
   "id": "e743a2d45ee23fc1",
   "outputs": [],
   "execution_count": 107
  },
  {
   "metadata": {
    "ExecuteTime": {
     "end_time": "2025-09-29T13:35:44.604506Z",
     "start_time": "2025-09-29T13:35:44.601065Z"
    }
   },
   "cell_type": "code",
   "source": "# 8. Peak Addition Months: Create a bar chart showing the number of titles added per month. Which are the busiest months?",
   "id": "3bbfe3055fd23338",
   "outputs": [],
   "execution_count": 108
  },
  {
   "metadata": {
    "ExecuteTime": {
     "end_time": "2025-09-29T13:35:44.618425Z",
     "start_time": "2025-09-29T13:35:44.615319Z"
    }
   },
   "cell_type": "code",
   "source": "# 9. Audience Ratings Distribution: Use a bar chart to show the count of content across different ratings.",
   "id": "da3593cf3165bba",
   "outputs": [],
   "execution_count": 109
  },
  {
   "metadata": {
    "ExecuteTime": {
     "end_time": "2025-09-29T13:35:44.632595Z",
     "start_time": "2025-09-29T13:35:44.628664Z"
    }
   },
   "cell_type": "code",
   "source": "# 10. Movies vs. TV Shows by Country: Create a stacked bar chart for the top 10 countries, showing the proportion of Movies vs. TV Shows within each country.",
   "id": "56c141593bd35b",
   "outputs": [],
   "execution_count": 110
  },
  {
   "metadata": {
    "ExecuteTime": {
     "end_time": "2025-09-29T13:35:44.646723Z",
     "start_time": "2025-09-29T13:35:44.642561Z"
    }
   },
   "cell_type": "code",
   "source": "# 11. Content Type Distribution: Create a bar chart comparing the total number of Movies vs. TV Shows.",
   "id": "ee1f4be49de9b1bf",
   "outputs": [],
   "execution_count": 111
  },
  {
   "metadata": {
    "ExecuteTime": {
     "end_time": "2025-09-29T13:35:44.662458Z",
     "start_time": "2025-09-29T13:35:44.658486Z"
    }
   },
   "cell_type": "code",
   "source": "# 12. Content Growth Over Years: Plot a line chart showing the number of titles added to Netflix each year.",
   "id": "ef466b20526ae502",
   "outputs": [],
   "execution_count": 112
  },
  {
   "metadata": {
    "ExecuteTime": {
     "end_time": "2025-09-29T13:35:44.680522Z",
     "start_time": "2025-09-29T13:35:44.676383Z"
    }
   },
   "cell_type": "code",
   "source": "# 13. Separate Growth Trends: On a single graph, plot two lines: one for the growth of Movies and one for TV Shows added over time.",
   "id": "a1555dcc79f11c16",
   "outputs": [],
   "execution_count": 113
  },
  {
   "metadata": {
    "ExecuteTime": {
     "end_time": "2025-09-29T13:35:44.695420Z",
     "start_time": "2025-09-29T13:35:44.692171Z"
    }
   },
   "cell_type": "code",
   "source": "# 14. Cumulative Content Growth: Create a line chart showing the cumulative sum of content added over the years.",
   "id": "e1439be2a99769f6",
   "outputs": [],
   "execution_count": 114
  },
  {
   "metadata": {
    "ExecuteTime": {
     "end_time": "2025-09-29T13:35:44.708261Z",
     "start_time": "2025-09-29T13:35:44.704735Z"
    }
   },
   "cell_type": "code",
   "source": "# 15. Release Year Distribution: Create a histogram to understand the distribution of content based on release_year.",
   "id": "3b4e0a4d567f9b27",
   "outputs": [],
   "execution_count": 115
  },
  {
   "metadata": {
    "ExecuteTime": {
     "end_time": "2025-09-29T13:35:44.723331Z",
     "start_time": "2025-09-29T13:35:44.719380Z"
    }
   },
   "cell_type": "code",
   "source": "# 16. Movie Duration Analysis: Create a histogram to show the distribution of movie durations (in minutes).",
   "id": "30dcaff7807f515d",
   "outputs": [],
   "execution_count": 116
  },
  {
   "metadata": {
    "ExecuteTime": {
     "end_time": "2025-09-29T13:35:44.738791Z",
     "start_time": "2025-09-29T13:35:44.734675Z"
    }
   },
   "cell_type": "code",
   "source": "# 17. TV Show Season Analysis: Create a histogram to see the distribution of the number of seasons for TV shows.",
   "id": "5707b644b51dc83a",
   "outputs": [],
   "execution_count": 117
  },
  {
   "metadata": {
    "ExecuteTime": {
     "end_time": "2025-09-29T13:35:44.754538Z",
     "start_time": "2025-09-29T13:35:44.750740Z"
    }
   },
   "cell_type": "code",
   "source": "# 18. Duration Outliers: Use a box plot to visualize the spread of movie durations and identify outliers.",
   "id": "9e7041f886b17e8a",
   "outputs": [],
   "execution_count": 118
  },
  {
   "metadata": {
    "ExecuteTime": {
     "end_time": "2025-09-29T13:35:44.768853Z",
     "start_time": "2025-09-29T13:35:44.764797Z"
    }
   },
   "cell_type": "code",
   "source": "# 19. Duration by Rating: Create box plots to compare movie durations across different ratings (e.g., 'R', 'PG-13').",
   "id": "11aa6669a3d027db",
   "outputs": [],
   "execution_count": 119
  },
  {
   "metadata": {
    "ExecuteTime": {
     "end_time": "2025-09-29T13:35:44.782320Z",
     "start_time": "2025-09-29T13:35:44.778934Z"
    }
   },
   "cell_type": "code",
   "source": "# 20. Content Type Share: Create a pie chart to show the percentage share of Movies vs. TV Shows.",
   "id": "cc7e3868c6c6dd5e",
   "outputs": [],
   "execution_count": 120
  }
 ],
 "metadata": {
  "kernelspec": {
   "display_name": "Python 3",
   "language": "python",
   "name": "python3"
  },
  "language_info": {
   "codemirror_mode": {
    "name": "ipython",
    "version": 2
   },
   "file_extension": ".py",
   "mimetype": "text/x-python",
   "name": "python",
   "nbconvert_exporter": "python",
   "pygments_lexer": "ipython2",
   "version": "2.7.6"
  }
 },
 "nbformat": 4,
 "nbformat_minor": 5
}
