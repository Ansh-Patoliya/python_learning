{
 "cells": [
  {
   "metadata": {
    "ExecuteTime": {
     "end_time": "2025-09-25T13:37:44.465519Z",
     "start_time": "2025-09-25T13:37:42.901793Z"
    }
   },
   "cell_type": "code",
   "source": [
    "from doctest import master\n",
    "\n",
    "import pandas as pd\n",
    "import numpy as np\n",
    "import matplotlib.pyplot as plt\n",
    "\n",
    "from Project.sales_data_analyzer.sales_data_analyzer import std_dev"
   ],
   "id": "1e339f4190f6493",
   "outputs": [],
   "execution_count": 2
  },
  {
   "metadata": {
    "ExecuteTime": {
     "end_time": "2025-09-25T13:37:44.559323Z",
     "start_time": "2025-09-25T13:37:44.478939Z"
    }
   },
   "cell_type": "code",
   "source": "df=pd.read_csv(\"netflix_titles.csv\",encoding='latin1')",
   "id": "a8945e6b611f5241",
   "outputs": [],
   "execution_count": 3
  },
  {
   "metadata": {},
   "cell_type": "markdown",
   "source": [
    "## Step 1: Understand the Data (Exploration)\n",
    "    (1) How many total rows and columns are in the dataset?\n",
    "    (2) What is the data type of each column (e.g., number, text, date)?\n",
    "    (3) Are there any missing values in any column? If yes, which column has the most missing values?\n",
    "    (4) Is there more content categorized as \"Movie\" or \"TV Show\" on Netflix? Show the count for each.\n",
    "    (5) Initial Preview: Display the first 10 and last 10 rows of the dataset to see how the data is recorded.\n",
    "    (6) Unique Values: How many unique categories are there in columns like type, rating, and country?\n",
    "    (7) Value Counts: What are the counts of each category within the type column (i.e., how many Movies vs. TV\n",
    "     Shows)? What are the top 10 most frequent values in country, director, and listed_in (genre)?\n",
    "    (8) Numerical Summary: What are the basic descriptive statistics (mean, median, standard deviation, min, max) for numerical columns like release_year?\n",
    "    (9) Timespan of Data: What is the earliest and latest release_year in the dataset? What about the date_added?"
   ],
   "id": "98f7b61399967cf0"
  },
  {
   "metadata": {
    "ExecuteTime": {
     "end_time": "2025-09-25T13:37:44.576834Z",
     "start_time": "2025-09-25T13:37:44.572306Z"
    }
   },
   "cell_type": "code",
   "source": [
    "# 1. How many total rows and columns are in the dataset?\n",
    "print(f\"Total rows = {df.shape[0]} , column = {df.shape[1]}\")"
   ],
   "id": "92f4ad7ceb31de29",
   "outputs": [
    {
     "name": "stdout",
     "output_type": "stream",
     "text": [
      "Total rows = 8807 , column = 12\n"
     ]
    }
   ],
   "execution_count": 4
  },
  {
   "metadata": {
    "ExecuteTime": {
     "end_time": "2025-09-25T13:37:44.609605Z",
     "start_time": "2025-09-25T13:37:44.599088Z"
    }
   },
   "cell_type": "code",
   "source": [
    "# 2. What is the data type of each column (e.g., number, text, date)?\n",
    "print(df.dtypes)"
   ],
   "id": "e79aa293b023ee8a",
   "outputs": [
    {
     "name": "stdout",
     "output_type": "stream",
     "text": [
      "show_id         object\n",
      "type            object\n",
      "title           object\n",
      "director        object\n",
      "cast            object\n",
      "country         object\n",
      "date_added      object\n",
      "release_year     int64\n",
      "rating          object\n",
      "duration        object\n",
      "listed_in       object\n",
      "description     object\n",
      "dtype: object\n"
     ]
    }
   ],
   "execution_count": 5
  },
  {
   "metadata": {
    "ExecuteTime": {
     "end_time": "2025-09-25T13:37:44.665485Z",
     "start_time": "2025-09-25T13:37:44.654180Z"
    }
   },
   "cell_type": "code",
   "source": [
    "# 3. Are there any missing values in any column? If yes, which column has the most missing values?\n",
    "\n",
    "# print(f\"Most missing values column = {df.isnull().sum().index[np.argmax(df.isnull().sum().values)]}\")\n",
    "\n",
    "# best way\n",
    "print(f\"Most missing values column = {df.isnull().sum().idxmax()}\")"
   ],
   "id": "6f014cdc325ad6f1",
   "outputs": [
    {
     "name": "stdout",
     "output_type": "stream",
     "text": [
      "Most missing values column = director\n"
     ]
    }
   ],
   "execution_count": 6
  },
  {
   "metadata": {
    "ExecuteTime": {
     "end_time": "2025-09-25T13:37:44.716630Z",
     "start_time": "2025-09-25T13:37:44.697435Z"
    }
   },
   "cell_type": "code",
   "source": [
    "# 4. Is there more content categorized as \"Movie\" or \"TV Show\" on Netflix? Show the count for each.\n",
    "print(f\"there more content categorized as = {df.groupby('type')['show_id'].count().idxmax()}\")\n",
    "print(f\"count for each = {df.groupby('type')['show_id'].count()}\")"
   ],
   "id": "1523b394272a4905",
   "outputs": [
    {
     "name": "stdout",
     "output_type": "stream",
     "text": [
      "there more content categorized as = Movie\n",
      "count for each = type\n",
      "Movie      6131\n",
      "TV Show    2676\n",
      "Name: show_id, dtype: int64\n"
     ]
    }
   ],
   "execution_count": 7
  },
  {
   "metadata": {
    "ExecuteTime": {
     "end_time": "2025-09-25T13:37:44.757987Z",
     "start_time": "2025-09-25T13:37:44.739366Z"
    }
   },
   "cell_type": "code",
   "source": [
    "# 5. Initial Preview: Display the first 10 and last 10 rows of the dataset to see how the data is recorded.\n",
    "print(f\"first 10 = \\n {df.head(10)}\")\n",
    "print(f\"lst 10 = \\n {df.tail(10)}\")"
   ],
   "id": "adeb8c8dc764e0e3",
   "outputs": [
    {
     "name": "stdout",
     "output_type": "stream",
     "text": [
      "first 10 = \n",
      "   show_id     type                             title  \\\n",
      "0      s1    Movie              Dick Johnson Is Dead   \n",
      "1      s2  TV Show                     Blood & Water   \n",
      "2      s3  TV Show                         Ganglands   \n",
      "3      s4  TV Show             Jailbirds New Orleans   \n",
      "4      s5  TV Show                      Kota Factory   \n",
      "5      s6  TV Show                     Midnight Mass   \n",
      "6      s7    Movie  My Little Pony: A New Generation   \n",
      "7      s8    Movie                           Sankofa   \n",
      "8      s9  TV Show     The Great British Baking Show   \n",
      "9     s10    Movie                      The Starling   \n",
      "\n",
      "                         director  \\\n",
      "0                 Kirsten Johnson   \n",
      "1                             NaN   \n",
      "2                 Julien Leclercq   \n",
      "3                             NaN   \n",
      "4                             NaN   \n",
      "5                   Mike Flanagan   \n",
      "6  Robert Cullen, JosÃ© Luis Ucha   \n",
      "7                    Haile Gerima   \n",
      "8                 Andy Devonshire   \n",
      "9                  Theodore Melfi   \n",
      "\n",
      "                                                cast  \\\n",
      "0                                                NaN   \n",
      "1  Ama Qamata, Khosi Ngema, Gail Mabalane, Thaban...   \n",
      "2  Sami Bouajila, Tracy Gotoas, Samuel Jouy, Nabi...   \n",
      "3                                                NaN   \n",
      "4  Mayur More, Jitendra Kumar, Ranjan Raj, Alam K...   \n",
      "5  Kate Siegel, Zach Gilford, Hamish Linklater, H...   \n",
      "6  Vanessa Hudgens, Kimiko Glenn, James Marsden, ...   \n",
      "7  Kofi Ghanaba, Oyafunmike Ogunlano, Alexandra D...   \n",
      "8  Mel Giedroyc, Sue Perkins, Mary Berry, Paul Ho...   \n",
      "9  Melissa McCarthy, Chris O'Dowd, Kevin Kline, T...   \n",
      "\n",
      "                                             country          date_added  \\\n",
      "0                                      United States  September 25, 2021   \n",
      "1                                       South Africa  September 24, 2021   \n",
      "2                                                NaN  September 24, 2021   \n",
      "3                                                NaN  September 24, 2021   \n",
      "4                                              India  September 24, 2021   \n",
      "5                                                NaN  September 24, 2021   \n",
      "6                                                NaN  September 24, 2021   \n",
      "7  United States, Ghana, Burkina Faso, United Kin...  September 24, 2021   \n",
      "8                                     United Kingdom  September 24, 2021   \n",
      "9                                      United States  September 24, 2021   \n",
      "\n",
      "   release_year rating   duration  \\\n",
      "0          2020  PG-13     90 min   \n",
      "1          2021  TV-MA  2 Seasons   \n",
      "2          2021  TV-MA   1 Season   \n",
      "3          2021  TV-MA   1 Season   \n",
      "4          2021  TV-MA  2 Seasons   \n",
      "5          2021  TV-MA   1 Season   \n",
      "6          2021     PG     91 min   \n",
      "7          1993  TV-MA    125 min   \n",
      "8          2021  TV-14  9 Seasons   \n",
      "9          2021  PG-13    104 min   \n",
      "\n",
      "                                           listed_in  \\\n",
      "0                                      Documentaries   \n",
      "1    International TV Shows, TV Dramas, TV Mysteries   \n",
      "2  Crime TV Shows, International TV Shows, TV Act...   \n",
      "3                             Docuseries, Reality TV   \n",
      "4  International TV Shows, Romantic TV Shows, TV ...   \n",
      "5                 TV Dramas, TV Horror, TV Mysteries   \n",
      "6                           Children & Family Movies   \n",
      "7   Dramas, Independent Movies, International Movies   \n",
      "8                       British TV Shows, Reality TV   \n",
      "9                                   Comedies, Dramas   \n",
      "\n",
      "                                         description  \n",
      "0  As her father nears the end of his life, filmm...  \n",
      "1  After crossing paths at a party, a Cape Town t...  \n",
      "2  To protect his family from a powerful drug lor...  \n",
      "3  Feuds, flirtations and toilet talk go down amo...  \n",
      "4  In a city of coaching centers known to train I...  \n",
      "5  The arrival of a charismatic young priest brin...  \n",
      "6  Equestria's divided. But a bright-eyed hero be...  \n",
      "7  On a photo shoot in Ghana, an American model s...  \n",
      "8  A talented batch of amateur bakers face off in...  \n",
      "9  A woman adjusting to life after a loss contend...  \n",
      "lst 10 = \n",
      "      show_id     type               title                 director  \\\n",
      "8797   s8798  TV Show           Zak Storm                      NaN   \n",
      "8798   s8799    Movie            Zed Plus  Chandra Prakash Dwivedi   \n",
      "8799   s8800    Movie               Zenda           Avadhoot Gupte   \n",
      "8800   s8801  TV Show  Zindagi Gulzar Hai                      NaN   \n",
      "8801   s8802    Movie             Zinzana          Majid Al Ansari   \n",
      "8802   s8803    Movie              Zodiac            David Fincher   \n",
      "8803   s8804  TV Show         Zombie Dumb                      NaN   \n",
      "8804   s8805    Movie          Zombieland          Ruben Fleischer   \n",
      "8805   s8806    Movie                Zoom             Peter Hewitt   \n",
      "8806   s8807    Movie              Zubaan              Mozez Singh   \n",
      "\n",
      "                                                   cast  \\\n",
      "8797  Michael Johnston, Jessica Gee-George, Christin...   \n",
      "8798  Adil Hussain, Mona Singh, K.K. Raina, Sanjay M...   \n",
      "8799  Santosh Juvekar, Siddharth Chandekar, Sachit P...   \n",
      "8800  Sanam Saeed, Fawad Khan, Ayesha Omer, Mehreen ...   \n",
      "8801  Ali Suliman, Saleh Bakri, Yasa, Ali Al-Jabri, ...   \n",
      "8802  Mark Ruffalo, Jake Gyllenhaal, Robert Downey J...   \n",
      "8803                                                NaN   \n",
      "8804  Jesse Eisenberg, Woody Harrelson, Emma Stone, ...   \n",
      "8805  Tim Allen, Courteney Cox, Chevy Chase, Kate Ma...   \n",
      "8806  Vicky Kaushal, Sarah-Jane Dias, Raaghav Chanan...   \n",
      "\n",
      "                                            country          date_added  \\\n",
      "8797  United States, France, South Korea, Indonesia  September 13, 2018   \n",
      "8798                                          India   December 31, 2019   \n",
      "8799                                          India   February 15, 2018   \n",
      "8800                                       Pakistan   December 15, 2016   \n",
      "8801                   United Arab Emirates, Jordan       March 9, 2016   \n",
      "8802                                  United States   November 20, 2019   \n",
      "8803                                            NaN        July 1, 2019   \n",
      "8804                                  United States    November 1, 2019   \n",
      "8805                                  United States    January 11, 2020   \n",
      "8806                                          India       March 2, 2019   \n",
      "\n",
      "      release_year rating   duration  \\\n",
      "8797          2016  TV-Y7  3 Seasons   \n",
      "8798          2014  TV-MA    131 min   \n",
      "8799          2009  TV-14    120 min   \n",
      "8800          2012  TV-PG   1 Season   \n",
      "8801          2015  TV-MA     96 min   \n",
      "8802          2007      R    158 min   \n",
      "8803          2018  TV-Y7  2 Seasons   \n",
      "8804          2009      R     88 min   \n",
      "8805          2006     PG     88 min   \n",
      "8806          2015  TV-14    111 min   \n",
      "\n",
      "                                              listed_in  \\\n",
      "8797                                           Kids' TV   \n",
      "8798             Comedies, Dramas, International Movies   \n",
      "8799                       Dramas, International Movies   \n",
      "8800  International TV Shows, Romantic TV Shows, TV ...   \n",
      "8801            Dramas, International Movies, Thrillers   \n",
      "8802                     Cult Movies, Dramas, Thrillers   \n",
      "8803             Kids' TV, Korean TV Shows, TV Comedies   \n",
      "8804                            Comedies, Horror Movies   \n",
      "8805                 Children & Family Movies, Comedies   \n",
      "8806     Dramas, International Movies, Music & Musicals   \n",
      "\n",
      "                                            description  \n",
      "8797  Teen surfer Zak Storm is mysteriously transpor...  \n",
      "8798  A philandering small-town mechanic's political...  \n",
      "8799  A change in the leadership of a political part...  \n",
      "8800  Strong-willed, middle-class Kashaf and carefre...  \n",
      "8801  Recovering alcoholic Talal wakes up inside a s...  \n",
      "8802  A political cartoonist, a crime reporter and a...  \n",
      "8803  While living alone in a spooky town, a young g...  \n",
      "8804  Looking to survive in a world taken over by zo...  \n",
      "8805  Dragged from civilian life, a former superhero...  \n",
      "8806  A scrappy but poor boy worms his way into a ty...  \n"
     ]
    }
   ],
   "execution_count": 8
  },
  {
   "metadata": {
    "ExecuteTime": {
     "end_time": "2025-09-25T13:37:44.780225Z",
     "start_time": "2025-09-25T13:37:44.769689Z"
    }
   },
   "cell_type": "code",
   "source": [
    "# 6. Unique Values: How many unique categories are there in columns like type, rating, and country?\n",
    "\n",
    "# print(f\"type = {df['type'].unique().size}\")\n",
    "# print(f\"rating = {df['rating'].unique().size}\")\n",
    "# print(f\"country = {df['country'].unique().size}\")\n",
    "\n",
    "# Best Way\n",
    "print(df[['type','rating','country']].nunique())"
   ],
   "id": "4288a6b999c8000",
   "outputs": [
    {
     "name": "stdout",
     "output_type": "stream",
     "text": [
      "type         2\n",
      "rating      17\n",
      "country    748\n",
      "dtype: int64\n"
     ]
    }
   ],
   "execution_count": 9
  },
  {
   "metadata": {
    "ExecuteTime": {
     "end_time": "2025-09-25T13:37:44.813826Z",
     "start_time": "2025-09-25T13:37:44.796890Z"
    }
   },
   "cell_type": "code",
   "source": [
    "# 7. Value Counts: What are the counts of each category within the type column (i.e., how many Movies vs. TV Shows)? What are the top 10 most frequent values in country, director, and listed_in (genre)?\n",
    "\n",
    "# print(f\"count for each = {df.groupby('type')['show_id'].count()}\")\n",
    "# print(f\"country = {df.groupby('country')['show_id'].count().sort_values(ascending=False).head(10)}\")\n",
    "# print(f\"director = {df.groupby('director')['show_id'].count().sort_values(ascending=False).head(10)}\")\n",
    "# print(f'listed in = {df.groupby('listed_in')['show_id'].count().sort_values(ascending=False).head(10)}')\n",
    "\n",
    "# best way\n",
    "print(\"--- Type Counts ---\")\n",
    "print(df['type'].value_counts())\n",
    "print(\"\\n\" + \"=\"*30 + \"\\n\") # For clean separation\n",
    "\n",
    "print(\"--- Top 10 Countries ---\")\n",
    "print(df['country'].value_counts().head(10))\n",
    "print(\"\\n\" + \"=\"*30 + \"\\n\")\n",
    "\n",
    "print(\"--- Top 10 Directors ---\")\n",
    "print(df['director'].value_counts().head(10))\n",
    "print(\"\\n\" + \"=\"*30 + \"\\n\")\n",
    "\n",
    "print(\"--- Top 10 Genres (listed_in) ---\")\n",
    "print(df['listed_in'].value_counts().head(10))"
   ],
   "id": "8b812cd485ad28b2",
   "outputs": [
    {
     "name": "stdout",
     "output_type": "stream",
     "text": [
      "--- Type Counts ---\n",
      "type\n",
      "Movie      6131\n",
      "TV Show    2676\n",
      "Name: count, dtype: int64\n",
      "\n",
      "==============================\n",
      "\n",
      "--- Top 10 Countries ---\n",
      "country\n",
      "United States     2818\n",
      "India              972\n",
      "United Kingdom     419\n",
      "Japan              245\n",
      "South Korea        199\n",
      "Canada             181\n",
      "Spain              145\n",
      "France             124\n",
      "Mexico             110\n",
      "Egypt              106\n",
      "Name: count, dtype: int64\n",
      "\n",
      "==============================\n",
      "\n",
      "--- Top 10 Directors ---\n",
      "director\n",
      "Rajiv Chilaka              19\n",
      "RaÃºl Campos, Jan Suter    18\n",
      "Suhas Kadav                16\n",
      "Marcus Raboy               16\n",
      "Jay Karas                  14\n",
      "Cathy Garcia-Molina        13\n",
      "Martin Scorsese            12\n",
      "Youssef Chahine            12\n",
      "Jay Chapman                12\n",
      "Steven Spielberg           11\n",
      "Name: count, dtype: int64\n",
      "\n",
      "==============================\n",
      "\n",
      "--- Top 10 Genres (listed_in) ---\n",
      "listed_in\n",
      "Dramas, International Movies                        362\n",
      "Documentaries                                       359\n",
      "Stand-Up Comedy                                     334\n",
      "Comedies, Dramas, International Movies              274\n",
      "Dramas, Independent Movies, International Movies    252\n",
      "Kids' TV                                            220\n",
      "Children & Family Movies                            215\n",
      "Children & Family Movies, Comedies                  201\n",
      "Documentaries, International Movies                 186\n",
      "Dramas, International Movies, Romantic Movies       180\n",
      "Name: count, dtype: int64\n"
     ]
    }
   ],
   "execution_count": 10
  },
  {
   "metadata": {
    "ExecuteTime": {
     "end_time": "2025-09-25T13:37:44.838463Z",
     "start_time": "2025-09-25T13:37:44.827729Z"
    }
   },
   "cell_type": "code",
   "source": [
    "# 8. Numerical Summary: What are the basic descriptive statistics (mean, median, standard deviation, min, max) for numerical columns like release_year?\n",
    "print(df.describe())"
   ],
   "id": "40b533c4f27ee04d",
   "outputs": [
    {
     "name": "stdout",
     "output_type": "stream",
     "text": [
      "       release_year\n",
      "count   8807.000000\n",
      "mean    2014.180198\n",
      "std        8.819312\n",
      "min     1925.000000\n",
      "25%     2013.000000\n",
      "50%     2017.000000\n",
      "75%     2019.000000\n",
      "max     2021.000000\n"
     ]
    }
   ],
   "execution_count": 11
  },
  {
   "metadata": {
    "ExecuteTime": {
     "end_time": "2025-09-25T13:38:16.823922Z",
     "start_time": "2025-09-25T13:38:16.760203Z"
    }
   },
   "cell_type": "code",
   "source": [
    "# 9. Timespan of Data: What is the earliest and latest release_year in the dataset? What about the date_added?\n",
    "# print(df['release_year'].max())\n",
    "# print(df['release_year'].min())\n",
    "df['date_added']=pd.to_datetime(df['date_added'].str.strip())\n",
    "print(df['date_added'].max())\n",
    "print(df['date_added'].min())"
   ],
   "id": "cad34a1ed2c42fea",
   "outputs": [
    {
     "name": "stdout",
     "output_type": "stream",
     "text": [
      "2021-09-25 00:00:00\n",
      "2008-01-01 00:00:00\n"
     ]
    }
   ],
   "execution_count": 13
  },
  {
   "metadata": {},
   "cell_type": "markdown",
   "source": [
    "\n",
    "## Step 2: Clean the Data (Cleaning & Preprocessing)\n",
    "    (1) How would you handle the missing values in the date_added column? Would you remove them or fill them with a\n",
    "     default value?\n",
    "    (2) The rating column also has missing values. Fill them with the most frequently occurring rating (the mode).\n",
    "    (3)The cast and director columns also have null values. For now, you can leave them, but think about how you might\n",
    "     handle them.\n",
    "    (4) Handling Missing Directors/Cast/Country: Decide on a strategy for the missing values in director, cast, and country. Should you fill them\n",
    "     with a placeholder like \"Unknown\" or drop the rows? Justify your choice.\n",
    "    (5) Fixing Missing Ratings: The rating column has missing values. How would you fill them? A good approach is to use the mode (the most\n",
    "     frequently occurring rating).\n",
    "    (6) Managing Missing Dates: Address the missing values in date_added. Is it better to drop these few rows or fill them with the release_year?\n",
    "    (7) Data Type Conversion: The date_added column is currently a string (object). Convert it to a proper datetime format so you can perform\n",
    "    time-based analysis.\n",
    "    (8) Cleaning the Duration Column: The duration column contains mixed data (e.g., \"100 min\" for movies, \"2 Seasons\" for TV shows). Separate the\n",
    "     dataset into two: one for Movies and one for TV Shows. For the Movie dataset, convert the duration column to a numerical type (integer) by\n",
    "      removing \"min\". Do the same for the TV Show dataset, converting seasons to an integer.\n",
    "    (9) Handling Duplicates: Check if there are any duplicate rows in the dataset and remove them if they exist.\n",
    "    (10) Standardizing Genres: The listed_in column often contains multiple genres in one string (e.g., \"Dramas, International Movies\"). Should you\n",
    "     split these into a list or just use the primary genre for analysis?"
   ],
   "id": "4a0a14453904dee2"
  },
  {
   "metadata": {
    "ExecuteTime": {
     "end_time": "2025-09-25T13:45:32.081437Z",
     "start_time": "2025-09-25T13:45:32.065356Z"
    }
   },
   "cell_type": "code",
   "source": [
    "# 1. How would you handle the missing values in the date_added column? Would you remove them or fill them with a default value?\n",
    "df.dropna(subset=['date_added'],inplace=True)"
   ],
   "id": "a11d6c36a526f347",
   "outputs": [
    {
     "name": "stdout",
     "output_type": "stream",
     "text": [
      "<class 'pandas.core.frame.DataFrame'>\n",
      "Index: 8797 entries, 0 to 8806\n",
      "Data columns (total 12 columns):\n",
      " #   Column        Non-Null Count  Dtype         \n",
      "---  ------        --------------  -----         \n",
      " 0   show_id       8797 non-null   object        \n",
      " 1   type          8797 non-null   object        \n",
      " 2   title         8797 non-null   object        \n",
      " 3   director      6173 non-null   object        \n",
      " 4   cast          7972 non-null   object        \n",
      " 5   country       7967 non-null   object        \n",
      " 6   date_added    8797 non-null   datetime64[ns]\n",
      " 7   release_year  8797 non-null   int64         \n",
      " 8   rating        8793 non-null   object        \n",
      " 9   duration      8794 non-null   object        \n",
      " 10  listed_in     8797 non-null   object        \n",
      " 11  description   8797 non-null   object        \n",
      "dtypes: datetime64[ns](1), int64(1), object(10)\n",
      "memory usage: 893.4+ KB\n"
     ]
    }
   ],
   "execution_count": 19
  },
  {
   "metadata": {
    "ExecuteTime": {
     "end_time": "2025-09-25T13:49:53.740261Z",
     "start_time": "2025-09-25T13:49:53.724368Z"
    }
   },
   "cell_type": "code",
   "source": [
    "# 2. The rating column also has missing values. Fill them with the most frequently occurring rating (the mode).\n",
    "df['rating'].fillna(df['rating'].mode()[0],inplace=True)"
   ],
   "id": "9552a7a5aab77b89",
   "outputs": [
    {
     "name": "stdout",
     "output_type": "stream",
     "text": [
      "<class 'pandas.core.frame.DataFrame'>\n",
      "Index: 8797 entries, 0 to 8806\n",
      "Data columns (total 12 columns):\n",
      " #   Column        Non-Null Count  Dtype         \n",
      "---  ------        --------------  -----         \n",
      " 0   show_id       8797 non-null   object        \n",
      " 1   type          8797 non-null   object        \n",
      " 2   title         8797 non-null   object        \n",
      " 3   director      6173 non-null   object        \n",
      " 4   cast          7972 non-null   object        \n",
      " 5   country       7967 non-null   object        \n",
      " 6   date_added    8797 non-null   datetime64[ns]\n",
      " 7   release_year  8797 non-null   int64         \n",
      " 8   rating        8797 non-null   object        \n",
      " 9   duration      8794 non-null   object        \n",
      " 10  listed_in     8797 non-null   object        \n",
      " 11  description   8797 non-null   object        \n",
      "dtypes: datetime64[ns](1), int64(1), object(10)\n",
      "memory usage: 893.4+ KB\n"
     ]
    }
   ],
   "execution_count": 27
  },
  {
   "metadata": {
    "ExecuteTime": {
     "end_time": "2025-09-25T14:05:08.033618Z",
     "start_time": "2025-09-25T14:05:08.009235Z"
    }
   },
   "cell_type": "code",
   "source": [
    "# 3. The cast and director columns also have null values. For now, you can leave them, but think about how you might handle them.\n",
    "df.info()\n",
    "'''\n",
    "Strategy 1: Fill with a Placeholder (Jagya Purvi)\n",
    "    - This is the most common and safest approach for text columns like cast and director.\n",
    "    - What to do: Instead of leaving the cells blank, we can fill them with a placeholder word like \"Unknown\", \"Not Available\", or \"No Director\".\n",
    "    - Why it's a good idea:\n",
    "        - No Data Loss: We don't have to delete the entire row. We can still use the information from other columns like release_year, country, and rating for our analysis.\n",
    "        - Clarity: It clearly tells us that the information was missing, not that the movie had no director or cast.\n",
    "        - Easy Analysis: We can later easily count how many movies have an \"Unknown\" director or filter them out if needed.\n",
    "\n",
    "Strategy 2: Do Nothing (Kaai Na Karvu)\n",
    "    - Sometimes, the best action is no action.\n",
    "    - What to do: Leave the missing values as they are (NaN).\n",
    "    - Why it might work:\n",
    "        - Specific Analysis: If you are only analyzing trends by country or release year, the director and cast columns don't matter. Pandas is smart enough to ignore missing values during many calculations (like counting).\n",
    "        - Honesty: It keeps the data in its original, raw state.\n",
    "    - The downside: This can cause errors or unexpected results in certain analyses, especially if you try to search for a specific director's name.\n",
    "\n",
    "Strategy 3: Deleting Rows (Rows Kadhi Nakhvi)\n",
    "    - This is a more aggressive approach and generally not recommended for these columns.\n",
    "    - What to do: Delete any row where the director or cast information is missing.\n",
    "    - Why it's risky:\n",
    "        - Major Data Loss: The director column has thousands of missing values. Deleting all those rows would mean throwing away a large portion of our dataset (almost 30%). This would make our overall analysis much less reliable.\n",
    "'''"
   ],
   "id": "d87ebeb76da492b",
   "outputs": [
    {
     "name": "stdout",
     "output_type": "stream",
     "text": [
      "<class 'pandas.core.frame.DataFrame'>\n",
      "Index: 8797 entries, 0 to 8806\n",
      "Data columns (total 12 columns):\n",
      " #   Column        Non-Null Count  Dtype         \n",
      "---  ------        --------------  -----         \n",
      " 0   show_id       8797 non-null   object        \n",
      " 1   type          8797 non-null   object        \n",
      " 2   title         8797 non-null   object        \n",
      " 3   director      8797 non-null   object        \n",
      " 4   cast          8797 non-null   object        \n",
      " 5   country       7967 non-null   object        \n",
      " 6   date_added    8797 non-null   datetime64[ns]\n",
      " 7   release_year  8797 non-null   int64         \n",
      " 8   rating        8797 non-null   object        \n",
      " 9   duration      8794 non-null   object        \n",
      " 10  listed_in     8797 non-null   object        \n",
      " 11  description   8797 non-null   object        \n",
      "dtypes: datetime64[ns](1), int64(1), object(10)\n",
      "memory usage: 893.4+ KB\n",
      "<class 'pandas.core.frame.DataFrame'>\n",
      "Index: 8797 entries, 0 to 8806\n",
      "Data columns (total 12 columns):\n",
      " #   Column        Non-Null Count  Dtype         \n",
      "---  ------        --------------  -----         \n",
      " 0   show_id       8797 non-null   object        \n",
      " 1   type          8797 non-null   object        \n",
      " 2   title         8797 non-null   object        \n",
      " 3   director      8797 non-null   object        \n",
      " 4   cast          8797 non-null   object        \n",
      " 5   country       7967 non-null   object        \n",
      " 6   date_added    8797 non-null   datetime64[ns]\n",
      " 7   release_year  8797 non-null   int64         \n",
      " 8   rating        8797 non-null   object        \n",
      " 9   duration      8794 non-null   object        \n",
      " 10  listed_in     8797 non-null   object        \n",
      " 11  description   8797 non-null   object        \n",
      "dtypes: datetime64[ns](1), int64(1), object(10)\n",
      "memory usage: 893.4+ KB\n"
     ]
    }
   ],
   "execution_count": 39
  },
  {
   "metadata": {},
   "cell_type": "code",
   "outputs": [],
   "execution_count": null,
   "source": [
    "# 4. Handling Missing Directors/Cast/Country: Decide on a strategy for the missing values in director, cast, and country. Should you fill them with a placeholder like \"Unknown\" or drop the rows? Justify your choice.\n",
    "df['director'].fillna('Unknown', inplace=True)\n",
    "df['cast'].fillna('Unknown', inplace=True)"
   ],
   "id": "8b7939a1662b2b8c"
  },
  {
   "metadata": {},
   "cell_type": "code",
   "outputs": [],
   "execution_count": null,
   "source": [
    "# 5. Fixing Missing Ratings: The rating column has missing values. How would you fill them? A good approach is to use the mode (the most frequently occurring rating).\n",
    "# Already done in step 2"
   ],
   "id": "ce26c8cf4bd8977b"
  },
  {
   "metadata": {},
   "cell_type": "code",
   "outputs": [],
   "execution_count": null,
   "source": [
    "# 6. Managing Missing Dates: Address the missing values in date_added. Is it better to drop these few rows or fill them with the release_year?\n",
    "# Already done in step 1"
   ],
   "id": "1d59c722367cf574"
  },
  {
   "metadata": {},
   "cell_type": "code",
   "outputs": [],
   "execution_count": null,
   "source": [
    "# 7. Data Type Conversion: The date_added column is currently a string (object). Convert it to a proper datetime format so you can perform time-based analysis.\n",
    "# Already done in exploration step 9"
   ],
   "id": "316494afd2d653a5"
  },
  {
   "metadata": {
    "ExecuteTime": {
     "end_time": "2025-09-25T15:00:36.972315Z",
     "start_time": "2025-09-25T15:00:36.939848Z"
    }
   },
   "cell_type": "code",
   "source": [
    "# 8. Cleaning the Duration Column: The duration column contains mixed data (e.g., \"100 min\" for movies, \"2 Seasons\" for TV shows). Separate the dataset into two: one for Movies and one for TV Shows. For the Movie dataset, convert the duration column to a numerical type (integer) by removing \"min\". Do the same for the TV Show dataset, converting seasons to an integer.\n",
    "df['duration']=df['duration'].str.replace('min','',regex=False)\n",
    "mask=df['type']=='Movie'\n",
    "df['movie_duration']=pd.to_numeric(df.loc[mask,'duration'])\n",
    "\n",
    "df['duration']=df['duration'].str.replace('s','',regex=False)\n",
    "df['duration']=df['duration'].str.replace('Season','',regex=False)\n",
    "mask1=df['type']=='TV Show'\n",
    "df['tv_show_duration']=pd.to_numeric(df.loc[mask1,'duration'])"
   ],
   "id": "8be9d1ef85cb2872",
   "outputs": [
    {
     "data": {
      "text/plain": [
       "  show_id     type                  title         director  \\\n",
       "0      s1    Movie   Dick Johnson Is Dead  Kirsten Johnson   \n",
       "1      s2  TV Show          Blood & Water          Unknown   \n",
       "2      s3  TV Show              Ganglands  Julien Leclercq   \n",
       "3      s4  TV Show  Jailbirds New Orleans          Unknown   \n",
       "4      s5  TV Show           Kota Factory          Unknown   \n",
       "\n",
       "                                                cast        country  \\\n",
       "0                                            Unknown  United States   \n",
       "1  Ama Qamata, Khosi Ngema, Gail Mabalane, Thaban...   South Africa   \n",
       "2  Sami Bouajila, Tracy Gotoas, Samuel Jouy, Nabi...            NaN   \n",
       "3                                            Unknown            NaN   \n",
       "4  Mayur More, Jitendra Kumar, Ranjan Raj, Alam K...          India   \n",
       "\n",
       "  date_added  release_year rating duration  \\\n",
       "0 2021-09-25          2020  PG-13      90    \n",
       "1 2021-09-24          2021  TV-MA       2    \n",
       "2 2021-09-24          2021  TV-MA       1    \n",
       "3 2021-09-24          2021  TV-MA       1    \n",
       "4 2021-09-24          2021  TV-MA       2    \n",
       "\n",
       "                                           listed_in  \\\n",
       "0                                      Documentaries   \n",
       "1    International TV Shows, TV Dramas, TV Mysteries   \n",
       "2  Crime TV Shows, International TV Shows, TV Act...   \n",
       "3                             Docuseries, Reality TV   \n",
       "4  International TV Shows, Romantic TV Shows, TV ...   \n",
       "\n",
       "                                         description  movie_duration  \\\n",
       "0  As her father nears the end of his life, filmm...            90.0   \n",
       "1  After crossing paths at a party, a Cape Town t...             NaN   \n",
       "2  To protect his family from a powerful drug lor...             NaN   \n",
       "3  Feuds, flirtations and toilet talk go down amo...             NaN   \n",
       "4  In a city of coaching centers known to train I...             NaN   \n",
       "\n",
       "   tv_show_duration  \n",
       "0               NaN  \n",
       "1               2.0  \n",
       "2               1.0  \n",
       "3               1.0  \n",
       "4               2.0  "
      ],
      "text/html": [
       "<div>\n",
       "<style scoped>\n",
       "    .dataframe tbody tr th:only-of-type {\n",
       "        vertical-align: middle;\n",
       "    }\n",
       "\n",
       "    .dataframe tbody tr th {\n",
       "        vertical-align: top;\n",
       "    }\n",
       "\n",
       "    .dataframe thead th {\n",
       "        text-align: right;\n",
       "    }\n",
       "</style>\n",
       "<table border=\"1\" class=\"dataframe\">\n",
       "  <thead>\n",
       "    <tr style=\"text-align: right;\">\n",
       "      <th></th>\n",
       "      <th>show_id</th>\n",
       "      <th>type</th>\n",
       "      <th>title</th>\n",
       "      <th>director</th>\n",
       "      <th>cast</th>\n",
       "      <th>country</th>\n",
       "      <th>date_added</th>\n",
       "      <th>release_year</th>\n",
       "      <th>rating</th>\n",
       "      <th>duration</th>\n",
       "      <th>listed_in</th>\n",
       "      <th>description</th>\n",
       "      <th>movie_duration</th>\n",
       "      <th>tv_show_duration</th>\n",
       "    </tr>\n",
       "  </thead>\n",
       "  <tbody>\n",
       "    <tr>\n",
       "      <th>0</th>\n",
       "      <td>s1</td>\n",
       "      <td>Movie</td>\n",
       "      <td>Dick Johnson Is Dead</td>\n",
       "      <td>Kirsten Johnson</td>\n",
       "      <td>Unknown</td>\n",
       "      <td>United States</td>\n",
       "      <td>2021-09-25</td>\n",
       "      <td>2020</td>\n",
       "      <td>PG-13</td>\n",
       "      <td>90</td>\n",
       "      <td>Documentaries</td>\n",
       "      <td>As her father nears the end of his life, filmm...</td>\n",
       "      <td>90.0</td>\n",
       "      <td>NaN</td>\n",
       "    </tr>\n",
       "    <tr>\n",
       "      <th>1</th>\n",
       "      <td>s2</td>\n",
       "      <td>TV Show</td>\n",
       "      <td>Blood &amp; Water</td>\n",
       "      <td>Unknown</td>\n",
       "      <td>Ama Qamata, Khosi Ngema, Gail Mabalane, Thaban...</td>\n",
       "      <td>South Africa</td>\n",
       "      <td>2021-09-24</td>\n",
       "      <td>2021</td>\n",
       "      <td>TV-MA</td>\n",
       "      <td>2</td>\n",
       "      <td>International TV Shows, TV Dramas, TV Mysteries</td>\n",
       "      <td>After crossing paths at a party, a Cape Town t...</td>\n",
       "      <td>NaN</td>\n",
       "      <td>2.0</td>\n",
       "    </tr>\n",
       "    <tr>\n",
       "      <th>2</th>\n",
       "      <td>s3</td>\n",
       "      <td>TV Show</td>\n",
       "      <td>Ganglands</td>\n",
       "      <td>Julien Leclercq</td>\n",
       "      <td>Sami Bouajila, Tracy Gotoas, Samuel Jouy, Nabi...</td>\n",
       "      <td>NaN</td>\n",
       "      <td>2021-09-24</td>\n",
       "      <td>2021</td>\n",
       "      <td>TV-MA</td>\n",
       "      <td>1</td>\n",
       "      <td>Crime TV Shows, International TV Shows, TV Act...</td>\n",
       "      <td>To protect his family from a powerful drug lor...</td>\n",
       "      <td>NaN</td>\n",
       "      <td>1.0</td>\n",
       "    </tr>\n",
       "    <tr>\n",
       "      <th>3</th>\n",
       "      <td>s4</td>\n",
       "      <td>TV Show</td>\n",
       "      <td>Jailbirds New Orleans</td>\n",
       "      <td>Unknown</td>\n",
       "      <td>Unknown</td>\n",
       "      <td>NaN</td>\n",
       "      <td>2021-09-24</td>\n",
       "      <td>2021</td>\n",
       "      <td>TV-MA</td>\n",
       "      <td>1</td>\n",
       "      <td>Docuseries, Reality TV</td>\n",
       "      <td>Feuds, flirtations and toilet talk go down amo...</td>\n",
       "      <td>NaN</td>\n",
       "      <td>1.0</td>\n",
       "    </tr>\n",
       "    <tr>\n",
       "      <th>4</th>\n",
       "      <td>s5</td>\n",
       "      <td>TV Show</td>\n",
       "      <td>Kota Factory</td>\n",
       "      <td>Unknown</td>\n",
       "      <td>Mayur More, Jitendra Kumar, Ranjan Raj, Alam K...</td>\n",
       "      <td>India</td>\n",
       "      <td>2021-09-24</td>\n",
       "      <td>2021</td>\n",
       "      <td>TV-MA</td>\n",
       "      <td>2</td>\n",
       "      <td>International TV Shows, Romantic TV Shows, TV ...</td>\n",
       "      <td>In a city of coaching centers known to train I...</td>\n",
       "      <td>NaN</td>\n",
       "      <td>2.0</td>\n",
       "    </tr>\n",
       "  </tbody>\n",
       "</table>\n",
       "</div>"
      ]
     },
     "execution_count": 74,
     "metadata": {},
     "output_type": "execute_result"
    }
   ],
   "execution_count": 74
  },
  {
   "metadata": {},
   "cell_type": "code",
   "outputs": [],
   "execution_count": null,
   "source": "# 9. Handling Duplicates: Check if there are any duplicate rows in the dataset and remove them if they exist.",
   "id": "f096a867d325e7c1"
  },
  {
   "metadata": {},
   "cell_type": "code",
   "outputs": [],
   "execution_count": null,
   "source": "# 10. Standardizing Genres: The listed_in column often contains multiple genres in one string (e.g., \"Dramas, International Movies\"). Should you split these into a list or just use the primary genre for analysis?",
   "id": "b35b177d0a464918"
  },
  {
   "metadata": {},
   "cell_type": "markdown",
   "source": [
    "## Step 3: Gain Insights from Data (Analysis & Transformation)\n",
    "    (1) In which year was the most content released? Find the top 5 years using the release_year column.\n",
    "    (2) In which month was the most content added? (Use the date_added column).\n",
    "    (3) Who are the top 5 directors with the most movies?\n",
    "    (4) Who are the top 10 actors who have appeared in the most movies/shows?\n",
    "    (5) Create a list of all Movies that were produced in India (country = 'India')."
   ],
   "id": "fca988aee7b8c0db"
  },
  {
   "metadata": {
    "ExecuteTime": {
     "end_time": "2025-09-25T13:37:45.689167300Z",
     "start_time": "2025-09-24T12:15:47.870125Z"
    }
   },
   "cell_type": "code",
   "source": "# 1. In which year was the most content released? Find the top 5 years using the release_year column.",
   "id": "e6d0011dc4038e08",
   "outputs": [],
   "execution_count": 16
  },
  {
   "metadata": {
    "ExecuteTime": {
     "end_time": "2025-09-25T13:37:45.698782600Z",
     "start_time": "2025-09-24T12:15:47.884124Z"
    }
   },
   "cell_type": "code",
   "source": "# 2. In which month was the most content added? (Use the date_added column).",
   "id": "f92ab31e5101efec",
   "outputs": [],
   "execution_count": 17
  },
  {
   "metadata": {
    "ExecuteTime": {
     "end_time": "2025-09-25T13:37:45.698782600Z",
     "start_time": "2025-09-24T12:15:47.897318Z"
    }
   },
   "cell_type": "code",
   "source": "# 3. Who are the top 5 directors with the most movies?",
   "id": "95e43ad614c190fd",
   "outputs": [],
   "execution_count": 18
  },
  {
   "metadata": {
    "ExecuteTime": {
     "end_time": "2025-09-25T13:37:45.700795Z",
     "start_time": "2025-09-24T12:15:47.911225Z"
    }
   },
   "cell_type": "code",
   "source": "# 4. Who are the top 10 actors who have appeared in the most movies/shows?",
   "id": "2442a83bd34855d5",
   "outputs": [],
   "execution_count": 19
  },
  {
   "metadata": {
    "ExecuteTime": {
     "end_time": "2025-09-25T13:37:45.700795Z",
     "start_time": "2025-09-24T12:15:47.924869Z"
    }
   },
   "cell_type": "code",
   "source": "# 5. Create a list of all Movies that were produced in India (country = 'India').",
   "id": "cb14f51e5e3e224d",
   "outputs": [],
   "execution_count": 20
  },
  {
   "metadata": {},
   "cell_type": "markdown",
   "source": [
    "## Step 4: Visualize the Data (Plotting) 📊\n",
    "    (1) Create a bar chart to show the count of Movies vs. TV Shows available on Netflix.\n",
    "    (2) Create a histogram to show the distribution of release_year. (e.g., how many titles were released in the\n",
    "     1990s, 2000s, etc.).\n",
    "    (3) Create a bar chart showing the top 10 countries that produce the most content.\n",
    "    (4) What is the proportion of different ratings (e.g., TV-MA, TV-14, R)? You can create a pie chart for this.\n",
    "    (5) Create a line chart that shows the number of titles added each year (release_year). This will give you a trend\n",
    "     of content growth over time."
   ],
   "id": "aba756fbd424512"
  },
  {
   "metadata": {
    "ExecuteTime": {
     "end_time": "2025-09-25T13:37:45.702307700Z",
     "start_time": "2025-09-24T12:15:47.938544Z"
    }
   },
   "cell_type": "code",
   "source": "# 1. Create a bar chart to show the count of Movies vs. TV Shows available on Netflix.",
   "id": "4f4aef9191a494dc",
   "outputs": [],
   "execution_count": 21
  },
  {
   "metadata": {
    "ExecuteTime": {
     "end_time": "2025-09-25T13:37:45.702307700Z",
     "start_time": "2025-09-24T12:15:47.952796Z"
    }
   },
   "cell_type": "code",
   "source": "# 2. Create a histogram to show the distribution of release_year. (e.g., how many titles were released in the 1990s, 2000s, etc.).",
   "id": "191b1c5e328399e0",
   "outputs": [],
   "execution_count": 22
  },
  {
   "metadata": {
    "ExecuteTime": {
     "end_time": "2025-09-25T13:37:45.704322600Z",
     "start_time": "2025-09-24T12:15:47.966422Z"
    }
   },
   "cell_type": "code",
   "source": "# 3. Create a bar chart showing the top 10 countries that produce the most content.",
   "id": "8ff7b9f0dedb1ee",
   "outputs": [],
   "execution_count": 23
  },
  {
   "metadata": {
    "ExecuteTime": {
     "end_time": "2025-09-25T13:37:45.704322600Z",
     "start_time": "2025-09-24T12:15:47.981253Z"
    }
   },
   "cell_type": "code",
   "source": "# 4. What is the proportion of different ratings (e.g., TV-MA, TV-14, R)? You can create a pie chart for this.",
   "id": "135cd79fffd363a4",
   "outputs": [],
   "execution_count": 24
  },
  {
   "metadata": {
    "ExecuteTime": {
     "end_time": "2025-09-25T13:37:45.706336700Z",
     "start_time": "2025-09-24T12:15:47.995167Z"
    }
   },
   "cell_type": "code",
   "source": "# 5. Create a line chart that shows the number of titles added each year (release_year). This will give you a trend of content growth over time.",
   "id": "164b9ce4e0d402d1",
   "outputs": [],
   "execution_count": 25
  }
 ],
 "metadata": {
  "kernelspec": {
   "display_name": "Python 3",
   "language": "python",
   "name": "python3"
  },
  "language_info": {
   "codemirror_mode": {
    "name": "ipython",
    "version": 2
   },
   "file_extension": ".py",
   "mimetype": "text/x-python",
   "name": "python",
   "nbconvert_exporter": "python",
   "pygments_lexer": "ipython2",
   "version": "2.7.6"
  }
 },
 "nbformat": 4,
 "nbformat_minor": 5
}
