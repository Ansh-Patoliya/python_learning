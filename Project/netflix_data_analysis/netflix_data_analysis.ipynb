{
 "cells": [
  {
   "metadata": {
    "ExecuteTime": {
     "end_time": "2025-09-28T12:14:21.332817Z",
     "start_time": "2025-09-28T12:14:12.158660Z"
    }
   },
   "cell_type": "code",
   "source": [
    "import pandas as pd\n",
    "import numpy as np\n",
    "import matplotlib.pyplot as plt\n",
    "from certifi import where\n",
    "\n"
   ],
   "id": "1e339f4190f6493",
   "outputs": [],
   "execution_count": 1
  },
  {
   "metadata": {
    "ExecuteTime": {
     "end_time": "2025-09-28T12:14:21.456020Z",
     "start_time": "2025-09-28T12:14:21.355546Z"
    }
   },
   "cell_type": "code",
   "source": "df=pd.read_csv(\"netflix_titles.csv\",encoding='latin1')",
   "id": "a8945e6b611f5241",
   "outputs": [],
   "execution_count": 2
  },
  {
   "metadata": {},
   "cell_type": "markdown",
   "source": [
    "## Step 1: Understand the Data (Exploration)\n",
    "    (1) How many total rows and columns are in the dataset?\n",
    "    (2) What is the data type of each column (e.g., number, text, date)?\n",
    "    (3) Are there any missing values in any column? If yes, which column has the most missing values?\n",
    "    (4) Is there more content categorized as \"Movie\" or \"TV Show\" on Netflix? Show the count for each.\n",
    "    (5) Initial Preview: Display the first 10 and last 10 rows of the dataset to see how the data is recorded.\n",
    "    (6) Unique Values: How many unique categories are there in columns like type, rating, and country?\n",
    "    (7) Value Counts: What are the counts of each category within the type column (i.e., how many Movies vs. TV\n",
    "     Shows)? What are the top 10 most frequent values in country, director, and listed_in (genre)?\n",
    "    (8) Numerical Summary: What are the basic descriptive statistics (mean, median, standard deviation, min, max) for numerical columns like release_year?\n",
    "    (9) Timespan of Data: What is the earliest and latest release_year in the dataset? What about the date_added?"
   ],
   "id": "98f7b61399967cf0"
  },
  {
   "metadata": {
    "ExecuteTime": {
     "end_time": "2025-09-28T12:14:21.491960Z",
     "start_time": "2025-09-28T12:14:21.485188Z"
    }
   },
   "cell_type": "code",
   "source": [
    "# 1. How many total rows and columns are in the dataset?\n",
    "print(f\"Total rows = {df.shape[0]} , column = {df.shape[1]}\")"
   ],
   "id": "92f4ad7ceb31de29",
   "outputs": [
    {
     "name": "stdout",
     "output_type": "stream",
     "text": [
      "Total rows = 8807 , column = 12\n"
     ]
    }
   ],
   "execution_count": 3
  },
  {
   "metadata": {
    "ExecuteTime": {
     "end_time": "2025-09-28T12:14:21.569042Z",
     "start_time": "2025-09-28T12:14:21.559865Z"
    }
   },
   "cell_type": "code",
   "source": [
    "# 2. What is the data type of each column (e.g., number, text, date)?\n",
    "print(df.dtypes)"
   ],
   "id": "e79aa293b023ee8a",
   "outputs": [
    {
     "name": "stdout",
     "output_type": "stream",
     "text": [
      "show_id         object\n",
      "type            object\n",
      "title           object\n",
      "director        object\n",
      "cast            object\n",
      "country         object\n",
      "date_added      object\n",
      "release_year     int64\n",
      "rating          object\n",
      "duration        object\n",
      "listed_in       object\n",
      "description     object\n",
      "dtype: object\n"
     ]
    }
   ],
   "execution_count": 4
  },
  {
   "metadata": {
    "ExecuteTime": {
     "end_time": "2025-09-28T12:14:21.620994Z",
     "start_time": "2025-09-28T12:14:21.608134Z"
    }
   },
   "cell_type": "code",
   "source": [
    "# 3. Are there any missing values in any column? If yes, which column has the most missing values?\n",
    "\n",
    "# print(f\"Most missing values column = {df.isnull().sum().index[np.argmax(df.isnull().sum().values)]}\")\n",
    "\n",
    "# best way\n",
    "print(f\"Most missing values column = {df.isnull().sum().idxmax()}\")"
   ],
   "id": "6f014cdc325ad6f1",
   "outputs": [
    {
     "name": "stdout",
     "output_type": "stream",
     "text": [
      "Most missing values column = director\n"
     ]
    }
   ],
   "execution_count": 5
  },
  {
   "metadata": {
    "ExecuteTime": {
     "end_time": "2025-09-28T12:14:21.695220Z",
     "start_time": "2025-09-28T12:14:21.676232Z"
    }
   },
   "cell_type": "code",
   "source": [
    "# 4. Is there more content categorized as \"Movie\" or \"TV Show\" on Netflix? Show the count for each.\n",
    "print(f\"there more content categorized as = {df.groupby('type')['show_id'].count().idxmax()}\")\n",
    "print(f\"count for each = {df.groupby('type')['show_id'].count()}\")"
   ],
   "id": "1523b394272a4905",
   "outputs": [
    {
     "name": "stdout",
     "output_type": "stream",
     "text": [
      "there more content categorized as = Movie\n",
      "count for each = type\n",
      "Movie      6131\n",
      "TV Show    2676\n",
      "Name: show_id, dtype: int64\n"
     ]
    }
   ],
   "execution_count": 6
  },
  {
   "metadata": {
    "ExecuteTime": {
     "end_time": "2025-09-28T12:14:21.736028Z",
     "start_time": "2025-09-28T12:14:21.720928Z"
    }
   },
   "cell_type": "code",
   "source": [
    "# 5. Initial Preview: Display the first 10 and last 10 rows of the dataset to see how the data is recorded.\n",
    "print(f\"first 10 = \\n {df.head(10)}\")\n",
    "print(f\"lst 10 = \\n {df.tail(10)}\")"
   ],
   "id": "adeb8c8dc764e0e3",
   "outputs": [
    {
     "name": "stdout",
     "output_type": "stream",
     "text": [
      "first 10 = \n",
      "   show_id     type                             title  \\\n",
      "0      s1    Movie              Dick Johnson Is Dead   \n",
      "1      s2  TV Show                     Blood & Water   \n",
      "2      s3  TV Show                         Ganglands   \n",
      "3      s4  TV Show             Jailbirds New Orleans   \n",
      "4      s5  TV Show                      Kota Factory   \n",
      "5      s6  TV Show                     Midnight Mass   \n",
      "6      s7    Movie  My Little Pony: A New Generation   \n",
      "7      s8    Movie                           Sankofa   \n",
      "8      s9  TV Show     The Great British Baking Show   \n",
      "9     s10    Movie                      The Starling   \n",
      "\n",
      "                         director  \\\n",
      "0                 Kirsten Johnson   \n",
      "1                             NaN   \n",
      "2                 Julien Leclercq   \n",
      "3                             NaN   \n",
      "4                             NaN   \n",
      "5                   Mike Flanagan   \n",
      "6  Robert Cullen, JosÃ© Luis Ucha   \n",
      "7                    Haile Gerima   \n",
      "8                 Andy Devonshire   \n",
      "9                  Theodore Melfi   \n",
      "\n",
      "                                                cast  \\\n",
      "0                                                NaN   \n",
      "1  Ama Qamata, Khosi Ngema, Gail Mabalane, Thaban...   \n",
      "2  Sami Bouajila, Tracy Gotoas, Samuel Jouy, Nabi...   \n",
      "3                                                NaN   \n",
      "4  Mayur More, Jitendra Kumar, Ranjan Raj, Alam K...   \n",
      "5  Kate Siegel, Zach Gilford, Hamish Linklater, H...   \n",
      "6  Vanessa Hudgens, Kimiko Glenn, James Marsden, ...   \n",
      "7  Kofi Ghanaba, Oyafunmike Ogunlano, Alexandra D...   \n",
      "8  Mel Giedroyc, Sue Perkins, Mary Berry, Paul Ho...   \n",
      "9  Melissa McCarthy, Chris O'Dowd, Kevin Kline, T...   \n",
      "\n",
      "                                             country          date_added  \\\n",
      "0                                      United States  September 25, 2021   \n",
      "1                                       South Africa  September 24, 2021   \n",
      "2                                                NaN  September 24, 2021   \n",
      "3                                                NaN  September 24, 2021   \n",
      "4                                              India  September 24, 2021   \n",
      "5                                                NaN  September 24, 2021   \n",
      "6                                                NaN  September 24, 2021   \n",
      "7  United States, Ghana, Burkina Faso, United Kin...  September 24, 2021   \n",
      "8                                     United Kingdom  September 24, 2021   \n",
      "9                                      United States  September 24, 2021   \n",
      "\n",
      "   release_year rating   duration  \\\n",
      "0          2020  PG-13     90 min   \n",
      "1          2021  TV-MA  2 Seasons   \n",
      "2          2021  TV-MA   1 Season   \n",
      "3          2021  TV-MA   1 Season   \n",
      "4          2021  TV-MA  2 Seasons   \n",
      "5          2021  TV-MA   1 Season   \n",
      "6          2021     PG     91 min   \n",
      "7          1993  TV-MA    125 min   \n",
      "8          2021  TV-14  9 Seasons   \n",
      "9          2021  PG-13    104 min   \n",
      "\n",
      "                                           listed_in  \\\n",
      "0                                      Documentaries   \n",
      "1    International TV Shows, TV Dramas, TV Mysteries   \n",
      "2  Crime TV Shows, International TV Shows, TV Act...   \n",
      "3                             Docuseries, Reality TV   \n",
      "4  International TV Shows, Romantic TV Shows, TV ...   \n",
      "5                 TV Dramas, TV Horror, TV Mysteries   \n",
      "6                           Children & Family Movies   \n",
      "7   Dramas, Independent Movies, International Movies   \n",
      "8                       British TV Shows, Reality TV   \n",
      "9                                   Comedies, Dramas   \n",
      "\n",
      "                                         description  \n",
      "0  As her father nears the end of his life, filmm...  \n",
      "1  After crossing paths at a party, a Cape Town t...  \n",
      "2  To protect his family from a powerful drug lor...  \n",
      "3  Feuds, flirtations and toilet talk go down amo...  \n",
      "4  In a city of coaching centers known to train I...  \n",
      "5  The arrival of a charismatic young priest brin...  \n",
      "6  Equestria's divided. But a bright-eyed hero be...  \n",
      "7  On a photo shoot in Ghana, an American model s...  \n",
      "8  A talented batch of amateur bakers face off in...  \n",
      "9  A woman adjusting to life after a loss contend...  \n",
      "lst 10 = \n",
      "      show_id     type               title                 director  \\\n",
      "8797   s8798  TV Show           Zak Storm                      NaN   \n",
      "8798   s8799    Movie            Zed Plus  Chandra Prakash Dwivedi   \n",
      "8799   s8800    Movie               Zenda           Avadhoot Gupte   \n",
      "8800   s8801  TV Show  Zindagi Gulzar Hai                      NaN   \n",
      "8801   s8802    Movie             Zinzana          Majid Al Ansari   \n",
      "8802   s8803    Movie              Zodiac            David Fincher   \n",
      "8803   s8804  TV Show         Zombie Dumb                      NaN   \n",
      "8804   s8805    Movie          Zombieland          Ruben Fleischer   \n",
      "8805   s8806    Movie                Zoom             Peter Hewitt   \n",
      "8806   s8807    Movie              Zubaan              Mozez Singh   \n",
      "\n",
      "                                                   cast  \\\n",
      "8797  Michael Johnston, Jessica Gee-George, Christin...   \n",
      "8798  Adil Hussain, Mona Singh, K.K. Raina, Sanjay M...   \n",
      "8799  Santosh Juvekar, Siddharth Chandekar, Sachit P...   \n",
      "8800  Sanam Saeed, Fawad Khan, Ayesha Omer, Mehreen ...   \n",
      "8801  Ali Suliman, Saleh Bakri, Yasa, Ali Al-Jabri, ...   \n",
      "8802  Mark Ruffalo, Jake Gyllenhaal, Robert Downey J...   \n",
      "8803                                                NaN   \n",
      "8804  Jesse Eisenberg, Woody Harrelson, Emma Stone, ...   \n",
      "8805  Tim Allen, Courteney Cox, Chevy Chase, Kate Ma...   \n",
      "8806  Vicky Kaushal, Sarah-Jane Dias, Raaghav Chanan...   \n",
      "\n",
      "                                            country          date_added  \\\n",
      "8797  United States, France, South Korea, Indonesia  September 13, 2018   \n",
      "8798                                          India   December 31, 2019   \n",
      "8799                                          India   February 15, 2018   \n",
      "8800                                       Pakistan   December 15, 2016   \n",
      "8801                   United Arab Emirates, Jordan       March 9, 2016   \n",
      "8802                                  United States   November 20, 2019   \n",
      "8803                                            NaN        July 1, 2019   \n",
      "8804                                  United States    November 1, 2019   \n",
      "8805                                  United States    January 11, 2020   \n",
      "8806                                          India       March 2, 2019   \n",
      "\n",
      "      release_year rating   duration  \\\n",
      "8797          2016  TV-Y7  3 Seasons   \n",
      "8798          2014  TV-MA    131 min   \n",
      "8799          2009  TV-14    120 min   \n",
      "8800          2012  TV-PG   1 Season   \n",
      "8801          2015  TV-MA     96 min   \n",
      "8802          2007      R    158 min   \n",
      "8803          2018  TV-Y7  2 Seasons   \n",
      "8804          2009      R     88 min   \n",
      "8805          2006     PG     88 min   \n",
      "8806          2015  TV-14    111 min   \n",
      "\n",
      "                                              listed_in  \\\n",
      "8797                                           Kids' TV   \n",
      "8798             Comedies, Dramas, International Movies   \n",
      "8799                       Dramas, International Movies   \n",
      "8800  International TV Shows, Romantic TV Shows, TV ...   \n",
      "8801            Dramas, International Movies, Thrillers   \n",
      "8802                     Cult Movies, Dramas, Thrillers   \n",
      "8803             Kids' TV, Korean TV Shows, TV Comedies   \n",
      "8804                            Comedies, Horror Movies   \n",
      "8805                 Children & Family Movies, Comedies   \n",
      "8806     Dramas, International Movies, Music & Musicals   \n",
      "\n",
      "                                            description  \n",
      "8797  Teen surfer Zak Storm is mysteriously transpor...  \n",
      "8798  A philandering small-town mechanic's political...  \n",
      "8799  A change in the leadership of a political part...  \n",
      "8800  Strong-willed, middle-class Kashaf and carefre...  \n",
      "8801  Recovering alcoholic Talal wakes up inside a s...  \n",
      "8802  A political cartoonist, a crime reporter and a...  \n",
      "8803  While living alone in a spooky town, a young g...  \n",
      "8804  Looking to survive in a world taken over by zo...  \n",
      "8805  Dragged from civilian life, a former superhero...  \n",
      "8806  A scrappy but poor boy worms his way into a ty...  \n"
     ]
    }
   ],
   "execution_count": 7
  },
  {
   "metadata": {
    "ExecuteTime": {
     "end_time": "2025-09-28T12:14:21.775933Z",
     "start_time": "2025-09-28T12:14:21.765279Z"
    }
   },
   "cell_type": "code",
   "source": [
    "# 6. Unique Values: How many unique categories are there in columns like type, rating, and country?\n",
    "\n",
    "# print(f\"type = {df['type'].unique().size}\")\n",
    "# print(f\"rating = {df['rating'].unique().size}\")\n",
    "# print(f\"country = {df['country'].unique().size}\")\n",
    "\n",
    "# Best Way\n",
    "print(df[['type','rating','country']].nunique())"
   ],
   "id": "4288a6b999c8000",
   "outputs": [
    {
     "name": "stdout",
     "output_type": "stream",
     "text": [
      "type         2\n",
      "rating      17\n",
      "country    748\n",
      "dtype: int64\n"
     ]
    }
   ],
   "execution_count": 8
  },
  {
   "metadata": {
    "ExecuteTime": {
     "end_time": "2025-09-28T12:14:21.845055Z",
     "start_time": "2025-09-28T12:14:21.828232Z"
    }
   },
   "cell_type": "code",
   "source": [
    "# 7. Value Counts: What are the counts of each category within the type column (i.e., how many Movies vs. TV Shows)? What are the top 10 most frequent values in country, director, and listed_in (genre)?\n",
    "\n",
    "# print(f\"count for each = {df.groupby('type')['show_id'].count()}\")\n",
    "# print(f\"country = {df.groupby('country')['show_id'].count().sort_values(ascending=False).head(10)}\")\n",
    "# print(f\"director = {df.groupby('director')['show_id'].count().sort_values(ascending=False).head(10)}\")\n",
    "# print(f'listed in = {df.groupby('listed_in')['show_id'].count().sort_values(ascending=False).head(10)}')\n",
    "\n",
    "# best way\n",
    "print(\"--- Type Counts ---\")\n",
    "print(df['type'].value_counts())\n",
    "print(\"\\n\" + \"=\"*30 + \"\\n\") # For clean separation\n",
    "\n",
    "print(\"--- Top 10 Countries ---\")\n",
    "print(df['country'].value_counts().head(10))\n",
    "print(\"\\n\" + \"=\"*30 + \"\\n\")\n",
    "\n",
    "print(\"--- Top 10 Directors ---\")\n",
    "print(df['director'].value_counts().head(10))\n",
    "print(\"\\n\" + \"=\"*30 + \"\\n\")\n",
    "\n",
    "print(\"--- Top 10 Genres (listed_in) ---\")\n",
    "print(df['listed_in'].value_counts().head(10))"
   ],
   "id": "8b812cd485ad28b2",
   "outputs": [
    {
     "name": "stdout",
     "output_type": "stream",
     "text": [
      "--- Type Counts ---\n",
      "type\n",
      "Movie      6131\n",
      "TV Show    2676\n",
      "Name: count, dtype: int64\n",
      "\n",
      "==============================\n",
      "\n",
      "--- Top 10 Countries ---\n",
      "country\n",
      "United States     2818\n",
      "India              972\n",
      "United Kingdom     419\n",
      "Japan              245\n",
      "South Korea        199\n",
      "Canada             181\n",
      "Spain              145\n",
      "France             124\n",
      "Mexico             110\n",
      "Egypt              106\n",
      "Name: count, dtype: int64\n",
      "\n",
      "==============================\n",
      "\n",
      "--- Top 10 Directors ---\n",
      "director\n",
      "Rajiv Chilaka              19\n",
      "RaÃºl Campos, Jan Suter    18\n",
      "Suhas Kadav                16\n",
      "Marcus Raboy               16\n",
      "Jay Karas                  14\n",
      "Cathy Garcia-Molina        13\n",
      "Martin Scorsese            12\n",
      "Youssef Chahine            12\n",
      "Jay Chapman                12\n",
      "Steven Spielberg           11\n",
      "Name: count, dtype: int64\n",
      "\n",
      "==============================\n",
      "\n",
      "--- Top 10 Genres (listed_in) ---\n",
      "listed_in\n",
      "Dramas, International Movies                        362\n",
      "Documentaries                                       359\n",
      "Stand-Up Comedy                                     334\n",
      "Comedies, Dramas, International Movies              274\n",
      "Dramas, Independent Movies, International Movies    252\n",
      "Kids' TV                                            220\n",
      "Children & Family Movies                            215\n",
      "Children & Family Movies, Comedies                  201\n",
      "Documentaries, International Movies                 186\n",
      "Dramas, International Movies, Romantic Movies       180\n",
      "Name: count, dtype: int64\n"
     ]
    }
   ],
   "execution_count": 9
  },
  {
   "metadata": {
    "ExecuteTime": {
     "end_time": "2025-09-28T12:14:21.896262Z",
     "start_time": "2025-09-28T12:14:21.879373Z"
    }
   },
   "cell_type": "code",
   "source": [
    "# 8. Numerical Summary: What are the basic descriptive statistics (mean, median, standard deviation, min, max) for numerical columns like release_year?\n",
    "print(df.describe())"
   ],
   "id": "40b533c4f27ee04d",
   "outputs": [
    {
     "name": "stdout",
     "output_type": "stream",
     "text": [
      "       release_year\n",
      "count   8807.000000\n",
      "mean    2014.180198\n",
      "std        8.819312\n",
      "min     1925.000000\n",
      "25%     2013.000000\n",
      "50%     2017.000000\n",
      "75%     2019.000000\n",
      "max     2021.000000\n"
     ]
    }
   ],
   "execution_count": 10
  },
  {
   "metadata": {
    "ExecuteTime": {
     "end_time": "2025-09-28T12:14:21.969714Z",
     "start_time": "2025-09-28T12:14:21.945285Z"
    }
   },
   "cell_type": "code",
   "source": [
    "# 9. Timespan of Data: What is the earliest and latest release_year in the dataset? What about the date_added?\n",
    "# print(df['release_year'].max())\n",
    "# print(df['release_year'].min())\n",
    "df['date_added']=pd.to_datetime(df['date_added'].str.strip())\n",
    "print(df['date_added'].max())\n",
    "print(df['date_added'].min())"
   ],
   "id": "cad34a1ed2c42fea",
   "outputs": [
    {
     "name": "stdout",
     "output_type": "stream",
     "text": [
      "2021-09-25 00:00:00\n",
      "2008-01-01 00:00:00\n"
     ]
    }
   ],
   "execution_count": 11
  },
  {
   "metadata": {},
   "cell_type": "markdown",
   "source": [
    "\n",
    "## Step 2: Clean the Data (Cleaning & Preprocessing)\n",
    "    (1) How would you handle the missing values in the date_added column? Would you remove them or fill them with a\n",
    "     default value?\n",
    "    (2) The rating column also has missing values. Fill them with the most frequently occurring rating (the mode).\n",
    "    (3)The cast and director columns also have null values. For now, you can leave them, but think about how you might\n",
    "     handle them.\n",
    "    (4) Handling Missing Directors/Cast/Country: Decide on a strategy for the missing values in director, cast, and country. Should you fill them\n",
    "     with a placeholder like \"Unknown\" or drop the rows? Justify your choice.\n",
    "    (5) Fixing Missing Ratings: The rating column has missing values. How would you fill them? A good approach is to use the mode (the most\n",
    "     frequently occurring rating).\n",
    "    (6) Managing Missing Dates: Address the missing values in date_added. Is it better to drop these few rows or fill them with the release_year?\n",
    "    (7) Data Type Conversion: The date_added column is currently a string (object). Convert it to a proper datetime format so you can perform\n",
    "    time-based analysis.\n",
    "    (8) Cleaning the Duration Column: The duration column contains mixed data (e.g., \"100 min\" for movies, \"2 Seasons\" for TV shows). Separate the\n",
    "     dataset into two: one for Movies and one for TV Shows. For the Movie dataset, convert the duration column to a numerical type (integer) by\n",
    "      removing \"min\". Do the same for the TV Show dataset, converting seasons to an integer.\n",
    "    (9) Handling Duplicates: Check if there are any duplicate rows in the dataset and remove them if they exist.\n",
    "    (10) Standardizing Genres: The listed_in column often contains multiple genres in one string (e.g., \"Dramas, International Movies\"). Should you\n",
    "     split these into a list or just use the primary genre for analysis?"
   ],
   "id": "4a0a14453904dee2"
  },
  {
   "metadata": {
    "ExecuteTime": {
     "end_time": "2025-09-28T12:14:22.000336Z",
     "start_time": "2025-09-28T12:14:21.991067Z"
    }
   },
   "cell_type": "code",
   "source": [
    "# 1. How would you handle the missing values in the date_added column? Would you remove them or fill them with a default value?\n",
    "df.dropna(subset=['date_added'],inplace=True)"
   ],
   "id": "a11d6c36a526f347",
   "outputs": [],
   "execution_count": 12
  },
  {
   "metadata": {
    "ExecuteTime": {
     "end_time": "2025-09-28T12:14:22.035366Z",
     "start_time": "2025-09-28T12:14:22.028782Z"
    }
   },
   "cell_type": "code",
   "source": [
    "# 2. The rating column also has missing values. Fill them with the most frequently occurring rating (the mode).\n",
    "df['rating'].fillna(df['rating'].mode()[0],inplace=True)"
   ],
   "id": "9552a7a5aab77b89",
   "outputs": [
    {
     "name": "stderr",
     "output_type": "stream",
     "text": [
      "C:\\Users\\ansh\\AppData\\Local\\Temp\\ipykernel_21464\\3430456595.py:2: FutureWarning: A value is trying to be set on a copy of a DataFrame or Series through chained assignment using an inplace method.\n",
      "The behavior will change in pandas 3.0. This inplace method will never work because the intermediate object on which we are setting values always behaves as a copy.\n",
      "\n",
      "For example, when doing 'df[col].method(value, inplace=True)', try using 'df.method({col: value}, inplace=True)' or df[col] = df[col].method(value) instead, to perform the operation inplace on the original object.\n",
      "\n",
      "\n",
      "  df['rating'].fillna(df['rating'].mode()[0],inplace=True)\n"
     ]
    }
   ],
   "execution_count": 13
  },
  {
   "metadata": {
    "ExecuteTime": {
     "end_time": "2025-09-28T12:14:22.089032Z",
     "start_time": "2025-09-28T12:14:22.069390Z"
    }
   },
   "cell_type": "code",
   "source": [
    "# 3. The cast and director columns also have null values. For now, you can leave them, but think about how you might handle them.\n",
    "df.info()\n",
    "'''\n",
    "Strategy 1: Fill with a Placeholder (Jagya Purvi)\n",
    "    - This is the most common and safest approach for text columns like cast and director.\n",
    "    - What to do: Instead of leaving the cells blank, we can fill them with a placeholder word like \"Unknown\", \"Not Available\", or \"No Director\".\n",
    "    - Why it's a good idea:\n",
    "        - No Data Loss: We don't have to delete the entire row. We can still use the information from other columns like release_year, country, and rating for our analysis.\n",
    "        - Clarity: It clearly tells us that the information was missing, not that the movie had no director or cast.\n",
    "        - Easy Analysis: We can later easily count how many movies have an \"Unknown\" director or filter them out if needed.\n",
    "\n",
    "Strategy 2: Do Nothing (Kaai Na Karvu)\n",
    "    - Sometimes, the best action is no action.\n",
    "    - What to do: Leave the missing values as they are (NaN).\n",
    "    - Why it might work:\n",
    "        - Specific Analysis: If you are only analyzing trends by country or release year, the director and cast columns don't matter. Pandas is smart enough to ignore missing values during many calculations (like counting).\n",
    "        - Honesty: It keeps the data in its original, raw state.\n",
    "    - The downside: This can cause errors or unexpected results in certain analyses, especially if you try to search for a specific director's name.\n",
    "\n",
    "Strategy 3: Deleting Rows (Rows Kadhi Nakhvi)\n",
    "    - This is a more aggressive approach and generally not recommended for these columns.\n",
    "    - What to do: Delete any row where the director or cast information is missing.\n",
    "    - Why it's risky:\n",
    "        - Major Data Loss: The director column has thousands of missing values. Deleting all those rows would mean throwing away a large portion of our dataset (almost 30%). This would make our overall analysis much less reliable.\n",
    "'''"
   ],
   "id": "d87ebeb76da492b",
   "outputs": [
    {
     "name": "stdout",
     "output_type": "stream",
     "text": [
      "<class 'pandas.core.frame.DataFrame'>\n",
      "Index: 8797 entries, 0 to 8806\n",
      "Data columns (total 12 columns):\n",
      " #   Column        Non-Null Count  Dtype         \n",
      "---  ------        --------------  -----         \n",
      " 0   show_id       8797 non-null   object        \n",
      " 1   type          8797 non-null   object        \n",
      " 2   title         8797 non-null   object        \n",
      " 3   director      6173 non-null   object        \n",
      " 4   cast          7972 non-null   object        \n",
      " 5   country       7967 non-null   object        \n",
      " 6   date_added    8797 non-null   datetime64[ns]\n",
      " 7   release_year  8797 non-null   int64         \n",
      " 8   rating        8797 non-null   object        \n",
      " 9   duration      8794 non-null   object        \n",
      " 10  listed_in     8797 non-null   object        \n",
      " 11  description   8797 non-null   object        \n",
      "dtypes: datetime64[ns](1), int64(1), object(10)\n",
      "memory usage: 893.4+ KB\n"
     ]
    },
    {
     "data": {
      "text/plain": [
       "'\\nStrategy 1: Fill with a Placeholder (Jagya Purvi)\\n    - This is the most common and safest approach for text columns like cast and director.\\n    - What to do: Instead of leaving the cells blank, we can fill them with a placeholder word like \"Unknown\", \"Not Available\", or \"No Director\".\\n    - Why it\\'s a good idea:\\n        - No Data Loss: We don\\'t have to delete the entire row. We can still use the information from other columns like release_year, country, and rating for our analysis.\\n        - Clarity: It clearly tells us that the information was missing, not that the movie had no director or cast.\\n        - Easy Analysis: We can later easily count how many movies have an \"Unknown\" director or filter them out if needed.\\n\\nStrategy 2: Do Nothing (Kaai Na Karvu)\\n    - Sometimes, the best action is no action.\\n    - What to do: Leave the missing values as they are (NaN).\\n    - Why it might work:\\n        - Specific Analysis: If you are only analyzing trends by country or release year, the director and cast columns don\\'t matter. Pandas is smart enough to ignore missing values during many calculations (like counting).\\n        - Honesty: It keeps the data in its original, raw state.\\n    - The downside: This can cause errors or unexpected results in certain analyses, especially if you try to search for a specific director\\'s name.\\n\\nStrategy 3: Deleting Rows (Rows Kadhi Nakhvi)\\n    - This is a more aggressive approach and generally not recommended for these columns.\\n    - What to do: Delete any row where the director or cast information is missing.\\n    - Why it\\'s risky:\\n        - Major Data Loss: The director column has thousands of missing values. Deleting all those rows would mean throwing away a large portion of our dataset (almost 30%). This would make our overall analysis much less reliable.\\n'"
      ]
     },
     "execution_count": 14,
     "metadata": {},
     "output_type": "execute_result"
    }
   ],
   "execution_count": 14
  },
  {
   "metadata": {
    "ExecuteTime": {
     "end_time": "2025-09-28T12:14:22.155065Z",
     "start_time": "2025-09-28T12:14:22.147208Z"
    }
   },
   "cell_type": "code",
   "source": [
    "# 4. Handling Missing Directors/Cast/Country: Decide on a strategy for the missing values in director, cast, and country. Should you fill them with a placeholder like \"Unknown\" or drop the rows? Justify your choice.\n",
    "df['director'].fillna('Unknown', inplace=True)\n",
    "df['cast'].fillna('Unknown', inplace=True)"
   ],
   "id": "8b7939a1662b2b8c",
   "outputs": [
    {
     "name": "stderr",
     "output_type": "stream",
     "text": [
      "C:\\Users\\ansh\\AppData\\Local\\Temp\\ipykernel_21464\\1844306670.py:2: FutureWarning: A value is trying to be set on a copy of a DataFrame or Series through chained assignment using an inplace method.\n",
      "The behavior will change in pandas 3.0. This inplace method will never work because the intermediate object on which we are setting values always behaves as a copy.\n",
      "\n",
      "For example, when doing 'df[col].method(value, inplace=True)', try using 'df.method({col: value}, inplace=True)' or df[col] = df[col].method(value) instead, to perform the operation inplace on the original object.\n",
      "\n",
      "\n",
      "  df['director'].fillna('Unknown', inplace=True)\n",
      "C:\\Users\\ansh\\AppData\\Local\\Temp\\ipykernel_21464\\1844306670.py:3: FutureWarning: A value is trying to be set on a copy of a DataFrame or Series through chained assignment using an inplace method.\n",
      "The behavior will change in pandas 3.0. This inplace method will never work because the intermediate object on which we are setting values always behaves as a copy.\n",
      "\n",
      "For example, when doing 'df[col].method(value, inplace=True)', try using 'df.method({col: value}, inplace=True)' or df[col] = df[col].method(value) instead, to perform the operation inplace on the original object.\n",
      "\n",
      "\n",
      "  df['cast'].fillna('Unknown', inplace=True)\n"
     ]
    }
   ],
   "execution_count": 15
  },
  {
   "metadata": {
    "ExecuteTime": {
     "end_time": "2025-09-28T12:14:22.187188Z",
     "start_time": "2025-09-28T12:14:22.183495Z"
    }
   },
   "cell_type": "code",
   "source": [
    "# 5. Fixing Missing Ratings: The rating column has missing values. How would you fill them? A good approach is to use the mode (the most frequently occurring rating).\n",
    "# Already done in step 2"
   ],
   "id": "ce26c8cf4bd8977b",
   "outputs": [],
   "execution_count": 16
  },
  {
   "metadata": {
    "ExecuteTime": {
     "end_time": "2025-09-28T12:14:22.227929Z",
     "start_time": "2025-09-28T12:14:22.222952Z"
    }
   },
   "cell_type": "code",
   "source": [
    "# 6. Managing Missing Dates: Address the missing values in date_added. Is it better to drop these few rows or fill them with the release_year?\n",
    "# Already done in step 1"
   ],
   "id": "1d59c722367cf574",
   "outputs": [],
   "execution_count": 17
  },
  {
   "metadata": {
    "ExecuteTime": {
     "end_time": "2025-09-28T12:14:22.244298Z",
     "start_time": "2025-09-28T12:14:22.241090Z"
    }
   },
   "cell_type": "code",
   "source": [
    "# 7. Data Type Conversion: The date_added column is currently a string (object). Convert it to a proper datetime format so you can perform time-based analysis.\n",
    "# Already done in exploration step 9"
   ],
   "id": "316494afd2d653a5",
   "outputs": [],
   "execution_count": 18
  },
  {
   "metadata": {
    "ExecuteTime": {
     "end_time": "2025-09-28T12:14:47.634868Z",
     "start_time": "2025-09-28T12:14:47.606366Z"
    }
   },
   "cell_type": "code",
   "source": [
    "# 8. Cleaning the Duration Column: The duration column contains mixed data (e.g., \"100 min\" for movies, \"2 Seasons\" for TV shows). Separate the dataset into two: one for Movies and one for TV Shows. For the Movie dataset, convert the duration column to a numerical type (integer) by removing \"min\". Do the same for the TV Show dataset, converting seasons to an integer.\n",
    "# df['duration']=df['duration'].str.replace('min','',regex=False)\n",
    "# mask=df['type']=='Movie'\n",
    "# df['movie_duration']=pd.to_numeric(df.loc[mask,'duration'])\n",
    "#\n",
    "# df['duration']=df['duration'].str.replace('s','',regex=False)\n",
    "# df['duration']=df['duration'].str.replace('Seaon','',regex=False)\n",
    "# mask1=df['type']=='TV Show'\n",
    "# df['tv_show_duration']=pd.to_numeric(df.loc[mask1,'duration'])"
   ],
   "id": "8be9d1ef85cb2872",
   "outputs": [],
   "execution_count": 58
  },
  {
   "metadata": {
    "ExecuteTime": {
     "end_time": "2025-09-28T12:14:22.333616Z",
     "start_time": "2025-09-28T12:14:22.302619Z"
    }
   },
   "cell_type": "code",
   "source": [
    "# 9. Handling Duplicates: Check if there are any duplicate rows in the dataset and remove them if they exist.\n",
    "df[df.duplicated()] # not available"
   ],
   "id": "f096a867d325e7c1",
   "outputs": [
    {
     "data": {
      "text/plain": [
       "Empty DataFrame\n",
       "Columns: [show_id, type, title, director, cast, country, date_added, release_year, rating, duration, listed_in, description]\n",
       "Index: []"
      ],
      "text/html": [
       "<div>\n",
       "<style scoped>\n",
       "    .dataframe tbody tr th:only-of-type {\n",
       "        vertical-align: middle;\n",
       "    }\n",
       "\n",
       "    .dataframe tbody tr th {\n",
       "        vertical-align: top;\n",
       "    }\n",
       "\n",
       "    .dataframe thead th {\n",
       "        text-align: right;\n",
       "    }\n",
       "</style>\n",
       "<table border=\"1\" class=\"dataframe\">\n",
       "  <thead>\n",
       "    <tr style=\"text-align: right;\">\n",
       "      <th></th>\n",
       "      <th>show_id</th>\n",
       "      <th>type</th>\n",
       "      <th>title</th>\n",
       "      <th>director</th>\n",
       "      <th>cast</th>\n",
       "      <th>country</th>\n",
       "      <th>date_added</th>\n",
       "      <th>release_year</th>\n",
       "      <th>rating</th>\n",
       "      <th>duration</th>\n",
       "      <th>listed_in</th>\n",
       "      <th>description</th>\n",
       "    </tr>\n",
       "  </thead>\n",
       "  <tbody>\n",
       "  </tbody>\n",
       "</table>\n",
       "</div>"
      ]
     },
     "execution_count": 20,
     "metadata": {},
     "output_type": "execute_result"
    }
   ],
   "execution_count": 20
  },
  {
   "metadata": {
    "ExecuteTime": {
     "end_time": "2025-09-28T12:14:22.375275Z",
     "start_time": "2025-09-28T12:14:22.364906Z"
    }
   },
   "cell_type": "code",
   "source": [
    "# 10. Standardizing Genres: The listed_in column often contains multiple genres in one string (e.g., \"Dramas, International Movies\"). Should you split these into a list or just use the primary genre for analysis?\n",
    "df['listed_in']=df['listed_in'].str.split(',')"
   ],
   "id": "b35b177d0a464918",
   "outputs": [],
   "execution_count": 21
  },
  {
   "metadata": {},
   "cell_type": "markdown",
   "source": [
    "## Step 3: Gain Insights from Data (Analysis & Transformation)\n",
    "    (1) In which year was the most content released? Find the top 5 years using the release_year column.\n",
    "    (2) In which month was the most content added? (Use the date_added column).\n",
    "    (3) Who are the top 5 directors with the most movies?\n",
    "    (4) Who are the top 10 actors who have appeared in the most movies/shows?\n",
    "    (5) Create a list of all Movies that were produced in India (country = 'India').\n",
    "    (6) Feature Engineering (Time): From the date_added (datetime) column, create new columns for added_year, added_month,\n",
    "     and added_day_of_week.\n",
    "    (7) Old vs. New Content: What is the average time lag between the release_year and the date_added? This tells you how\n",
    "     old content generally is when it arrives on Netflix.\n",
    "    (8) Content by Decade: Create a new column called release_decade (e.g., 1990s, 2000s, 2010s). Which decade has produced\n",
    "     the most content?\n",
    "    (9) Longest Movies: After cleaning the duration column, find the top 10 longest movies on Netflix.\n",
    "    (10) Most Seasons in TV Shows: Find the top 10 TV shows with the most seasons.\n",
    "    (11) Director-Genre Specialization: Find the top director for the \"Dramas\" genre. Who is the top director for \"Comedies\"?\n",
    "    (12) Actor-Director Collaboration: Which actor and director pair has collaborated the most?\n",
    "    (13) Country-Specific Analysis: What is the most common genre for content produced in 'India'? What about in the 'United\n",
    "     States'?\n",
    "    (14) Content Targeting: Which rating is most common for Movies? Is it different for TV Shows?\n",
    "    (15) Text Analysis: Analyze the description column. What are the most common words found in the descriptions of 'Horror'\n",
    "     Movies'?"
   ],
   "id": "fca988aee7b8c0db"
  },
  {
   "metadata": {
    "ExecuteTime": {
     "end_time": "2025-09-28T12:20:46.496589Z",
     "start_time": "2025-09-28T12:20:46.489372Z"
    }
   },
   "cell_type": "code",
   "source": [
    "# 1. In which year was the most content released? Find the top 5 years using the release_year column.\n",
    "print(f'{df['release_year'].value_counts().idxmax()} year was the most content released')\n",
    "print(f'top 5 years = \\n{df['release_year'].value_counts().head(5)}')"
   ],
   "id": "e6d0011dc4038e08",
   "outputs": [
    {
     "name": "stdout",
     "output_type": "stream",
     "text": [
      "2018 year was the most content released\n",
      "top 5 years = \n",
      "release_year\n",
      "2018    1146\n",
      "2017    1032\n",
      "2019    1030\n",
      "2020     953\n",
      "2016     901\n",
      "Name: count, dtype: int64\n"
     ]
    }
   ],
   "execution_count": 75
  },
  {
   "metadata": {
    "ExecuteTime": {
     "end_time": "2025-09-28T12:24:31.111786Z",
     "start_time": "2025-09-28T12:24:31.103383Z"
    }
   },
   "cell_type": "code",
   "source": [
    "# 2. In which month was the most content added? (Use the date_added column).\n",
    "print(f'{df['date_added'].dt.month_name().value_counts().idxmax()} month was the most content added')"
   ],
   "id": "f92ab31e5101efec",
   "outputs": [
    {
     "name": "stdout",
     "output_type": "stream",
     "text": [
      "July month was the most content added\n"
     ]
    }
   ],
   "execution_count": 82
  },
  {
   "metadata": {
    "ExecuteTime": {
     "end_time": "2025-09-28T12:37:09.203308Z",
     "start_time": "2025-09-28T12:37:09.184305Z"
    }
   },
   "cell_type": "code",
   "source": [
    "# 3. Who are the top 5 directors with the most movies?\n",
    "masked=(df['type']=='Movie') & (df['director']!='Unknown')\n",
    "print(f'top 5 directors with the most movies = \\n{df[masked]['director'].value_counts().head()}')\n",
    "\n",
    "# another way\n",
    "# print(f'top 5 directors with the most movies = \\n{df[df['type']=='Movie']['director'].value_counts().drop('Unknown').head()}')"
   ],
   "id": "95e43ad614c190fd",
   "outputs": [
    {
     "data": {
      "text/plain": [
       "director\n",
       "Rajiv Chilaka              19\n",
       "RaÃºl Campos, Jan Suter    18\n",
       "Suhas Kadav                16\n",
       "Marcus Raboy               15\n",
       "Jay Karas                  14\n",
       "Name: count, dtype: int64"
      ]
     },
     "execution_count": 95,
     "metadata": {},
     "output_type": "execute_result"
    }
   ],
   "execution_count": 95
  },
  {
   "metadata": {
    "ExecuteTime": {
     "end_time": "2025-09-28T12:51:13.103621Z",
     "start_time": "2025-09-28T12:51:13.007922Z"
    }
   },
   "cell_type": "code",
   "source": [
    "# 4. Who are the top 10 actors who have appeared in the most movies/shows?\n",
    "# df['cast']=df['cast'].str.split(',')\n",
    "# df['cast'] = df['cast'].apply(lambda cast_list: [actor.strip() for actor in cast_list])\n",
    "print(f'the top 10 actors who have appeared in the most movies/shows = \\n{df.explode('cast')['cast'].value_counts().drop('Unknown').head(10)}')\n",
    "'''\n",
    ".explode() Method Shu Chhe?\n",
    ".explode() method e darek list na andar na badha j items ne alag-alag row ma gotthvi de chhe. E list ne 'fodi' ne tena darek tukda ne ek navi, alag line aapi de chhe.\n",
    "\n",
    "Example\n",
    "Mani lo ke tamaro data aavo chhe (explode karya pehla):\n",
    "\n",
    "  show_id                             listed_in\n",
    "0      s1             ['Dramas', 'International']\n",
    "1      s2                        ['Comedies']\n",
    "2      s3  ['Action & Adventure', 'Comedies']\n",
    "Have, jyare aapde .explode('listed_in') vaprisu, to data aavo thai jashe (explode karya pachhi):\n",
    "\n",
    "  show_id             listed_in\n",
    "0      s1                Dramas\n",
    "0      s1         International\n",
    "1      s2              Comedies\n",
    "2      s3  Action & Adventure\n",
    "2      s3              Comedies\n",
    "'''"
   ],
   "id": "2442a83bd34855d5",
   "outputs": [
    {
     "name": "stdout",
     "output_type": "stream",
     "text": [
      "the top 10 actors who have appeared in the most movies/shows = \n",
      "cast\n",
      "Anupam Kher         43\n",
      "Shah Rukh Khan      35\n",
      "Julie Tejwani       33\n",
      "Naseeruddin Shah    32\n",
      "Takahiro Sakurai    32\n",
      "Rupa Bhimani        31\n",
      "Akshay Kumar        30\n",
      "Om Puri             30\n",
      "Yuki Kaji           29\n",
      "Paresh Rawal        28\n",
      "Name: count, dtype: int64\n"
     ]
    },
    {
     "data": {
      "text/plain": [
       "\"\\n.explode() Method Shu Chhe?\\n.explode() method e darek list na andar na badha j items ne alag-alag row ma gotthvi de chhe. E list ne 'fodi' ne tena darek tukda ne ek navi, alag line aapi de chhe.\\n\\nExample\\nMani lo ke tamaro data aavo chhe (explode karya pehla):\\n\\n  show_id                             listed_in\\n0      s1             ['Dramas', 'International']\\n1      s2                        ['Comedies']\\n2      s3  ['Action & Adventure', 'Comedies']\\nHave, jyare aapde .explode('listed_in') vaprisu, to data aavo thai jashe (explode karya pachhi):\\n\\n  show_id             listed_in\\n0      s1                Dramas\\n0      s1         International\\n1      s2              Comedies\\n2      s3  Action & Adventure\\n2      s3              Comedies\\n\""
      ]
     },
     "execution_count": 107,
     "metadata": {},
     "output_type": "execute_result"
    }
   ],
   "execution_count": 107
  },
  {
   "metadata": {
    "ExecuteTime": {
     "end_time": "2025-09-28T14:06:25.518623Z",
     "start_time": "2025-09-28T14:06:25.495373Z"
    }
   },
   "cell_type": "code",
   "source": [
    "# 5. Create a list of all Movies that were produced in India (country = 'India').\n",
    "mask=(df['country']=='India')&(df['type']=='Movie')\n",
    "print(df[mask])"
   ],
   "id": "cb14f51e5e3e224d",
   "outputs": [
    {
     "data": {
      "text/plain": [
       "24                      Jeans\n",
       "105          Angamaly Diaries\n",
       "114                    Anjaam\n",
       "116                    Dhanak\n",
       "118                   Gurgaon\n",
       "                ...          \n",
       "8772    Yamla Pagla Deewana 2\n",
       "8773      Yanda Kartavya Aahe\n",
       "8798                 Zed Plus\n",
       "8799                    Zenda\n",
       "8806                   Zubaan\n",
       "Name: title, Length: 893, dtype: object"
      ]
     },
     "execution_count": 111,
     "metadata": {},
     "output_type": "execute_result"
    }
   ],
   "execution_count": 111
  },
  {
   "metadata": {
    "ExecuteTime": {
     "end_time": "2025-09-28T14:13:45.595450Z",
     "start_time": "2025-09-28T14:13:45.573279Z"
    }
   },
   "cell_type": "code",
   "source": [
    "# 6. Feature Engineering (Time): From the date_added (datetime) column, create new columns for added_year, added_month, and added_day_of_week.\n",
    "df['added_day_of_week']=df['date_added'].dt.day_of_week\n",
    "df['added_month']=df['date_added'].dt.month\n",
    "df['added_year']=df['date_added'].dt.year"
   ],
   "id": "ce770228db9e3899",
   "outputs": [],
   "execution_count": 113
  },
  {
   "metadata": {
    "ExecuteTime": {
     "end_time": "2025-09-28T12:14:22.539298Z",
     "start_time": "2025-09-28T12:14:22.535534Z"
    }
   },
   "cell_type": "code",
   "source": "# 7. Old vs. New Content: What is the average time lag between the release_year and the date_added? This tells you how old content generally is when it arrives on Netflix.\n",
   "id": "91fad39839d6b39",
   "outputs": [],
   "execution_count": 28
  },
  {
   "metadata": {
    "ExecuteTime": {
     "end_time": "2025-09-28T12:14:22.555608Z",
     "start_time": "2025-09-28T12:14:22.551659Z"
    }
   },
   "cell_type": "code",
   "source": "# 8. Content by Decade: Create a new column called release_decade (e.g., 1990s, 2000s, 2010s). Which decade has produced the most content?",
   "id": "c87ecb18ae6f64b7",
   "outputs": [],
   "execution_count": 29
  },
  {
   "metadata": {
    "ExecuteTime": {
     "end_time": "2025-09-28T14:34:18.300309Z",
     "start_time": "2025-09-28T14:34:18.290352Z"
    }
   },
   "cell_type": "code",
   "source": [
    "# 9. Longest Movies: After cleaning the duration column, find the top 10 longest movies on Netflix.\n",
    "\n",
    "# print(f'the top 10 longest movies on Netflix = \\n{df.loc[df['movie_duration'].sort_values(ascending=False).index]['title'].head(10)}')\n",
    "\n",
    "# best way\n",
    "print(f'the top 10 longest movies on Netflix = \\n{df.sort_values(by='movie_duration', ascending=False)['title'].head(10)}')"
   ],
   "id": "cb2c347211bdad0e",
   "outputs": [
    {
     "name": "stdout",
     "output_type": "stream",
     "text": [
      "the top 10 longest movies on Netflix = \n",
      "4253     Black Mirror: Bandersnatch\n",
      "717     Headspace: Unwind Your Mind\n",
      "2491         The School of Mischief\n",
      "2487                 No Longer kids\n",
      "2484             Lock Your Girls In\n",
      "2488                Raya and Sakina\n",
      "166     Once Upon a Time in America\n",
      "7932                         Sangam\n",
      "1019                         Lagaan\n",
      "4573                   Jodhaa Akbar\n",
      "Name: title, dtype: object\n"
     ]
    }
   ],
   "execution_count": 142
  },
  {
   "metadata": {
    "ExecuteTime": {
     "end_time": "2025-09-28T14:39:09.285855Z",
     "start_time": "2025-09-28T14:39:09.270183Z"
    }
   },
   "cell_type": "code",
   "source": [
    "# 10. Most Seasons in TV Shows: Find the top 10 TV shows with the most seasons.\n",
    "df.sort_values(by='tv_show_duration',ascending=False)[['title','tv_show_duration']].head(10)"
   ],
   "id": "14d8125867c085f4",
   "outputs": [
    {
     "data": {
      "text/plain": [
       "                       title  tv_show_duration\n",
       "548           Grey's Anatomy              17.0\n",
       "2423            Supernatural              15.0\n",
       "4798                    NCIS              15.0\n",
       "4220  COMEDIANS of the world              13.0\n",
       "1354               Heartland              13.0\n",
       "4964       Trailer Park Boys              12.0\n",
       "5412          Criminal Minds              12.0\n",
       "6456                  Cheers              11.0\n",
       "1622           Stargate SG-1              10.0\n",
       "2203        Shameless (U.S.)              10.0"
      ],
      "text/html": [
       "<div>\n",
       "<style scoped>\n",
       "    .dataframe tbody tr th:only-of-type {\n",
       "        vertical-align: middle;\n",
       "    }\n",
       "\n",
       "    .dataframe tbody tr th {\n",
       "        vertical-align: top;\n",
       "    }\n",
       "\n",
       "    .dataframe thead th {\n",
       "        text-align: right;\n",
       "    }\n",
       "</style>\n",
       "<table border=\"1\" class=\"dataframe\">\n",
       "  <thead>\n",
       "    <tr style=\"text-align: right;\">\n",
       "      <th></th>\n",
       "      <th>title</th>\n",
       "      <th>tv_show_duration</th>\n",
       "    </tr>\n",
       "  </thead>\n",
       "  <tbody>\n",
       "    <tr>\n",
       "      <th>548</th>\n",
       "      <td>Grey's Anatomy</td>\n",
       "      <td>17.0</td>\n",
       "    </tr>\n",
       "    <tr>\n",
       "      <th>2423</th>\n",
       "      <td>Supernatural</td>\n",
       "      <td>15.0</td>\n",
       "    </tr>\n",
       "    <tr>\n",
       "      <th>4798</th>\n",
       "      <td>NCIS</td>\n",
       "      <td>15.0</td>\n",
       "    </tr>\n",
       "    <tr>\n",
       "      <th>4220</th>\n",
       "      <td>COMEDIANS of the world</td>\n",
       "      <td>13.0</td>\n",
       "    </tr>\n",
       "    <tr>\n",
       "      <th>1354</th>\n",
       "      <td>Heartland</td>\n",
       "      <td>13.0</td>\n",
       "    </tr>\n",
       "    <tr>\n",
       "      <th>4964</th>\n",
       "      <td>Trailer Park Boys</td>\n",
       "      <td>12.0</td>\n",
       "    </tr>\n",
       "    <tr>\n",
       "      <th>5412</th>\n",
       "      <td>Criminal Minds</td>\n",
       "      <td>12.0</td>\n",
       "    </tr>\n",
       "    <tr>\n",
       "      <th>6456</th>\n",
       "      <td>Cheers</td>\n",
       "      <td>11.0</td>\n",
       "    </tr>\n",
       "    <tr>\n",
       "      <th>1622</th>\n",
       "      <td>Stargate SG-1</td>\n",
       "      <td>10.0</td>\n",
       "    </tr>\n",
       "    <tr>\n",
       "      <th>2203</th>\n",
       "      <td>Shameless (U.S.)</td>\n",
       "      <td>10.0</td>\n",
       "    </tr>\n",
       "  </tbody>\n",
       "</table>\n",
       "</div>"
      ]
     },
     "execution_count": 145,
     "metadata": {},
     "output_type": "execute_result"
    }
   ],
   "execution_count": 145
  },
  {
   "metadata": {
    "ExecuteTime": {
     "end_time": "2025-09-28T15:07:16.360054Z",
     "start_time": "2025-09-28T15:07:16.347820Z"
    }
   },
   "cell_type": "code",
   "source": [
    "# 11. Director-Genre Specialization: Find the top director for the \"Dramas\" genre. Who is the top director for \"Comedies\"?\n",
    "# df['listed_in'] = df['listed_in'].apply(lambda cast_list: [actor.strip() for actor in cast_list])"
   ],
   "id": "e590217439073ffa",
   "outputs": [],
   "execution_count": 182
  },
  {
   "metadata": {
    "ExecuteTime": {
     "end_time": "2025-09-28T15:32:54.818491Z",
     "start_time": "2025-09-28T15:32:54.707217Z"
    }
   },
   "cell_type": "code",
   "source": [
    "# 12. Actor-Director Collaboration: Which actor and director pair has collaborated the most?\n",
    "clean_df = df[(df['director'] != 'Unknown') & (df['cast'].apply(lambda x: x != ['Unknown']))]\n",
    "clean_df.explode('cast').groupby(['cast','director'])['show_id'].count().sort_values(ascending=False).head(10)"
   ],
   "id": "186c963031ac4647",
   "outputs": [
    {
     "data": {
      "text/plain": [
       "cast                director         \n",
       "Julie Tejwani       Rajiv Chilaka        17\n",
       "Rajesh Kava         Rajiv Chilaka        17\n",
       "Jigna Bhardwaj      Rajiv Chilaka        17\n",
       "Rupa Bhimani        Rajiv Chilaka        16\n",
       "Vatsal Dubey        Rajiv Chilaka        15\n",
       "Swapnil             Rajiv Chilaka        12\n",
       "Mousam              Rajiv Chilaka        12\n",
       "Saurav Chakraborty  Suhas Kadav           8\n",
       "Koji Tsujitani      Toshiya Shinohara     7\n",
       "Kappei Yamaguchi    Toshiya Shinohara     7\n",
       "Name: show_id, dtype: int64"
      ]
     },
     "execution_count": 215,
     "metadata": {},
     "output_type": "execute_result"
    }
   ],
   "execution_count": 215
  },
  {
   "metadata": {
    "ExecuteTime": {
     "end_time": "2025-09-28T15:45:33.115215Z",
     "start_time": "2025-09-28T15:45:33.075302Z"
    }
   },
   "cell_type": "code",
   "source": [
    "# 13. Country-Specific Analysis: What is the most common genre for content produced in 'India'? What about in the 'United States'?\n",
    "explode_list=df.explode('listed_in')\n",
    "print(f'india = {explode_list[explode_list['country'].str.contains('India', na=False)].groupby('listed_in')['show_id'].count().idxmax()}')\n",
    "print(f'Usa = {explode_list[explode_list['country'].str.contains('United States', na=False)].groupby('listed_in')['show_id'].count().idxmax()}')"
   ],
   "id": "d92927719824c783",
   "outputs": [
    {
     "name": "stdout",
     "output_type": "stream",
     "text": [
      "india = International Movies\n",
      "Usa = Dramas\n"
     ]
    }
   ],
   "execution_count": 228
  },
  {
   "metadata": {
    "ExecuteTime": {
     "end_time": "2025-09-28T15:48:27.742486Z",
     "start_time": "2025-09-28T15:48:27.732920Z"
    }
   },
   "cell_type": "code",
   "source": [
    "# 14. Content Targeting: Which rating is most common for Movies? Is it different for TV Shows?\n",
    "print(f'common rating for movie = {df[df['type']=='Movie']['rating'].value_counts().idxmax()}')\n",
    "print(f'common rating for Tv show = {df[df['type']=='TV Show']['rating'].value_counts().idxmax()}')"
   ],
   "id": "582ab6dfa24a9e30",
   "outputs": [
    {
     "name": "stdout",
     "output_type": "stream",
     "text": [
      "common rating for movie = TV-MA\n",
      "common rating for Tv show = TV-MA\n"
     ]
    }
   ],
   "execution_count": 236
  },
  {
   "metadata": {
    "ExecuteTime": {
     "end_time": "2025-09-28T15:58:58.086809Z",
     "start_time": "2025-09-28T15:58:58.065233Z"
    }
   },
   "cell_type": "code",
   "source": [
    "# 15. Text Analysis: Analyze the description column. What are the most common words found in the descriptions of 'Horror Movies'?\n",
    "\n",
    "# Pehla, 'Horror Movies' na description alag karo\n",
    "horror_desc = explode_list[explode_list['listed_in'] == 'Horror Movies']['description']\n",
    "\n",
    "# Step 1: Text ne saaf karo (lowercase + punctuation kadho)\n",
    "# [^\\w\\s] e badha j punctuation ne kadhi nakhshe\n",
    "cleaned_desc = horror_desc.str.lower().str.replace('[^\\w\\s]', '', regex=True)\n",
    "\n",
    "# Step 2: Shabdo ne alag kari ne explode karo\n",
    "all_words = cleaned_desc.str.split(' ').explode()\n",
    "\n",
    "# Step 3: Faltu shabdo (Stop Words) ni list banavo\n",
    "stop_words = ['a', 'the', 'in', 'is', 'of', 'to', 'and', 'his', 'her', 'their', 'with', 'for', 'an', 'as', 'at', 'by', 'on']\n",
    "\n",
    "# Step 4: Ganatri karo ANE stop words ne kadhi nakho\n",
    "# .isin() method check karshe ke shabd stop_words ni list ma chhe ke nahi\n",
    "word_counts = all_words.value_counts()\n",
    "meaningful_words = word_counts[~word_counts.index.isin(stop_words)]\n",
    "\n",
    "\n",
    "print(\"--- Top 10 Meaningful Words in Horror Movie Descriptions ---\")\n",
    "print(meaningful_words.head(10))"
   ],
   "id": "2f3029a4da7ae788",
   "outputs": [
    {
     "name": "stdout",
     "output_type": "stream",
     "text": [
      "--- Top 10 Meaningful Words in Horror Movie Descriptions ---\n",
      "description\n",
      "when     98\n",
      "that     67\n",
      "after    58\n",
      "from     48\n",
      "into     47\n",
      "young    45\n",
      "but      43\n",
      "home     39\n",
      "they     36\n",
      "new      35\n",
      "Name: count, dtype: int64\n"
     ]
    },
    {
     "name": "stderr",
     "output_type": "stream",
     "text": [
      "<>:8: SyntaxWarning: invalid escape sequence '\\w'\n",
      "<>:8: SyntaxWarning: invalid escape sequence '\\w'\n",
      "C:\\Users\\ansh\\AppData\\Local\\Temp\\ipykernel_21464\\1058794362.py:8: SyntaxWarning: invalid escape sequence '\\w'\n",
      "  cleaned_desc = horror_desc.str.lower().str.replace('[^\\w\\s]', '', regex=True)\n"
     ]
    }
   ],
   "execution_count": 246
  },
  {
   "metadata": {},
   "cell_type": "markdown",
   "source": [
    "## Step 4: Visualize the Data (Plotting) 📊\n",
    "    (1) Create a bar chart to show the count of Movies vs. TV Shows available on Netflix.\n",
    "    (2) Create a histogram to show the distribution of release_year. (e.g., how many titles were released in the\n",
    "     1990s, 2000s, etc.).\n",
    "    (3) Create a bar chart showing the top 10 countries that produce the most content.\n",
    "    (4) What is the proportion of different ratings (e.g., TV-MA, TV-14, R)? You can create a pie chart for this.\n",
    "    (5) Create a line chart that shows the number of titles added each year (release_year). This will give you a trend\n",
    "     of content growth over time.\n",
    "\n",
    "     Comparisons & Rankings (Bar Charts)\n",
    "        (11) Content Type Distribution: Create a bar chart comparing the total number of Movies vs. TV Shows.\n",
    "        (6) Top Content-Producing Countries: Visualize the top 10 countries with the most content using a horizontal bar\n",
    "         chart.\n",
    "        (7) Most Common Genres: Create a bar chart showing the top 15 most common genres.\n",
    "        (8) Peak Addition Months: Create a bar chart showing the number of titles added per month. Which are the busiest\n",
    "         months?\n",
    "        (9) Audience Ratings Distribution: Use a bar chart to show the count of content across different ratings.\n",
    "        (10) Movies vs. TV Shows by Country: Create a stacked bar chart for the top 10 countries, showing the proportion\n",
    "         of Movies vs. TV Shows within each country.\n",
    "\n",
    "    Trends Over Time (Line Charts)\n",
    "        (12) Content Growth Over Years: Plot a line chart showing the number of titles added to Netflix each year.\n",
    "        (13) Separate Growth Trends: On a single graph, plot two lines: one for the growth of Movies and one for TV Shows\n",
    "         added over time.\n",
    "        (14) Cumulative Content Growth: Create a line chart showing the cumulative sum of content added over the years.\n",
    "\n",
    "    Distributions (Histograms & Box Plots)\n",
    "        (15) Release Year Distribution: Create a histogram to understand the distribution of content based on\n",
    "         release_year.\n",
    "        (16) Movie Duration Analysis: Create a histogram to show the distribution of movie durations (in minutes).\n",
    "        (17) TV Show Season Analysis: Create a histogram to see the distribution of the number of seasons for TV shows.\n",
    "        (18) Duration Outliers: Use a box plot to visualize the spread of movie durations and identify outliers.\n",
    "        (19) Duration by Rating: Create box plots to compare movie durations across different ratings (e.g., 'R',\n",
    "         'PG-13').\n",
    "\n",
    "    Proportions & Text (Pie Charts & Word Clouds)\n",
    "        (20) Content Type Share: Create a pie chart to show the percentage share of Movies vs. TV Shows.\n",
    "        (21) Common Genre Keywords: Create a word cloud from the listed_in column to visually represent the most frequent\n",
    "         genre tags."
   ],
   "id": "aba756fbd424512"
  },
  {
   "metadata": {
    "ExecuteTime": {
     "end_time": "2025-09-28T12:14:22.680807Z",
     "start_time": "2025-09-28T12:14:22.677168Z"
    }
   },
   "cell_type": "code",
   "source": "# 1. Create a bar chart to show the count of Movies vs. TV Shows available on Netflix.",
   "id": "4f4aef9191a494dc",
   "outputs": [],
   "execution_count": 37
  },
  {
   "metadata": {
    "ExecuteTime": {
     "end_time": "2025-09-28T12:14:22.695870Z",
     "start_time": "2025-09-28T12:14:22.692418Z"
    }
   },
   "cell_type": "code",
   "source": "# 2. Create a histogram to show the distribution of release_year. (e.g., how many titles were released in the 1990s, 2000s, etc.).",
   "id": "191b1c5e328399e0",
   "outputs": [],
   "execution_count": 38
  },
  {
   "metadata": {
    "ExecuteTime": {
     "end_time": "2025-09-28T12:14:22.709073Z",
     "start_time": "2025-09-28T12:14:22.705895Z"
    }
   },
   "cell_type": "code",
   "source": "# 3. Create a bar chart showing the top 10 countries that produce the most content.",
   "id": "8ff7b9f0dedb1ee",
   "outputs": [],
   "execution_count": 39
  },
  {
   "metadata": {
    "ExecuteTime": {
     "end_time": "2025-09-28T12:14:22.723694Z",
     "start_time": "2025-09-28T12:14:22.720204Z"
    }
   },
   "cell_type": "code",
   "source": "# 4. What is the proportion of different ratings (e.g., TV-MA, TV-14, R)? You can create a pie chart for this.",
   "id": "135cd79fffd363a4",
   "outputs": [],
   "execution_count": 40
  },
  {
   "metadata": {
    "ExecuteTime": {
     "end_time": "2025-09-28T12:14:22.739487Z",
     "start_time": "2025-09-28T12:14:22.735695Z"
    }
   },
   "cell_type": "code",
   "source": "# 5. Create a line chart that shows the number of titles added each year (release_year). This will give you a trend of content growth over time.",
   "id": "164b9ce4e0d402d1",
   "outputs": [],
   "execution_count": 41
  },
  {
   "metadata": {
    "ExecuteTime": {
     "end_time": "2025-09-28T12:14:22.752535Z",
     "start_time": "2025-09-28T12:14:22.749427Z"
    }
   },
   "cell_type": "code",
   "source": "# 6. Top Content-Producing Countries: Visualize the top 10 countries with the most content using a horizontal bar chart.",
   "id": "68f4eed15f334c6c",
   "outputs": [],
   "execution_count": 42
  },
  {
   "metadata": {
    "ExecuteTime": {
     "end_time": "2025-09-28T12:14:22.766332Z",
     "start_time": "2025-09-28T12:14:22.763120Z"
    }
   },
   "cell_type": "code",
   "source": "# 7. Most Common Genres: Create a bar chart showing the top 15 most common",
   "id": "e743a2d45ee23fc1",
   "outputs": [],
   "execution_count": 43
  },
  {
   "metadata": {
    "ExecuteTime": {
     "end_time": "2025-09-28T12:14:22.779919Z",
     "start_time": "2025-09-28T12:14:22.776921Z"
    }
   },
   "cell_type": "code",
   "source": "# 8. Peak Addition Months: Create a bar chart showing the number of titles added per month. Which are the busiest months?",
   "id": "3bbfe3055fd23338",
   "outputs": [],
   "execution_count": 44
  },
  {
   "metadata": {
    "ExecuteTime": {
     "end_time": "2025-09-28T12:14:22.794965Z",
     "start_time": "2025-09-28T12:14:22.791660Z"
    }
   },
   "cell_type": "code",
   "source": "# 9. Audience Ratings Distribution: Use a bar chart to show the count of content across different ratings.",
   "id": "da3593cf3165bba",
   "outputs": [],
   "execution_count": 45
  },
  {
   "metadata": {
    "ExecuteTime": {
     "end_time": "2025-09-28T12:14:22.811426Z",
     "start_time": "2025-09-28T12:14:22.807930Z"
    }
   },
   "cell_type": "code",
   "source": "# 10. Movies vs. TV Shows by Country: Create a stacked bar chart for the top 10 countries, showing the proportion of Movies vs. TV Shows within each country.",
   "id": "56c141593bd35b",
   "outputs": [],
   "execution_count": 46
  },
  {
   "metadata": {
    "ExecuteTime": {
     "end_time": "2025-09-28T12:14:22.824861Z",
     "start_time": "2025-09-28T12:14:22.821484Z"
    }
   },
   "cell_type": "code",
   "source": "# 11. Content Type Distribution: Create a bar chart comparing the total number of Movies vs. TV Shows.",
   "id": "ee1f4be49de9b1bf",
   "outputs": [],
   "execution_count": 47
  },
  {
   "metadata": {
    "ExecuteTime": {
     "end_time": "2025-09-28T12:14:22.837398Z",
     "start_time": "2025-09-28T12:14:22.834115Z"
    }
   },
   "cell_type": "code",
   "source": "# 12. Content Growth Over Years: Plot a line chart showing the number of titles added to Netflix each year.",
   "id": "ef466b20526ae502",
   "outputs": [],
   "execution_count": 48
  },
  {
   "metadata": {
    "ExecuteTime": {
     "end_time": "2025-09-28T12:14:22.849484Z",
     "start_time": "2025-09-28T12:14:22.846557Z"
    }
   },
   "cell_type": "code",
   "source": "# 13. Separate Growth Trends: On a single graph, plot two lines: one for the growth of Movies and one for TV Shows added over time.",
   "id": "a1555dcc79f11c16",
   "outputs": [],
   "execution_count": 49
  },
  {
   "metadata": {
    "ExecuteTime": {
     "end_time": "2025-09-28T12:14:22.862594Z",
     "start_time": "2025-09-28T12:14:22.859701Z"
    }
   },
   "cell_type": "code",
   "source": "# 14. Cumulative Content Growth: Create a line chart showing the cumulative sum of content added over the years.",
   "id": "e1439be2a99769f6",
   "outputs": [],
   "execution_count": 50
  },
  {
   "metadata": {
    "ExecuteTime": {
     "end_time": "2025-09-28T12:14:22.876410Z",
     "start_time": "2025-09-28T12:14:22.872903Z"
    }
   },
   "cell_type": "code",
   "source": "# 15. Release Year Distribution: Create a histogram to understand the distribution of content based on release_year.",
   "id": "3b4e0a4d567f9b27",
   "outputs": [],
   "execution_count": 51
  },
  {
   "metadata": {
    "ExecuteTime": {
     "end_time": "2025-09-28T12:14:22.891160Z",
     "start_time": "2025-09-28T12:14:22.887669Z"
    }
   },
   "cell_type": "code",
   "source": "# 16. Movie Duration Analysis: Create a histogram to show the distribution of movie durations (in minutes).",
   "id": "30dcaff7807f515d",
   "outputs": [],
   "execution_count": 52
  },
  {
   "metadata": {
    "ExecuteTime": {
     "end_time": "2025-09-28T12:14:22.904724Z",
     "start_time": "2025-09-28T12:14:22.901807Z"
    }
   },
   "cell_type": "code",
   "source": "# 17. TV Show Season Analysis: Create a histogram to see the distribution of the number of seasons for TV shows.",
   "id": "5707b644b51dc83a",
   "outputs": [],
   "execution_count": 53
  },
  {
   "metadata": {
    "ExecuteTime": {
     "end_time": "2025-09-28T12:14:22.920526Z",
     "start_time": "2025-09-28T12:14:22.916597Z"
    }
   },
   "cell_type": "code",
   "source": "# 18. Duration Outliers: Use a box plot to visualize the spread of movie durations and identify outliers.",
   "id": "9e7041f886b17e8a",
   "outputs": [],
   "execution_count": 54
  },
  {
   "metadata": {
    "ExecuteTime": {
     "end_time": "2025-09-28T12:14:22.934525Z",
     "start_time": "2025-09-28T12:14:22.930889Z"
    }
   },
   "cell_type": "code",
   "source": "# 19. Duration by Rating: Create box plots to compare movie durations across different ratings (e.g., 'R', 'PG-13').",
   "id": "11aa6669a3d027db",
   "outputs": [],
   "execution_count": 55
  },
  {
   "metadata": {
    "ExecuteTime": {
     "end_time": "2025-09-28T12:14:22.947019Z",
     "start_time": "2025-09-28T12:14:22.944557Z"
    }
   },
   "cell_type": "code",
   "source": "# 20. Content Type Share: Create a pie chart to show the percentage share of Movies vs. TV Shows.",
   "id": "cc7e3868c6c6dd5e",
   "outputs": [],
   "execution_count": 56
  }
 ],
 "metadata": {
  "kernelspec": {
   "display_name": "Python 3",
   "language": "python",
   "name": "python3"
  },
  "language_info": {
   "codemirror_mode": {
    "name": "ipython",
    "version": 2
   },
   "file_extension": ".py",
   "mimetype": "text/x-python",
   "name": "python",
   "nbconvert_exporter": "python",
   "pygments_lexer": "ipython2",
   "version": "2.7.6"
  }
 },
 "nbformat": 4,
 "nbformat_minor": 5
}
