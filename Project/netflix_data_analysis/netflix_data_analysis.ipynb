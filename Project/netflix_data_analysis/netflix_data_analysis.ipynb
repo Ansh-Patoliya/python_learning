{
 "cells": [
  {
   "metadata": {
    "ExecuteTime": {
     "end_time": "2025-09-27T14:04:50.390837Z",
     "start_time": "2025-09-27T14:04:50.385812Z"
    }
   },
   "cell_type": "code",
   "source": [
    "import pandas as pd\n",
    "import numpy as np\n",
    "import matplotlib.pyplot as plt\n"
   ],
   "id": "1e339f4190f6493",
   "outputs": [],
   "execution_count": 55
  },
  {
   "metadata": {
    "ExecuteTime": {
     "end_time": "2025-09-27T14:04:50.460950Z",
     "start_time": "2025-09-27T14:04:50.413043Z"
    }
   },
   "cell_type": "code",
   "source": "df=pd.read_csv(\"netflix_titles.csv\",encoding='latin1')",
   "id": "a8945e6b611f5241",
   "outputs": [],
   "execution_count": 56
  },
  {
   "metadata": {},
   "cell_type": "markdown",
   "source": [
    "## Step 1: Understand the Data (Exploration)\n",
    "    (1) How many total rows and columns are in the dataset?\n",
    "    (2) What is the data type of each column (e.g., number, text, date)?\n",
    "    (3) Are there any missing values in any column? If yes, which column has the most missing values?\n",
    "    (4) Is there more content categorized as \"Movie\" or \"TV Show\" on Netflix? Show the count for each.\n",
    "    (5) Initial Preview: Display the first 10 and last 10 rows of the dataset to see how the data is recorded.\n",
    "    (6) Unique Values: How many unique categories are there in columns like type, rating, and country?\n",
    "    (7) Value Counts: What are the counts of each category within the type column (i.e., how many Movies vs. TV\n",
    "     Shows)? What are the top 10 most frequent values in country, director, and listed_in (genre)?\n",
    "    (8) Numerical Summary: What are the basic descriptive statistics (mean, median, standard deviation, min, max) for numerical columns like release_year?\n",
    "    (9) Timespan of Data: What is the earliest and latest release_year in the dataset? What about the date_added?"
   ],
   "id": "98f7b61399967cf0"
  },
  {
   "metadata": {
    "ExecuteTime": {
     "end_time": "2025-09-27T14:04:50.474429Z",
     "start_time": "2025-09-27T14:04:50.470776Z"
    }
   },
   "cell_type": "code",
   "source": [
    "# 1. How many total rows and columns are in the dataset?\n",
    "print(f\"Total rows = {df.shape[0]} , column = {df.shape[1]}\")"
   ],
   "id": "92f4ad7ceb31de29",
   "outputs": [
    {
     "name": "stdout",
     "output_type": "stream",
     "text": [
      "Total rows = 8807 , column = 12\n"
     ]
    }
   ],
   "execution_count": 57
  },
  {
   "metadata": {
    "ExecuteTime": {
     "end_time": "2025-09-27T14:04:50.505619Z",
     "start_time": "2025-09-27T14:04:50.502049Z"
    }
   },
   "cell_type": "code",
   "source": [
    "# 2. What is the data type of each column (e.g., number, text, date)?\n",
    "print(df.dtypes)"
   ],
   "id": "e79aa293b023ee8a",
   "outputs": [
    {
     "name": "stdout",
     "output_type": "stream",
     "text": [
      "show_id         object\n",
      "type            object\n",
      "title           object\n",
      "director        object\n",
      "cast            object\n",
      "country         object\n",
      "date_added      object\n",
      "release_year     int64\n",
      "rating          object\n",
      "duration        object\n",
      "listed_in       object\n",
      "description     object\n",
      "dtype: object\n"
     ]
    }
   ],
   "execution_count": 58
  },
  {
   "metadata": {
    "ExecuteTime": {
     "end_time": "2025-09-27T14:04:50.530625Z",
     "start_time": "2025-09-27T14:04:50.523218Z"
    }
   },
   "cell_type": "code",
   "source": [
    "# 3. Are there any missing values in any column? If yes, which column has the most missing values?\n",
    "\n",
    "# print(f\"Most missing values column = {df.isnull().sum().index[np.argmax(df.isnull().sum().values)]}\")\n",
    "\n",
    "# best way\n",
    "print(f\"Most missing values column = {df.isnull().sum().idxmax()}\")"
   ],
   "id": "6f014cdc325ad6f1",
   "outputs": [
    {
     "name": "stdout",
     "output_type": "stream",
     "text": [
      "Most missing values column = director\n"
     ]
    }
   ],
   "execution_count": 59
  },
  {
   "metadata": {
    "ExecuteTime": {
     "end_time": "2025-09-27T14:04:50.551232Z",
     "start_time": "2025-09-27T14:04:50.544101Z"
    }
   },
   "cell_type": "code",
   "source": [
    "# 4. Is there more content categorized as \"Movie\" or \"TV Show\" on Netflix? Show the count for each.\n",
    "print(f\"there more content categorized as = {df.groupby('type')['show_id'].count().idxmax()}\")\n",
    "print(f\"count for each = {df.groupby('type')['show_id'].count()}\")"
   ],
   "id": "1523b394272a4905",
   "outputs": [
    {
     "name": "stdout",
     "output_type": "stream",
     "text": [
      "there more content categorized as = Movie\n",
      "count for each = type\n",
      "Movie      6131\n",
      "TV Show    2676\n",
      "Name: show_id, dtype: int64\n"
     ]
    }
   ],
   "execution_count": 60
  },
  {
   "metadata": {
    "ExecuteTime": {
     "end_time": "2025-09-27T14:04:50.573022Z",
     "start_time": "2025-09-27T14:04:50.564319Z"
    }
   },
   "cell_type": "code",
   "source": [
    "# 5. Initial Preview: Display the first 10 and last 10 rows of the dataset to see how the data is recorded.\n",
    "print(f\"first 10 = \\n {df.head(10)}\")\n",
    "print(f\"lst 10 = \\n {df.tail(10)}\")"
   ],
   "id": "adeb8c8dc764e0e3",
   "outputs": [
    {
     "name": "stdout",
     "output_type": "stream",
     "text": [
      "first 10 = \n",
      "   show_id     type                             title  \\\n",
      "0      s1    Movie              Dick Johnson Is Dead   \n",
      "1      s2  TV Show                     Blood & Water   \n",
      "2      s3  TV Show                         Ganglands   \n",
      "3      s4  TV Show             Jailbirds New Orleans   \n",
      "4      s5  TV Show                      Kota Factory   \n",
      "5      s6  TV Show                     Midnight Mass   \n",
      "6      s7    Movie  My Little Pony: A New Generation   \n",
      "7      s8    Movie                           Sankofa   \n",
      "8      s9  TV Show     The Great British Baking Show   \n",
      "9     s10    Movie                      The Starling   \n",
      "\n",
      "                         director  \\\n",
      "0                 Kirsten Johnson   \n",
      "1                             NaN   \n",
      "2                 Julien Leclercq   \n",
      "3                             NaN   \n",
      "4                             NaN   \n",
      "5                   Mike Flanagan   \n",
      "6  Robert Cullen, JosÃ© Luis Ucha   \n",
      "7                    Haile Gerima   \n",
      "8                 Andy Devonshire   \n",
      "9                  Theodore Melfi   \n",
      "\n",
      "                                                cast  \\\n",
      "0                                                NaN   \n",
      "1  Ama Qamata, Khosi Ngema, Gail Mabalane, Thaban...   \n",
      "2  Sami Bouajila, Tracy Gotoas, Samuel Jouy, Nabi...   \n",
      "3                                                NaN   \n",
      "4  Mayur More, Jitendra Kumar, Ranjan Raj, Alam K...   \n",
      "5  Kate Siegel, Zach Gilford, Hamish Linklater, H...   \n",
      "6  Vanessa Hudgens, Kimiko Glenn, James Marsden, ...   \n",
      "7  Kofi Ghanaba, Oyafunmike Ogunlano, Alexandra D...   \n",
      "8  Mel Giedroyc, Sue Perkins, Mary Berry, Paul Ho...   \n",
      "9  Melissa McCarthy, Chris O'Dowd, Kevin Kline, T...   \n",
      "\n",
      "                                             country          date_added  \\\n",
      "0                                      United States  September 25, 2021   \n",
      "1                                       South Africa  September 24, 2021   \n",
      "2                                                NaN  September 24, 2021   \n",
      "3                                                NaN  September 24, 2021   \n",
      "4                                              India  September 24, 2021   \n",
      "5                                                NaN  September 24, 2021   \n",
      "6                                                NaN  September 24, 2021   \n",
      "7  United States, Ghana, Burkina Faso, United Kin...  September 24, 2021   \n",
      "8                                     United Kingdom  September 24, 2021   \n",
      "9                                      United States  September 24, 2021   \n",
      "\n",
      "   release_year rating   duration  \\\n",
      "0          2020  PG-13     90 min   \n",
      "1          2021  TV-MA  2 Seasons   \n",
      "2          2021  TV-MA   1 Season   \n",
      "3          2021  TV-MA   1 Season   \n",
      "4          2021  TV-MA  2 Seasons   \n",
      "5          2021  TV-MA   1 Season   \n",
      "6          2021     PG     91 min   \n",
      "7          1993  TV-MA    125 min   \n",
      "8          2021  TV-14  9 Seasons   \n",
      "9          2021  PG-13    104 min   \n",
      "\n",
      "                                           listed_in  \\\n",
      "0                                      Documentaries   \n",
      "1    International TV Shows, TV Dramas, TV Mysteries   \n",
      "2  Crime TV Shows, International TV Shows, TV Act...   \n",
      "3                             Docuseries, Reality TV   \n",
      "4  International TV Shows, Romantic TV Shows, TV ...   \n",
      "5                 TV Dramas, TV Horror, TV Mysteries   \n",
      "6                           Children & Family Movies   \n",
      "7   Dramas, Independent Movies, International Movies   \n",
      "8                       British TV Shows, Reality TV   \n",
      "9                                   Comedies, Dramas   \n",
      "\n",
      "                                         description  \n",
      "0  As her father nears the end of his life, filmm...  \n",
      "1  After crossing paths at a party, a Cape Town t...  \n",
      "2  To protect his family from a powerful drug lor...  \n",
      "3  Feuds, flirtations and toilet talk go down amo...  \n",
      "4  In a city of coaching centers known to train I...  \n",
      "5  The arrival of a charismatic young priest brin...  \n",
      "6  Equestria's divided. But a bright-eyed hero be...  \n",
      "7  On a photo shoot in Ghana, an American model s...  \n",
      "8  A talented batch of amateur bakers face off in...  \n",
      "9  A woman adjusting to life after a loss contend...  \n",
      "lst 10 = \n",
      "      show_id     type               title                 director  \\\n",
      "8797   s8798  TV Show           Zak Storm                      NaN   \n",
      "8798   s8799    Movie            Zed Plus  Chandra Prakash Dwivedi   \n",
      "8799   s8800    Movie               Zenda           Avadhoot Gupte   \n",
      "8800   s8801  TV Show  Zindagi Gulzar Hai                      NaN   \n",
      "8801   s8802    Movie             Zinzana          Majid Al Ansari   \n",
      "8802   s8803    Movie              Zodiac            David Fincher   \n",
      "8803   s8804  TV Show         Zombie Dumb                      NaN   \n",
      "8804   s8805    Movie          Zombieland          Ruben Fleischer   \n",
      "8805   s8806    Movie                Zoom             Peter Hewitt   \n",
      "8806   s8807    Movie              Zubaan              Mozez Singh   \n",
      "\n",
      "                                                   cast  \\\n",
      "8797  Michael Johnston, Jessica Gee-George, Christin...   \n",
      "8798  Adil Hussain, Mona Singh, K.K. Raina, Sanjay M...   \n",
      "8799  Santosh Juvekar, Siddharth Chandekar, Sachit P...   \n",
      "8800  Sanam Saeed, Fawad Khan, Ayesha Omer, Mehreen ...   \n",
      "8801  Ali Suliman, Saleh Bakri, Yasa, Ali Al-Jabri, ...   \n",
      "8802  Mark Ruffalo, Jake Gyllenhaal, Robert Downey J...   \n",
      "8803                                                NaN   \n",
      "8804  Jesse Eisenberg, Woody Harrelson, Emma Stone, ...   \n",
      "8805  Tim Allen, Courteney Cox, Chevy Chase, Kate Ma...   \n",
      "8806  Vicky Kaushal, Sarah-Jane Dias, Raaghav Chanan...   \n",
      "\n",
      "                                            country          date_added  \\\n",
      "8797  United States, France, South Korea, Indonesia  September 13, 2018   \n",
      "8798                                          India   December 31, 2019   \n",
      "8799                                          India   February 15, 2018   \n",
      "8800                                       Pakistan   December 15, 2016   \n",
      "8801                   United Arab Emirates, Jordan       March 9, 2016   \n",
      "8802                                  United States   November 20, 2019   \n",
      "8803                                            NaN        July 1, 2019   \n",
      "8804                                  United States    November 1, 2019   \n",
      "8805                                  United States    January 11, 2020   \n",
      "8806                                          India       March 2, 2019   \n",
      "\n",
      "      release_year rating   duration  \\\n",
      "8797          2016  TV-Y7  3 Seasons   \n",
      "8798          2014  TV-MA    131 min   \n",
      "8799          2009  TV-14    120 min   \n",
      "8800          2012  TV-PG   1 Season   \n",
      "8801          2015  TV-MA     96 min   \n",
      "8802          2007      R    158 min   \n",
      "8803          2018  TV-Y7  2 Seasons   \n",
      "8804          2009      R     88 min   \n",
      "8805          2006     PG     88 min   \n",
      "8806          2015  TV-14    111 min   \n",
      "\n",
      "                                              listed_in  \\\n",
      "8797                                           Kids' TV   \n",
      "8798             Comedies, Dramas, International Movies   \n",
      "8799                       Dramas, International Movies   \n",
      "8800  International TV Shows, Romantic TV Shows, TV ...   \n",
      "8801            Dramas, International Movies, Thrillers   \n",
      "8802                     Cult Movies, Dramas, Thrillers   \n",
      "8803             Kids' TV, Korean TV Shows, TV Comedies   \n",
      "8804                            Comedies, Horror Movies   \n",
      "8805                 Children & Family Movies, Comedies   \n",
      "8806     Dramas, International Movies, Music & Musicals   \n",
      "\n",
      "                                            description  \n",
      "8797  Teen surfer Zak Storm is mysteriously transpor...  \n",
      "8798  A philandering small-town mechanic's political...  \n",
      "8799  A change in the leadership of a political part...  \n",
      "8800  Strong-willed, middle-class Kashaf and carefre...  \n",
      "8801  Recovering alcoholic Talal wakes up inside a s...  \n",
      "8802  A political cartoonist, a crime reporter and a...  \n",
      "8803  While living alone in a spooky town, a young g...  \n",
      "8804  Looking to survive in a world taken over by zo...  \n",
      "8805  Dragged from civilian life, a former superhero...  \n",
      "8806  A scrappy but poor boy worms his way into a ty...  \n"
     ]
    }
   ],
   "execution_count": 61
  },
  {
   "metadata": {
    "ExecuteTime": {
     "end_time": "2025-09-27T14:04:50.593949Z",
     "start_time": "2025-09-27T14:04:50.586666Z"
    }
   },
   "cell_type": "code",
   "source": [
    "# 6. Unique Values: How many unique categories are there in columns like type, rating, and country?\n",
    "\n",
    "# print(f\"type = {df['type'].unique().size}\")\n",
    "# print(f\"rating = {df['rating'].unique().size}\")\n",
    "# print(f\"country = {df['country'].unique().size}\")\n",
    "\n",
    "# Best Way\n",
    "print(df[['type','rating','country']].nunique())"
   ],
   "id": "4288a6b999c8000",
   "outputs": [
    {
     "name": "stdout",
     "output_type": "stream",
     "text": [
      "type         2\n",
      "rating      17\n",
      "country    748\n",
      "dtype: int64\n"
     ]
    }
   ],
   "execution_count": 62
  },
  {
   "metadata": {
    "ExecuteTime": {
     "end_time": "2025-09-27T14:04:50.639474Z",
     "start_time": "2025-09-27T14:04:50.628228Z"
    }
   },
   "cell_type": "code",
   "source": [
    "# 7. Value Counts: What are the counts of each category within the type column (i.e., how many Movies vs. TV Shows)? What are the top 10 most frequent values in country, director, and listed_in (genre)?\n",
    "\n",
    "# print(f\"count for each = {df.groupby('type')['show_id'].count()}\")\n",
    "# print(f\"country = {df.groupby('country')['show_id'].count().sort_values(ascending=False).head(10)}\")\n",
    "# print(f\"director = {df.groupby('director')['show_id'].count().sort_values(ascending=False).head(10)}\")\n",
    "# print(f'listed in = {df.groupby('listed_in')['show_id'].count().sort_values(ascending=False).head(10)}')\n",
    "\n",
    "# best way\n",
    "print(\"--- Type Counts ---\")\n",
    "print(df['type'].value_counts())\n",
    "print(\"\\n\" + \"=\"*30 + \"\\n\") # For clean separation\n",
    "\n",
    "print(\"--- Top 10 Countries ---\")\n",
    "print(df['country'].value_counts().head(10))\n",
    "print(\"\\n\" + \"=\"*30 + \"\\n\")\n",
    "\n",
    "print(\"--- Top 10 Directors ---\")\n",
    "print(df['director'].value_counts().head(10))\n",
    "print(\"\\n\" + \"=\"*30 + \"\\n\")\n",
    "\n",
    "print(\"--- Top 10 Genres (listed_in) ---\")\n",
    "print(df['listed_in'].value_counts().head(10))"
   ],
   "id": "8b812cd485ad28b2",
   "outputs": [
    {
     "name": "stdout",
     "output_type": "stream",
     "text": [
      "--- Type Counts ---\n",
      "type\n",
      "Movie      6131\n",
      "TV Show    2676\n",
      "Name: count, dtype: int64\n",
      "\n",
      "==============================\n",
      "\n",
      "--- Top 10 Countries ---\n",
      "country\n",
      "United States     2818\n",
      "India              972\n",
      "United Kingdom     419\n",
      "Japan              245\n",
      "South Korea        199\n",
      "Canada             181\n",
      "Spain              145\n",
      "France             124\n",
      "Mexico             110\n",
      "Egypt              106\n",
      "Name: count, dtype: int64\n",
      "\n",
      "==============================\n",
      "\n",
      "--- Top 10 Directors ---\n",
      "director\n",
      "Rajiv Chilaka              19\n",
      "RaÃºl Campos, Jan Suter    18\n",
      "Suhas Kadav                16\n",
      "Marcus Raboy               16\n",
      "Jay Karas                  14\n",
      "Cathy Garcia-Molina        13\n",
      "Martin Scorsese            12\n",
      "Youssef Chahine            12\n",
      "Jay Chapman                12\n",
      "Steven Spielberg           11\n",
      "Name: count, dtype: int64\n",
      "\n",
      "==============================\n",
      "\n",
      "--- Top 10 Genres (listed_in) ---\n",
      "listed_in\n",
      "Dramas, International Movies                        362\n",
      "Documentaries                                       359\n",
      "Stand-Up Comedy                                     334\n",
      "Comedies, Dramas, International Movies              274\n",
      "Dramas, Independent Movies, International Movies    252\n",
      "Kids' TV                                            220\n",
      "Children & Family Movies                            215\n",
      "Children & Family Movies, Comedies                  201\n",
      "Documentaries, International Movies                 186\n",
      "Dramas, International Movies, Romantic Movies       180\n",
      "Name: count, dtype: int64\n"
     ]
    }
   ],
   "execution_count": 63
  },
  {
   "metadata": {
    "ExecuteTime": {
     "end_time": "2025-09-27T14:04:50.655582Z",
     "start_time": "2025-09-27T14:04:50.648994Z"
    }
   },
   "cell_type": "code",
   "source": [
    "# 8. Numerical Summary: What are the basic descriptive statistics (mean, median, standard deviation, min, max) for numerical columns like release_year?\n",
    "print(df.describe())"
   ],
   "id": "40b533c4f27ee04d",
   "outputs": [
    {
     "name": "stdout",
     "output_type": "stream",
     "text": [
      "       release_year\n",
      "count   8807.000000\n",
      "mean    2014.180198\n",
      "std        8.819312\n",
      "min     1925.000000\n",
      "25%     2013.000000\n",
      "50%     2017.000000\n",
      "75%     2019.000000\n",
      "max     2021.000000\n"
     ]
    }
   ],
   "execution_count": 64
  },
  {
   "metadata": {
    "ExecuteTime": {
     "end_time": "2025-09-27T14:04:50.679192Z",
     "start_time": "2025-09-27T14:04:50.667591Z"
    }
   },
   "cell_type": "code",
   "source": [
    "# 9. Timespan of Data: What is the earliest and latest release_year in the dataset? What about the date_added?\n",
    "# print(df['release_year'].max())\n",
    "# print(df['release_year'].min())\n",
    "df['date_added']=pd.to_datetime(df['date_added'].str.strip())\n",
    "print(df['date_added'].max())\n",
    "print(df['date_added'].min())"
   ],
   "id": "cad34a1ed2c42fea",
   "outputs": [
    {
     "name": "stdout",
     "output_type": "stream",
     "text": [
      "2021-09-25 00:00:00\n",
      "2008-01-01 00:00:00\n"
     ]
    }
   ],
   "execution_count": 65
  },
  {
   "metadata": {},
   "cell_type": "markdown",
   "source": [
    "\n",
    "## Step 2: Clean the Data (Cleaning & Preprocessing)\n",
    "    (1) How would you handle the missing values in the date_added column? Would you remove them or fill them with a\n",
    "     default value?\n",
    "    (2) The rating column also has missing values. Fill them with the most frequently occurring rating (the mode).\n",
    "    (3)The cast and director columns also have null values. For now, you can leave them, but think about how you might\n",
    "     handle them.\n",
    "    (4) Handling Missing Directors/Cast/Country: Decide on a strategy for the missing values in director, cast, and country. Should you fill them\n",
    "     with a placeholder like \"Unknown\" or drop the rows? Justify your choice.\n",
    "    (5) Fixing Missing Ratings: The rating column has missing values. How would you fill them? A good approach is to use the mode (the most\n",
    "     frequently occurring rating).\n",
    "    (6) Managing Missing Dates: Address the missing values in date_added. Is it better to drop these few rows or fill them with the release_year?\n",
    "    (7) Data Type Conversion: The date_added column is currently a string (object). Convert it to a proper datetime format so you can perform\n",
    "    time-based analysis.\n",
    "    (8) Cleaning the Duration Column: The duration column contains mixed data (e.g., \"100 min\" for movies, \"2 Seasons\" for TV shows). Separate the\n",
    "     dataset into two: one for Movies and one for TV Shows. For the Movie dataset, convert the duration column to a numerical type (integer) by\n",
    "      removing \"min\". Do the same for the TV Show dataset, converting seasons to an integer.\n",
    "    (9) Handling Duplicates: Check if there are any duplicate rows in the dataset and remove them if they exist.\n",
    "    (10) Standardizing Genres: The listed_in column often contains multiple genres in one string (e.g., \"Dramas, International Movies\"). Should you\n",
    "     split these into a list or just use the primary genre for analysis?"
   ],
   "id": "4a0a14453904dee2"
  },
  {
   "metadata": {
    "ExecuteTime": {
     "end_time": "2025-09-27T14:04:50.715617Z",
     "start_time": "2025-09-27T14:04:50.710025Z"
    }
   },
   "cell_type": "code",
   "source": [
    "# 1. How would you handle the missing values in the date_added column? Would you remove them or fill them with a default value?\n",
    "df.dropna(subset=['date_added'],inplace=True)"
   ],
   "id": "a11d6c36a526f347",
   "outputs": [],
   "execution_count": 66
  },
  {
   "metadata": {
    "ExecuteTime": {
     "end_time": "2025-09-27T14:04:50.729553Z",
     "start_time": "2025-09-27T14:04:50.723934Z"
    }
   },
   "cell_type": "code",
   "source": [
    "# 2. The rating column also has missing values. Fill them with the most frequently occurring rating (the mode).\n",
    "df['rating'].fillna(df['rating'].mode()[0],inplace=True)"
   ],
   "id": "9552a7a5aab77b89",
   "outputs": [
    {
     "name": "stderr",
     "output_type": "stream",
     "text": [
      "C:\\Users\\ansh\\AppData\\Local\\Temp\\ipykernel_3948\\3430456595.py:2: FutureWarning: A value is trying to be set on a copy of a DataFrame or Series through chained assignment using an inplace method.\n",
      "The behavior will change in pandas 3.0. This inplace method will never work because the intermediate object on which we are setting values always behaves as a copy.\n",
      "\n",
      "For example, when doing 'df[col].method(value, inplace=True)', try using 'df.method({col: value}, inplace=True)' or df[col] = df[col].method(value) instead, to perform the operation inplace on the original object.\n",
      "\n",
      "\n",
      "  df['rating'].fillna(df['rating'].mode()[0],inplace=True)\n"
     ]
    }
   ],
   "execution_count": 67
  },
  {
   "metadata": {
    "ExecuteTime": {
     "end_time": "2025-09-27T14:04:50.752370Z",
     "start_time": "2025-09-27T14:04:50.739387Z"
    }
   },
   "cell_type": "code",
   "source": [
    "# 3. The cast and director columns also have null values. For now, you can leave them, but think about how you might handle them.\n",
    "df.info()\n",
    "'''\n",
    "Strategy 1: Fill with a Placeholder (Jagya Purvi)\n",
    "    - This is the most common and safest approach for text columns like cast and director.\n",
    "    - What to do: Instead of leaving the cells blank, we can fill them with a placeholder word like \"Unknown\", \"Not Available\", or \"No Director\".\n",
    "    - Why it's a good idea:\n",
    "        - No Data Loss: We don't have to delete the entire row. We can still use the information from other columns like release_year, country, and rating for our analysis.\n",
    "        - Clarity: It clearly tells us that the information was missing, not that the movie had no director or cast.\n",
    "        - Easy Analysis: We can later easily count how many movies have an \"Unknown\" director or filter them out if needed.\n",
    "\n",
    "Strategy 2: Do Nothing (Kaai Na Karvu)\n",
    "    - Sometimes, the best action is no action.\n",
    "    - What to do: Leave the missing values as they are (NaN).\n",
    "    - Why it might work:\n",
    "        - Specific Analysis: If you are only analyzing trends by country or release year, the director and cast columns don't matter. Pandas is smart enough to ignore missing values during many calculations (like counting).\n",
    "        - Honesty: It keeps the data in its original, raw state.\n",
    "    - The downside: This can cause errors or unexpected results in certain analyses, especially if you try to search for a specific director's name.\n",
    "\n",
    "Strategy 3: Deleting Rows (Rows Kadhi Nakhvi)\n",
    "    - This is a more aggressive approach and generally not recommended for these columns.\n",
    "    - What to do: Delete any row where the director or cast information is missing.\n",
    "    - Why it's risky:\n",
    "        - Major Data Loss: The director column has thousands of missing values. Deleting all those rows would mean throwing away a large portion of our dataset (almost 30%). This would make our overall analysis much less reliable.\n",
    "'''"
   ],
   "id": "d87ebeb76da492b",
   "outputs": [
    {
     "name": "stdout",
     "output_type": "stream",
     "text": [
      "<class 'pandas.core.frame.DataFrame'>\n",
      "Index: 8797 entries, 0 to 8806\n",
      "Data columns (total 12 columns):\n",
      " #   Column        Non-Null Count  Dtype         \n",
      "---  ------        --------------  -----         \n",
      " 0   show_id       8797 non-null   object        \n",
      " 1   type          8797 non-null   object        \n",
      " 2   title         8797 non-null   object        \n",
      " 3   director      6173 non-null   object        \n",
      " 4   cast          7972 non-null   object        \n",
      " 5   country       7967 non-null   object        \n",
      " 6   date_added    8797 non-null   datetime64[ns]\n",
      " 7   release_year  8797 non-null   int64         \n",
      " 8   rating        8797 non-null   object        \n",
      " 9   duration      8794 non-null   object        \n",
      " 10  listed_in     8797 non-null   object        \n",
      " 11  description   8797 non-null   object        \n",
      "dtypes: datetime64[ns](1), int64(1), object(10)\n",
      "memory usage: 893.4+ KB\n"
     ]
    },
    {
     "data": {
      "text/plain": [
       "'\\nStrategy 1: Fill with a Placeholder (Jagya Purvi)\\n    - This is the most common and safest approach for text columns like cast and director.\\n    - What to do: Instead of leaving the cells blank, we can fill them with a placeholder word like \"Unknown\", \"Not Available\", or \"No Director\".\\n    - Why it\\'s a good idea:\\n        - No Data Loss: We don\\'t have to delete the entire row. We can still use the information from other columns like release_year, country, and rating for our analysis.\\n        - Clarity: It clearly tells us that the information was missing, not that the movie had no director or cast.\\n        - Easy Analysis: We can later easily count how many movies have an \"Unknown\" director or filter them out if needed.\\n\\nStrategy 2: Do Nothing (Kaai Na Karvu)\\n    - Sometimes, the best action is no action.\\n    - What to do: Leave the missing values as they are (NaN).\\n    - Why it might work:\\n        - Specific Analysis: If you are only analyzing trends by country or release year, the director and cast columns don\\'t matter. Pandas is smart enough to ignore missing values during many calculations (like counting).\\n        - Honesty: It keeps the data in its original, raw state.\\n    - The downside: This can cause errors or unexpected results in certain analyses, especially if you try to search for a specific director\\'s name.\\n\\nStrategy 3: Deleting Rows (Rows Kadhi Nakhvi)\\n    - This is a more aggressive approach and generally not recommended for these columns.\\n    - What to do: Delete any row where the director or cast information is missing.\\n    - Why it\\'s risky:\\n        - Major Data Loss: The director column has thousands of missing values. Deleting all those rows would mean throwing away a large portion of our dataset (almost 30%). This would make our overall analysis much less reliable.\\n'"
      ]
     },
     "execution_count": 68,
     "metadata": {},
     "output_type": "execute_result"
    }
   ],
   "execution_count": 68
  },
  {
   "metadata": {
    "ExecuteTime": {
     "end_time": "2025-09-27T14:04:50.767527Z",
     "start_time": "2025-09-27T14:04:50.761416Z"
    }
   },
   "cell_type": "code",
   "source": [
    "# 4. Handling Missing Directors/Cast/Country: Decide on a strategy for the missing values in director, cast, and country. Should you fill them with a placeholder like \"Unknown\" or drop the rows? Justify your choice.\n",
    "df['director'].fillna('Unknown', inplace=True)\n",
    "df['cast'].fillna('Unknown', inplace=True)"
   ],
   "id": "8b7939a1662b2b8c",
   "outputs": [
    {
     "name": "stderr",
     "output_type": "stream",
     "text": [
      "C:\\Users\\ansh\\AppData\\Local\\Temp\\ipykernel_3948\\1844306670.py:2: FutureWarning: A value is trying to be set on a copy of a DataFrame or Series through chained assignment using an inplace method.\n",
      "The behavior will change in pandas 3.0. This inplace method will never work because the intermediate object on which we are setting values always behaves as a copy.\n",
      "\n",
      "For example, when doing 'df[col].method(value, inplace=True)', try using 'df.method({col: value}, inplace=True)' or df[col] = df[col].method(value) instead, to perform the operation inplace on the original object.\n",
      "\n",
      "\n",
      "  df['director'].fillna('Unknown', inplace=True)\n",
      "C:\\Users\\ansh\\AppData\\Local\\Temp\\ipykernel_3948\\1844306670.py:3: FutureWarning: A value is trying to be set on a copy of a DataFrame or Series through chained assignment using an inplace method.\n",
      "The behavior will change in pandas 3.0. This inplace method will never work because the intermediate object on which we are setting values always behaves as a copy.\n",
      "\n",
      "For example, when doing 'df[col].method(value, inplace=True)', try using 'df.method({col: value}, inplace=True)' or df[col] = df[col].method(value) instead, to perform the operation inplace on the original object.\n",
      "\n",
      "\n",
      "  df['cast'].fillna('Unknown', inplace=True)\n"
     ]
    }
   ],
   "execution_count": 69
  },
  {
   "metadata": {
    "ExecuteTime": {
     "end_time": "2025-09-27T14:04:50.779098Z",
     "start_time": "2025-09-27T14:04:50.776305Z"
    }
   },
   "cell_type": "code",
   "source": [
    "# 5. Fixing Missing Ratings: The rating column has missing values. How would you fill them? A good approach is to use the mode (the most frequently occurring rating).\n",
    "# Already done in step 2"
   ],
   "id": "ce26c8cf4bd8977b",
   "outputs": [],
   "execution_count": 70
  },
  {
   "metadata": {
    "ExecuteTime": {
     "end_time": "2025-09-27T14:04:50.796755Z",
     "start_time": "2025-09-27T14:04:50.792191Z"
    }
   },
   "cell_type": "code",
   "source": [
    "# 6. Managing Missing Dates: Address the missing values in date_added. Is it better to drop these few rows or fill them with the release_year?\n",
    "# Already done in step 1"
   ],
   "id": "1d59c722367cf574",
   "outputs": [],
   "execution_count": 71
  },
  {
   "metadata": {
    "ExecuteTime": {
     "end_time": "2025-09-27T14:04:50.806124Z",
     "start_time": "2025-09-27T14:04:50.803635Z"
    }
   },
   "cell_type": "code",
   "source": [
    "# 7. Data Type Conversion: The date_added column is currently a string (object). Convert it to a proper datetime format so you can perform time-based analysis.\n",
    "# Already done in exploration step 9"
   ],
   "id": "316494afd2d653a5",
   "outputs": [],
   "execution_count": 72
  },
  {
   "metadata": {
    "ExecuteTime": {
     "end_time": "2025-09-27T14:04:50.895898Z",
     "start_time": "2025-09-27T14:04:50.814566Z"
    }
   },
   "cell_type": "code",
   "source": [
    "# 8. Cleaning the Duration Column: The duration column contains mixed data (e.g., \"100 min\" for movies, \"2 Seasons\" for TV shows). Separate the dataset into two: one for Movies and one for TV Shows. For the Movie dataset, convert the duration column to a numerical type (integer) by removing \"min\". Do the same for the TV Show dataset, converting seasons to an integer.\n",
    "df['duration']=df['duration'].str.replace('min','',regex=False)\n",
    "mask=df['type']=='Movie'\n",
    "df['movie_duration']=pd.to_numeric(df.loc[mask,'duration'])\n",
    "\n",
    "df['duration']=df['duration'].str.replace('s','',regex=False)\n",
    "df['duration']=df['duration'].str.replace('Season','',regex=False)\n",
    "mask1=df['type']=='TV Show'\n",
    "df['tv_show_duration']=pd.to_numeric(df.loc[mask1,'duration'])"
   ],
   "id": "8be9d1ef85cb2872",
   "outputs": [
    {
     "ename": "ValueError",
     "evalue": "Unable to parse string \"2 Seaon\" at position 0",
     "output_type": "error",
     "traceback": [
      "\u001B[31m---------------------------------------------------------------------------\u001B[39m",
      "\u001B[31mValueError\u001B[39m                                Traceback (most recent call last)",
      "\u001B[36mFile \u001B[39m\u001B[32mpandas/_libs/lib.pyx:2407\u001B[39m, in \u001B[36mpandas._libs.lib.maybe_convert_numeric\u001B[39m\u001B[34m()\u001B[39m\n",
      "\u001B[31mValueError\u001B[39m: Unable to parse string \"2 Seaon\"",
      "\nDuring handling of the above exception, another exception occurred:\n",
      "\u001B[31mValueError\u001B[39m                                Traceback (most recent call last)",
      "\u001B[36mCell\u001B[39m\u001B[36m \u001B[39m\u001B[32mIn[73]\u001B[39m\u001B[32m, line 9\u001B[39m\n\u001B[32m      7\u001B[39m df[\u001B[33m'\u001B[39m\u001B[33mduration\u001B[39m\u001B[33m'\u001B[39m]=df[\u001B[33m'\u001B[39m\u001B[33mduration\u001B[39m\u001B[33m'\u001B[39m].str.replace(\u001B[33m'\u001B[39m\u001B[33mSeason\u001B[39m\u001B[33m'\u001B[39m,\u001B[33m'\u001B[39m\u001B[33m'\u001B[39m,regex=\u001B[38;5;28;01mFalse\u001B[39;00m)\n\u001B[32m      8\u001B[39m mask1=df[\u001B[33m'\u001B[39m\u001B[33mtype\u001B[39m\u001B[33m'\u001B[39m]==\u001B[33m'\u001B[39m\u001B[33mTV Show\u001B[39m\u001B[33m'\u001B[39m\n\u001B[32m----> \u001B[39m\u001B[32m9\u001B[39m df[\u001B[33m'\u001B[39m\u001B[33mtv_show_duration\u001B[39m\u001B[33m'\u001B[39m]=\u001B[43mpd\u001B[49m\u001B[43m.\u001B[49m\u001B[43mto_numeric\u001B[49m\u001B[43m(\u001B[49m\u001B[43mdf\u001B[49m\u001B[43m.\u001B[49m\u001B[43mloc\u001B[49m\u001B[43m[\u001B[49m\u001B[43mmask1\u001B[49m\u001B[43m,\u001B[49m\u001B[33;43m'\u001B[39;49m\u001B[33;43mduration\u001B[39;49m\u001B[33;43m'\u001B[39;49m\u001B[43m]\u001B[49m\u001B[43m)\u001B[49m\n",
      "\u001B[36mFile \u001B[39m\u001B[32m~\\PyCharmMiscProject\\.venv\\Lib\\site-packages\\pandas\\core\\tools\\numeric.py:235\u001B[39m, in \u001B[36mto_numeric\u001B[39m\u001B[34m(arg, errors, downcast, dtype_backend)\u001B[39m\n\u001B[32m    233\u001B[39m coerce_numeric = errors \u001B[38;5;129;01mnot\u001B[39;00m \u001B[38;5;129;01min\u001B[39;00m (\u001B[33m\"\u001B[39m\u001B[33mignore\u001B[39m\u001B[33m\"\u001B[39m, \u001B[33m\"\u001B[39m\u001B[33mraise\u001B[39m\u001B[33m\"\u001B[39m)\n\u001B[32m    234\u001B[39m \u001B[38;5;28;01mtry\u001B[39;00m:\n\u001B[32m--> \u001B[39m\u001B[32m235\u001B[39m     values, new_mask = \u001B[43mlib\u001B[49m\u001B[43m.\u001B[49m\u001B[43mmaybe_convert_numeric\u001B[49m\u001B[43m(\u001B[49m\u001B[43m  \u001B[49m\u001B[38;5;66;43;03m# type: ignore[call-overload]\u001B[39;49;00m\n\u001B[32m    236\u001B[39m \u001B[43m        \u001B[49m\u001B[43mvalues\u001B[49m\u001B[43m,\u001B[49m\n\u001B[32m    237\u001B[39m \u001B[43m        \u001B[49m\u001B[38;5;28;43mset\u001B[39;49m\u001B[43m(\u001B[49m\u001B[43m)\u001B[49m\u001B[43m,\u001B[49m\n\u001B[32m    238\u001B[39m \u001B[43m        \u001B[49m\u001B[43mcoerce_numeric\u001B[49m\u001B[43m=\u001B[49m\u001B[43mcoerce_numeric\u001B[49m\u001B[43m,\u001B[49m\n\u001B[32m    239\u001B[39m \u001B[43m        \u001B[49m\u001B[43mconvert_to_masked_nullable\u001B[49m\u001B[43m=\u001B[49m\u001B[43mdtype_backend\u001B[49m\u001B[43m \u001B[49m\u001B[38;5;129;43;01mis\u001B[39;49;00m\u001B[43m \u001B[49m\u001B[38;5;129;43;01mnot\u001B[39;49;00m\u001B[43m \u001B[49m\u001B[43mlib\u001B[49m\u001B[43m.\u001B[49m\u001B[43mno_default\u001B[49m\n\u001B[32m    240\u001B[39m \u001B[43m        \u001B[49m\u001B[38;5;129;43;01mor\u001B[39;49;00m\u001B[43m \u001B[49m\u001B[38;5;28;43misinstance\u001B[39;49m\u001B[43m(\u001B[49m\u001B[43mvalues_dtype\u001B[49m\u001B[43m,\u001B[49m\u001B[43m \u001B[49m\u001B[43mStringDtype\u001B[49m\u001B[43m)\u001B[49m\n\u001B[32m    241\u001B[39m \u001B[43m        \u001B[49m\u001B[38;5;129;43;01mand\u001B[39;49;00m\u001B[43m \u001B[49m\u001B[43mvalues_dtype\u001B[49m\u001B[43m.\u001B[49m\u001B[43mna_value\u001B[49m\u001B[43m \u001B[49m\u001B[38;5;129;43;01mis\u001B[39;49;00m\u001B[43m \u001B[49m\u001B[43mlibmissing\u001B[49m\u001B[43m.\u001B[49m\u001B[43mNA\u001B[49m\u001B[43m,\u001B[49m\n\u001B[32m    242\u001B[39m \u001B[43m    \u001B[49m\u001B[43m)\u001B[49m\n\u001B[32m    243\u001B[39m \u001B[38;5;28;01mexcept\u001B[39;00m (\u001B[38;5;167;01mValueError\u001B[39;00m, \u001B[38;5;167;01mTypeError\u001B[39;00m):\n\u001B[32m    244\u001B[39m     \u001B[38;5;28;01mif\u001B[39;00m errors == \u001B[33m\"\u001B[39m\u001B[33mraise\u001B[39m\u001B[33m\"\u001B[39m:\n",
      "\u001B[36mFile \u001B[39m\u001B[32mpandas/_libs/lib.pyx:2449\u001B[39m, in \u001B[36mpandas._libs.lib.maybe_convert_numeric\u001B[39m\u001B[34m()\u001B[39m\n",
      "\u001B[31mValueError\u001B[39m: Unable to parse string \"2 Seaon\" at position 0"
     ]
    }
   ],
   "execution_count": 73
  },
  {
   "metadata": {
    "ExecuteTime": {
     "end_time": "2025-09-27T14:04:50.895830900Z",
     "start_time": "2025-09-27T13:50:08.613826Z"
    }
   },
   "cell_type": "code",
   "source": [
    "# 9. Handling Duplicates: Check if there are any duplicate rows in the dataset and remove them if they exist.\n",
    "df[df.duplicated()] # not available"
   ],
   "id": "f096a867d325e7c1",
   "outputs": [
    {
     "data": {
      "text/plain": [
       "Empty DataFrame\n",
       "Columns: [show_id, type, title, director, cast, country, date_added, release_year, rating, duration, listed_in, description, movie_duration]\n",
       "Index: []"
      ],
      "text/html": [
       "<div>\n",
       "<style scoped>\n",
       "    .dataframe tbody tr th:only-of-type {\n",
       "        vertical-align: middle;\n",
       "    }\n",
       "\n",
       "    .dataframe tbody tr th {\n",
       "        vertical-align: top;\n",
       "    }\n",
       "\n",
       "    .dataframe thead th {\n",
       "        text-align: right;\n",
       "    }\n",
       "</style>\n",
       "<table border=\"1\" class=\"dataframe\">\n",
       "  <thead>\n",
       "    <tr style=\"text-align: right;\">\n",
       "      <th></th>\n",
       "      <th>show_id</th>\n",
       "      <th>type</th>\n",
       "      <th>title</th>\n",
       "      <th>director</th>\n",
       "      <th>cast</th>\n",
       "      <th>country</th>\n",
       "      <th>date_added</th>\n",
       "      <th>release_year</th>\n",
       "      <th>rating</th>\n",
       "      <th>duration</th>\n",
       "      <th>listed_in</th>\n",
       "      <th>description</th>\n",
       "      <th>movie_duration</th>\n",
       "    </tr>\n",
       "  </thead>\n",
       "  <tbody>\n",
       "  </tbody>\n",
       "</table>\n",
       "</div>"
      ]
     },
     "execution_count": 41,
     "metadata": {},
     "output_type": "execute_result"
    }
   ],
   "execution_count": 41
  },
  {
   "metadata": {
    "ExecuteTime": {
     "end_time": "2025-09-27T14:06:47.845894Z",
     "start_time": "2025-09-27T14:06:47.826952Z"
    }
   },
   "cell_type": "code",
   "source": [
    "# 10. Standardizing Genres: The listed_in column often contains multiple genres in one string (e.g., \"Dramas, International Movies\"). Should you split these into a list or just use the primary genre for analysis?\n",
    "df['listed_in']=df['listed_in'].str.split(',')"
   ],
   "id": "b35b177d0a464918",
   "outputs": [
    {
     "data": {
      "text/plain": [
       "     show_id     type                  title         director  \\\n",
       "0         s1    Movie   Dick Johnson Is Dead  Kirsten Johnson   \n",
       "1         s2  TV Show          Blood & Water          Unknown   \n",
       "2         s3  TV Show              Ganglands  Julien Leclercq   \n",
       "3         s4  TV Show  Jailbirds New Orleans          Unknown   \n",
       "4         s5  TV Show           Kota Factory          Unknown   \n",
       "...      ...      ...                    ...              ...   \n",
       "8802   s8803    Movie                 Zodiac    David Fincher   \n",
       "8803   s8804  TV Show            Zombie Dumb          Unknown   \n",
       "8804   s8805    Movie             Zombieland  Ruben Fleischer   \n",
       "8805   s8806    Movie                   Zoom     Peter Hewitt   \n",
       "8806   s8807    Movie                 Zubaan      Mozez Singh   \n",
       "\n",
       "                                                   cast        country  \\\n",
       "0                                               Unknown  United States   \n",
       "1     Ama Qamata, Khosi Ngema, Gail Mabalane, Thaban...   South Africa   \n",
       "2     Sami Bouajila, Tracy Gotoas, Samuel Jouy, Nabi...            NaN   \n",
       "3                                               Unknown            NaN   \n",
       "4     Mayur More, Jitendra Kumar, Ranjan Raj, Alam K...          India   \n",
       "...                                                 ...            ...   \n",
       "8802  Mark Ruffalo, Jake Gyllenhaal, Robert Downey J...  United States   \n",
       "8803                                            Unknown            NaN   \n",
       "8804  Jesse Eisenberg, Woody Harrelson, Emma Stone, ...  United States   \n",
       "8805  Tim Allen, Courteney Cox, Chevy Chase, Kate Ma...  United States   \n",
       "8806  Vicky Kaushal, Sarah-Jane Dias, Raaghav Chanan...          India   \n",
       "\n",
       "     date_added  release_year rating duration  \\\n",
       "0    2021-09-25          2020  PG-13      90    \n",
       "1    2021-09-24          2021  TV-MA  2 Seaon   \n",
       "2    2021-09-24          2021  TV-MA  1 Seaon   \n",
       "3    2021-09-24          2021  TV-MA  1 Seaon   \n",
       "4    2021-09-24          2021  TV-MA  2 Seaon   \n",
       "...         ...           ...    ...      ...   \n",
       "8802 2019-11-20          2007      R     158    \n",
       "8803 2019-07-01          2018  TV-Y7  2 Seaon   \n",
       "8804 2019-11-01          2009      R      88    \n",
       "8805 2020-01-11          2006     PG      88    \n",
       "8806 2019-03-02          2015  TV-14     111    \n",
       "\n",
       "                                              listed_in  \\\n",
       "0                                       [Documentaries]   \n",
       "1     [International TV Shows,  TV Dramas,  TV Myste...   \n",
       "2     [Crime TV Shows,  International TV Shows,  TV ...   \n",
       "3                             [Docuseries,  Reality TV]   \n",
       "4     [International TV Shows,  Romantic TV Shows,  ...   \n",
       "...                                                 ...   \n",
       "8802                 [Cult Movies,  Dramas,  Thrillers]   \n",
       "8803         [Kids' TV,  Korean TV Shows,  TV Comedies]   \n",
       "8804                         [Comedies,  Horror Movies]   \n",
       "8805              [Children & Family Movies,  Comedies]   \n",
       "8806  [Dramas,  International Movies,  Music & Music...   \n",
       "\n",
       "                                            description  movie_duration  \n",
       "0     As her father nears the end of his life, filmm...            90.0  \n",
       "1     After crossing paths at a party, a Cape Town t...             NaN  \n",
       "2     To protect his family from a powerful drug lor...             NaN  \n",
       "3     Feuds, flirtations and toilet talk go down amo...             NaN  \n",
       "4     In a city of coaching centers known to train I...             NaN  \n",
       "...                                                 ...             ...  \n",
       "8802  A political cartoonist, a crime reporter and a...           158.0  \n",
       "8803  While living alone in a spooky town, a young g...             NaN  \n",
       "8804  Looking to survive in a world taken over by zo...            88.0  \n",
       "8805  Dragged from civilian life, a former superhero...            88.0  \n",
       "8806  A scrappy but poor boy worms his way into a ty...           111.0  \n",
       "\n",
       "[8797 rows x 13 columns]"
      ],
      "text/html": [
       "<div>\n",
       "<style scoped>\n",
       "    .dataframe tbody tr th:only-of-type {\n",
       "        vertical-align: middle;\n",
       "    }\n",
       "\n",
       "    .dataframe tbody tr th {\n",
       "        vertical-align: top;\n",
       "    }\n",
       "\n",
       "    .dataframe thead th {\n",
       "        text-align: right;\n",
       "    }\n",
       "</style>\n",
       "<table border=\"1\" class=\"dataframe\">\n",
       "  <thead>\n",
       "    <tr style=\"text-align: right;\">\n",
       "      <th></th>\n",
       "      <th>show_id</th>\n",
       "      <th>type</th>\n",
       "      <th>title</th>\n",
       "      <th>director</th>\n",
       "      <th>cast</th>\n",
       "      <th>country</th>\n",
       "      <th>date_added</th>\n",
       "      <th>release_year</th>\n",
       "      <th>rating</th>\n",
       "      <th>duration</th>\n",
       "      <th>listed_in</th>\n",
       "      <th>description</th>\n",
       "      <th>movie_duration</th>\n",
       "    </tr>\n",
       "  </thead>\n",
       "  <tbody>\n",
       "    <tr>\n",
       "      <th>0</th>\n",
       "      <td>s1</td>\n",
       "      <td>Movie</td>\n",
       "      <td>Dick Johnson Is Dead</td>\n",
       "      <td>Kirsten Johnson</td>\n",
       "      <td>Unknown</td>\n",
       "      <td>United States</td>\n",
       "      <td>2021-09-25</td>\n",
       "      <td>2020</td>\n",
       "      <td>PG-13</td>\n",
       "      <td>90</td>\n",
       "      <td>[Documentaries]</td>\n",
       "      <td>As her father nears the end of his life, filmm...</td>\n",
       "      <td>90.0</td>\n",
       "    </tr>\n",
       "    <tr>\n",
       "      <th>1</th>\n",
       "      <td>s2</td>\n",
       "      <td>TV Show</td>\n",
       "      <td>Blood &amp; Water</td>\n",
       "      <td>Unknown</td>\n",
       "      <td>Ama Qamata, Khosi Ngema, Gail Mabalane, Thaban...</td>\n",
       "      <td>South Africa</td>\n",
       "      <td>2021-09-24</td>\n",
       "      <td>2021</td>\n",
       "      <td>TV-MA</td>\n",
       "      <td>2 Seaon</td>\n",
       "      <td>[International TV Shows,  TV Dramas,  TV Myste...</td>\n",
       "      <td>After crossing paths at a party, a Cape Town t...</td>\n",
       "      <td>NaN</td>\n",
       "    </tr>\n",
       "    <tr>\n",
       "      <th>2</th>\n",
       "      <td>s3</td>\n",
       "      <td>TV Show</td>\n",
       "      <td>Ganglands</td>\n",
       "      <td>Julien Leclercq</td>\n",
       "      <td>Sami Bouajila, Tracy Gotoas, Samuel Jouy, Nabi...</td>\n",
       "      <td>NaN</td>\n",
       "      <td>2021-09-24</td>\n",
       "      <td>2021</td>\n",
       "      <td>TV-MA</td>\n",
       "      <td>1 Seaon</td>\n",
       "      <td>[Crime TV Shows,  International TV Shows,  TV ...</td>\n",
       "      <td>To protect his family from a powerful drug lor...</td>\n",
       "      <td>NaN</td>\n",
       "    </tr>\n",
       "    <tr>\n",
       "      <th>3</th>\n",
       "      <td>s4</td>\n",
       "      <td>TV Show</td>\n",
       "      <td>Jailbirds New Orleans</td>\n",
       "      <td>Unknown</td>\n",
       "      <td>Unknown</td>\n",
       "      <td>NaN</td>\n",
       "      <td>2021-09-24</td>\n",
       "      <td>2021</td>\n",
       "      <td>TV-MA</td>\n",
       "      <td>1 Seaon</td>\n",
       "      <td>[Docuseries,  Reality TV]</td>\n",
       "      <td>Feuds, flirtations and toilet talk go down amo...</td>\n",
       "      <td>NaN</td>\n",
       "    </tr>\n",
       "    <tr>\n",
       "      <th>4</th>\n",
       "      <td>s5</td>\n",
       "      <td>TV Show</td>\n",
       "      <td>Kota Factory</td>\n",
       "      <td>Unknown</td>\n",
       "      <td>Mayur More, Jitendra Kumar, Ranjan Raj, Alam K...</td>\n",
       "      <td>India</td>\n",
       "      <td>2021-09-24</td>\n",
       "      <td>2021</td>\n",
       "      <td>TV-MA</td>\n",
       "      <td>2 Seaon</td>\n",
       "      <td>[International TV Shows,  Romantic TV Shows,  ...</td>\n",
       "      <td>In a city of coaching centers known to train I...</td>\n",
       "      <td>NaN</td>\n",
       "    </tr>\n",
       "    <tr>\n",
       "      <th>...</th>\n",
       "      <td>...</td>\n",
       "      <td>...</td>\n",
       "      <td>...</td>\n",
       "      <td>...</td>\n",
       "      <td>...</td>\n",
       "      <td>...</td>\n",
       "      <td>...</td>\n",
       "      <td>...</td>\n",
       "      <td>...</td>\n",
       "      <td>...</td>\n",
       "      <td>...</td>\n",
       "      <td>...</td>\n",
       "      <td>...</td>\n",
       "    </tr>\n",
       "    <tr>\n",
       "      <th>8802</th>\n",
       "      <td>s8803</td>\n",
       "      <td>Movie</td>\n",
       "      <td>Zodiac</td>\n",
       "      <td>David Fincher</td>\n",
       "      <td>Mark Ruffalo, Jake Gyllenhaal, Robert Downey J...</td>\n",
       "      <td>United States</td>\n",
       "      <td>2019-11-20</td>\n",
       "      <td>2007</td>\n",
       "      <td>R</td>\n",
       "      <td>158</td>\n",
       "      <td>[Cult Movies,  Dramas,  Thrillers]</td>\n",
       "      <td>A political cartoonist, a crime reporter and a...</td>\n",
       "      <td>158.0</td>\n",
       "    </tr>\n",
       "    <tr>\n",
       "      <th>8803</th>\n",
       "      <td>s8804</td>\n",
       "      <td>TV Show</td>\n",
       "      <td>Zombie Dumb</td>\n",
       "      <td>Unknown</td>\n",
       "      <td>Unknown</td>\n",
       "      <td>NaN</td>\n",
       "      <td>2019-07-01</td>\n",
       "      <td>2018</td>\n",
       "      <td>TV-Y7</td>\n",
       "      <td>2 Seaon</td>\n",
       "      <td>[Kids' TV,  Korean TV Shows,  TV Comedies]</td>\n",
       "      <td>While living alone in a spooky town, a young g...</td>\n",
       "      <td>NaN</td>\n",
       "    </tr>\n",
       "    <tr>\n",
       "      <th>8804</th>\n",
       "      <td>s8805</td>\n",
       "      <td>Movie</td>\n",
       "      <td>Zombieland</td>\n",
       "      <td>Ruben Fleischer</td>\n",
       "      <td>Jesse Eisenberg, Woody Harrelson, Emma Stone, ...</td>\n",
       "      <td>United States</td>\n",
       "      <td>2019-11-01</td>\n",
       "      <td>2009</td>\n",
       "      <td>R</td>\n",
       "      <td>88</td>\n",
       "      <td>[Comedies,  Horror Movies]</td>\n",
       "      <td>Looking to survive in a world taken over by zo...</td>\n",
       "      <td>88.0</td>\n",
       "    </tr>\n",
       "    <tr>\n",
       "      <th>8805</th>\n",
       "      <td>s8806</td>\n",
       "      <td>Movie</td>\n",
       "      <td>Zoom</td>\n",
       "      <td>Peter Hewitt</td>\n",
       "      <td>Tim Allen, Courteney Cox, Chevy Chase, Kate Ma...</td>\n",
       "      <td>United States</td>\n",
       "      <td>2020-01-11</td>\n",
       "      <td>2006</td>\n",
       "      <td>PG</td>\n",
       "      <td>88</td>\n",
       "      <td>[Children &amp; Family Movies,  Comedies]</td>\n",
       "      <td>Dragged from civilian life, a former superhero...</td>\n",
       "      <td>88.0</td>\n",
       "    </tr>\n",
       "    <tr>\n",
       "      <th>8806</th>\n",
       "      <td>s8807</td>\n",
       "      <td>Movie</td>\n",
       "      <td>Zubaan</td>\n",
       "      <td>Mozez Singh</td>\n",
       "      <td>Vicky Kaushal, Sarah-Jane Dias, Raaghav Chanan...</td>\n",
       "      <td>India</td>\n",
       "      <td>2019-03-02</td>\n",
       "      <td>2015</td>\n",
       "      <td>TV-14</td>\n",
       "      <td>111</td>\n",
       "      <td>[Dramas,  International Movies,  Music &amp; Music...</td>\n",
       "      <td>A scrappy but poor boy worms his way into a ty...</td>\n",
       "      <td>111.0</td>\n",
       "    </tr>\n",
       "  </tbody>\n",
       "</table>\n",
       "<p>8797 rows × 13 columns</p>\n",
       "</div>"
      ]
     },
     "execution_count": 82,
     "metadata": {},
     "output_type": "execute_result"
    }
   ],
   "execution_count": 82
  },
  {
   "metadata": {},
   "cell_type": "markdown",
   "source": [
    "## Step 3: Gain Insights from Data (Analysis & Transformation)\n",
    "    (1) In which year was the most content released? Find the top 5 years using the release_year column.\n",
    "    (2) In which month was the most content added? (Use the date_added column).\n",
    "    (3) Who are the top 5 directors with the most movies?\n",
    "    (4) Who are the top 10 actors who have appeared in the most movies/shows?\n",
    "    (5) Create a list of all Movies that were produced in India (country = 'India').\n",
    "    (6) Feature Engineering (Time): From the date_added (datetime) column, create new columns for added_year, added_month,\n",
    "     and added_day_of_week.\n",
    "    (7) Old vs. New Content: What is the average time lag between the release_year and the date_added? This tells you how\n",
    "     old content generally is when it arrives on Netflix.\n",
    "    (8) Content by Decade: Create a new column called release_decade (e.g., 1990s, 2000s, 2010s). Which decade has produced\n",
    "     the most content?\n",
    "    (9) Longest Movies: After cleaning the duration column, find the top 10 longest movies on Netflix.\n",
    "    (10) Most Seasons in TV Shows: Find the top 10 TV shows with the most seasons.\n",
    "    (11) Director-Genre Specialization: Find the top director for the \"Dramas\" genre. Who is the top director for \"Comedies\"?\n",
    "    (12) Actor-Director Collaboration: Which actor and director pair has collaborated the most?\n",
    "    (13) Country-Specific Analysis: What is the most common genre for content produced in 'India'? What about in the 'United\n",
    "     States'?\n",
    "    (14) Content Targeting: Which rating is most common for Movies? Is it different for TV Shows?\n",
    "    (15) Text Analysis: Analyze the description column. What are the most common words found in the descriptions of 'Horror'\n",
    "     Movies'?"
   ],
   "id": "fca988aee7b8c0db"
  },
  {
   "metadata": {
    "ExecuteTime": {
     "end_time": "2025-09-27T14:04:50.901080Z",
     "start_time": "2025-09-24T12:15:47.870125Z"
    }
   },
   "cell_type": "code",
   "source": "# 1. In which year was the most content released? Find the top 5 years using the release_year column.",
   "id": "e6d0011dc4038e08",
   "outputs": [],
   "execution_count": 16
  },
  {
   "metadata": {
    "ExecuteTime": {
     "end_time": "2025-09-27T14:04:50.901080Z",
     "start_time": "2025-09-24T12:15:47.884124Z"
    }
   },
   "cell_type": "code",
   "source": "# 2. In which month was the most content added? (Use the date_added column).",
   "id": "f92ab31e5101efec",
   "outputs": [],
   "execution_count": 17
  },
  {
   "metadata": {
    "ExecuteTime": {
     "end_time": "2025-09-27T14:04:50.909927900Z",
     "start_time": "2025-09-24T12:15:47.897318Z"
    }
   },
   "cell_type": "code",
   "source": "# 3. Who are the top 5 directors with the most movies?",
   "id": "95e43ad614c190fd",
   "outputs": [],
   "execution_count": 18
  },
  {
   "metadata": {
    "ExecuteTime": {
     "end_time": "2025-09-27T14:04:50.911935300Z",
     "start_time": "2025-09-24T12:15:47.911225Z"
    }
   },
   "cell_type": "code",
   "source": "# 4. Who are the top 10 actors who have appeared in the most movies/shows?",
   "id": "2442a83bd34855d5",
   "outputs": [],
   "execution_count": 19
  },
  {
   "metadata": {
    "ExecuteTime": {
     "end_time": "2025-09-27T14:04:50.911935300Z",
     "start_time": "2025-09-24T12:15:47.924869Z"
    }
   },
   "cell_type": "code",
   "source": "# 5. Create a list of all Movies that were produced in India (country = 'India').",
   "id": "cb14f51e5e3e224d",
   "outputs": [],
   "execution_count": 20
  },
  {
   "metadata": {},
   "cell_type": "code",
   "outputs": [],
   "execution_count": null,
   "source": "# 6. Feature Engineering (Time): From the date_added (datetime) column, create new columns for added_year, added_month, and added_day_of_week.",
   "id": "ce770228db9e3899"
  },
  {
   "metadata": {},
   "cell_type": "code",
   "outputs": [],
   "execution_count": null,
   "source": "# 7. Old vs. New Content: What is the average time lag between the release_year and the date_added? This tells you how old content generally is when it arrives on Netflix.",
   "id": "91fad39839d6b39"
  },
  {
   "metadata": {},
   "cell_type": "code",
   "outputs": [],
   "execution_count": null,
   "source": "# 8. Content by Decade: Create a new column called release_decade (e.g., 1990s, 2000s, 2010s). Which decade has produced the most content?",
   "id": "c87ecb18ae6f64b7"
  },
  {
   "metadata": {},
   "cell_type": "code",
   "outputs": [],
   "execution_count": null,
   "source": "# 9. Longest Movies: After cleaning the duration column, find the top 10 longest movies on Netflix.",
   "id": "cb2c347211bdad0e"
  },
  {
   "metadata": {},
   "cell_type": "code",
   "outputs": [],
   "execution_count": null,
   "source": "# 10. Most Seasons in TV Shows: Find the top 10 TV shows with the most seasons.",
   "id": "14d8125867c085f4"
  },
  {
   "metadata": {},
   "cell_type": "code",
   "outputs": [],
   "execution_count": null,
   "source": "# 11. Director-Genre Specialization: Find the top director for the \"Dramas\" genre. Who is the top director for \"Comedies\"?",
   "id": "e590217439073ffa"
  },
  {
   "metadata": {},
   "cell_type": "code",
   "outputs": [],
   "execution_count": null,
   "source": "# 12. Actor-Director Collaboration: Which actor and director pair has collaborated the most?",
   "id": "186c963031ac4647"
  },
  {
   "metadata": {},
   "cell_type": "code",
   "outputs": [],
   "execution_count": null,
   "source": "# 13. Country-Specific Analysis: What is the most common genre for content produced in 'India'? What about in the 'United States'?",
   "id": "d92927719824c783"
  },
  {
   "metadata": {},
   "cell_type": "code",
   "outputs": [],
   "execution_count": null,
   "source": "# 14. Content Targeting: Which rating is most common for Movies? Is it different for TV Shows?",
   "id": "582ab6dfa24a9e30"
  },
  {
   "metadata": {},
   "cell_type": "code",
   "outputs": [],
   "execution_count": null,
   "source": "# 15. Text Analysis: Analyze the description column. What are the most common words found in the descriptions of 'Horror Movies'?",
   "id": "2f3029a4da7ae788"
  },
  {
   "metadata": {},
   "cell_type": "markdown",
   "source": [
    "## Step 4: Visualize the Data (Plotting) 📊\n",
    "    (1) Create a bar chart to show the count of Movies vs. TV Shows available on Netflix.\n",
    "    (2) Create a histogram to show the distribution of release_year. (e.g., how many titles were released in the\n",
    "     1990s, 2000s, etc.).\n",
    "    (3) Create a bar chart showing the top 10 countries that produce the most content.\n",
    "    (4) What is the proportion of different ratings (e.g., TV-MA, TV-14, R)? You can create a pie chart for this.\n",
    "    (5) Create a line chart that shows the number of titles added each year (release_year). This will give you a trend\n",
    "     of content growth over time.\n",
    "\n",
    "     Comparisons & Rankings (Bar Charts)\n",
    "        (11) Content Type Distribution: Create a bar chart comparing the total number of Movies vs. TV Shows.\n",
    "        (6) Top Content-Producing Countries: Visualize the top 10 countries with the most content using a horizontal bar\n",
    "         chart.\n",
    "        (7) Most Common Genres: Create a bar chart showing the top 15 most common genres.\n",
    "        (8) Peak Addition Months: Create a bar chart showing the number of titles added per month. Which are the busiest\n",
    "         months?\n",
    "        (9) Audience Ratings Distribution: Use a bar chart to show the count of content across different ratings.\n",
    "        (10) Movies vs. TV Shows by Country: Create a stacked bar chart for the top 10 countries, showing the proportion\n",
    "         of Movies vs. TV Shows within each country.\n",
    "\n",
    "    Trends Over Time (Line Charts)\n",
    "        (12) Content Growth Over Years: Plot a line chart showing the number of titles added to Netflix each year.\n",
    "        (13) Separate Growth Trends: On a single graph, plot two lines: one for the growth of Movies and one for TV Shows\n",
    "         added over time.\n",
    "        (14) Cumulative Content Growth: Create a line chart showing the cumulative sum of content added over the years.\n",
    "\n",
    "    Distributions (Histograms & Box Plots)\n",
    "        (15) Release Year Distribution: Create a histogram to understand the distribution of content based on\n",
    "         release_year.\n",
    "        (16) Movie Duration Analysis: Create a histogram to show the distribution of movie durations (in minutes).\n",
    "        (17) TV Show Season Analysis: Create a histogram to see the distribution of the number of seasons for TV shows.\n",
    "        (18) Duration Outliers: Use a box plot to visualize the spread of movie durations and identify outliers.\n",
    "        (19) Duration by Rating: Create box plots to compare movie durations across different ratings (e.g., 'R',\n",
    "         'PG-13').\n",
    "\n",
    "    Proportions & Text (Pie Charts & Word Clouds)\n",
    "        (20) Content Type Share: Create a pie chart to show the percentage share of Movies vs. TV Shows.\n",
    "        (21) Common Genre Keywords: Create a word cloud from the listed_in column to visually represent the most frequent\n",
    "         genre tags."
   ],
   "id": "aba756fbd424512"
  },
  {
   "metadata": {
    "ExecuteTime": {
     "end_time": "2025-09-27T14:04:50.911935300Z",
     "start_time": "2025-09-24T12:15:47.938544Z"
    }
   },
   "cell_type": "code",
   "source": "# 1. Create a bar chart to show the count of Movies vs. TV Shows available on Netflix.",
   "id": "4f4aef9191a494dc",
   "outputs": [],
   "execution_count": 21
  },
  {
   "metadata": {
    "ExecuteTime": {
     "end_time": "2025-09-27T14:04:50.914877400Z",
     "start_time": "2025-09-24T12:15:47.952796Z"
    }
   },
   "cell_type": "code",
   "source": "# 2. Create a histogram to show the distribution of release_year. (e.g., how many titles were released in the 1990s, 2000s, etc.).",
   "id": "191b1c5e328399e0",
   "outputs": [],
   "execution_count": 22
  },
  {
   "metadata": {
    "ExecuteTime": {
     "end_time": "2025-09-27T14:04:50.914877400Z",
     "start_time": "2025-09-24T12:15:47.966422Z"
    }
   },
   "cell_type": "code",
   "source": "# 3. Create a bar chart showing the top 10 countries that produce the most content.",
   "id": "8ff7b9f0dedb1ee",
   "outputs": [],
   "execution_count": 23
  },
  {
   "metadata": {
    "ExecuteTime": {
     "end_time": "2025-09-27T14:04:50.914877400Z",
     "start_time": "2025-09-24T12:15:47.981253Z"
    }
   },
   "cell_type": "code",
   "source": "# 4. What is the proportion of different ratings (e.g., TV-MA, TV-14, R)? You can create a pie chart for this.",
   "id": "135cd79fffd363a4",
   "outputs": [],
   "execution_count": 24
  },
  {
   "metadata": {
    "ExecuteTime": {
     "end_time": "2025-09-27T14:04:50.916884100Z",
     "start_time": "2025-09-24T12:15:47.995167Z"
    }
   },
   "cell_type": "code",
   "source": "# 5. Create a line chart that shows the number of titles added each year (release_year). This will give you a trend of content growth over time.",
   "id": "164b9ce4e0d402d1",
   "outputs": [],
   "execution_count": 25
  },
  {
   "metadata": {},
   "cell_type": "code",
   "outputs": [],
   "execution_count": null,
   "source": "# 6. Top Content-Producing Countries: Visualize the top 10 countries with the most content using a horizontal bar chart.",
   "id": "68f4eed15f334c6c"
  },
  {
   "metadata": {},
   "cell_type": "code",
   "outputs": [],
   "execution_count": null,
   "source": "# 7. Most Common Genres: Create a bar chart showing the top 15 most common",
   "id": "e743a2d45ee23fc1"
  },
  {
   "metadata": {},
   "cell_type": "code",
   "outputs": [],
   "execution_count": null,
   "source": "# 8. Peak Addition Months: Create a bar chart showing the number of titles added per month. Which are the busiest months?",
   "id": "3bbfe3055fd23338"
  },
  {
   "metadata": {},
   "cell_type": "code",
   "outputs": [],
   "execution_count": null,
   "source": "# 9. Audience Ratings Distribution: Use a bar chart to show the count of content across different ratings.",
   "id": "da3593cf3165bba"
  },
  {
   "metadata": {},
   "cell_type": "code",
   "outputs": [],
   "execution_count": null,
   "source": "# 10. Movies vs. TV Shows by Country: Create a stacked bar chart for the top 10 countries, showing the proportion of Movies vs. TV Shows within each country.",
   "id": "56c141593bd35b"
  },
  {
   "metadata": {},
   "cell_type": "code",
   "outputs": [],
   "execution_count": null,
   "source": "# 11. Content Type Distribution: Create a bar chart comparing the total number of Movies vs. TV Shows.",
   "id": "ee1f4be49de9b1bf"
  },
  {
   "metadata": {},
   "cell_type": "code",
   "outputs": [],
   "execution_count": null,
   "source": "# 12. Content Growth Over Years: Plot a line chart showing the number of titles added to Netflix each year.",
   "id": "ef466b20526ae502"
  },
  {
   "metadata": {},
   "cell_type": "code",
   "outputs": [],
   "execution_count": null,
   "source": "# 13. Separate Growth Trends: On a single graph, plot two lines: one for the growth of Movies and one for TV Shows added over time.",
   "id": "a1555dcc79f11c16"
  },
  {
   "metadata": {},
   "cell_type": "code",
   "outputs": [],
   "execution_count": null,
   "source": "# 14. Cumulative Content Growth: Create a line chart showing the cumulative sum of content added over the years.",
   "id": "e1439be2a99769f6"
  },
  {
   "metadata": {},
   "cell_type": "code",
   "outputs": [],
   "execution_count": null,
   "source": "# 15. Release Year Distribution: Create a histogram to understand the distribution of content based on release_year.",
   "id": "3b4e0a4d567f9b27"
  },
  {
   "metadata": {},
   "cell_type": "code",
   "outputs": [],
   "execution_count": null,
   "source": "# 16. Movie Duration Analysis: Create a histogram to show the distribution of movie durations (in minutes).",
   "id": "30dcaff7807f515d"
  },
  {
   "metadata": {},
   "cell_type": "code",
   "outputs": [],
   "execution_count": null,
   "source": "# 17. TV Show Season Analysis: Create a histogram to see the distribution of the number of seasons for TV shows.",
   "id": "5707b644b51dc83a"
  },
  {
   "metadata": {},
   "cell_type": "code",
   "outputs": [],
   "execution_count": null,
   "source": "# 18. Duration Outliers: Use a box plot to visualize the spread of movie durations and identify outliers.",
   "id": "9e7041f886b17e8a"
  },
  {
   "metadata": {},
   "cell_type": "code",
   "outputs": [],
   "execution_count": null,
   "source": "# 19. Duration by Rating: Create box plots to compare movie durations across different ratings (e.g., 'R', 'PG-13').",
   "id": "11aa6669a3d027db"
  },
  {
   "metadata": {},
   "cell_type": "code",
   "outputs": [],
   "execution_count": null,
   "source": "# 20. Content Type Share: Create a pie chart to show the percentage share of Movies vs. TV Shows.",
   "id": "cc7e3868c6c6dd5e"
  }
 ],
 "metadata": {
  "kernelspec": {
   "display_name": "Python 3",
   "language": "python",
   "name": "python3"
  },
  "language_info": {
   "codemirror_mode": {
    "name": "ipython",
    "version": 2
   },
   "file_extension": ".py",
   "mimetype": "text/x-python",
   "name": "python",
   "nbconvert_exporter": "python",
   "pygments_lexer": "ipython2",
   "version": "2.7.6"
  }
 },
 "nbformat": 4,
 "nbformat_minor": 5
}
