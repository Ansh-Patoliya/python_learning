{
 "cells": [
  {
   "metadata": {},
   "cell_type": "markdown",
   "source": "# 📓 Sales Data Analyzer",
   "id": "d1efa953db6bf2db"
  },
  {
   "metadata": {
    "ExecuteTime": {
     "end_time": "2025-09-07T13:09:12.788278Z",
     "start_time": "2025-09-07T13:09:11.450306Z"
    }
   },
   "cell_type": "code",
   "source": [
    "import math\n",
    "from statistics import stdev\n",
    "from traceback import format_exc\n",
    "\n",
    "import numpy as np"
   ],
   "id": "5920c104a86068c4",
   "outputs": [],
   "execution_count": 3
  },
  {
   "metadata": {
    "ExecuteTime": {
     "end_time": "2025-09-07T13:09:13.203443Z",
     "start_time": "2025-09-07T13:09:12.794913Z"
    }
   },
   "cell_type": "code",
   "source": [
    "# sales_data[year,month,product]\n",
    "years = np.array([2022, 2023, 2024])\n",
    "months = np.array([1, 2, 3, 4, 5, 6, 7, 8, 9, 10, 11, 12])\n",
    "products = np.array(['mobile', 'laptop', 'tablet', 'accessory'])\n",
    "# Create reproducible random data\n",
    "np.random.seed(0)\n",
    "sales_data = np.random.randint(100, 1000, (3, 12, 4))"
   ],
   "id": "80d2355877358858",
   "outputs": [],
   "execution_count": 4
  },
  {
   "metadata": {
    "ExecuteTime": {
     "end_time": "2025-09-07T13:09:13.219285Z",
     "start_time": "2025-09-07T13:09:13.215545Z"
    }
   },
   "cell_type": "code",
   "source": [
    "def get_monthly_sale(year=2024, month=1):\n",
    "    year = year - 2022\n",
    "    month = month - 1\n",
    "    monthly_sale = sales_data[year, month, :]\n",
    "    print(f\"month = {months[month]} , year = {years[year]}\")\n",
    "\n",
    "    print(f\"{products[0]} = {monthly_sale[0]}\")\n",
    "    print(f\"{products[1]} = {monthly_sale[1]}\")\n",
    "    print(f\"{products[2]} = {monthly_sale[2]}\")\n",
    "    print(f\"{products[3]} = {monthly_sale[3]}\")"
   ],
   "id": "2c3e12533f5ff597",
   "outputs": [],
   "execution_count": 5
  },
  {
   "metadata": {
    "ExecuteTime": {
     "end_time": "2025-09-07T13:09:13.230915Z",
     "start_time": "2025-09-07T13:09:13.227742Z"
    }
   },
   "cell_type": "code",
   "source": [
    "def get_yearly_product_sale(year=2024, product=0):\n",
    "    year = year - 2022\n",
    "    yearly_product_sale = np.sum(sales_data[year, :, product])\n",
    "    # merge this 2 print statements into one\n",
    "    print(f\"year = {years[year]} , product = {products[product]} , yearly sale = {yearly_product_sale}\")"
   ],
   "id": "14fa897b8e93707c",
   "outputs": [],
   "execution_count": 6
  },
  {
   "metadata": {
    "ExecuteTime": {
     "end_time": "2025-09-07T13:09:13.241372Z",
     "start_time": "2025-09-07T13:09:13.238339Z"
    }
   },
   "cell_type": "code",
   "source": [
    "def get_yearly_total_sale(year=2024):\n",
    "    year = year - 2022\n",
    "    yearly_total_sale = np.min(sales_data[year, :, :])\n",
    "    print(yearly_total_sale)\n",
    "\n",
    "\n",
    "get_yearly_total_sale()"
   ],
   "id": "eb69231923950e81",
   "outputs": [
    {
     "name": "stdout",
     "output_type": "stream",
     "text": [
      "123\n"
     ]
    }
   ],
   "execution_count": 7
  },
  {
   "metadata": {},
   "cell_type": "markdown",
   "source": [
    "### make questions according to sales data and cover all numpy concepts\n",
    "    - What is the total sales for each product across all years?\n",
    "    - What is the average sales for each product across all years?\n",
    "    - Which product had the highest sales in 2023?\n",
    "    - Which year had the highest total sales?\n",
    "    - Which product had the lowest sales in 2021?\n",
    "    - Which month had the highest sales for laptops in 2024?\n",
    "    - Which product showed the most consistent sales across all years?\n",
    "    - What is the percentage increase in sales for each product from 2022 to 2024?\n",
    "    - What is the correlation between sales of different products across all years?\n",
    "    - How many months did each product exceed a sales threshold of 500 units in 2023?\n",
    "    - What is the moving average of sales for each product over the 3 years?\n",
    "    - Which product had the highest sales growth rate from 2022 to 2024?\n",
    "    - What is the standard deviation of sales for each product across all years?\n",
    "    - Which month had the lowest total sales across all products in 2022?\n",
    "    - What is the median sales for each product across all years?\n",
    "    - Which product had the highest sales in Q1 of 2023?\n",
    "    - Which year had the lowest total sales?\n",
    "    - What is the range of sales for each product across all years?\n",
    "    - Which product had the highest sales in December across all years?\n",
    "    - What is the skewness of sales distribution for each product across all years?"
   ],
   "id": "c91b48061f5f2a8b"
  },
  {
   "metadata": {
    "ExecuteTime": {
     "end_time": "2025-09-07T13:09:13.262507Z",
     "start_time": "2025-09-07T13:09:13.259422Z"
    }
   },
   "cell_type": "code",
   "source": [
    "# What is the total sales for each product across all years?\n",
    "sales_data_2d = sales_data.reshape(-1, 4)\n",
    "total_sale_each_product = np.sum(sales_data_2d[:, :], axis=0)\n",
    "print(\n",
    "    f\"mobile={total_sale_each_product[0]},laptop={total_sale_each_product[1]},tablet={total_sale_each_product[2]},accessory={total_sale_each_product[3]}\")"
   ],
   "id": "98b81e8fe79bc18d",
   "outputs": [
    {
     "name": "stdout",
     "output_type": "stream",
     "text": [
      "mobile=20334,laptop=24088,tablet=18519,accessory=18497\n"
     ]
    }
   ],
   "execution_count": 8
  },
  {
   "metadata": {
    "ExecuteTime": {
     "end_time": "2025-09-07T13:09:13.290454Z",
     "start_time": "2025-09-07T13:09:13.287098Z"
    }
   },
   "cell_type": "code",
   "source": [
    "# What is the average sales for each product across all years?\n",
    "total_sale_avg_each_product = [math.floor(i * 100) / 100 for i in np.mean(sales_data_2d[:, :], axis=0)]\n",
    "print(\n",
    "    f\"mobile={total_sale_avg_each_product[0]},laptop={total_sale_avg_each_product[1]},tablet={total_sale_avg_each_product[2]},accessory={total_sale_avg_each_product[3]}\")"
   ],
   "id": "44d5f2e8805f5b95",
   "outputs": [
    {
     "name": "stdout",
     "output_type": "stream",
     "text": [
      "mobile=564.83,laptop=669.11,tablet=514.41,accessory=513.8\n"
     ]
    }
   ],
   "execution_count": 9
  },
  {
   "metadata": {
    "ExecuteTime": {
     "end_time": "2025-09-07T13:09:13.310554Z",
     "start_time": "2025-09-07T13:09:13.307004Z"
    }
   },
   "cell_type": "code",
   "source": [
    "# Which product had the highest sales in 2023?\n",
    "highest_sales_2023_index = np.argmax(np.sum(sales_data[1, :, :], axis=0))\n",
    "print(f\"product={products[highest_sales_2023_index]}, sales={np.max(np.sum(sales_data[1, :, :], axis=0))}\")"
   ],
   "id": "5d04a497a0028d91",
   "outputs": [
    {
     "name": "stdout",
     "output_type": "stream",
     "text": [
      "product=laptop, sales=7463\n"
     ]
    }
   ],
   "execution_count": 10
  },
  {
   "metadata": {
    "ExecuteTime": {
     "end_time": "2025-09-07T13:09:13.338010Z",
     "start_time": "2025-09-07T13:09:13.333710Z"
    }
   },
   "cell_type": "code",
   "source": [
    "# Which year had the highest total sales?\n",
    "highest_total_sales_year = np.argmax(np.sum(sales_data[:, :, :], axis=(0, 1)))\n",
    "print(f\"year={years[highest_total_sales_year]}, sales={np.max(np.sum(sales_data[:, :, :], axis=(0, 1)))}\")"
   ],
   "id": "5eed5cb02be04ead",
   "outputs": [
    {
     "name": "stdout",
     "output_type": "stream",
     "text": [
      "year=2023, sales=24088\n"
     ]
    }
   ],
   "execution_count": 11
  },
  {
   "metadata": {
    "ExecuteTime": {
     "end_time": "2025-09-07T13:09:13.359972Z",
     "start_time": "2025-09-07T13:09:13.355531Z"
    }
   },
   "cell_type": "code",
   "source": [
    "# Which product had the lowest sales in 2022?\n",
    "lowest_sales_2022 = np.argmin(np.sum(sales_data[0, :, :], axis=0))\n",
    "print(f\"product={products[lowest_sales_2022]}, sales={np.min(np.sum(sales_data[0, :, :], axis=0))}\")"
   ],
   "id": "5a68c5f75d90542e",
   "outputs": [
    {
     "name": "stdout",
     "output_type": "stream",
     "text": [
      "product=accessory, sales=5960\n"
     ]
    }
   ],
   "execution_count": 12
  },
  {
   "metadata": {
    "ExecuteTime": {
     "end_time": "2025-09-07T13:09:13.376979Z",
     "start_time": "2025-09-07T13:09:13.373256Z"
    }
   },
   "cell_type": "code",
   "source": [
    "# Which month had the highest sales for laptops in 2024?\n",
    "highest_sales_laptops_2024 = np.argmax(sales_data[2, :, 1])\n",
    "print(f\"month={months[highest_sales_laptops_2024]}, sales={np.max(sales_data[2, :, 1])}\")"
   ],
   "id": "8261bc42abf39c98",
   "outputs": [
    {
     "name": "stdout",
     "output_type": "stream",
     "text": [
      "month=6, sales=981\n"
     ]
    }
   ],
   "execution_count": 13
  },
  {
   "metadata": {
    "ExecuteTime": {
     "end_time": "2025-09-07T13:09:13.393500Z",
     "start_time": "2025-09-07T13:09:13.389972Z"
    }
   },
   "cell_type": "code",
   "source": [
    "# Which product showed the most consistent sales across all years?\n",
    "most_consistent_sales = np.argmin(np.std(sales_data[:, :, :], axis=(0, 1)))\n",
    "print(f\"product={products[most_consistent_sales]}\")"
   ],
   "id": "136e5ad07066f104",
   "outputs": [
    {
     "name": "stdout",
     "output_type": "stream",
     "text": [
      "product=mobile\n"
     ]
    }
   ],
   "execution_count": 14
  },
  {
   "metadata": {
    "ExecuteTime": {
     "end_time": "2025-09-07T13:28:47.354844Z",
     "start_time": "2025-09-07T13:28:47.349582Z"
    }
   },
   "cell_type": "code",
   "source": [
    "# What is the percentage increase in sales for each product from 2022 to 2024?\n",
    "for i in range(4):\n",
    "    total_2022 = np.sum(sales_data[0, :, i])\n",
    "    total_2024 = np.sum(sales_data[2, :, i])\n",
    "    diff = total_2024 - total_2022\n",
    "    pr = (diff / total_2022) * 100\n",
    "    print(f\"product = {products[i]}, percentage increase = {pr:.2f}%\")\n",
    "    i+=1"
   ],
   "id": "7c334a1295238578",
   "outputs": [
    {
     "name": "stdout",
     "output_type": "stream",
     "text": [
      "product = mobile, percentage increase = -31.32%\n",
      "product = laptop, percentage increase = -1.04%\n",
      "product = tablet, percentage increase = -14.18%\n",
      "product = accessory, percentage increase = 18.37%\n"
     ]
    }
   ],
   "execution_count": 44
  },
  {
   "metadata": {
    "ExecuteTime": {
     "end_time": "2025-09-07T13:33:40.895898Z",
     "start_time": "2025-09-07T13:33:40.890154Z"
    }
   },
   "cell_type": "code",
   "source": [
    "# What is the correlation between sales of different products across all years?\n",
    "for i in range(4):\n",
    "    for j in range(i+1,4):\n",
    "        year_i=sales_data[:,:,i].flatten()\n",
    "        year_j=sales_data[:,:,j].flatten()\n",
    "        correlation_product=np.corrcoef(year_i,year_j)\n",
    "        print(f\"product1 = {products[i]} , product2 = {products[j]} , correlation = {correlation_product[0,1]:.2f}\")"
   ],
   "id": "aea7f783b7ad5bc3",
   "outputs": [
    {
     "name": "stdout",
     "output_type": "stream",
     "text": [
      "product1 = mobile , product2 = laptop , correlation = -0.20\n",
      "product1 = mobile , product2 = tablet , correlation = 0.23\n",
      "product1 = mobile , product2 = accessory , correlation = -0.25\n",
      "product1 = laptop , product2 = tablet , correlation = -0.09\n",
      "product1 = laptop , product2 = accessory , correlation = -0.05\n",
      "product1 = tablet , product2 = accessory , correlation = -0.20\n"
     ]
    }
   ],
   "execution_count": 52
  },
  {
   "metadata": {
    "ExecuteTime": {
     "end_time": "2025-09-07T13:09:13.489746Z",
     "start_time": "2025-09-07T13:09:13.486347Z"
    }
   },
   "cell_type": "code",
   "source": [
    "# How many months did each product exceed a sales threshold of 500 units in 2023?\n",
    "count = 0\n",
    "for i in range(4):\n",
    "    for sale in np.nditer(sales_data[1, :, i]):\n",
    "        if sale > 500:\n",
    "            count += 1\n",
    "\n",
    "    print(f\"product={products[i]}, count={count}\")\n",
    "    count = 0"
   ],
   "id": "4d0f84bad337ece6",
   "outputs": [
    {
     "name": "stdout",
     "output_type": "stream",
     "text": [
      "product=mobile, count=6\n",
      "product=laptop, count=8\n",
      "product=tablet, count=6\n",
      "product=accessory, count=5\n"
     ]
    }
   ],
   "execution_count": 17
  },
  {
   "metadata": {
    "ExecuteTime": {
     "end_time": "2025-09-07T17:25:48.816707Z",
     "start_time": "2025-09-07T17:25:48.807537Z"
    }
   },
   "cell_type": "code",
   "source": [
    "# What is the moving average of sales for each product over the 3 years?\n",
    "for i in range(4):\n",
    "    moving_avg = np.convolve(sales_data[:, :, i].flatten(), np.ones(3) / 3, mode='valid')\n",
    "    moving_avg = [math.floor(j * 100) / 100 for j in moving_avg]\n",
    "    print(f\"product={products[i]}, moving_avg={moving_avg}\")"
   ],
   "id": "c65ab00ad33621f4",
   "outputs": [
    {
     "name": "stdout",
     "output_type": "stream",
     "text": [
      "product=mobile, moving_avg=[1828.0, 1948.0, 1713.0, 2190.0, 1986.0, 2231.0, 2500.0, 2348.0, 2258.0, 1926.0, 2117.0, 1606.0, 1642.0, 1805.0, 2111.0, 1987.0, 1627.0, 1398.0, 1182.0, 831.0, 1075.0, 1280.0, 1320.0, 898.0, 1293.0, 1467.0, 1772.0, 1309.0, 1820.0, 1926.0, 2182.0, 1389.0, 933.0, 1015.0]\n",
      "product=laptop, moving_avg=[2345.0, 2385.0, 2018.0, 1846.0, 2096.0, 1772.0, 1930.0, 1931.0, 2656.0, 2235.0, 1929.0, 1283.0, 1877.0, 1461.0, 1798.0, 1304.0, 1719.0, 1288.0, 1679.0, 2032.0, 2608.0, 2603.0, 2575.0, 2602.0, 2201.0, 1914.0, 1349.0, 1857.0, 2137.0, 2410.0, 1899.0, 1737.0, 1943.0, 2312.0]\n",
      "product=tablet, moving_avg=[1913.0, 1354.0, 961.0, 771.0, 1378.0, 1841.0, 2601.0, 2023.0, 1905.0, 1323.0, 1767.0, 1783.0, 1701.0, 1286.0, 1367.0, 1801.0, 2561.0, 2096.0, 1909.0, 1419.0, 1212.0, 829.0, 611.0, 754.0, 1560.0, 1549.0, 1519.0, 1356.0, 1574.0, 1578.0, 1443.0, 1186.0, 1719.0, 1312.0]\n",
      "product=accessory, moving_avg=[1605.0, 1885.0, 2231.0, 1651.0, 1716.0, 1126.0, 1383.0, 1023.0, 1055.0, 1321.0, 1858.0, 2221.0, 1552.0, 891.0, 654.0, 668.0, 872.0, 1469.0, 1509.0, 1863.0, 1196.0, 1753.0, 1988.0, 2576.0, 2497.0, 2326.0, 2141.0, 1873.0, 1808.0, 1585.0, 1676.0, 1443.0, 1183.0, 1009.0]\n"
     ]
    }
   ],
   "execution_count": 72
  },
  {
   "metadata": {
    "ExecuteTime": {
     "end_time": "2025-09-07T17:24:10.125274Z",
     "start_time": "2025-09-07T17:24:10.117443Z"
    }
   },
   "cell_type": "code",
   "source": [
    "# Which product had the highest sales growth rate from 2022 to 2024?\n",
    "for i in range(4):\n",
    "    growth_rate = (np.sum(sales_data[2, :, i]) - np.sum(sales_data[0, :, i])) / np.sum(sales_data[0, :, i]) * 100\n",
    "    print(f\"product={products[i]}, growth_rate={growth_rate:.2f}%\")"
   ],
   "id": "fddba3ac40b15a57",
   "outputs": [
    {
     "name": "stdout",
     "output_type": "stream",
     "text": [
      "product=mobile, growth_rate=-31.32%\n",
      "product=laptop, growth_rate=-1.04%\n",
      "product=tablet, growth_rate=-14.18%\n",
      "product=accessory, growth_rate=18.37%\n"
     ]
    }
   ],
   "execution_count": 69
  },
  {
   "metadata": {
    "ExecuteTime": {
     "end_time": "2025-09-07T13:09:13.550946Z",
     "start_time": "2025-09-07T13:09:13.546957Z"
    }
   },
   "cell_type": "code",
   "source": [
    "# What is the standard deviation of sales for each product across all years?\n",
    "stddev_each_product = [math.floor(i * 100) / 100 for i in np.std(sales_data[:, :, :], axis=(0, 1))]\n",
    "print(\n",
    "    f\"mobile={stddev_each_product[0]},laptop={stddev_each_product[1]},tablet={stddev_each_product[2]},accessory={stddev_each_product[3]}\")"
   ],
   "id": "d6b9e217593691d2",
   "outputs": [
    {
     "name": "stdout",
     "output_type": "stream",
     "text": [
      "mobile=248.11,laptop=251.87,tablet=268.92,accessory=251.54\n"
     ]
    }
   ],
   "execution_count": 20
  },
  {
   "metadata": {
    "ExecuteTime": {
     "end_time": "2025-09-07T13:09:13.567870Z",
     "start_time": "2025-09-07T13:09:13.563889Z"
    }
   },
   "cell_type": "code",
   "source": [
    "# Which month had the lowest total sales across all products in 2022?\n",
    "lowest_total_sale_2022 = np.argmin(np.sum(sales_data[1, :, :], axis=1))\n",
    "print(f\"month={months[lowest_total_sale_2022]}, sales={np.min(np.sum(sales_data[1, :, :], axis=1))}\")"
   ],
   "id": "dde3846bb27f0497",
   "outputs": [
    {
     "name": "stdout",
     "output_type": "stream",
     "text": [
      "month=4, sales=1511\n"
     ]
    }
   ],
   "execution_count": 21
  },
  {
   "metadata": {
    "ExecuteTime": {
     "end_time": "2025-09-07T17:07:41.391828Z",
     "start_time": "2025-09-07T17:07:41.387481Z"
    }
   },
   "cell_type": "code",
   "source": [
    "# What is the median sales for each product across all years?\n",
    "median_sales=np.median(sales_data[:,:,:],axis=(0,1))\n",
    "print(f\"mobile={median_sales[0]},laptop={median_sales[1]},tablet={median_sales[2]},accessory={median_sales[3]}\")"
   ],
   "id": "5298e19680da986e",
   "outputs": [
    {
     "name": "stdout",
     "output_type": "stream",
     "text": [
      "mobile=572.5,laptop=690.0,tablet=450.5,accessory=483.0\n"
     ]
    }
   ],
   "execution_count": 58
  },
  {
   "metadata": {
    "ExecuteTime": {
     "end_time": "2025-09-07T17:15:41.715056Z",
     "start_time": "2025-09-07T17:15:41.710061Z"
    }
   },
   "cell_type": "code",
   "source": [
    "# Which product had the highest sales in Q1 of 2023?\n",
    "highest_sales_Q1_2023=(np.sum(sales_data[1,:3,:],axis=0))\n",
    "print(f\"product={products[np.argmax(highest_sales_Q1_2023)]}, sales={np.max(highest_sales_Q1_2023)}\")"
   ],
   "id": "a7a50ad653ea07a5",
   "outputs": [
    {
     "name": "stdout",
     "output_type": "stream",
     "text": [
      "product=laptop, sales=1877\n"
     ]
    }
   ],
   "execution_count": 65
  },
  {
   "metadata": {
    "ExecuteTime": {
     "end_time": "2025-09-07T13:09:13.606223Z",
     "start_time": "2025-09-07T13:09:13.602623Z"
    }
   },
   "cell_type": "code",
   "source": [
    "# Which year had the lowest total sales?\n",
    "lowest_total_sales_year = np.argmin(np.sum(sales_data[:, :, :], axis=(1, 2)))\n",
    "print(f\"year={years[lowest_total_sales_year]}, sales={np.min(np.sum(sales_data[:, :, :], axis=(1, 2)))}\")"
   ],
   "id": "50ec7cb393d6b8c4",
   "outputs": [
    {
     "name": "stdout",
     "output_type": "stream",
     "text": [
      "year=2023, sales=25276\n"
     ]
    }
   ],
   "execution_count": 24
  },
  {
   "metadata": {
    "ExecuteTime": {
     "end_time": "2025-09-07T13:09:13.623799Z",
     "start_time": "2025-09-07T13:09:13.619817Z"
    }
   },
   "cell_type": "code",
   "source": [
    "# What is the range of sales for each product across all years?\n",
    "for i in range(4):\n",
    "    print(f\"product={products[i]}, range={np.max(sales_data[:, :, i]) - np.min(sales_data[:, :, i])}\")"
   ],
   "id": "9dcaed775573be88",
   "outputs": [
    {
     "name": "stdout",
     "output_type": "stream",
     "text": [
      "product=mobile, range=836\n",
      "product=laptop, range=839\n",
      "product=tablet, range=841\n",
      "product=accessory, range=842\n"
     ]
    }
   ],
   "execution_count": 25
  },
  {
   "metadata": {
    "ExecuteTime": {
     "end_time": "2025-09-07T13:09:13.648208Z",
     "start_time": "2025-09-07T13:09:13.644661Z"
    }
   },
   "cell_type": "code",
   "source": [
    "# Which product had the highest sales in December across all years?\n",
    "highest_sales_december = np.argmax(np.sum(sales_data[:, 11, :], axis=0))\n",
    "print(f\"product={products[highest_sales_december]}, sales={np.max(np.sum(sales_data[:, 11, :], axis=0))}\")"
   ],
   "id": "ecb553f0f3c07292",
   "outputs": [
    {
     "name": "stdout",
     "output_type": "stream",
     "text": [
      "product=laptop, sales=2101\n"
     ]
    }
   ],
   "execution_count": 26
  },
  {
   "metadata": {
    "ExecuteTime": {
     "end_time": "2025-09-07T17:21:42.211855Z",
     "start_time": "2025-09-07T17:21:42.203871Z"
    }
   },
   "cell_type": "code",
   "source": [
    "# What is the skewness of sales distribution for each product across all years?\n",
    "for i in range(4):\n",
    "    flattened_data = sales_data[:, :, i].flatten()\n",
    "    mean = np.mean(flattened_data)\n",
    "    median = np.median(flattened_data)\n",
    "    std_dev = np.std(flattened_data)\n",
    "    print(f\"product={products[i]}, mean={mean:.2f}, median={median:.2f}, std_dev={std_dev:.2f}\", end=\", \")\n",
    "    if mean>median:\n",
    "        print(\"positively skewed\")\n",
    "    elif mean<median:\n",
    "        print(\"negatively skewed\")\n",
    "    else:\n",
    "        print(\"no skewness\")"
   ],
   "id": "6a1c9a6ad8ea6943",
   "outputs": [
    {
     "name": "stdout",
     "output_type": "stream",
     "text": [
      "product=mobile, mean=564.83, median=572.50, std_dev=248.11, negatively skewed\n",
      "product=laptop, mean=669.11, median=690.00, std_dev=251.88, negatively skewed\n",
      "product=tablet, mean=514.42, median=450.50, std_dev=268.92, positively skewed\n",
      "product=accessory, mean=513.81, median=483.00, std_dev=251.54, positively skewed\n"
     ]
    }
   ],
   "execution_count": 68
  }
 ],
 "metadata": {
  "kernelspec": {
   "display_name": "Python 3",
   "language": "python",
   "name": "python3"
  },
  "language_info": {
   "codemirror_mode": {
    "name": "ipython",
    "version": 2
   },
   "file_extension": ".py",
   "mimetype": "text/x-python",
   "name": "python",
   "nbconvert_exporter": "python",
   "pygments_lexer": "ipython2",
   "version": "2.7.6"
  }
 },
 "nbformat": 4,
 "nbformat_minor": 5
}
