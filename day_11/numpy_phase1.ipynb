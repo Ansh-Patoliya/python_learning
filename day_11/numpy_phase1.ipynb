{
 "cells": [
  {
   "cell_type": "code",
   "id": "6efbc65094a1a681",
   "metadata": {
    "ExecuteTime": {
     "end_time": "2025-09-03T06:32:29.336203Z",
     "start_time": "2025-09-03T06:32:29.269816Z"
    }
   },
   "source": "import numpy as np",
   "outputs": [],
   "execution_count": 1
  },
  {
   "cell_type": "markdown",
   "id": "9fae0c9d6c1e9a71",
   "metadata": {},
   "source": [
    "# Numpy Phase 1"
   ]
  },
  {
   "cell_type": "markdown",
   "id": "b14f0681bcf978ae",
   "metadata": {},
   "source": [
    "# Create a array\n",
    "    - np.array([list]) # give only one list argument"
   ]
  },
  {
   "cell_type": "code",
   "id": "71e4c11309854b5d",
   "metadata": {
    "ExecuteTime": {
     "end_time": "2025-09-03T06:32:29.346922Z",
     "start_time": "2025-09-03T06:32:29.343588Z"
    }
   },
   "source": [
    "array = np.array([1, 2, 3])\n",
    "print(array)"
   ],
   "outputs": [
    {
     "name": "stdout",
     "output_type": "stream",
     "text": [
      "[1 2 3]\n"
     ]
    }
   ],
   "execution_count": 2
  },
  {
   "metadata": {},
   "cell_type": "markdown",
   "source": [
    "# use arange to create an array\n",
    "    - np.arange(start,stop,step)\n"
   ],
   "id": "b61f133bbc881aa8"
  },
  {
   "metadata": {
    "ExecuteTime": {
     "end_time": "2025-09-03T06:32:29.364429Z",
     "start_time": "2025-09-03T06:32:29.360082Z"
    }
   },
   "cell_type": "code",
   "source": [
    "array = np.arange(1, 11, 1)\n",
    "print(array)"
   ],
   "id": "2443a6cba24e9915",
   "outputs": [
    {
     "name": "stdout",
     "output_type": "stream",
     "text": [
      "[ 1  2  3  4  5  6  7  8  9 10]\n"
     ]
    }
   ],
   "execution_count": 3
  },
  {
   "metadata": {},
   "cell_type": "markdown",
   "source": [
    "# zero, one, full, random array\n",
    "    - np.zeros((row,col))\n",
    "    - np.ones((row,col))\n",
    "    - np.full((row,col),value)\n",
    "    - np.random.random((row,col))"
   ],
   "id": "e34ff1d008b6ad8"
  },
  {
   "metadata": {
    "ExecuteTime": {
     "end_time": "2025-09-03T06:32:29.390603Z",
     "start_time": "2025-09-03T06:32:29.375863Z"
    }
   },
   "cell_type": "code",
   "source": [
    "zero_array = np.zeros((2, 3))\n",
    "print(\"zero array :\\n\", zero_array)\n",
    "\n",
    "one_array = np.ones((2, 4))\n",
    "print(\"one array :\\n\", one_array)\n",
    "\n",
    "full_array = np.full((2, 3), 9)\n",
    "print(\"full array :\\n\", full_array)\n",
    "\n",
    "random_array = np.random.random((2, 3))\n",
    "print(\"random array :\\n\", random_array)\n"
   ],
   "id": "56cdd7b85e50b01b",
   "outputs": [
    {
     "name": "stdout",
     "output_type": "stream",
     "text": [
      "zero array :\n",
      " [[0. 0. 0.]\n",
      " [0. 0. 0.]]\n",
      "one array :\n",
      " [[1. 1. 1. 1.]\n",
      " [1. 1. 1. 1.]]\n",
      "full array :\n",
      " [[9 9 9]\n",
      " [9 9 9]]\n",
      "random array :\n",
      " [[0.41762525 0.87850223 0.71845434]\n",
      " [0.8081193  0.91900208 0.64828308]]\n"
     ]
    }
   ],
   "execution_count": 4
  },
  {
   "metadata": {},
   "cell_type": "markdown",
   "source": [
    "# Vectors , Matrices and Tensors\n",
    "    - 1D array is called vector\n",
    "    - 2D array is called matrix\n",
    "    - 3D array or higher dimension array is called tensor\n"
   ],
   "id": "294160e5faae431"
  },
  {
   "metadata": {
    "ExecuteTime": {
     "end_time": "2025-09-03T06:32:29.410784Z",
     "start_time": "2025-09-03T06:32:29.406757Z"
    }
   },
   "cell_type": "code",
   "source": [
    "vector = np.array([1, 2, 3])\n",
    "print(\"vector :\\n\", vector)\n",
    "\n",
    "matrix = np.array([[1, 2, 3],\n",
    "                   [4, 5, 6]])\n",
    "print(\"matrix :\\n\", matrix)\n",
    "\n",
    "tensor = np.array([[[1, 2], [3, 4]],\n",
    "                   [[5, 6], [7, 8]]])\n",
    "print(\"tensor :\\n\", tensor)"
   ],
   "id": "f76469baa9ebf638",
   "outputs": [
    {
     "name": "stdout",
     "output_type": "stream",
     "text": [
      "vector :\n",
      " [1 2 3]\n",
      "matrix :\n",
      " [[1 2 3]\n",
      " [4 5 6]]\n",
      "tensor :\n",
      " [[[1 2]\n",
      "  [3 4]]\n",
      "\n",
      " [[5 6]\n",
      "  [7 8]]]\n"
     ]
    }
   ],
   "execution_count": 5
  },
  {
   "metadata": {},
   "cell_type": "markdown",
   "source": [
    "# Array properties\n",
    "    - ndim : number of dimensions\n",
    "    - shape : shape of array\n",
    "    - size : total number of elements\n",
    "    - dtype : data type of elements"
   ],
   "id": "1fdd569fd6a54b5"
  },
  {
   "metadata": {
    "ExecuteTime": {
     "end_time": "2025-09-03T06:32:29.425525Z",
     "start_time": "2025-09-03T06:32:29.421713Z"
    }
   },
   "cell_type": "code",
   "source": [
    "array = np.array([[1, 2, 3],\n",
    "                  [4, 5, 6]])\n",
    "\n",
    "print(\"shape = \", array.shape)\n",
    "print(\"dimensions = \", array.ndim)\n",
    "print(\"size = \", array.size)\n",
    "print(\"datatype = \",array.dtype)"
   ],
   "id": "3bbf55aeb128bf96",
   "outputs": [
    {
     "name": "stdout",
     "output_type": "stream",
     "text": [
      "shape =  (2, 3)\n",
      "dimensions =  2\n",
      "size =  6\n",
      "datatype =  int64\n"
     ]
    }
   ],
   "execution_count": 6
  },
  {
   "metadata": {},
   "cell_type": "markdown",
   "source": [
    "# Array reshaping\n",
    "    - reshape(row,col) # change shape of array\n",
    "    - flatten() # convert multi-dim array to 1D array\n",
    "    - ravel() # convert multi-dim array to 1D array (view)\n",
    "    - transpose() # transpose of array"
   ],
   "id": "551332dcbadb44b0"
  },
  {
   "metadata": {
    "ExecuteTime": {
     "end_time": "2025-09-03T06:32:29.438107Z",
     "start_time": "2025-09-03T06:32:29.433862Z"
    }
   },
   "cell_type": "code",
   "source": [
    "array=np.arange(1,9,1)\n",
    "print(\"original array = \",array)\n",
    "\n",
    "reshape_array=array.reshape((2,4))\n",
    "print(\"reshaped array = \\n\",reshape_array)\n",
    "\n",
    "flatten_array=reshape_array.flatten()\n",
    "print(\"flatten array = \",flatten_array)\n",
    "\n",
    "ravel_array=reshape_array.ravel()\n",
    "print(\"ravel array = \",ravel_array)\n",
    "\n",
    "transpose=reshape_array.transpose()\n",
    "print(\"transpose = \\n\",transpose)"
   ],
   "id": "60f423bc995c11cd",
   "outputs": [
    {
     "name": "stdout",
     "output_type": "stream",
     "text": [
      "original array =  [1 2 3 4 5 6 7 8]\n",
      "reshaped array = \n",
      " [[1 2 3 4]\n",
      " [5 6 7 8]]\n",
      "flatten array =  [1 2 3 4 5 6 7 8]\n",
      "ravel array =  [1 2 3 4 5 6 7 8]\n",
      "transpose = \n",
      " [[1 5]\n",
      " [2 6]\n",
      " [3 7]\n",
      " [4 8]]\n"
     ]
    }
   ],
   "execution_count": 7
  },
  {
   "metadata": {},
   "cell_type": "markdown",
   "source": [
    "# diffrence between flatten and ravel\n",
    "    - flatten() returns a copy of the array\n",
    "    - ravel() returns a view of the array (if possible)\n",
    "    example:"
   ],
   "id": "bb511ff17f444eb4"
  },
  {
   "metadata": {
    "ExecuteTime": {
     "end_time": "2025-09-03T06:32:29.485866Z",
     "start_time": "2025-09-03T06:32:29.481711Z"
    }
   },
   "cell_type": "code",
   "source": [
    "array=np.arange(1,9,1)\n",
    "reshape_array=array.reshape((2,4))\n",
    "print(\"original array = \\n\",reshape_array)\n",
    "\n",
    "ravel_array=reshape_array.ravel()\n",
    "print(\"ravel array = \",ravel_array)\n",
    "\n",
    "ravel_array[0]=10\n",
    "print(\"after changing ravel array = \",ravel_array)\n",
    "print(\"original array after changing ravel array = \\n\",reshape_array)\n",
    "\n",
    "flatten_array=reshape_array.flatten()\n",
    "print(\"flatten array = \",flatten_array)\n",
    "\n",
    "flatten_array[0]=20\n",
    "print(\"after changing flatten array = \",flatten_array)\n",
    "print(\"original array after changing flatten array = \\n\",reshape_array)"
   ],
   "id": "d564f0db621fc16e",
   "outputs": [
    {
     "name": "stdout",
     "output_type": "stream",
     "text": [
      "original array = \n",
      " [[1 2 3 4]\n",
      " [5 6 7 8]]\n",
      "ravel array =  [1 2 3 4 5 6 7 8]\n",
      "after changing ravel array =  [10  2  3  4  5  6  7  8]\n",
      "original array after changing ravel array = \n",
      " [[10  2  3  4]\n",
      " [ 5  6  7  8]]\n",
      "flatten array =  [10  2  3  4  5  6  7  8]\n",
      "after changing flatten array =  [20  2  3  4  5  6  7  8]\n",
      "original array after changing flatten array = \n",
      " [[10  2  3  4]\n",
      " [ 5  6  7  8]]\n"
     ]
    }
   ],
   "execution_count": 8
  },
  {
   "metadata": {},
   "cell_type": "markdown",
   "source": "",
   "id": "8c71802c23522175"
  }
 ],
 "metadata": {
  "kernelspec": {
   "display_name": "Python 3 (ipykernel)",
   "language": "python",
   "name": "python3"
  },
  "language_info": {
   "codemirror_mode": {
    "name": "ipython",
    "version": 3
   },
   "file_extension": ".py",
   "mimetype": "text/x-python",
   "name": "python",
   "nbconvert_exporter": "python",
   "pygments_lexer": "ipython3",
   "version": "3.13.3"
  }
 },
 "nbformat": 4,
 "nbformat_minor": 5
}
