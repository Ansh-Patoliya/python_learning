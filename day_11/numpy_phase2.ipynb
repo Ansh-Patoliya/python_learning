{
 "cells": [
  {
   "metadata": {
    "ExecuteTime": {
     "end_time": "2025-09-04T02:54:15.735818Z",
     "start_time": "2025-09-04T02:54:15.732261Z"
    }
   },
   "cell_type": "code",
   "source": "import numpy as np",
   "id": "b62b304a7e26cf0b",
   "outputs": [],
   "execution_count": 3
  },
  {
   "metadata": {},
   "cell_type": "markdown",
   "source": [
    "# Numpy Array Operations\n",
    "    1. Array Slicing (1D)"
   ],
   "id": "bd66e4b1c0e6b3b"
  },
  {
   "metadata": {
    "ExecuteTime": {
     "end_time": "2025-09-04T02:53:56.044568600Z",
     "start_time": "2025-09-03T14:02:18.910024Z"
    }
   },
   "cell_type": "code",
   "source": [
    "arr = np.array([1, 2, 3, 4, 5, 6, 7, 8, 9, 10])\n",
    "print(\"basic slicing = \", arr[2:6])  # 2 to 5 index\n",
    "print(\"basic slicing = \", arr[4:])  # 4 to end\n",
    "print(\"basic slicing = \", arr[:6])  # 0 to 5 index\n",
    "print(\"basic slicing = \", arr[-3])  # access from last third element\n",
    "print(\"basic slicing = \", arr[-5:-2])  # access from last fifth to last second element\n",
    "print(\"with step = \", arr[1:8:2])  # 1 to 7 index with step 2\n",
    "print(\"with step = \", arr[::2])  # all elements with step 2\n",
    "print(\"with step = \", arr[1::2])  # 1 to end with step 2"
   ],
   "id": "524529cc5b698bfb",
   "outputs": [
    {
     "name": "stdout",
     "output_type": "stream",
     "text": [
      "basic slicing =  [3 4 5 6]\n",
      "basic slicing =  [ 5  6  7  8  9 10]\n",
      "basic slicing =  [1 2 3 4 5 6]\n",
      "basic slicing =  8\n",
      "basic slicing =  [6 7 8]\n",
      "with step =  [2 4 6 8]\n",
      "with step =  [1 3 5 7 9]\n",
      "with step =  [ 2  4  6  8 10]\n"
     ]
    }
   ],
   "execution_count": 22
  },
  {
   "metadata": {},
   "cell_type": "markdown",
   "source": "    2. Array Slicing (2D)",
   "id": "4ac7992e42c49b05"
  },
  {
   "metadata": {
    "ExecuteTime": {
     "end_time": "2025-09-04T02:53:56.050593100Z",
     "start_time": "2025-09-03T17:09:59.274565Z"
    }
   },
   "cell_type": "code",
   "source": [
    "array_2d = np.array([[1, 2, 3, 4, 5, 6],\n",
    "                     [4, 5, 6, 7, 8, 9],\n",
    "                     [7, 8, 9, 0, 1, 2]])\n",
    "print(\"element at (1,1) = \", array_2d[1, 1])  # 5\n",
    "print(\"get rows at 1 index = \", array_2d[1])  # [4,5,6]\n",
    "print(\"get column at 1 index = \", array_2d[:, 1])  # [2,5,8]\n",
    "\n",
    "# array_2d[start_row:end_row:step_row, start_col:end_col:step_col]\n",
    "'''\n",
    "explanation of below slicing\n",
    "array_2d[1:3,1:7:2]\n",
    "1:3 means rows from index 1 to 2 (3 is excluded)\n",
    "1:7:2 means columns from index 1 to 6 with step 2 (7 is excluded)\n",
    "'''\n",
    "print(array_2d[1:3, 1:7:2])"
   ],
   "id": "e80c7a3f264169a7",
   "outputs": [
    {
     "name": "stdout",
     "output_type": "stream",
     "text": [
      "element at (1,1) =  5\n",
      "get rows at 1 index =  [4 5 6 7 8 9]\n",
      "get column at 1 index =  [2 5 8]\n",
      "[[5 7 9]\n",
      " [8 0 2]]\n"
     ]
    }
   ],
   "execution_count": 47
  },
  {
   "metadata": {},
   "cell_type": "markdown",
   "source": "    3. Sorting an Array",
   "id": "eb9a874145bda3d9"
  },
  {
   "metadata": {
    "ExecuteTime": {
     "end_time": "2025-09-04T02:53:56.052600600Z",
     "start_time": "2025-09-03T17:20:10.238449Z"
    }
   },
   "cell_type": "code",
   "source": [
    "# sorting 1D array\n",
    "\n",
    "# np.sort(array,axis=0/1) # axis=0 for column wise sorting, axis=1 for row wise sorting\n",
    "# default axis=1\n",
    "unsorted_array_1d = np.array([1, 6, 3, 8, 3, 1, 6, 0, 5])\n",
    "print(\"unsorted array 1D = \", unsorted_array_1d)\n",
    "print(\"sorted array 1D = \", np.sort(unsorted_array_1d))\n",
    "\n",
    "# sorting 2D array\n",
    "unsorted_array_2d = np.array([[6, 5, 0],\n",
    "                              [2, 3, 1],\n",
    "                              [8, 6, 2]])\n",
    "print(\"unsorted array 2D = \\n\", unsorted_array_2d)\n",
    "print(\"sorted array 2D row wise = \\n\", np.sort(unsorted_array_2d, axis=1))\n",
    "print(\"sorted array 2D column wise = \\n\", np.sort(unsorted_array_2d, axis=0))"
   ],
   "id": "89fb3178bdf78e8d",
   "outputs": [
    {
     "name": "stdout",
     "output_type": "stream",
     "text": [
      "unsorted array 1D =  [1 6 3 8 3 1 6 0 5]\n",
      "sorted array 1D =  [0 1 1 3 3 5 6 6 8]\n",
      "unsorted array 2D = \n",
      " [[6 5 0]\n",
      " [2 3 1]\n",
      " [8 6 2]]\n",
      "sorted array 2D row wise = \n",
      " [[0 5 6]\n",
      " [1 2 3]\n",
      " [2 6 8]]\n",
      "sorted array 2D column wise = \n",
      " [[2 3 0]\n",
      " [6 5 1]\n",
      " [8 6 2]]\n"
     ]
    }
   ],
   "execution_count": 57
  },
  {
   "metadata": {},
   "cell_type": "markdown",
   "source": "    4. Filtering an Array",
   "id": "c9a7a7152c167ecd"
  },
  {
   "metadata": {
    "ExecuteTime": {
     "end_time": "2025-09-04T02:54:49.830100Z",
     "start_time": "2025-09-04T02:54:49.825867Z"
    }
   },
   "cell_type": "code",
   "source": [
    "numbers = np.array([1, 2, 3, 4, 5, 6, 7, 8, 9, 10])\n",
    "'''\n",
    "# filtering :\n",
    "    - apply condition on array to filter elements\n",
    "    - returns a new array with elements that satisfy the condition\n",
    "    syntax: array[condition]\n",
    "'''\n",
    "even = numbers[numbers % 2 == 0]\n",
    "print(\"even number = \", even)\n",
    "'''\n",
    "# filtering with mask\n",
    "    - create a boolean mask with condition\n",
    "    - apply the mask to the array\n",
    "    syntax:\n",
    "        mask = array[condition]\n",
    "        array[mask]\n",
    "'''\n",
    "masked = numbers > 5\n",
    "print(\"filter with mask = \", numbers[masked])"
   ],
   "id": "1f8c59b1e50a3c50",
   "outputs": [
    {
     "name": "stdout",
     "output_type": "stream",
     "text": [
      "even number =  [ 2  4  6  8 10]\n",
      "filter with mask =  [ 6  7  8  9 10]\n",
      "[1 3 5]\n"
     ]
    }
   ],
   "execution_count": 5
  },
  {
   "metadata": {},
   "cell_type": "markdown",
   "source": "    5. Fancy Indexing vs. np.Where()",
   "id": "662f07df7a76d56e"
  },
  {
   "metadata": {
    "ExecuteTime": {
     "end_time": "2025-09-04T03:01:37.170483Z",
     "start_time": "2025-09-04T03:01:37.165105Z"
    }
   },
   "cell_type": "code",
   "source": [
    "'''\n",
    "# fancy indexing :\n",
    "    - access multiple array elements at once using list of indices\n",
    "    - returns a new array with elements at the specified indices\n",
    "    syntax: array[[index1,index2,index3,...]]\n",
    "'''\n",
    "indicis = [0, 2, 4]\n",
    "print(numbers[indicis])\n",
    "\n",
    "'''\n",
    "# np.where() :\n",
    "    - returns the indices of elements that satisfy the condition\n",
    "    - can be used for conditional selection and replacement\n",
    "    syntax: np.where(condition)\n",
    "'''\n",
    "where_result = np.where(numbers > 5)\n",
    "print(\"using where = \", numbers[where_result])\n",
    "\n",
    "'''\n",
    "# conditional selection and replacement\n",
    "    - np.where(condition, x, y)\n",
    "    - if condition is true, select x else select y\n",
    "    syntax: np.where(condition, x, y)\n",
    "'''\n",
    "conditional_array=np.where(numbers>5,numbers*2,numbers)\n",
    "print(\"conditional array = \",conditional_array)"
   ],
   "id": "b0d4ad9b3ee7232d",
   "outputs": [
    {
     "name": "stdout",
     "output_type": "stream",
     "text": [
      "[1 3 5]\n",
      "using where =  [ 6  7  8  9 10]\n",
      "conditional array =  [ 1  2  3  4  5 12 14 16 18 20]\n"
     ]
    }
   ],
   "execution_count": 10
  },
  {
   "metadata": {},
   "cell_type": "markdown",
   "source": "    6. Adding and Removing Elements",
   "id": "fdb90e26a55c75f9"
  },
  {
   "metadata": {
    "ExecuteTime": {
     "end_time": "2025-09-04T03:44:02.037892Z",
     "start_time": "2025-09-04T03:44:02.032379Z"
    }
   },
   "cell_type": "code",
   "source": [
    "a1=np.array([3,2,8,9])\n",
    "a2=np.array([7,4,1,6])\n",
    "\n",
    "print(a1+a2) # element wise addition\n",
    "print(np.concatenate((a1,a2))) # concatenate two arrays\n",
    "\n",
    "array_2d=np.array([[1,2,3],[4,5,6]])\n",
    "new_row=np.array([[7,8,9]])\n",
    "new_col=np.array([[10],[11]])\n",
    "print(\"add row = \\n\",np.vstack((array_2d,new_row))) # add row\n",
    "print(\"add column = \\n\",np.hstack((array_2d,new_col))) # add column\n",
    "\n",
    "print(\"before deletion = \",a1)\n",
    "deleted=np.delete(a1,2) # delete element at index 2\n",
    "print(\"after deletion = \",deleted)"
   ],
   "id": "484db8b0e340922e",
   "outputs": [
    {
     "name": "stdout",
     "output_type": "stream",
     "text": [
      "[10  6  9 15]\n",
      "[3 2 8 9 7 4 1 6]\n",
      "add row = \n",
      " [[1 2 3]\n",
      " [4 5 6]\n",
      " [7 8 9]]\n",
      "add column = \n",
      " [[ 1  2  3 10]\n",
      " [ 4  5  6 11]]\n",
      "before deletion =  [3 2 8 9]\n",
      "after deletion =  [3 2 9]\n"
     ]
    }
   ],
   "execution_count": 22
  },
  {
   "metadata": {},
   "cell_type": "code",
   "outputs": [],
   "execution_count": null,
   "source": "",
   "id": "22dbd1667298d056"
  }
 ],
 "metadata": {
  "kernelspec": {
   "display_name": "Python 3",
   "language": "python",
   "name": "python3"
  },
  "language_info": {
   "codemirror_mode": {
    "name": "ipython",
    "version": 2
   },
   "file_extension": ".py",
   "mimetype": "text/x-python",
   "name": "python",
   "nbconvert_exporter": "python",
   "pygments_lexer": "ipython2",
   "version": "2.7.6"
  }
 },
 "nbformat": 4,
 "nbformat_minor": 5
}
