{
 "cells": [
  {
   "metadata": {},
   "cell_type": "markdown",
   "source": "# Practice with NumPy",
   "id": "6659050fe8280c27"
  },
  {
   "metadata": {
    "ExecuteTime": {
     "end_time": "2025-09-04T16:13:36.487114Z",
     "start_time": "2025-09-04T16:13:36.484388Z"
    }
   },
   "cell_type": "code",
   "source": [
    "import math\n",
    "import numpy as np"
   ],
   "id": "8a560025f260cdd9",
   "outputs": [],
   "execution_count": 71
  },
  {
   "metadata": {
    "ExecuteTime": {
     "end_time": "2025-09-04T15:44:00.892021Z",
     "start_time": "2025-09-04T15:44:00.866261Z"
    }
   },
   "cell_type": "code",
   "source": [
    "# sales data set for practise\n",
    "# id,2021,2022,2023,2024\n",
    "data = np.array([\n",
    "    [1, 100, 150, 200, 250],\n",
    "    [2, 200, 250, 300, 350],\n",
    "    [3, 30, 380, 410, 450],\n",
    "    [4, 1400, 450, 500, 550],\n",
    "    [5, 1000, 550, 600, 650],\n",
    "])"
   ],
   "id": "ff31e85fccafdde3",
   "outputs": [],
   "execution_count": 51
  },
  {
   "metadata": {},
   "cell_type": "markdown",
   "source": [
    "    # Questions\n",
    "    - What is the total sales for each year?"
   ],
   "id": "23b63a1d5ea4cb9d"
  },
  {
   "metadata": {
    "ExecuteTime": {
     "end_time": "2025-09-04T15:44:00.904987Z",
     "start_time": "2025-09-04T15:44:00.900997Z"
    }
   },
   "cell_type": "code",
   "source": [
    "total_sales_year = np.sum(data[:, 1:], axis=0)\n",
    "print(\"total sales for each year = \\n\", total_sales_year)"
   ],
   "id": "601c3d8cc62296ef",
   "outputs": [
    {
     "name": "stdout",
     "output_type": "stream",
     "text": [
      "total sales for each year = \n",
      " [2730 1780 2010 2250]\n"
     ]
    }
   ],
   "execution_count": 52
  },
  {
   "metadata": {},
   "cell_type": "markdown",
   "source": "    - What is the average sales for each year?",
   "id": "707fbf451586aa2c"
  },
  {
   "metadata": {
    "ExecuteTime": {
     "end_time": "2025-09-04T15:44:00.921026Z",
     "start_time": "2025-09-04T15:44:00.916569Z"
    }
   },
   "cell_type": "code",
   "source": [
    "avg_sales_year = np.mean(data[:, 1:], axis=0)\n",
    "print(\"avg sales for each year = \\n\", avg_sales_year)"
   ],
   "id": "503179a0b7b9225",
   "outputs": [
    {
     "name": "stdout",
     "output_type": "stream",
     "text": [
      "avg sales for each year = \n",
      " [546. 356. 402. 450.]\n"
     ]
    }
   ],
   "execution_count": 53
  },
  {
   "metadata": {},
   "cell_type": "markdown",
   "source": "    - What is the total sales for each product across all years?\n",
   "id": "38e719fc41af1edd"
  },
  {
   "metadata": {
    "ExecuteTime": {
     "end_time": "2025-09-04T15:44:00.941736Z",
     "start_time": "2025-09-04T15:44:00.938474Z"
    }
   },
   "cell_type": "code",
   "source": [
    "total_product_sales = np.sum(data[:, 1:], axis=1)\n",
    "print(\"total product sales = \\n\", total_product_sales)"
   ],
   "id": "2d08ffe4d548f506",
   "outputs": [
    {
     "name": "stdout",
     "output_type": "stream",
     "text": [
      "total product sales = \n",
      " [ 700 1100 1270 2900 2800]\n"
     ]
    }
   ],
   "execution_count": 54
  },
  {
   "metadata": {},
   "cell_type": "markdown",
   "source": "    - What is the average sales for each product across all years?",
   "id": "6aade1e48038ba5b"
  },
  {
   "metadata": {
    "ExecuteTime": {
     "end_time": "2025-09-04T15:44:00.957662Z",
     "start_time": "2025-09-04T15:44:00.953598Z"
    }
   },
   "cell_type": "code",
   "source": [
    "avg_product_sales = np.mean(data[:, 1:], axis=1)\n",
    "print(\"avg product sales = \\n\", avg_product_sales)"
   ],
   "id": "d92d599006cfa89",
   "outputs": [
    {
     "name": "stdout",
     "output_type": "stream",
     "text": [
      "avg product sales = \n",
      " [175.  275.  317.5 725.  700. ]\n"
     ]
    }
   ],
   "execution_count": 55
  },
  {
   "metadata": {},
   "cell_type": "markdown",
   "source": "    - Which product had the highest sales in 2023?",
   "id": "e1d71eb99fa39fc7"
  },
  {
   "metadata": {
    "ExecuteTime": {
     "end_time": "2025-09-04T15:44:00.980702Z",
     "start_time": "2025-09-04T15:44:00.975869Z"
    }
   },
   "cell_type": "code",
   "source": [
    "max_sale_2023 = np.max(data[:, 3])\n",
    "print(\"max sale in 2023 = \", max_sale_2023)\n",
    "\n",
    "# find id\n",
    "'''\n",
    "# np.argmax :\n",
    "    🔹 Definition\n",
    "        - np.argmax() returns the index of the maximum value in a NumPy array.\n",
    "        - \"arg\" = argument (index), \"max\" = maximum → index of maximum.\n",
    "\n",
    "🔹 Syntax\n",
    "    numpy.argmax(a, axis=None)\n",
    "    - a → input array\n",
    "    - axis → dimension along which to find the max index\n",
    "    - None (default) → array is flattened\n",
    "    - axis=0 → column-wise max index\n",
    "    - axis=1 → row-wise max index\n",
    "\n",
    "🔹 Example\n",
    "    import numpy as np\n",
    "\n",
    "    arr = np.array([10, 20, 5, 40, 25])\n",
    "    print(np.argmax(arr))       # 3\n",
    "    print(arr[np.argmax(arr)])  # 40\n",
    "\n",
    "    Output: 3 → because max value 40 is at index 3.\n",
    "\n",
    "🔹 2D Example\n",
    "    arr = np.array([[5, 8, 12],\n",
    "                    [20, 1, 7]])\n",
    "\n",
    "    print(np.argmax(arr))          # 3 (flattened index)\n",
    "    print(np.argmax(arr, axis=0))  # [1 0 0] → column-wise\n",
    "    print(np.argmax(arr, axis=1))  # [2 0]   → row-wise\n",
    "'''\n",
    "product_id_2023 = data[np.argmax(data[:, 3]), 0]\n",
    "print(\"product id with highest sales in 2023 = \", product_id_2023)"
   ],
   "id": "9f2778b4e69bdf02",
   "outputs": [
    {
     "name": "stdout",
     "output_type": "stream",
     "text": [
      "max sale in 2023 =  600\n",
      "product id with highest sales in 2023 =  5\n"
     ]
    }
   ],
   "execution_count": 56
  },
  {
   "metadata": {},
   "cell_type": "markdown",
   "source": "    - Which year had the highest total sales?",
   "id": "429712f71cb630df"
  },
  {
   "metadata": {
    "ExecuteTime": {
     "end_time": "2025-09-04T15:44:00.994873Z",
     "start_time": "2025-09-04T15:44:00.990528Z"
    }
   },
   "cell_type": "code",
   "source": [
    "max_total_sales = np.max(np.sum(data[:, 1:], axis=0))\n",
    "print(\"max total sale = \", max_total_sales)\n",
    "\n",
    "max_total_sales_index = np.argmax(np.sum(data[:, 1:], axis=0)) + 1\n",
    "print(\"max total sale index= \", max_total_sales_index)"
   ],
   "id": "fcb08af222bdd066",
   "outputs": [
    {
     "name": "stdout",
     "output_type": "stream",
     "text": [
      "max total sale =  2730\n",
      "max total sale index=  1\n"
     ]
    }
   ],
   "execution_count": 57
  },
  {
   "metadata": {},
   "cell_type": "markdown",
   "source": "    - Which product had the lowest sales in 2021?",
   "id": "6b2d648c1b92b4d9"
  },
  {
   "metadata": {
    "ExecuteTime": {
     "end_time": "2025-09-04T15:45:08.953185Z",
     "start_time": "2025-09-04T15:45:08.949438Z"
    }
   },
   "cell_type": "code",
   "source": [
    "min_sale_2021 = np.min(data[:, 1], axis=0)\n",
    "print(\"min sale in 2021 = \", min_sale_2021)\n",
    "\n",
    "min_sale_product_index_2021 = np.argmin(data[:, 1], axis=0)\n",
    "print(\"min sale product index in 2021 = \", min_sale_product_index_2021)"
   ],
   "id": "118ecf755bdb8d9a",
   "outputs": [
    {
     "name": "stdout",
     "output_type": "stream",
     "text": [
      "min sale in 2021 =  30\n",
      "min sale product index in 2021 =  2\n"
     ]
    }
   ],
   "execution_count": 59
  },
  {
   "metadata": {},
   "cell_type": "markdown",
   "source": [
    "    np.std() uses question for this dataset\n",
    "    - What is the standard deviation of sales for each year?"
   ],
   "id": "5bb7e7b825e88b7a"
  },
  {
   "metadata": {
    "ExecuteTime": {
     "end_time": "2025-09-04T16:31:12.313477Z",
     "start_time": "2025-09-04T16:31:12.306957Z"
    }
   },
   "cell_type": "code",
   "outputs": [
    {
     "name": "stdout",
     "output_type": "stream",
     "text": [
      "standard deviation =  [551.41, 141.92, 141.47, 141.42]\n",
      "average sales =  [546. 356. 402. 450.]\n"
     ]
    }
   ],
   "execution_count": 80,
   "source": [
    "'''\n",
    "📌 Standard Deviation (std) — Easy Words\n",
    "    (1) Meaning\n",
    "        - Standard deviation tells us how far data points are spread from the mean, in the same units as the data.\n",
    "        - It is simply the square root of variance.\n",
    "\n",
    "    (2) Key Ideas\n",
    "        - If std is big → data values are very spread out.\n",
    "        - If std is small → data values are close to the mean.\n",
    "        - Std is always positive.\n",
    "\n",
    "    (3) Units\n",
    "        - Same as the data (if data is in cm, std is also in cm).\n",
    "        - That’s why std is easier to understand than variance.\n",
    "\n",
    "    (4) Why use it?\n",
    "        - Easy to interpret in real life (sales, marks, height, etc.).\n",
    "        - Tells us how much values typically deviate from the average.\n",
    "        - Used in business, data science, quality control, finance, etc.\n",
    "\n",
    "    (5) Relation with Variance\n",
    "        - Variance = squared spread\n",
    "        - Std = √Variance (normal spread)\n",
    "\n",
    "✨ Example (Sales = [100, 200, 300])\n",
    "    - Mean = 200\n",
    "    - Std = 81.65\n",
    "\n",
    "- Meaning → Sales usually vary ±81.65 around 200\n",
    "          → So most sales are between 118 and 282.\n",
    "'''\n",
    "std = np.std(data[:, 1:], axis=0)\n",
    "truncate_value = [math.floor(s * 100) / 100 for s in std]\n",
    "print(\"standard deviation = \", truncate_value)\n",
    "print(\"average sales = \", avg_sales_year)"
   ],
   "id": "55e2041d53b93ea5"
  },
  {
   "metadata": {},
   "cell_type": "markdown",
   "source": [
    "    np.var() uses question for this dataset\n",
    "    - What is the variance of sales for each year?"
   ],
   "id": "4920d0761abb521"
  },
  {
   "metadata": {
    "ExecuteTime": {
     "end_time": "2025-09-04T17:00:16.777883Z",
     "start_time": "2025-09-04T17:00:16.768132Z"
    }
   },
   "cell_type": "code",
   "outputs": [
    {
     "name": "stdout",
     "output_type": "stream",
     "text": [
      "Variance of sale  [304064.  20144.  20016.  20000.]\n"
     ]
    }
   ],
   "execution_count": 81,
   "source": [
    "'''\n",
    "📘 Variance (var) — Easy Notes\n",
    "    (1) What it means?\n",
    "        - Variance tells us how far the numbers are spread out from the average.\n",
    "        - It uses squared differences from the mean.\n",
    "\n",
    "    (2) Important Points\n",
    "        - Variance is always positive (≥0).\n",
    "        - If variance is big → data values are very spread out.\n",
    "        - If variance is small → data values are close to each other.\n",
    "        - Unit is in square form (e.g., sales²).\n",
    "\n",
    "    (3) Why we need it?\n",
    "        - To avoid + and – values canceling out.\n",
    "        - To show outliers (extreme values) clearly.\n",
    "        - It is the base for:\n",
    "            - Standard Deviation (just √variance)\n",
    "            - Correlation, ANOVA, ML error calculations.\n",
    "\n",
    "    (4) Problem\n",
    "        - Not easy to explain to non-technical people because of squared units.\n",
    "\n",
    "👉 In short:\n",
    "    - Variance = Mathematical spread (squared)\n",
    "    - Standard Deviation = Human-friendly spread (same units as data)\n",
    "'''\n",
    "var=np.var(data[:,1:],axis=0)\n",
    "print(\"Variance of sale \",var)"
   ],
   "id": "eda8db63dd410b78"
  },
  {
   "metadata": {},
   "cell_type": "markdown",
   "source": [
    "    np.cumsum() uses question for this dataset\n",
    "    - What is the cumulative sales for each product across the years?\n"
   ],
   "id": "f2dde82f33968942"
  },
  {
   "metadata": {
    "ExecuteTime": {
     "end_time": "2025-09-04T17:20:07.731773Z",
     "start_time": "2025-09-04T17:20:07.724929Z"
    }
   },
   "cell_type": "code",
   "source": [
    "'''\n",
    "📗 Cumulative Sum (cumsum) — Simple Explanation\n",
    "    (1) Meaning\n",
    "        - Cumulative sum is the running total of a sequence of numbers.\n",
    "        - Each value in the cumulative sum is the sum of all previous values plus the current one.\n",
    "\n",
    "    (2) Example\n",
    "        - For sales data [100, 200, 300]:\n",
    "            - Cumulative sum = [100, 300, 600]\n",
    "            - Explanation:\n",
    "                - First value: 100\n",
    "                - Second value: 100 + 200 = 300\n",
    "                - Third value: 100 + 200 + 300 = 600\n",
    "\n",
    "    (3) Why use it?\n",
    "        - To see how totals grow over time.\n",
    "        - Useful in finance, sales tracking, and data analysis.\n",
    "\n",
    "    (4) In NumPy\n",
    "        - Use np.cumsum() to calculate cumulative sums easily.\n",
    "'''\n",
    "cumulative_sales = np.cumsum(data[:, 1:], axis=1)\n",
    "print(\"cumulative sales for each product across the years = \\n\", cumulative_sales)"
   ],
   "id": "6c33dd23ce5f8f1a",
   "outputs": [
    {
     "name": "stdout",
     "output_type": "stream",
     "text": [
      "cumulative sales for each product across the years = \n",
      " [[ 100  250  450  700]\n",
      " [ 200  450  750 1100]\n",
      " [  30  410  820 1270]\n",
      " [1400 1850 2350 2900]\n",
      " [1000 1550 2150 2800]]\n"
     ]
    }
   ],
   "execution_count": 82
  },
  {
   "metadata": {},
   "cell_type": "code",
   "outputs": [],
   "execution_count": null,
   "source": "",
   "id": "ea7ee7fa5c91d93f"
  }
 ],
 "metadata": {
  "kernelspec": {
   "display_name": "Python 3",
   "language": "python",
   "name": "python3"
  },
  "language_info": {
   "codemirror_mode": {
    "name": "ipython",
    "version": 2
   },
   "file_extension": ".py",
   "mimetype": "text/x-python",
   "name": "python",
   "nbconvert_exporter": "python",
   "pygments_lexer": "ipython2",
   "version": "2.7.6"
  }
 },
 "nbformat": 4,
 "nbformat_minor": 5
}
