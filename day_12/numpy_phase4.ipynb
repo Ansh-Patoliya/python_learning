{
 "cells": [
  {
   "metadata": {
    "collapsed": true,
    "ExecuteTime": {
     "end_time": "2025-09-05T14:12:38.005910Z",
     "start_time": "2025-09-05T14:12:38.002040Z"
    }
   },
   "cell_type": "code",
   "source": [
    "import math\n",
    "import numpy as np"
   ],
   "id": "f75c74e811acb746",
   "outputs": [],
   "execution_count": 6
  },
  {
   "metadata": {},
   "cell_type": "markdown",
   "source": [
    "## Universal Functions\n",
    "    - np.cumprod() : Cumulative product of array elements.\n",
    "    - np.sqrt() : Square root of each element.\n",
    "    - np.exp() : Exponential of each element.\n",
    "    - np.log() : Natural logarithm of each element.\n",
    "    - np.sin(), np.cos(), np.tan() : Trigonometric functions.\n",
    "    - np.arcsin(), np.arccos(), np.arctan() : Inverse trigonometric functions.\n",
    "    - np.deg2rad(), np.rad2deg() : Convert degrees to radians and vice versa."
   ],
   "id": "1f3d38cdafeba029"
  },
  {
   "metadata": {
    "ExecuteTime": {
     "end_time": "2025-09-05T16:38:36.582451Z",
     "start_time": "2025-09-05T16:38:36.574831Z"
    }
   },
   "cell_type": "code",
   "source": [
    "array = np.array([1, 2, 3, 4, 5])\n",
    "print(\"Original array = \", array)\n",
    "\n",
    "# Cumulative product\n",
    "cumprod_array = np.cumprod(array)\n",
    "print(\"Cumulative product = \", cumprod_array)\n",
    "\n",
    "# Square root\n",
    "sqrt_array = np.sqrt(array)\n",
    "abc = [math.floor(i * 100) / 100 for i in sqrt_array]\n",
    "print(\"Square root = \", abc)\n",
    "\n",
    "# Exponential\n",
    "exp_array = np.exp(array)\n",
    "abc = [math.floor(i * 100) / 100 for i in exp_array]\n",
    "print(\"Exponential = \", abc)\n",
    "\n",
    "# Natural logarithm\n",
    "log_array = np.log(array)\n",
    "abc = [math.floor(i * 100) / 100 for i in log_array]\n",
    "print(\"Natural logarithm = \", abc)\n",
    "\n",
    "# Trigonometric functions\n",
    "sin_array = np.sin(array)\n",
    "abc = [math.floor(i * 100) / 100 for i in sin_array]\n",
    "print(\"Sine = \", abc)\n",
    "\n",
    "cos_array = np.cos(array)\n",
    "abc = [math.floor(i * 100) / 100 for i in cos_array]\n",
    "print(\"Cosine = \", abc)\n",
    "\n",
    "tan_array = np.tan(array)\n",
    "abc = [math.floor(i * 100) / 100 for i in tan_array]\n",
    "print(\"Tangent = \", abc)"
   ],
   "id": "d7db2c33033f7076",
   "outputs": [
    {
     "name": "stdout",
     "output_type": "stream",
     "text": [
      "Original array =  [1 2 3 4 5]\n",
      "Cumulative product =  [  1   2   6  24 120]\n",
      "Square root =  [1.0, 1.41, 1.73, 2.0, 2.23]\n",
      "Exponential =  [2.71, 7.38, 20.08, 54.59, 148.41]\n",
      "Natural logarithm =  [0.0, 0.69, 1.09, 1.38, 1.6]\n",
      "Sine =  [0.84, 0.9, 0.14, -0.76, -0.96]\n",
      "Cosine =  [0.54, -0.42, -0.99, -0.66, 0.28]\n",
      "Tangent =  [1.55, -2.19, -0.15, 1.15, -3.39]\n"
     ]
    }
   ],
   "execution_count": 13
  },
  {
   "metadata": {},
   "cell_type": "markdown",
   "source": [
    "## Rounding Functions\n",
    "    - np.around() : Round to nearest integer or specified decimals.\n",
    "    - np.floor() : Round down to nearest integer.\n",
    "    - np.ceil() : Round up to nearest integer.\n",
    "    - np.trunc() : Truncate decimal part, keep integer part."
   ],
   "id": "b480622e1c4d137c"
  },
  {
   "metadata": {
    "ExecuteTime": {
     "end_time": "2025-09-05T16:45:12.167653Z",
     "start_time": "2025-09-05T16:45:12.160787Z"
    }
   },
   "cell_type": "code",
   "source": [
    "# np.around\n",
    "array = np.array([1.5, 2.3, 3.7, 4.1, 5.9])\n",
    "rounded_array = np.around(array)\n",
    "print(\"Original array = \", array)\n",
    "print(\"Rounded array (np.around) = \", rounded_array)\n",
    "\n",
    "# np.floor\n",
    "floored_array = np.floor(array)\n",
    "print(\"Floored array (np.floor) = \", floored_array)\n",
    "\n",
    "# np.ceil\n",
    "ceiled_array = np.ceil(array)\n",
    "print(\"Ceiled array (np.ceil) = \", ceiled_array)\n",
    "\n",
    "# np.trunc\n",
    "truncated_array = np.trunc(array)\n",
    "print(\"Truncated array (np.trunc) = \", truncated_array)\n"
   ],
   "id": "355281ebee3279d3",
   "outputs": [
    {
     "name": "stdout",
     "output_type": "stream",
     "text": [
      "Original array =  [1.5 2.3 3.7 4.1 5.9]\n",
      "Rounded array (np.around) =  [2. 2. 4. 4. 6.]\n",
      "Floored array (np.floor) =  [1. 2. 3. 4. 5.]\n",
      "Ceiled array (np.ceil) =  [2. 3. 4. 5. 6.]\n",
      "Truncated array (np.trunc) =  [1. 2. 3. 4. 5.]\n"
     ]
    }
   ],
   "execution_count": 23
  },
  {
   "metadata": {},
   "cell_type": "markdown",
   "source": [
    "## Statistical Functions\n",
    "    - np.median() : Median (middle value) of array elements.\n",
    "    - np.percentile() : Percentile value in the array.\n",
    "    - np.corrcoef() : Correlation coefficient matrix.\n",
    "    - np.histogram() : Histogram of array elements."
   ],
   "id": "720d02916f055661"
  },
  {
   "metadata": {
    "ExecuteTime": {
     "end_time": "2025-09-05T17:07:28.415110Z",
     "start_time": "2025-09-05T17:07:28.406141Z"
    }
   },
   "cell_type": "code",
   "source": [
    "# np.median\n",
    "array = np.array([1, 3,5,7,3,  7, 8, 9])\n",
    "median_value = np.median(array)\n",
    "print(\"Original array = \", array)\n",
    "print(\"Median value (np.median) = \", median_value)\n",
    "\n",
    "# np.percentile\n",
    "percentile_25 = np.percentile(array, 25)\n",
    "percentile_50 = np.percentile(array, 50)\n",
    "percentile_75 = np.percentile(array, 75)\n",
    "print(\"25th Percentile (np.percentile) = \", percentile_25)\n",
    "print(\"50th Percentile (np.percentile) = \", percentile_50)\n",
    "print(\"75th Percentile (np.percentile) = \", percentile_75)\n",
    "\n",
    "# np.corrcoef\n",
    "data1 = np.array([1, 2, 3, 4, 5])\n",
    "data2 = np.array([5, 4, 3, 2, 1])\n",
    "correlation_matrix = np.corrcoef(data1, data2)\n",
    "print(\"Correlation coefficient matrix (np.corrcoef) = \\n\", correlation_matrix)\n",
    "\n",
    "# np.histogram\n",
    "hist, bin_edges = np.histogram(array, bins=4)\n",
    "print(\"Histogram (np.histogram) = \", hist)\n",
    "print(\"Bin edges (np.histogram) = \", bin_edges)"
   ],
   "id": "112cd37632171d58",
   "outputs": [
    {
     "name": "stdout",
     "output_type": "stream",
     "text": [
      "Original array =  [1 3 5 7 3 7 8 9]\n",
      "Median value (np.median) =  6.0\n",
      "25th Percentile (np.percentile) =  3.0\n",
      "50th Percentile (np.percentile) =  6.0\n",
      "75th Percentile (np.percentile) =  7.25\n",
      "Correlation coefficient matrix (np.corrcoef) = \n",
      " [[ 1. -1.]\n",
      " [-1.  1.]]\n",
      "Histogram (np.histogram) =  [1 2 1 4]\n",
      "Bin edges (np.histogram) =  [1. 3. 5. 7. 9.]\n"
     ]
    }
   ],
   "execution_count": 46
  }
 ],
 "metadata": {
  "kernelspec": {
   "display_name": "Python 3",
   "language": "python",
   "name": "python3"
  },
  "language_info": {
   "codemirror_mode": {
    "name": "ipython",
    "version": 2
   },
   "file_extension": ".py",
   "mimetype": "text/x-python",
   "name": "python",
   "nbconvert_exporter": "python",
   "pygments_lexer": "ipython2",
   "version": "2.7.6"
  }
 },
 "nbformat": 4,
 "nbformat_minor": 5
}
