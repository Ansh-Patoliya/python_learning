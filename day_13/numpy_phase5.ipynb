{
 "cells": [
  {
   "metadata": {
    "collapsed": true,
    "ExecuteTime": {
     "end_time": "2025-09-06T12:57:30.682727Z",
     "start_time": "2025-09-06T12:57:30.680068Z"
    }
   },
   "cell_type": "code",
   "source": "import numpy as np",
   "id": "87325c20fe8485f9",
   "outputs": [],
   "execution_count": 27
  },
  {
   "metadata": {},
   "cell_type": "markdown",
   "source": [
    "## 📌 Vectorization\n",
    "    - Meaning: Perform operations on entire arrays at once (no explicit loops).\n",
    "    - Why: Much faster (uses optimized C code + SIMD instructions), cleaner code.\n",
    "    - How: arr * 2, arr + 10, arr1 + arr2 → apply to all elements automatically.\n",
    "    - Internals:\n",
    "        - Checks array dtype\n",
    "        - Allocates new array\n",
    "        - Runs compiled C loop (very fast)\n",
    "    - Example:\n",
    "        arr = np.array([1, 2, 3, 4, 5])\n",
    "        result = arr * 2  # Vectorized\n",
    "    - Real-life use:\n",
    "        - Sales data → price increase, currency conversion, profit calculation — all in one line.\n",
    "    - Benefits:\n",
    "        - Faster than Python loops\n",
    "        - Cleaner and shorter code\n",
    "        - Memory efficient\n",
    "\n",
    "## 📌 Linear Algebra with NumPy\n",
    "    (1) Matrix Multiplication\n",
    "        - Use np.dot() or @ operator.\n",
    "    (2) Determinant\n",
    "        - Use np.linalg.det().\n",
    "    (3) Inverse\n",
    "        - Use np.linalg.inv().\n",
    "    (4) Eigenvalues and Eigenvectors\n",
    "        - Use np.linalg.eig().\n",
    "    (5) Solving Linear Systems\n",
    "        - Use np.linalg.solve().\n",
    "    (6) Norms\n",
    "        - Use np.linalg.norm()."
   ],
   "id": "2e0b18635dbd3f8f"
  },
  {
   "metadata": {
    "ExecuteTime": {
     "end_time": "2025-09-06T12:57:30.706379Z",
     "start_time": "2025-09-06T12:57:30.700137Z"
    }
   },
   "cell_type": "code",
   "source": [
    "# Example: Matrix Multiplication\n",
    "A = np.array([[1, 2],\n",
    "              [3, 4]])\n",
    "B = np.array([[5, 6],\n",
    "              [7, 8]])\n",
    "C = np.dot(A, B)  # or C = A @ B\n",
    "print(\"Matrix Multiplication:\\n\", C)\n",
    "\n",
    "# Example: Determinant\n",
    "det_A = np.linalg.det(A)\n",
    "print(\"Determinant of A:\", det_A)\n",
    "\n",
    "# Example: Inverse\n",
    "inv_A = np.linalg.inv(A)\n",
    "print(\"Inverse of A:\\n\", inv_A)\n",
    "\n",
    "# Example: Eigenvalues and Eigenvectors\n",
    "eigenvalues, eigenvectors = np.linalg.eig(A)\n",
    "print(\"Eigenvalues of A:\", eigenvalues)\n",
    "print(\"Eigenvectors of A:\\n\", eigenvectors)\n",
    "\n",
    "# Example: Solving Linear Systems\n",
    "A = np.array([[3, 1],\n",
    "              [1, 2]])\n",
    "b = np.array([9, 8])\n",
    "x = np.linalg.solve(A, b)\n",
    "print(\"Solution of Ax = b:\", x)\n",
    "\n",
    "# Example: Norms\n",
    "norm_A = np.linalg.norm(A)\n",
    "print(\"Norm of A:\", norm_A)"
   ],
   "id": "c990881c8e61dde5",
   "outputs": [
    {
     "name": "stdout",
     "output_type": "stream",
     "text": [
      "Matrix Multiplication:\n",
      " [[19 22]\n",
      " [43 50]]\n",
      "Determinant of A: -2.0000000000000004\n",
      "Inverse of A:\n",
      " [[-2.   1. ]\n",
      " [ 1.5 -0.5]]\n",
      "Eigenvalues of A: [-0.37228132  5.37228132]\n",
      "Eigenvectors of A:\n",
      " [[-0.82456484 -0.41597356]\n",
      " [ 0.56576746 -0.90937671]]\n",
      "Solution of Ax = b: [2. 3.]\n",
      "Norm of A: 3.872983346207417\n"
     ]
    }
   ],
   "execution_count": 28
  },
  {
   "metadata": {},
   "cell_type": "markdown",
   "source": [
    "## 📌 Saving and Loading NumPy Arrays\n",
    "    - Save with np.save() for single arrays (.npy) or np.savez() for multiple arrays (.npz).\n",
    "    - Load with np.load().\n",
    "    - Benefits:\n",
    "        - Efficient storage\n",
    "        - Easy to share and reuse data"
   ],
   "id": "ac9cc8901efd0d23"
  },
  {
   "metadata": {
    "ExecuteTime": {
     "end_time": "2025-09-06T12:57:30.721440Z",
     "start_time": "2025-09-06T12:57:30.712905Z"
    }
   },
   "cell_type": "code",
   "source": [
    "array=np.array([11,2,3,45,6])\n",
    "array3=np.array([11,2,3,45,6])\n",
    "np.save('array.npy',array)\n",
    "print(\"array save successfully\")\n",
    "\n",
    "loaded_array=np.load('array.npy')\n",
    "print(\"loaded array = \",loaded_array)\n",
    "\n",
    "array2=np.array([1,2,57,2,15])\n",
    "np.savez('multipal_array.npz',x=array,y=array2,a=array3)\n",
    "print(\"multipal array save successfully\")\n",
    "\n",
    "loaded_data=np.load('multipal_array.npz')\n",
    "print(\"array 1 = \",loaded_data['x'])\n",
    "print(\"array 2 = \",loaded_data['y'])\n",
    "print(\"array 3 = \",loaded_data['a'])"
   ],
   "id": "52fac63c3aa82923",
   "outputs": [
    {
     "name": "stdout",
     "output_type": "stream",
     "text": [
      "array save successfully\n",
      "loaded array =  [11  2  3 45  6]\n",
      "multipal array save successfully\n",
      "array 1 =  [11  2  3 45  6]\n",
      "array 2 =  [ 1  2 57  2 15]\n",
      "array 3 =  [11  2  3 45  6]\n"
     ]
    }
   ],
   "execution_count": 29
  },
  {
   "metadata": {},
   "cell_type": "markdown",
   "source": [
    "### Deep Copy (np.copy())\n",
    "    - A deep copy creates a brand new array with a new copy of the data.\n",
    "    - Any changes you make to the copy will not affect the original array.\n",
    "    - Think of it as photocopying a document;\n",
    "    - writing on the photocopy doesn't change the original paper.\n",
    "\n",
    "    - Syntax: new_array = np.copy(original_array)\n",
    "\n",
    "### Shallow Copy (arr.view())\n",
    "- A shallow copy, or a view, creates a new array object but it shares the same data as the original array.\n",
    "- Any changes you make to the data in the view will affect the original array.\n",
    "- Think of it as having two different windows looking at the same garden;\n",
    "- if you change something in the garden through one window,\n",
    "- the view from the other window also changes.\n",
    "\n",
    "        - Syntax: new_array = original_array.view()\n",
    "\n",
    "### Deep vs Shallow Copy Summary\n",
    "| Feature          | Deep Copy (np.copy())         | Shallow Copy (arr.view())         |\n",
    "|------------------|-------------------------------|-------------------------------------|\n",
    "| Data Independence | Independent copy of data      | Shares data with original array     |\n",
    "| Memory Usage     | More memory (new data)        | Less memory (shared data)           |\n",
    "| Modification Effect | Changes do not affect original | Changes affect original             |\n"
   ],
   "id": "fa0a7e68c5a00595"
  },
  {
   "metadata": {
    "ExecuteTime": {
     "end_time": "2025-09-06T12:57:30.731405Z",
     "start_time": "2025-09-06T12:57:30.727298Z"
    }
   },
   "cell_type": "code",
   "source": [
    "original_array = np.array([1, 2, 3, 4, 5])\n",
    "print(\"Original Array:\", original_array)\n",
    "deep_copied_array = np.copy(original_array)\n",
    "print(\"Deep Copied Array:\", deep_copied_array)\n",
    "shallow_copied_array = original_array.view()\n",
    "print(\"Shallow Copied Array:\", shallow_copied_array)\n",
    "\n",
    "# Modify the deep copy\n",
    "deep_copied_array[0] = 99\n",
    "print(\"\\nAfter modifying deep copy:\")\n",
    "print(\"Original Array:\", original_array)  # Unchanged\n",
    "print(\"Deep Copied Array:\", deep_copied_array)  # Changed\n",
    "print(\"Shallow Copied Array:\", shallow_copied_array)  # Unchanged\n",
    "\n",
    "# Modify the shallow copy\n",
    "shallow_copied_array[1] = 88\n",
    "print(\"\\nAfter modifying shallow copy:\")\n",
    "print(\"Original Array:\", original_array)  # Changed\n",
    "print(\"Deep Copied Array:\", deep_copied_array)  # Unchanged\n",
    "print(\"Shallow Copied Array:\", shallow_copied_array)  # Changed"
   ],
   "id": "d260be3e1af77629",
   "outputs": [
    {
     "name": "stdout",
     "output_type": "stream",
     "text": [
      "Original Array: [1 2 3 4 5]\n",
      "Deep Copied Array: [1 2 3 4 5]\n",
      "Shallow Copied Array: [1 2 3 4 5]\n",
      "\n",
      "After modifying deep copy:\n",
      "Original Array: [1 2 3 4 5]\n",
      "Deep Copied Array: [99  2  3  4  5]\n",
      "Shallow Copied Array: [1 2 3 4 5]\n",
      "\n",
      "After modifying shallow copy:\n",
      "Original Array: [ 1 88  3  4  5]\n",
      "Deep Copied Array: [99  2  3  4  5]\n",
      "Shallow Copied Array: [ 1 88  3  4  5]\n"
     ]
    }
   ],
   "execution_count": 30
  },
  {
   "metadata": {},
   "cell_type": "markdown",
   "source": [
    "## 📌 Iterating Over NumPy Arrays\n",
    "- Use np.nditer() for efficient iteration over arrays of any shape.\n",
    "- Supports multidimensional arrays and various iteration orders (C-style, Fortran-style).\n",
    "- Can modify array elements in place using op_flags=['readwrite'].\n",
    "    -     Syntax: for x in np.nditer(array, order='C' or 'F', op_flags=['readwrite'])"
   ],
   "id": "e86bfdf89450466b"
  },
  {
   "metadata": {
    "ExecuteTime": {
     "end_time": "2025-09-06T12:57:30.744508Z",
     "start_time": "2025-09-06T12:57:30.740674Z"
    }
   },
   "cell_type": "code",
   "source": [
    "np.random.seed(0)\n",
    "original_array=np.random.randint(1,10,(2,3,4))\n",
    "print(\"original array = \\n\",original_array)\n",
    "\n",
    "for i in np.nditer(original_array,order='F',op_flags=['readwrite']):\n",
    "    if i>5:\n",
    "        print(i,end=\" \")\n",
    "        i[...]=i-5\n",
    "\n",
    "print(\"\\nmodified array = \\n\",original_array)"
   ],
   "id": "2cd612bd5ad7e149",
   "outputs": [
    {
     "name": "stdout",
     "output_type": "stream",
     "text": [
      "original array = \n",
      " [[[6 1 4 4]\n",
      "  [8 4 6 3]\n",
      "  [5 8 7 9]]\n",
      "\n",
      " [[9 2 7 8]\n",
      "  [8 9 2 6]\n",
      "  [9 5 4 1]]]\n",
      "6 9 8 8 9 9 8 7 6 7 8 6 9 \n",
      "modified array = \n",
      " [[[1 1 4 4]\n",
      "  [3 4 1 3]\n",
      "  [5 3 2 4]]\n",
      "\n",
      " [[4 2 2 3]\n",
      "  [3 4 2 1]\n",
      "  [4 5 4 1]]]\n"
     ]
    }
   ],
   "execution_count": 31
  },
  {
   "metadata": {},
   "cell_type": "markdown",
   "source": [
    "## 📌 Memory Layout of arrays using flags attribute\n",
    "    - NumPy arrays have a flags attribute that provides information about the memory layout and properties of the array.\n",
    "    - Important flags:\n",
    "        - C_CONTIGUOUS (C order): Data is stored in row-major order (last index changes fastest).\n",
    "        - F_CONTIGUOUS (Fortran order): Data is stored in column-major order (first index changes fastest).\n",
    "        - OWNDATA: Indicates if the array owns its data or is a view of another array.\n",
    "        - WRITEABLE: Indicates if the array's data can be modified.\n",
    "        - ALIGNED: Indicates if the data is aligned in memory for efficient access."
   ],
   "id": "f50da2fa090ec5cd"
  },
  {
   "metadata": {
    "ExecuteTime": {
     "end_time": "2025-09-06T12:57:30.755938Z",
     "start_time": "2025-09-06T12:57:30.752295Z"
    }
   },
   "cell_type": "code",
   "source": [
    "# Complex example to show flags\n",
    "array=np.array([[1,2,3],[4,5,6]],order='F')\n",
    "print(\"array = \\n\",array)\n",
    "print(\"array flags = \\n\",array.flags)\n",
    "print(\"Is array C_CONTIGUOUS? \",array.flags['C_CONTIGUOUS'])\n",
    "print(\"Is array F_CONTIGUOUS? \",array.flags['F_CONTIGUOUS'])\n",
    "print(\"Does array own its data (OWN DATA)? \",array.flags['OWNDATA'])\n",
    "print(\"Is array WRITEABLE? \",array.flags['WRITEABLE'])\n",
    "print(\"Is array ALIGNED? \",array.flags['ALIGNED'])"
   ],
   "id": "9acd67721c122642",
   "outputs": [
    {
     "name": "stdout",
     "output_type": "stream",
     "text": [
      "array = \n",
      " [[1 2 3]\n",
      " [4 5 6]]\n",
      "array flags = \n",
      "   C_CONTIGUOUS : False\n",
      "  F_CONTIGUOUS : True\n",
      "  OWNDATA : True\n",
      "  WRITEABLE : True\n",
      "  ALIGNED : True\n",
      "  WRITEBACKIFCOPY : False\n",
      "\n",
      "Is array C_CONTIGUOUS?  False\n",
      "Is array F_CONTIGUOUS?  True\n",
      "Does array own its data (OWN DATA)?  True\n",
      "Is array WRITEABLE?  True\n",
      "Is array ALIGNED?  True\n"
     ]
    }
   ],
   "execution_count": 32
  }
 ],
 "metadata": {
  "kernelspec": {
   "display_name": "Python 3",
   "language": "python",
   "name": "python3"
  },
  "language_info": {
   "codemirror_mode": {
    "name": "ipython",
    "version": 2
   },
   "file_extension": ".py",
   "mimetype": "text/x-python",
   "name": "python",
   "nbconvert_exporter": "python",
   "pygments_lexer": "ipython2",
   "version": "2.7.6"
  }
 },
 "nbformat": 4,
 "nbformat_minor": 5
}
