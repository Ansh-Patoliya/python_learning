{
 "cells": [
  {
   "cell_type": "code",
   "id": "initial_id",
   "metadata": {
    "collapsed": true,
    "ExecuteTime": {
     "end_time": "2025-09-10T13:27:48.212756Z",
     "start_time": "2025-09-10T13:27:48.210133Z"
    }
   },
   "source": "import pandas as pd\n",
   "outputs": [],
   "execution_count": 47
  },
  {
   "metadata": {},
   "cell_type": "markdown",
   "source": [
    "## load data file (CSV, Excel, JSON, etc.)\n",
    "       - pd.read_csv()\n",
    "       - pd.read_excel()\n",
    "       - pd.read_json()"
   ],
   "id": "afe60798fcb5ac9f"
  },
  {
   "metadata": {
    "ExecuteTime": {
     "end_time": "2025-09-10T13:27:48.245497Z",
     "start_time": "2025-09-10T13:27:48.223211Z"
    }
   },
   "cell_type": "code",
   "source": [
    "# load csv file\n",
    "df=pd.read_csv(\"Sample_Data/sales_data_sample.csv\", encoding=\"latin1\")\n",
    "\n",
    "# load excel file\n",
    "# df1=pd.read_excel(\"SampleSuperstore.xlsx\")\n",
    "\n",
    "# # load json file\n",
    "# df=pd.read_json(\"Sample_Data/sample_Data.json\")\n"
   ],
   "id": "862109f52cc36d31",
   "outputs": [],
   "execution_count": 48
  },
  {
   "metadata": {},
   "cell_type": "markdown",
   "source": [
    "## create Series and DataFrame\n",
    "    - pd.Series()\n",
    "        -  a one-dimensional array, like a single column in a spreadsheet.\n",
    "    - pd.DataFrame()\n",
    "        - a two-dimensional, table-like structure with rows and columns, like an entire spreadsheet."
   ],
   "id": "a31ad93b298ea346"
  },
  {
   "metadata": {
    "ExecuteTime": {
     "end_time": "2025-09-10T13:27:48.260167Z",
     "start_time": "2025-09-10T13:27:48.254570Z"
    }
   },
   "cell_type": "code",
   "source": [
    "data={\n",
    "    \"name\":[\"Alice\",\"Bob\",\"Charlie\"],\n",
    "    \"city\":[\"New York\",\"Los Angeles\",\"Chicago\"]\n",
    "}\n",
    "\n",
    "dataFrame=pd.DataFrame(data)\n",
    "print(f\"dataFrame:\\n{dataFrame}\")\n",
    "\n",
    "column=[10,20,30]\n",
    "series=pd.Series(column)\n",
    "\n",
    "print(f\"\\nseries:\\n{series}\")"
   ],
   "id": "a2afacd840dfdd2f",
   "outputs": [
    {
     "name": "stdout",
     "output_type": "stream",
     "text": [
      "dataFrame:\n",
      "      name         city\n",
      "0    Alice     New York\n",
      "1      Bob  Los Angeles\n",
      "2  Charlie      Chicago\n",
      "\n",
      "series:\n",
      "0    10\n",
      "1    20\n",
      "2    30\n",
      "dtype: int64\n"
     ]
    }
   ],
   "execution_count": 49
  },
  {
   "metadata": {},
   "cell_type": "markdown",
   "source": [
    "## save data file (CSV, Excel, JSON, etc.)\n",
    "       - df.to_csv()\n",
    "       - df.to_excel()\n",
    "       - df.to_json()"
   ],
   "id": "77c55758904ccc02"
  },
  {
   "metadata": {
    "ExecuteTime": {
     "end_time": "2025-09-10T13:27:48.275866Z",
     "start_time": "2025-09-10T13:27:48.270635Z"
    }
   },
   "cell_type": "code",
   "source": [
    "# to save in csv file\n",
    "dataFrame.to_csv(\"data.csv\",index=True)\n",
    "\n",
    "# to save in Excel file\n",
    "# dataFrame.to_excel(\"data.xlsx\")\n",
    "\n",
    "# to save in json file\n",
    "dataFrame.to_json(\"data.json\")"
   ],
   "id": "6bc71bbdad50c1ab",
   "outputs": [],
   "execution_count": 50
  },
  {
   "metadata": {},
   "cell_type": "markdown",
   "source": [
    "# DataFrame attributes\n",
    "       - df.shape\n",
    "       - df.columns\n",
    "       - df.index\n",
    "       - df.dtypes\n",
    "       - df.info()\n",
    "       - df.describe()\n",
    "       - df.head()\n",
    "       - df.tail()"
   ],
   "id": "3f607edbd354aa8d"
  },
  {
   "metadata": {
    "ExecuteTime": {
     "end_time": "2025-09-10T13:27:48.301788Z",
     "start_time": "2025-09-10T13:27:48.298747Z"
    }
   },
   "cell_type": "code",
   "source": [
    "# df.shape :- An attribute that returns a tuple representing the dimensions of the DataFrame (rows, columns).\n",
    "print(\"shape = \",df.shape)"
   ],
   "id": "debcee4eeac07be1",
   "outputs": [
    {
     "name": "stdout",
     "output_type": "stream",
     "text": [
      "shape =  (2823, 25)\n"
     ]
    }
   ],
   "execution_count": 51
  },
  {
   "metadata": {
    "ExecuteTime": {
     "end_time": "2025-09-10T13:27:48.326484Z",
     "start_time": "2025-09-10T13:27:48.323942Z"
    }
   },
   "cell_type": "code",
   "source": [
    "# df.columns :- An attribute that returns the column labels (headers) of the DataFrame.\n",
    "print(\"column name = \\n\",df.columns)"
   ],
   "id": "25530606fbbe375d",
   "outputs": [
    {
     "name": "stdout",
     "output_type": "stream",
     "text": [
      "column name = \n",
      " Index(['ORDERNUMBER', 'QUANTITYORDERED', 'PRICEEACH', 'ORDERLINENUMBER',\n",
      "       'SALES', 'ORDERDATE', 'STATUS', 'QTR_ID', 'MONTH_ID', 'YEAR_ID',\n",
      "       'PRODUCTLINE', 'MSRP', 'PRODUCTCODE', 'CUSTOMERNAME', 'PHONE',\n",
      "       'ADDRESSLINE1', 'ADDRESSLINE2', 'CITY', 'STATE', 'POSTALCODE',\n",
      "       'COUNTRY', 'TERRITORY', 'CONTACTLASTNAME', 'CONTACTFIRSTNAME',\n",
      "       'DEALSIZE'],\n",
      "      dtype='object')\n"
     ]
    }
   ],
   "execution_count": 52
  },
  {
   "metadata": {
    "ExecuteTime": {
     "end_time": "2025-09-10T13:27:48.344703Z",
     "start_time": "2025-09-10T13:27:48.342020Z"
    }
   },
   "cell_type": "code",
   "source": [
    "# df.index :- An attribute that returns the index (row labels) of the DataFrame.\n",
    "print(\"index = \",df.index)\n"
   ],
   "id": "7fa330c62878c85d",
   "outputs": [
    {
     "name": "stdout",
     "output_type": "stream",
     "text": [
      "index =  RangeIndex(start=0, stop=2823, step=1)\n"
     ]
    }
   ],
   "execution_count": 53
  },
  {
   "metadata": {
    "ExecuteTime": {
     "end_time": "2025-09-10T13:27:48.366278Z",
     "start_time": "2025-09-10T13:27:48.361850Z"
    }
   },
   "cell_type": "code",
   "source": [
    "# df.dtypes :- An attribute that returns the data type of each column (e.g., int64, float64, object).\n",
    "print(\"datatype of columns = \\n\",df.dtypes)"
   ],
   "id": "43ebd02bf681902b",
   "outputs": [
    {
     "name": "stdout",
     "output_type": "stream",
     "text": [
      "datatype of columns = \n",
      " ORDERNUMBER           int64\n",
      "QUANTITYORDERED       int64\n",
      "PRICEEACH           float64\n",
      "ORDERLINENUMBER       int64\n",
      "SALES               float64\n",
      "ORDERDATE            object\n",
      "STATUS               object\n",
      "QTR_ID                int64\n",
      "MONTH_ID              int64\n",
      "YEAR_ID               int64\n",
      "PRODUCTLINE          object\n",
      "MSRP                  int64\n",
      "PRODUCTCODE          object\n",
      "CUSTOMERNAME         object\n",
      "PHONE                object\n",
      "ADDRESSLINE1         object\n",
      "ADDRESSLINE2         object\n",
      "CITY                 object\n",
      "STATE                object\n",
      "POSTALCODE           object\n",
      "COUNTRY              object\n",
      "TERRITORY            object\n",
      "CONTACTLASTNAME      object\n",
      "CONTACTFIRSTNAME     object\n",
      "DEALSIZE             object\n",
      "dtype: object\n"
     ]
    }
   ],
   "execution_count": 54
  },
  {
   "metadata": {
    "ExecuteTime": {
     "end_time": "2025-09-10T13:27:48.386170Z",
     "start_time": "2025-09-10T13:27:48.377982Z"
    }
   },
   "cell_type": "code",
   "source": [
    "# df.info() :- A method that prints a concise summary of the DataFrame, including the index and column types, non-null values, and memory usage.\n",
    "print(\"info of dataset = \\n\",df.info())"
   ],
   "id": "ff7174c1116bf1ca",
   "outputs": [
    {
     "name": "stdout",
     "output_type": "stream",
     "text": [
      "<class 'pandas.core.frame.DataFrame'>\n",
      "RangeIndex: 2823 entries, 0 to 2822\n",
      "Data columns (total 25 columns):\n",
      " #   Column            Non-Null Count  Dtype  \n",
      "---  ------            --------------  -----  \n",
      " 0   ORDERNUMBER       2823 non-null   int64  \n",
      " 1   QUANTITYORDERED   2823 non-null   int64  \n",
      " 2   PRICEEACH         2823 non-null   float64\n",
      " 3   ORDERLINENUMBER   2823 non-null   int64  \n",
      " 4   SALES             2823 non-null   float64\n",
      " 5   ORDERDATE         2823 non-null   object \n",
      " 6   STATUS            2823 non-null   object \n",
      " 7   QTR_ID            2823 non-null   int64  \n",
      " 8   MONTH_ID          2823 non-null   int64  \n",
      " 9   YEAR_ID           2823 non-null   int64  \n",
      " 10  PRODUCTLINE       2823 non-null   object \n",
      " 11  MSRP              2823 non-null   int64  \n",
      " 12  PRODUCTCODE       2823 non-null   object \n",
      " 13  CUSTOMERNAME      2823 non-null   object \n",
      " 14  PHONE             2823 non-null   object \n",
      " 15  ADDRESSLINE1      2823 non-null   object \n",
      " 16  ADDRESSLINE2      302 non-null    object \n",
      " 17  CITY              2823 non-null   object \n",
      " 18  STATE             1337 non-null   object \n",
      " 19  POSTALCODE        2747 non-null   object \n",
      " 20  COUNTRY           2823 non-null   object \n",
      " 21  TERRITORY         1749 non-null   object \n",
      " 22  CONTACTLASTNAME   2823 non-null   object \n",
      " 23  CONTACTFIRSTNAME  2823 non-null   object \n",
      " 24  DEALSIZE          2823 non-null   object \n",
      "dtypes: float64(2), int64(7), object(16)\n",
      "memory usage: 551.5+ KB\n",
      "info of dataset = \n",
      " None\n"
     ]
    }
   ],
   "execution_count": 55
  },
  {
   "metadata": {
    "ExecuteTime": {
     "end_time": "2025-09-10T13:27:48.414898Z",
     "start_time": "2025-09-10T13:27:48.399250Z"
    }
   },
   "cell_type": "code",
   "source": [
    "# df.describe() :- A method that generates descriptive statistics for numerical columns, such as count, mean, standard deviation, min, max, and percentiles.\n",
    "print(\"description of dataset = \\n\",df.describe())"
   ],
   "id": "65a84cd1dc2b4f44",
   "outputs": [
    {
     "name": "stdout",
     "output_type": "stream",
     "text": [
      "description of dataset = \n",
      "         ORDERNUMBER  QUANTITYORDERED    PRICEEACH  ORDERLINENUMBER  \\\n",
      "count   2823.000000      2823.000000  2823.000000      2823.000000   \n",
      "mean   10258.725115        35.092809    83.658544         6.466171   \n",
      "std       92.085478         9.741443    20.174277         4.225841   \n",
      "min    10100.000000         6.000000    26.880000         1.000000   \n",
      "25%    10180.000000        27.000000    68.860000         3.000000   \n",
      "50%    10262.000000        35.000000    95.700000         6.000000   \n",
      "75%    10333.500000        43.000000   100.000000         9.000000   \n",
      "max    10425.000000        97.000000   100.000000        18.000000   \n",
      "\n",
      "              SALES       QTR_ID     MONTH_ID     YEAR_ID         MSRP  \n",
      "count   2823.000000  2823.000000  2823.000000  2823.00000  2823.000000  \n",
      "mean    3553.889072     2.717676     7.092455  2003.81509   100.715551  \n",
      "std     1841.865106     1.203878     3.656633     0.69967    40.187912  \n",
      "min      482.130000     1.000000     1.000000  2003.00000    33.000000  \n",
      "25%     2203.430000     2.000000     4.000000  2003.00000    68.000000  \n",
      "50%     3184.800000     3.000000     8.000000  2004.00000    99.000000  \n",
      "75%     4508.000000     4.000000    11.000000  2004.00000   124.000000  \n",
      "max    14082.800000     4.000000    12.000000  2005.00000   214.000000  \n"
     ]
    }
   ],
   "execution_count": 56
  },
  {
   "metadata": {
    "ExecuteTime": {
     "end_time": "2025-09-10T13:27:48.436137Z",
     "start_time": "2025-09-10T13:27:48.428142Z"
    }
   },
   "cell_type": "code",
   "source": [
    "# df.head(n=5) :- A method that returns the first n rows of the DataFrame (default is 5). It's useful for a quick peek at the data.\n",
    "print(\"first 5 rows of dataset = \\n\",df.head())"
   ],
   "id": "32f445ff50f09087",
   "outputs": [
    {
     "name": "stdout",
     "output_type": "stream",
     "text": [
      "first 5 rows of dataset = \n",
      "    ORDERNUMBER  QUANTITYORDERED  PRICEEACH  ORDERLINENUMBER    SALES  \\\n",
      "0        10107               30      95.70                2  2871.00   \n",
      "1        10121               34      81.35                5  2765.90   \n",
      "2        10134               41      94.74                2  3884.34   \n",
      "3        10145               45      83.26                6  3746.70   \n",
      "4        10159               49     100.00               14  5205.27   \n",
      "\n",
      "         ORDERDATE   STATUS  QTR_ID  MONTH_ID  YEAR_ID  ...  \\\n",
      "0   2/24/2003 0:00  Shipped       1         2     2003  ...   \n",
      "1    5/7/2003 0:00  Shipped       2         5     2003  ...   \n",
      "2    7/1/2003 0:00  Shipped       3         7     2003  ...   \n",
      "3   8/25/2003 0:00  Shipped       3         8     2003  ...   \n",
      "4  10/10/2003 0:00  Shipped       4        10     2003  ...   \n",
      "\n",
      "                    ADDRESSLINE1  ADDRESSLINE2           CITY STATE  \\\n",
      "0        897 Long Airport Avenue           NaN            NYC    NY   \n",
      "1             59 rue de l'Abbaye           NaN          Reims   NaN   \n",
      "2  27 rue du Colonel Pierre Avia           NaN          Paris   NaN   \n",
      "3             78934 Hillside Dr.           NaN       Pasadena    CA   \n",
      "4                7734 Strong St.           NaN  San Francisco    CA   \n",
      "\n",
      "  POSTALCODE COUNTRY TERRITORY CONTACTLASTNAME CONTACTFIRSTNAME DEALSIZE  \n",
      "0      10022     USA       NaN              Yu             Kwai    Small  \n",
      "1      51100  France      EMEA         Henriot             Paul    Small  \n",
      "2      75508  France      EMEA        Da Cunha           Daniel   Medium  \n",
      "3      90003     USA       NaN           Young            Julie   Medium  \n",
      "4        NaN     USA       NaN           Brown            Julie   Medium  \n",
      "\n",
      "[5 rows x 25 columns]\n"
     ]
    }
   ],
   "execution_count": 57
  },
  {
   "metadata": {
    "ExecuteTime": {
     "end_time": "2025-09-10T13:27:48.454301Z",
     "start_time": "2025-09-10T13:27:48.446730Z"
    }
   },
   "cell_type": "code",
   "source": [
    "# df.tail(n=5) :- A method that returns the last n rows of the DataFrame (default is 5). It's useful for checking the end of the data.\n",
    "print(\"last 5 rows of dataset = \\n\",df.tail())"
   ],
   "id": "60e71d2dd1e6f42",
   "outputs": [
    {
     "name": "stdout",
     "output_type": "stream",
     "text": [
      "last 5 rows of dataset = \n",
      "       ORDERNUMBER  QUANTITYORDERED  PRICEEACH  ORDERLINENUMBER    SALES  \\\n",
      "2818        10350               20     100.00               15  2244.40   \n",
      "2819        10373               29     100.00                1  3978.51   \n",
      "2820        10386               43     100.00                4  5417.57   \n",
      "2821        10397               34      62.24                1  2116.16   \n",
      "2822        10414               47      65.52                9  3079.44   \n",
      "\n",
      "           ORDERDATE    STATUS  QTR_ID  MONTH_ID  YEAR_ID  ...  \\\n",
      "2818  12/2/2004 0:00   Shipped       4        12     2004  ...   \n",
      "2819  1/31/2005 0:00   Shipped       1         1     2005  ...   \n",
      "2820   3/1/2005 0:00  Resolved       1         3     2005  ...   \n",
      "2821  3/28/2005 0:00   Shipped       1         3     2005  ...   \n",
      "2822   5/6/2005 0:00   On Hold       2         5     2005  ...   \n",
      "\n",
      "               ADDRESSLINE1  ADDRESSLINE2      CITY STATE POSTALCODE  COUNTRY  \\\n",
      "2818     C/ Moralzarzal, 86           NaN    Madrid   NaN      28034    Spain   \n",
      "2819            Torikatu 38           NaN      Oulu   NaN      90110  Finland   \n",
      "2820     C/ Moralzarzal, 86           NaN    Madrid   NaN      28034    Spain   \n",
      "2821  1 rue Alsace-Lorraine           NaN  Toulouse   NaN      31000   France   \n",
      "2822     8616 Spinnaker Dr.           NaN    Boston    MA      51003      USA   \n",
      "\n",
      "     TERRITORY CONTACTLASTNAME CONTACTFIRSTNAME DEALSIZE  \n",
      "2818      EMEA          Freyre            Diego    Small  \n",
      "2819      EMEA       Koskitalo           Pirkko   Medium  \n",
      "2820      EMEA          Freyre            Diego   Medium  \n",
      "2821      EMEA          Roulet          Annette    Small  \n",
      "2822       NaN         Yoshido             Juri   Medium  \n",
      "\n",
      "[5 rows x 25 columns]\n"
     ]
    }
   ],
   "execution_count": 58
  },
  {
   "metadata": {},
   "cell_type": "markdown",
   "source": [
    "# Series attributes\n",
    "       - series.shape\n",
    "       - series.index\n",
    "       - series.dtype\n",
    "       - series.values\n",
    "       - series.head()\n",
    "       - series.tail()\n",
    "       - series.describe()"
   ],
   "id": "b80fb07515180cf2"
  },
  {
   "metadata": {
    "ExecuteTime": {
     "end_time": "2025-09-10T13:27:48.464824Z",
     "start_time": "2025-09-10T13:27:48.461330Z"
    }
   },
   "cell_type": "code",
   "source": [
    "# series.shape :- An attribute that returns a tuple representing the dimensions of the Series (length,).\n",
    "print(\"shape = \",series.shape)"
   ],
   "id": "edfbd8629176a57",
   "outputs": [
    {
     "name": "stdout",
     "output_type": "stream",
     "text": [
      "shape =  (3,)\n"
     ]
    }
   ],
   "execution_count": 59
  },
  {
   "metadata": {
    "ExecuteTime": {
     "end_time": "2025-09-10T13:27:48.479918Z",
     "start_time": "2025-09-10T13:27:48.476956Z"
    }
   },
   "cell_type": "code",
   "source": [
    "# series.index :- An attribute that returns the index (labels) of the Series.\n",
    "print(f\"index = {series.index}\")"
   ],
   "id": "297c430d0057969d",
   "outputs": [
    {
     "name": "stdout",
     "output_type": "stream",
     "text": [
      "index = RangeIndex(start=0, stop=3, step=1)\n"
     ]
    }
   ],
   "execution_count": 60
  },
  {
   "metadata": {
    "ExecuteTime": {
     "end_time": "2025-09-10T13:27:48.501052Z",
     "start_time": "2025-09-10T13:27:48.497682Z"
    }
   },
   "cell_type": "code",
   "source": [
    "# series.dtype :- An attribute that returns the data type of the elements in the Series.\n",
    "print(f\"datatype = {series.dtype}\")"
   ],
   "id": "de405e56f041f596",
   "outputs": [
    {
     "name": "stdout",
     "output_type": "stream",
     "text": [
      "datatype = int64\n"
     ]
    }
   ],
   "execution_count": 61
  },
  {
   "metadata": {
    "ExecuteTime": {
     "end_time": "2025-09-10T13:27:48.518520Z",
     "start_time": "2025-09-10T13:27:48.515186Z"
    }
   },
   "cell_type": "code",
   "source": [
    "# series.values :- An attribute that returns the data of the Series as a NumPy array.\n",
    "print(f\"values = \\n{series.values}\")"
   ],
   "id": "28eb74dee519a27f",
   "outputs": [
    {
     "name": "stdout",
     "output_type": "stream",
     "text": [
      "values = \n",
      "[10 20 30]\n"
     ]
    }
   ],
   "execution_count": 62
  },
  {
   "metadata": {
    "ExecuteTime": {
     "end_time": "2025-09-10T13:27:48.545911Z",
     "start_time": "2025-09-10T13:27:48.542107Z"
    }
   },
   "cell_type": "code",
   "source": [
    "# series.head(n=5) :- A method that returns the first n elements of the Series (default is 5).\n",
    "print(f\"first 2 rows = \\n{series.head(2)}\")"
   ],
   "id": "7e6bd5119cf7a7f4",
   "outputs": [
    {
     "name": "stdout",
     "output_type": "stream",
     "text": [
      "first 2 rows = \n",
      "0    10\n",
      "1    20\n",
      "dtype: int64\n"
     ]
    }
   ],
   "execution_count": 63
  },
  {
   "metadata": {
    "ExecuteTime": {
     "end_time": "2025-09-10T13:27:48.565718Z",
     "start_time": "2025-09-10T13:27:48.561827Z"
    }
   },
   "cell_type": "code",
   "source": [
    "# series.tail(n=5) :- A method that returns the last n elements of the Series (default is 5).\n",
    "print(f\"last 2 rows = \\n{series.tail(2)}\")"
   ],
   "id": "8ce93eabb5a1280c",
   "outputs": [
    {
     "name": "stdout",
     "output_type": "stream",
     "text": [
      "last 2 rows = \n",
      "1    20\n",
      "2    30\n",
      "dtype: int64\n"
     ]
    }
   ],
   "execution_count": 64
  },
  {
   "metadata": {
    "ExecuteTime": {
     "end_time": "2025-09-10T13:28:24.694470Z",
     "start_time": "2025-09-10T13:28:24.689122Z"
    }
   },
   "cell_type": "code",
   "source": [
    "# series.describe() :- A method that generates descriptive statistics for the Series, such as count, mean, standard deviation, and quartiles.\n",
    "print(f\"description = \\n{series.describe()}\")"
   ],
   "id": "a7db2989f0df50a5",
   "outputs": [
    {
     "name": "stdout",
     "output_type": "stream",
     "text": [
      "<class 'pandas.core.series.Series'>\n",
      "RangeIndex: 3 entries, 0 to 2\n",
      "Series name: None\n",
      "Non-Null Count  Dtype\n",
      "--------------  -----\n",
      "3 non-null      int64\n",
      "dtypes: int64(1)\n",
      "memory usage: 156.0 bytes\n",
      "description = \n",
      "None\n"
     ]
    }
   ],
   "execution_count": 66
  },
  {
   "metadata": {},
   "cell_type": "markdown",
   "source": [
    "## Selecting data\n",
    "       - df['column_name']\n",
    "       - df[['col1','col2']]\n",
    "       - df.iloc[row_index, col_index]\n",
    "       - df.loc[row_label, col_label]\n",
    "       - df[condition]\n",
    "            - condition example:\n",
    "            (1) for single condition\n",
    "                    df[df['column_name'] > value]\n",
    "            (2) for multiple conditions (and ( & ), or ( |))\n",
    "                    df[(df['col1'] > value1) & (df['col2'] < value2)]\n"
   ],
   "id": "6dca872af0038440"
  }
 ],
 "metadata": {
  "kernelspec": {
   "display_name": "Python 3",
   "language": "python",
   "name": "python3"
  },
  "language_info": {
   "codemirror_mode": {
    "name": "ipython",
    "version": 2
   },
   "file_extension": ".py",
   "mimetype": "text/x-python",
   "name": "python",
   "nbconvert_exporter": "python",
   "pygments_lexer": "ipython2",
   "version": "2.7.6"
  }
 },
 "nbformat": 4,
 "nbformat_minor": 5
}
