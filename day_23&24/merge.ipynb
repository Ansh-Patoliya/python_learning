{
 "cells": [
  {
   "cell_type": "code",
   "id": "initial_id",
   "metadata": {
    "collapsed": true,
    "ExecuteTime": {
     "end_time": "2025-09-16T15:35:39.218796Z",
     "start_time": "2025-09-16T15:35:39.211831Z"
    }
   },
   "source": "import pandas as pd",
   "outputs": [],
   "execution_count": 2
  },
  {
   "metadata": {},
   "cell_type": "markdown",
   "source": [
    "# merge() — SQL-style joins (inner, left, right, outer)\n",
    "    merge() combines two DataFrames using one or more columns like SQL joins. You choose how=:\n",
    "    inner, left, right, outer.\n",
    "    - syntax: pd.merge(df1, df2, on='key_column', how='inner/left/right/outer')\n",
    "        (1) Inner Join:\n",
    "         - Returns only the rows with keys that are present in both DataFrames.\n",
    "        (2) Left Join:\n",
    "         - Returns all rows from the left DataFrame and the matched rows from the\n",
    "         right DataFrame.\n",
    "         - Unmatched rows will have NaN for columns from the right DataFrame.\n",
    "        (3) Right Join:\n",
    "         - Returns all rows from the right DataFrame and the matched rows from the left DataFrame.\n",
    "         - Unmatched rows will have NaN for columns from the left DataFrame.\n",
    "        (4) Outer Join:\n",
    "         - Returns all rows when there is a match in either left or right DataFrame.\n",
    "         - Unmatched rows will have NaN for columns from the other DataFrame."
   ],
   "id": "eab60e49504ed0df"
  },
  {
   "metadata": {},
   "cell_type": "markdown",
   "source": [
    "# Difference between merge() and join()\n",
    "    - merge() is column-based and more flexible.\n",
    "    - It behaves like SQL joins. Use on=, left_on=, right_on=. It handles many-to-one and\n",
    "     many-to-many.\n",
    "    - join() is index-based by default and is a method on DataFrame.\n",
    "    - It is short and convenient when your keys are already indexes.\n",
    "    - You can do df1.merge(df2, left_index=True, right_index=True) to get the same as df1.join\n",
    "    (df2).\n",
    "    - merge() has more options like validate=, indicator=, and fine control over suffixes."
   ],
   "id": "da6096f843ad2183"
  },
  {
   "metadata": {
    "ExecuteTime": {
     "end_time": "2025-09-16T15:35:39.280517Z",
     "start_time": "2025-09-16T15:35:39.270949Z"
    }
   },
   "cell_type": "code",
   "source": [
    "customers = pd.DataFrame({\n",
    "    'CustomerID': [1, 2, 3, 4],\n",
    "    'Name': ['Alice', 'Bob', 'Charlie', 'Diana'],\n",
    "    'City': ['New York', 'Los Angeles', 'Chicago', 'Houston']\n",
    "})\n",
    "\n",
    "orders = pd.DataFrame({\n",
    "    'OrderID': [101, 102, 103, 104, 105],\n",
    "    'CustomerID': [1, 2, 2, 5, 3],   # note CustomerID 5 does not exist in customers\n",
    "    'Product': ['Laptop', 'Phone', 'Tablet', 'Monitor', 'Mouse'],\n",
    "    'Amount': [1200, 800, 450, 300, 50]\n",
    "})"
   ],
   "id": "27b5d8208059bf",
   "outputs": [],
   "execution_count": 3
  },
  {
   "metadata": {
    "ExecuteTime": {
     "end_time": "2025-09-16T15:35:39.342494Z",
     "start_time": "2025-09-16T15:35:39.299628Z"
    }
   },
   "cell_type": "code",
   "source": [
    "# Inner join (only matching keys)\n",
    "pd.merge(orders, customers, on='CustomerID', how='inner')\n",
    "# Explanation: rows with CustomerID=5 were dropped because there is no matching customer."
   ],
   "id": "3eae66b88c2181c2",
   "outputs": [
    {
     "data": {
      "text/plain": [
       "   OrderID  CustomerID Product  Amount     Name         City\n",
       "0      101           1  Laptop    1200    Alice     New York\n",
       "1      102           2   Phone     800      Bob  Los Angeles\n",
       "2      103           2  Tablet     450      Bob  Los Angeles\n",
       "3      105           3   Mouse      50  Charlie      Chicago"
      ],
      "text/html": [
       "<div>\n",
       "<style scoped>\n",
       "    .dataframe tbody tr th:only-of-type {\n",
       "        vertical-align: middle;\n",
       "    }\n",
       "\n",
       "    .dataframe tbody tr th {\n",
       "        vertical-align: top;\n",
       "    }\n",
       "\n",
       "    .dataframe thead th {\n",
       "        text-align: right;\n",
       "    }\n",
       "</style>\n",
       "<table border=\"1\" class=\"dataframe\">\n",
       "  <thead>\n",
       "    <tr style=\"text-align: right;\">\n",
       "      <th></th>\n",
       "      <th>OrderID</th>\n",
       "      <th>CustomerID</th>\n",
       "      <th>Product</th>\n",
       "      <th>Amount</th>\n",
       "      <th>Name</th>\n",
       "      <th>City</th>\n",
       "    </tr>\n",
       "  </thead>\n",
       "  <tbody>\n",
       "    <tr>\n",
       "      <th>0</th>\n",
       "      <td>101</td>\n",
       "      <td>1</td>\n",
       "      <td>Laptop</td>\n",
       "      <td>1200</td>\n",
       "      <td>Alice</td>\n",
       "      <td>New York</td>\n",
       "    </tr>\n",
       "    <tr>\n",
       "      <th>1</th>\n",
       "      <td>102</td>\n",
       "      <td>2</td>\n",
       "      <td>Phone</td>\n",
       "      <td>800</td>\n",
       "      <td>Bob</td>\n",
       "      <td>Los Angeles</td>\n",
       "    </tr>\n",
       "    <tr>\n",
       "      <th>2</th>\n",
       "      <td>103</td>\n",
       "      <td>2</td>\n",
       "      <td>Tablet</td>\n",
       "      <td>450</td>\n",
       "      <td>Bob</td>\n",
       "      <td>Los Angeles</td>\n",
       "    </tr>\n",
       "    <tr>\n",
       "      <th>3</th>\n",
       "      <td>105</td>\n",
       "      <td>3</td>\n",
       "      <td>Mouse</td>\n",
       "      <td>50</td>\n",
       "      <td>Charlie</td>\n",
       "      <td>Chicago</td>\n",
       "    </tr>\n",
       "  </tbody>\n",
       "</table>\n",
       "</div>"
      ]
     },
     "execution_count": 4,
     "metadata": {},
     "output_type": "execute_result"
    }
   ],
   "execution_count": 4
  },
  {
   "metadata": {
    "ExecuteTime": {
     "end_time": "2025-09-16T15:35:39.419378Z",
     "start_time": "2025-09-16T15:35:39.407539Z"
    }
   },
   "cell_type": "code",
   "source": [
    "# Left join (all left rows, match where possible)\n",
    "# Left = keep all orders rows, add customer info if exists.\n",
    "pd.merge(orders, customers, on='CustomerID', how='left')\n",
    "# Explanation: OrderID 104 kept, but customer info is NaN because CustomerID=5 not in customers."
   ],
   "id": "84afecb57cf0dddd",
   "outputs": [
    {
     "data": {
      "text/plain": [
       "   OrderID  CustomerID  Product  Amount     Name         City\n",
       "0      101           1   Laptop    1200    Alice     New York\n",
       "1      102           2    Phone     800      Bob  Los Angeles\n",
       "2      103           2   Tablet     450      Bob  Los Angeles\n",
       "3      104           5  Monitor     300      NaN          NaN\n",
       "4      105           3    Mouse      50  Charlie      Chicago"
      ],
      "text/html": [
       "<div>\n",
       "<style scoped>\n",
       "    .dataframe tbody tr th:only-of-type {\n",
       "        vertical-align: middle;\n",
       "    }\n",
       "\n",
       "    .dataframe tbody tr th {\n",
       "        vertical-align: top;\n",
       "    }\n",
       "\n",
       "    .dataframe thead th {\n",
       "        text-align: right;\n",
       "    }\n",
       "</style>\n",
       "<table border=\"1\" class=\"dataframe\">\n",
       "  <thead>\n",
       "    <tr style=\"text-align: right;\">\n",
       "      <th></th>\n",
       "      <th>OrderID</th>\n",
       "      <th>CustomerID</th>\n",
       "      <th>Product</th>\n",
       "      <th>Amount</th>\n",
       "      <th>Name</th>\n",
       "      <th>City</th>\n",
       "    </tr>\n",
       "  </thead>\n",
       "  <tbody>\n",
       "    <tr>\n",
       "      <th>0</th>\n",
       "      <td>101</td>\n",
       "      <td>1</td>\n",
       "      <td>Laptop</td>\n",
       "      <td>1200</td>\n",
       "      <td>Alice</td>\n",
       "      <td>New York</td>\n",
       "    </tr>\n",
       "    <tr>\n",
       "      <th>1</th>\n",
       "      <td>102</td>\n",
       "      <td>2</td>\n",
       "      <td>Phone</td>\n",
       "      <td>800</td>\n",
       "      <td>Bob</td>\n",
       "      <td>Los Angeles</td>\n",
       "    </tr>\n",
       "    <tr>\n",
       "      <th>2</th>\n",
       "      <td>103</td>\n",
       "      <td>2</td>\n",
       "      <td>Tablet</td>\n",
       "      <td>450</td>\n",
       "      <td>Bob</td>\n",
       "      <td>Los Angeles</td>\n",
       "    </tr>\n",
       "    <tr>\n",
       "      <th>3</th>\n",
       "      <td>104</td>\n",
       "      <td>5</td>\n",
       "      <td>Monitor</td>\n",
       "      <td>300</td>\n",
       "      <td>NaN</td>\n",
       "      <td>NaN</td>\n",
       "    </tr>\n",
       "    <tr>\n",
       "      <th>4</th>\n",
       "      <td>105</td>\n",
       "      <td>3</td>\n",
       "      <td>Mouse</td>\n",
       "      <td>50</td>\n",
       "      <td>Charlie</td>\n",
       "      <td>Chicago</td>\n",
       "    </tr>\n",
       "  </tbody>\n",
       "</table>\n",
       "</div>"
      ]
     },
     "execution_count": 5,
     "metadata": {},
     "output_type": "execute_result"
    }
   ],
   "execution_count": 5
  },
  {
   "metadata": {
    "ExecuteTime": {
     "end_time": "2025-09-16T15:35:39.464358Z",
     "start_time": "2025-09-16T15:35:39.449364Z"
    }
   },
   "cell_type": "code",
   "source": [
    "# Right join (all right rows, match where possible)\n",
    "# Right = keep all customers rows, include order info if exists.\n",
    "pd.merge(orders, customers, on='CustomerID', how='right')\n",
    "\n",
    "# Explanation: Diana exists in customers but has no orders. Her order columns are NaN."
   ],
   "id": "eb8bc182f12c6814",
   "outputs": [
    {
     "data": {
      "text/plain": [
       "   OrderID  CustomerID Product  Amount     Name         City\n",
       "0    101.0           1  Laptop  1200.0    Alice     New York\n",
       "1    102.0           2   Phone   800.0      Bob  Los Angeles\n",
       "2    103.0           2  Tablet   450.0      Bob  Los Angeles\n",
       "3    105.0           3   Mouse    50.0  Charlie      Chicago\n",
       "4      NaN           4     NaN     NaN    Diana      Houston"
      ],
      "text/html": [
       "<div>\n",
       "<style scoped>\n",
       "    .dataframe tbody tr th:only-of-type {\n",
       "        vertical-align: middle;\n",
       "    }\n",
       "\n",
       "    .dataframe tbody tr th {\n",
       "        vertical-align: top;\n",
       "    }\n",
       "\n",
       "    .dataframe thead th {\n",
       "        text-align: right;\n",
       "    }\n",
       "</style>\n",
       "<table border=\"1\" class=\"dataframe\">\n",
       "  <thead>\n",
       "    <tr style=\"text-align: right;\">\n",
       "      <th></th>\n",
       "      <th>OrderID</th>\n",
       "      <th>CustomerID</th>\n",
       "      <th>Product</th>\n",
       "      <th>Amount</th>\n",
       "      <th>Name</th>\n",
       "      <th>City</th>\n",
       "    </tr>\n",
       "  </thead>\n",
       "  <tbody>\n",
       "    <tr>\n",
       "      <th>0</th>\n",
       "      <td>101.0</td>\n",
       "      <td>1</td>\n",
       "      <td>Laptop</td>\n",
       "      <td>1200.0</td>\n",
       "      <td>Alice</td>\n",
       "      <td>New York</td>\n",
       "    </tr>\n",
       "    <tr>\n",
       "      <th>1</th>\n",
       "      <td>102.0</td>\n",
       "      <td>2</td>\n",
       "      <td>Phone</td>\n",
       "      <td>800.0</td>\n",
       "      <td>Bob</td>\n",
       "      <td>Los Angeles</td>\n",
       "    </tr>\n",
       "    <tr>\n",
       "      <th>2</th>\n",
       "      <td>103.0</td>\n",
       "      <td>2</td>\n",
       "      <td>Tablet</td>\n",
       "      <td>450.0</td>\n",
       "      <td>Bob</td>\n",
       "      <td>Los Angeles</td>\n",
       "    </tr>\n",
       "    <tr>\n",
       "      <th>3</th>\n",
       "      <td>105.0</td>\n",
       "      <td>3</td>\n",
       "      <td>Mouse</td>\n",
       "      <td>50.0</td>\n",
       "      <td>Charlie</td>\n",
       "      <td>Chicago</td>\n",
       "    </tr>\n",
       "    <tr>\n",
       "      <th>4</th>\n",
       "      <td>NaN</td>\n",
       "      <td>4</td>\n",
       "      <td>NaN</td>\n",
       "      <td>NaN</td>\n",
       "      <td>Diana</td>\n",
       "      <td>Houston</td>\n",
       "    </tr>\n",
       "  </tbody>\n",
       "</table>\n",
       "</div>"
      ]
     },
     "execution_count": 6,
     "metadata": {},
     "output_type": "execute_result"
    }
   ],
   "execution_count": 6
  },
  {
   "metadata": {
    "ExecuteTime": {
     "end_time": "2025-09-16T15:35:39.509869Z",
     "start_time": "2025-09-16T15:35:39.493151Z"
    }
   },
   "cell_type": "code",
   "source": [
    "# Outer join (all rows from both sides)\n",
    "pd.merge(orders, customers, on='CustomerID', how='outer')\n",
    "# Explanation: includes both the unmatched order (CustomerID 5) and unmatched customer (CustomerID 4)."
   ],
   "id": "65046731f8c35913",
   "outputs": [
    {
     "data": {
      "text/plain": [
       "   OrderID  CustomerID  Product  Amount     Name         City\n",
       "0    101.0           1   Laptop  1200.0    Alice     New York\n",
       "1    102.0           2    Phone   800.0      Bob  Los Angeles\n",
       "2    103.0           2   Tablet   450.0      Bob  Los Angeles\n",
       "3    105.0           3    Mouse    50.0  Charlie      Chicago\n",
       "4      NaN           4      NaN     NaN    Diana      Houston\n",
       "5    104.0           5  Monitor   300.0      NaN          NaN"
      ],
      "text/html": [
       "<div>\n",
       "<style scoped>\n",
       "    .dataframe tbody tr th:only-of-type {\n",
       "        vertical-align: middle;\n",
       "    }\n",
       "\n",
       "    .dataframe tbody tr th {\n",
       "        vertical-align: top;\n",
       "    }\n",
       "\n",
       "    .dataframe thead th {\n",
       "        text-align: right;\n",
       "    }\n",
       "</style>\n",
       "<table border=\"1\" class=\"dataframe\">\n",
       "  <thead>\n",
       "    <tr style=\"text-align: right;\">\n",
       "      <th></th>\n",
       "      <th>OrderID</th>\n",
       "      <th>CustomerID</th>\n",
       "      <th>Product</th>\n",
       "      <th>Amount</th>\n",
       "      <th>Name</th>\n",
       "      <th>City</th>\n",
       "    </tr>\n",
       "  </thead>\n",
       "  <tbody>\n",
       "    <tr>\n",
       "      <th>0</th>\n",
       "      <td>101.0</td>\n",
       "      <td>1</td>\n",
       "      <td>Laptop</td>\n",
       "      <td>1200.0</td>\n",
       "      <td>Alice</td>\n",
       "      <td>New York</td>\n",
       "    </tr>\n",
       "    <tr>\n",
       "      <th>1</th>\n",
       "      <td>102.0</td>\n",
       "      <td>2</td>\n",
       "      <td>Phone</td>\n",
       "      <td>800.0</td>\n",
       "      <td>Bob</td>\n",
       "      <td>Los Angeles</td>\n",
       "    </tr>\n",
       "    <tr>\n",
       "      <th>2</th>\n",
       "      <td>103.0</td>\n",
       "      <td>2</td>\n",
       "      <td>Tablet</td>\n",
       "      <td>450.0</td>\n",
       "      <td>Bob</td>\n",
       "      <td>Los Angeles</td>\n",
       "    </tr>\n",
       "    <tr>\n",
       "      <th>3</th>\n",
       "      <td>105.0</td>\n",
       "      <td>3</td>\n",
       "      <td>Mouse</td>\n",
       "      <td>50.0</td>\n",
       "      <td>Charlie</td>\n",
       "      <td>Chicago</td>\n",
       "    </tr>\n",
       "    <tr>\n",
       "      <th>4</th>\n",
       "      <td>NaN</td>\n",
       "      <td>4</td>\n",
       "      <td>NaN</td>\n",
       "      <td>NaN</td>\n",
       "      <td>Diana</td>\n",
       "      <td>Houston</td>\n",
       "    </tr>\n",
       "    <tr>\n",
       "      <th>5</th>\n",
       "      <td>104.0</td>\n",
       "      <td>5</td>\n",
       "      <td>Monitor</td>\n",
       "      <td>300.0</td>\n",
       "      <td>NaN</td>\n",
       "      <td>NaN</td>\n",
       "    </tr>\n",
       "  </tbody>\n",
       "</table>\n",
       "</div>"
      ]
     },
     "execution_count": 7,
     "metadata": {},
     "output_type": "execute_result"
    }
   ],
   "execution_count": 7
  },
  {
   "metadata": {
    "ExecuteTime": {
     "end_time": "2025-09-17T11:12:52.881050Z",
     "start_time": "2025-09-17T11:12:52.868439Z"
    }
   },
   "cell_type": "code",
   "source": [
    "import pandas as pd\n",
    "import numpy as np\n",
    "\n",
    "# 1. Customers DataFrame\n",
    "customers_data = {\n",
    "    'CustomerID': range(101, 112),\n",
    "    'CustomerName': ['Aarav Patel', 'Priya Sharma', 'Rohan Mehta', 'Sneha Desai', 'Vikram Singh', 'Anjali Gupta', 'Mohit Kumar', 'Isha Shah', 'Karan Joshi', 'Diya Verma', 'Jay Trivedi'],\n",
    "    'Country': ['India', 'USA', 'India', 'UK', 'USA', 'Canada', 'India', 'Australia', 'UK', 'USA', 'India']\n",
    "}\n",
    "customers_df = pd.DataFrame(customers_data)\n",
    "\n",
    "# 2. Products DataFrame\n",
    "products_data = {\n",
    "    'ProductID': range(201, 211),\n",
    "    'ProductName': ['Laptop', 'Mouse', 'Keyboard', 'Monitor', 'Headphones', 'Webcam', 'USB Cable', 'Charger', 'Pen Drive', 'Hard Disk'],\n",
    "    'Price': [75000, 800, 1200, 15000, 2500, 4000, 300, 900, 600, 5500]\n",
    "}\n",
    "products_df = pd.DataFrame(products_data)\n",
    "\n",
    "# 3. Orders DataFrame\n",
    "# Note: Customer 'Jay Trivedi' (111) has no orders to demonstrate left join later.\n",
    "orders_data = {\n",
    "    'OrderID': range(301, 316),\n",
    "    'CustomerID': np.random.choice(range(101, 111), 15),\n",
    "    'ProductID': np.random.choice(range(201, 211), 15),\n",
    "    'Quantity': np.random.randint(1, 5, 15)\n",
    "}\n",
    "orders_df = pd.DataFrame(orders_data)"
   ],
   "id": "2ca2a298c256c158",
   "outputs": [
    {
     "name": "stdout",
     "output_type": "stream",
     "text": [
      "   ProductID ProductName  Price\n",
      "0        201      Laptop  75000\n",
      "1        202       Mouse    800\n",
      "2        203    Keyboard   1200\n",
      "3        204     Monitor  15000\n",
      "4        205  Headphones   2500\n",
      "5        206      Webcam   4000\n",
      "6        207   USB Cable    300\n",
      "7        208     Charger    900\n",
      "8        209   Pen Drive    600\n",
      "9        210   Hard Disk   5500\n"
     ]
    }
   ],
   "execution_count": 13
  },
  {
   "metadata": {},
   "cell_type": "markdown",
   "source": [
    "# 🤓 Easy Question\n",
    "    (1) Show all order details along with the customer's name and country."
   ],
   "id": "5f16246a50ded00b"
  },
  {
   "metadata": {},
   "cell_type": "markdown",
   "source": [
    "# 🤔 Medium Questions\n",
    "    (2) List all products along with their prices. If a product has never been ordered, it should still be included in the list.\n",
    "    (3) For each order, show the customer's name, product name, and quantity.\n",
    "    (4) List all customers and their corresponding order details. Customers who have not placed any orders should also be included in the final list."
   ],
   "id": "8128900b9cb4e5d2"
  },
  {
   "metadata": {},
   "cell_type": "code",
   "outputs": [],
   "execution_count": null,
   "source": "# 2. List all products along with their prices. If a product has never been ordered, it should still be included in the list.",
   "id": "1970d53ebc5b79e0"
  },
  {
   "metadata": {},
   "cell_type": "code",
   "outputs": [],
   "execution_count": null,
   "source": "# 3. For each order, show the customer's name, product name, and quantity.",
   "id": "4db24ee02fab47df"
  },
  {
   "metadata": {},
   "cell_type": "code",
   "outputs": [],
   "execution_count": null,
   "source": "# 4. List all customers and their corresponding order details. Customers who have not placed any orders should also be included in the final list.",
   "id": "c3502b6fa4c7bc29"
  },
  {
   "metadata": {},
   "cell_type": "markdown",
   "source": [
    "# 🤯 Hard Questions\n",
    "    (5) Calculate the total revenue (Price * Quantity) for each product and display it alongside the product name.\n",
    "    (6) Find the details (OrderID, CustomerName, ProductName, Quantity) for all orders placed by customers from the USA.\n",
    "    (7) Find the customer who has spent the most money. Display their name and the total amount they have spent."
   ],
   "id": "1a80ab412211240c"
  },
  {
   "metadata": {
    "ExecuteTime": {
     "end_time": "2025-09-17T11:33:23.815014Z",
     "start_time": "2025-09-17T11:33:23.786639Z"
    }
   },
   "cell_type": "code",
   "source": [
    "# 5. Calculate the total revenue (Price * Quantity) for each product and display it alongside the product name.\n",
    "merge_data=pd.merge(products_df,orders_df,on=\"ProductID\",how=\"inner\")\n",
    "merge_data['TotalRevenue']=merge_data['Price']*merge_data['Quantity']\n",
    "merge_data.groupby(['ProductID','ProductName'])['TotalRevenue'].sum().reset_index()[['ProductName','TotalRevenue']]"
   ],
   "id": "bc657389ef382138",
   "outputs": [
    {
     "data": {
      "text/plain": [
       "  ProductName  TotalRevenue\n",
       "0      Laptop        300000\n",
       "1       Mouse          2400\n",
       "2    Keyboard          3600\n",
       "3     Monitor         45000\n",
       "4   USB Cable          1500\n",
       "5     Charger          4500\n",
       "6   Pen Drive          4200\n",
       "7   Hard Disk         27500"
      ],
      "text/html": [
       "<div>\n",
       "<style scoped>\n",
       "    .dataframe tbody tr th:only-of-type {\n",
       "        vertical-align: middle;\n",
       "    }\n",
       "\n",
       "    .dataframe tbody tr th {\n",
       "        vertical-align: top;\n",
       "    }\n",
       "\n",
       "    .dataframe thead th {\n",
       "        text-align: right;\n",
       "    }\n",
       "</style>\n",
       "<table border=\"1\" class=\"dataframe\">\n",
       "  <thead>\n",
       "    <tr style=\"text-align: right;\">\n",
       "      <th></th>\n",
       "      <th>ProductName</th>\n",
       "      <th>TotalRevenue</th>\n",
       "    </tr>\n",
       "  </thead>\n",
       "  <tbody>\n",
       "    <tr>\n",
       "      <th>0</th>\n",
       "      <td>Laptop</td>\n",
       "      <td>300000</td>\n",
       "    </tr>\n",
       "    <tr>\n",
       "      <th>1</th>\n",
       "      <td>Mouse</td>\n",
       "      <td>2400</td>\n",
       "    </tr>\n",
       "    <tr>\n",
       "      <th>2</th>\n",
       "      <td>Keyboard</td>\n",
       "      <td>3600</td>\n",
       "    </tr>\n",
       "    <tr>\n",
       "      <th>3</th>\n",
       "      <td>Monitor</td>\n",
       "      <td>45000</td>\n",
       "    </tr>\n",
       "    <tr>\n",
       "      <th>4</th>\n",
       "      <td>USB Cable</td>\n",
       "      <td>1500</td>\n",
       "    </tr>\n",
       "    <tr>\n",
       "      <th>5</th>\n",
       "      <td>Charger</td>\n",
       "      <td>4500</td>\n",
       "    </tr>\n",
       "    <tr>\n",
       "      <th>6</th>\n",
       "      <td>Pen Drive</td>\n",
       "      <td>4200</td>\n",
       "    </tr>\n",
       "    <tr>\n",
       "      <th>7</th>\n",
       "      <td>Hard Disk</td>\n",
       "      <td>27500</td>\n",
       "    </tr>\n",
       "  </tbody>\n",
       "</table>\n",
       "</div>"
      ]
     },
     "execution_count": 39,
     "metadata": {},
     "output_type": "execute_result"
    }
   ],
   "execution_count": 39
  },
  {
   "metadata": {
    "ExecuteTime": {
     "end_time": "2025-09-17T11:52:43.677836Z",
     "start_time": "2025-09-17T11:52:43.657736Z"
    }
   },
   "cell_type": "code",
   "source": [
    "# 6. Find the details (OrderID, CustomerName, ProductName, Quantity) for all orders placed by customers from the USA.\n",
    "'''\n",
    "merge_data_order_customer=pd.merge(orders_df,customers_df,on=\"CustomerID\",how='inner')\n",
    "merge_data_order_customer_product=pd.merge(merge_data_order_customer,products_df,on=\"ProductID\",how='inner')\n",
    "merge_data_order_customer_product.loc[merge_data_order_customer_product['Country']=='USA',['OrderID','CustomerName','ProductName','Quantity']]\n",
    "\n",
    "\n",
    "'''\n",
    "final_result=(\n",
    "    orders_df.merge(customers_df,on='CustomerID')\n",
    "    .merge(products_df,on='ProductID')\n",
    "    .query(\"Country =='USA'\")\n",
    "    [['OrderID','CustomerName','ProductName','Quantity']]\n",
    ")\n",
    "print(final_result)"
   ],
   "id": "3b9baac7c411b4a5",
   "outputs": [
    {
     "name": "stdout",
     "output_type": "stream",
     "text": [
      "   OrderID CustomerName ProductName  Quantity\n",
      "7      308   Diya Verma       Mouse         1\n"
     ]
    }
   ],
   "execution_count": 54
  },
  {
   "metadata": {
    "ExecuteTime": {
     "end_time": "2025-09-17T12:14:04.364489Z",
     "start_time": "2025-09-17T12:14:04.353658Z"
    }
   },
   "cell_type": "code",
   "source": [
    "# 7. Find the customer who has spent the most money. Display their name and the total amount they have spent.\n",
    "final_result=(\n",
    "    customers_df.merge(orders_df,on='CustomerID')\n",
    "    .merge(products_df,on='ProductID')\n",
    ")\n",
    "final_result['TotalSpent']=final_result['Price']*final_result['Quantity']\n",
    "final_result=final_result.groupby(['CustomerID','CustomerName'])['TotalSpent'].sum()\n",
    "print(f\"Name = {final_result.idxmax()[1]} , Total amount = {final_result.max()}\")"
   ],
   "id": "ac2e39f809c3db27",
   "outputs": [
    {
     "name": "stdout",
     "output_type": "stream",
     "text": [
      "Name = Sneha Desai , Total amount = 310300\n"
     ]
    }
   ],
   "execution_count": 68
  }
 ],
 "metadata": {
  "kernelspec": {
   "display_name": "Python 3",
   "language": "python",
   "name": "python3"
  },
  "language_info": {
   "codemirror_mode": {
    "name": "ipython",
    "version": 2
   },
   "file_extension": ".py",
   "mimetype": "text/x-python",
   "name": "python",
   "nbconvert_exporter": "python",
   "pygments_lexer": "ipython2",
   "version": "2.7.6"
  }
 },
 "nbformat": 4,
 "nbformat_minor": 5
}
