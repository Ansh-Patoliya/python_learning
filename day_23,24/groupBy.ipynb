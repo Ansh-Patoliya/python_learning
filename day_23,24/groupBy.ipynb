{
 "cells": [
  {
   "cell_type": "code",
   "id": "initial_id",
   "metadata": {
    "collapsed": true,
    "ExecuteTime": {
     "end_time": "2025-09-16T13:49:32.379892Z",
     "start_time": "2025-09-16T13:49:32.376116Z"
    }
   },
   "source": [
    "from itertools import groupby\n",
    "\n",
    "import pandas as pd"
   ],
   "outputs": [],
   "execution_count": 2
  },
  {
   "metadata": {
    "ExecuteTime": {
     "end_time": "2025-09-16T13:51:42.084890Z",
     "start_time": "2025-09-16T13:51:42.074096Z"
    }
   },
   "cell_type": "code",
   "source": "df=pd.read_csv(\"/day_22/sample_sales_data.csv\", encoding=\"latin1\")",
   "id": "67547e6115a689c4",
   "outputs": [],
   "execution_count": 8
  },
  {
   "metadata": {
    "ExecuteTime": {
     "end_time": "2025-09-16T13:45:55.750705Z",
     "start_time": "2025-09-16T13:45:55.746202Z"
    }
   },
   "cell_type": "code",
   "source": [
    "\"\"\"\n",
    "GroupBy :\n",
    "    - GroupBy is used to group data based on one or more columns.\n",
    "    - It is often used in conjunction with aggregation functions like sum(), mean(), count(), max(), min(), etc.\n",
    "    - The result of a GroupBy operation is a DataFrameGroupBy object, which can be further processed to obtain the desired results.\n",
    "    - syntax (without agg):\n",
    "        df.groupby('column_name')['other_column'].function()\n",
    "    - syntax (with agg):\n",
    "        df.groupby('column_name').agg({'other_column': 'function'})\n",
    "\"\"\""
   ],
   "id": "8aa9c3b696f487af",
   "outputs": [],
   "execution_count": null
  },
  {
   "metadata": {},
   "cell_type": "markdown",
   "source": [
    "## Practice question\n",
    "    - Find total sales per Category.\n",
    "    - Find average Price per Region.\n",
    "    - Find total Quantity sold per Salesperson.\n",
    "    - Count how many orders were placed in each Region.\n",
    "    - Find maximum Total sale per Category.\n",
    "    - Find minimum Quantity per Salesperson.\n",
    "    - Find average Quantity sold per Product.\n",
    "    - Find total sales per Month.\n",
    "    - Find the highest Price per Region.\n",
    "    - Find how many orders each Category received."
   ],
   "id": "4fdf017f86b5faed"
  },
  {
   "metadata": {
    "ExecuteTime": {
     "end_time": "2025-09-16T14:04:51.163730Z",
     "start_time": "2025-09-16T14:04:51.155703Z"
    }
   },
   "cell_type": "code",
   "source": [
    "# 1. Find total sales per Category.\n",
    "df.groupby('Category')['Total'].sum()"
   ],
   "id": "bc87408142ec9afb",
   "outputs": [
    {
     "data": {
      "text/plain": [
       "Category\n",
       "Accessories     81165\n",
       "Electronics    172072\n",
       "Office          24569\n",
       "Name: Total, dtype: int64"
      ]
     },
     "execution_count": 30,
     "metadata": {},
     "output_type": "execute_result"
    }
   ],
   "execution_count": 30
  },
  {
   "metadata": {
    "ExecuteTime": {
     "end_time": "2025-09-16T14:03:27.419873Z",
     "start_time": "2025-09-16T14:03:27.409772Z"
    }
   },
   "cell_type": "code",
   "source": [
    "# 2. Find average Price per Region.\n",
    "df.groupby('Region')['Price'].mean()"
   ],
   "id": "f2af485b022ca29a",
   "outputs": [
    {
     "data": {
      "text/plain": [
       "Region\n",
       "East     528.535714\n",
       "North    557.653846\n",
       "South    510.227273\n",
       "West     521.250000\n",
       "Name: Price, dtype: float64"
      ]
     },
     "execution_count": 28,
     "metadata": {},
     "output_type": "execute_result"
    }
   ],
   "execution_count": 28
  },
  {
   "metadata": {
    "ExecuteTime": {
     "end_time": "2025-09-16T14:04:30.774636Z",
     "start_time": "2025-09-16T14:04:30.767360Z"
    }
   },
   "cell_type": "code",
   "source": [
    "# 3. Find total Quantity sold per Salesperson.\n",
    "df.groupby('Salesperson')['Quantity'].sum()"
   ],
   "id": "aa4eaba96156a20c",
   "outputs": [
    {
     "data": {
      "text/plain": [
       "Salesperson\n",
       "Alice      78\n",
       "Bob        91\n",
       "Charlie    59\n",
       "David      51\n",
       "Eva        44\n",
       "Frank      93\n",
       "Grace      63\n",
       "Helen      75\n",
       "Name: Quantity, dtype: int64"
      ]
     },
     "execution_count": 29,
     "metadata": {},
     "output_type": "execute_result"
    }
   ],
   "execution_count": 29
  },
  {
   "metadata": {
    "ExecuteTime": {
     "end_time": "2025-09-16T14:02:22.078113Z",
     "start_time": "2025-09-16T14:02:22.069072Z"
    }
   },
   "cell_type": "code",
   "source": [
    "# 4. Count how many orders were placed in each Region.\n",
    "df.groupby('Region')['OrderID'].count()"
   ],
   "id": "c0803949d1b71136",
   "outputs": [
    {
     "data": {
      "text/plain": [
       "Region\n",
       "East     28\n",
       "North    26\n",
       "South    22\n",
       "West     24\n",
       "Name: OrderID, dtype: int64"
      ]
     },
     "execution_count": 26,
     "metadata": {},
     "output_type": "execute_result"
    }
   ],
   "execution_count": 26
  },
  {
   "metadata": {
    "ExecuteTime": {
     "end_time": "2025-09-16T14:01:39.758666Z",
     "start_time": "2025-09-16T14:01:39.750288Z"
    }
   },
   "cell_type": "code",
   "source": [
    "# 5. Find maximum Total sale per Category.\n",
    "df.groupby('Category')['Total'].max()"
   ],
   "id": "8c6d1d9c6dd66a68",
   "outputs": [
    {
     "data": {
      "text/plain": [
       "Category\n",
       "Accessories    6770\n",
       "Electronics    8604\n",
       "Office         7380\n",
       "Name: Total, dtype: int64"
      ]
     },
     "execution_count": 25,
     "metadata": {},
     "output_type": "execute_result"
    }
   ],
   "execution_count": 25
  },
  {
   "metadata": {
    "ExecuteTime": {
     "end_time": "2025-09-16T14:01:05.093789Z",
     "start_time": "2025-09-16T14:01:05.085710Z"
    }
   },
   "cell_type": "code",
   "source": [
    "# 6. Find minimum Quantity per Salesperson.\n",
    "df.groupby('Salesperson')['Quantity'].min()"
   ],
   "id": "2a733c7a8ba38395",
   "outputs": [
    {
     "data": {
      "text/plain": [
       "Salesperson\n",
       "Alice      1\n",
       "Bob        1\n",
       "Charlie    1\n",
       "David      1\n",
       "Eva        2\n",
       "Frank      2\n",
       "Grace      1\n",
       "Helen      1\n",
       "Name: Quantity, dtype: int64"
      ]
     },
     "execution_count": 24,
     "metadata": {},
     "output_type": "execute_result"
    }
   ],
   "execution_count": 24
  },
  {
   "metadata": {
    "ExecuteTime": {
     "end_time": "2025-09-16T14:00:14.968640Z",
     "start_time": "2025-09-16T14:00:14.908680Z"
    }
   },
   "cell_type": "code",
   "source": [
    "# 7. Find average Quantity sold per Product.\n",
    "df.groupby('Product')['Quantity'].mean()"
   ],
   "id": "6196b53c23fbe0cc",
   "outputs": [
    {
     "data": {
      "text/plain": [
       "Product\n",
       "Camera        6.181818\n",
       "Headphones    4.538462\n",
       "Keyboard      4.800000\n",
       "Laptop        5.400000\n",
       "Monitor       6.333333\n",
       "Mouse         5.000000\n",
       "Phone         5.307692\n",
       "Printer       6.500000\n",
       "Smartwatch    5.833333\n",
       "Tablet        5.666667\n",
       "Name: Quantity, dtype: float64"
      ]
     },
     "execution_count": 23,
     "metadata": {},
     "output_type": "execute_result"
    }
   ],
   "execution_count": 23
  },
  {
   "metadata": {
    "ExecuteTime": {
     "end_time": "2025-09-16T13:59:31.508098Z",
     "start_time": "2025-09-16T13:59:31.500144Z"
    }
   },
   "cell_type": "code",
   "source": [
    "# 8. Find total sales per Month.\n",
    "df.groupby('Month')['Total'].sum()"
   ],
   "id": "ddd2ed225ed116c7",
   "outputs": [
    {
     "data": {
      "text/plain": [
       "Month\n",
       "Apr    32851\n",
       "Aug    25516\n",
       "Dec     5294\n",
       "Feb    10271\n",
       "Jan    32397\n",
       "Jul    29136\n",
       "Jun     8444\n",
       "Mar    32328\n",
       "May    33579\n",
       "Nov    32044\n",
       "Oct    17958\n",
       "Sep    17988\n",
       "Name: Total, dtype: int64"
      ]
     },
     "execution_count": 21,
     "metadata": {},
     "output_type": "execute_result"
    }
   ],
   "execution_count": 21
  },
  {
   "metadata": {
    "ExecuteTime": {
     "end_time": "2025-09-16T13:56:17.687257Z",
     "start_time": "2025-09-16T13:56:17.679492Z"
    }
   },
   "cell_type": "code",
   "source": [
    "# 9. Find the highest Price per Region.\n",
    "df.groupby('Region')['Price'].max()"
   ],
   "id": "13e8d01df9f282e1",
   "outputs": [
    {
     "data": {
      "text/plain": [
       "Region\n",
       "East     904\n",
       "North    956\n",
       "South    975\n",
       "West     936\n",
       "Name: Price, dtype: int64"
      ]
     },
     "execution_count": 13,
     "metadata": {},
     "output_type": "execute_result"
    }
   ],
   "execution_count": 13
  },
  {
   "metadata": {
    "ExecuteTime": {
     "end_time": "2025-09-16T13:55:26.008830Z",
     "start_time": "2025-09-16T13:55:26.000083Z"
    }
   },
   "cell_type": "code",
   "source": [
    "# 10. Find how many orders each Category received.\n",
    "df.groupby('Category')['OrderID'].count()"
   ],
   "id": "1626897fe4fbcaa6",
   "outputs": [
    {
     "data": {
      "text/plain": [
       "Category\n",
       "Accessories    29\n",
       "Electronics    65\n",
       "Office          6\n",
       "Name: OrderID, dtype: int64"
      ]
     },
     "execution_count": 12,
     "metadata": {},
     "output_type": "execute_result"
    }
   ],
   "execution_count": 12
  }
 ],
 "metadata": {
  "kernelspec": {
   "display_name": "Python 3",
   "language": "python",
   "name": "python3"
  },
  "language_info": {
   "codemirror_mode": {
    "name": "ipython",
    "version": 2
   },
   "file_extension": ".py",
   "mimetype": "text/x-python",
   "name": "python",
   "nbconvert_exporter": "python",
   "pygments_lexer": "ipython2",
   "version": "2.7.6"
  }
 },
 "nbformat": 4,
 "nbformat_minor": 5
}
