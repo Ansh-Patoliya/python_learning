{
 "cells": [
  {
   "cell_type": "code",
   "id": "initial_id",
   "metadata": {
    "collapsed": true,
    "ExecuteTime": {
     "end_time": "2025-09-17T13:00:10.386016Z",
     "start_time": "2025-09-17T13:00:09.627904Z"
    }
   },
   "source": "import pandas as pd",
   "outputs": [],
   "execution_count": 1
  },
  {
   "metadata": {},
   "cell_type": "markdown",
   "source": [
    "# join() — index-based joining\n",
    "    join() :\n",
    "        - is a DataFrame method that aligns on the index by default.\n",
    "        - It is convenient when your datasets use the index as the key.\n",
    "        - Under the hood df1.join(df2) is similar to pd.merge(df1, df2, left_index=True,\n",
    "         right_index=True)"
   ],
   "id": "4dfe4e58972c3a1f"
  },
  {
   "metadata": {
    "ExecuteTime": {
     "end_time": "2025-09-17T13:00:10.409769Z",
     "start_time": "2025-09-17T13:00:10.400620Z"
    }
   },
   "cell_type": "code",
   "source": [
    "customers = pd.DataFrame({\n",
    "    'CustomerID': [1, 2, 3, 4],\n",
    "    'Name': ['Alice', 'Bob', 'Charlie', 'Diana'],\n",
    "    'City': ['New York', 'Los Angeles', 'Chicago', 'Houston']\n",
    "})\n",
    "\n",
    "df_customers = customers.set_index('CustomerID')\n",
    "\n",
    "balances = pd.DataFrame({\n",
    "    'Balance': [150, 80, 200]\n",
    "}, index=[2, 3, 5])   # index 5 not in df_customers"
   ],
   "id": "240f79e58707adca",
   "outputs": [],
   "execution_count": 2
  },
  {
   "metadata": {
    "ExecuteTime": {
     "end_time": "2025-09-17T13:00:10.467831Z",
     "start_time": "2025-09-17T13:00:10.429001Z"
    }
   },
   "cell_type": "code",
   "source": [
    "# Default join() (left join)\n",
    "df_customers.join(balances)\n",
    "# Explanation: by default join() does left join, keeping all rows of df_customers. Index 5 from balances is not included."
   ],
   "id": "e821386856c07fff",
   "outputs": [
    {
     "data": {
      "text/plain": [
       "               Name         City  Balance\n",
       "CustomerID                               \n",
       "1             Alice     New York      NaN\n",
       "2               Bob  Los Angeles    150.0\n",
       "3           Charlie      Chicago     80.0\n",
       "4             Diana      Houston      NaN"
      ],
      "text/html": [
       "<div>\n",
       "<style scoped>\n",
       "    .dataframe tbody tr th:only-of-type {\n",
       "        vertical-align: middle;\n",
       "    }\n",
       "\n",
       "    .dataframe tbody tr th {\n",
       "        vertical-align: top;\n",
       "    }\n",
       "\n",
       "    .dataframe thead th {\n",
       "        text-align: right;\n",
       "    }\n",
       "</style>\n",
       "<table border=\"1\" class=\"dataframe\">\n",
       "  <thead>\n",
       "    <tr style=\"text-align: right;\">\n",
       "      <th></th>\n",
       "      <th>Name</th>\n",
       "      <th>City</th>\n",
       "      <th>Balance</th>\n",
       "    </tr>\n",
       "    <tr>\n",
       "      <th>CustomerID</th>\n",
       "      <th></th>\n",
       "      <th></th>\n",
       "      <th></th>\n",
       "    </tr>\n",
       "  </thead>\n",
       "  <tbody>\n",
       "    <tr>\n",
       "      <th>1</th>\n",
       "      <td>Alice</td>\n",
       "      <td>New York</td>\n",
       "      <td>NaN</td>\n",
       "    </tr>\n",
       "    <tr>\n",
       "      <th>2</th>\n",
       "      <td>Bob</td>\n",
       "      <td>Los Angeles</td>\n",
       "      <td>150.0</td>\n",
       "    </tr>\n",
       "    <tr>\n",
       "      <th>3</th>\n",
       "      <td>Charlie</td>\n",
       "      <td>Chicago</td>\n",
       "      <td>80.0</td>\n",
       "    </tr>\n",
       "    <tr>\n",
       "      <th>4</th>\n",
       "      <td>Diana</td>\n",
       "      <td>Houston</td>\n",
       "      <td>NaN</td>\n",
       "    </tr>\n",
       "  </tbody>\n",
       "</table>\n",
       "</div>"
      ]
     },
     "execution_count": 3,
     "metadata": {},
     "output_type": "execute_result"
    }
   ],
   "execution_count": 3
  },
  {
   "metadata": {
    "ExecuteTime": {
     "end_time": "2025-09-17T13:00:10.507253Z",
     "start_time": "2025-09-17T13:00:10.490758Z"
    }
   },
   "cell_type": "code",
   "source": [
    "# Outer join with join\n",
    "df_customers.join(balances, how='outer')"
   ],
   "id": "397f3589ecb40518",
   "outputs": [
    {
     "data": {
      "text/plain": [
       "      Name         City  Balance\n",
       "1    Alice     New York      NaN\n",
       "2      Bob  Los Angeles    150.0\n",
       "3  Charlie      Chicago     80.0\n",
       "4    Diana      Houston      NaN\n",
       "5      NaN          NaN    200.0"
      ],
      "text/html": [
       "<div>\n",
       "<style scoped>\n",
       "    .dataframe tbody tr th:only-of-type {\n",
       "        vertical-align: middle;\n",
       "    }\n",
       "\n",
       "    .dataframe tbody tr th {\n",
       "        vertical-align: top;\n",
       "    }\n",
       "\n",
       "    .dataframe thead th {\n",
       "        text-align: right;\n",
       "    }\n",
       "</style>\n",
       "<table border=\"1\" class=\"dataframe\">\n",
       "  <thead>\n",
       "    <tr style=\"text-align: right;\">\n",
       "      <th></th>\n",
       "      <th>Name</th>\n",
       "      <th>City</th>\n",
       "      <th>Balance</th>\n",
       "    </tr>\n",
       "  </thead>\n",
       "  <tbody>\n",
       "    <tr>\n",
       "      <th>1</th>\n",
       "      <td>Alice</td>\n",
       "      <td>New York</td>\n",
       "      <td>NaN</td>\n",
       "    </tr>\n",
       "    <tr>\n",
       "      <th>2</th>\n",
       "      <td>Bob</td>\n",
       "      <td>Los Angeles</td>\n",
       "      <td>150.0</td>\n",
       "    </tr>\n",
       "    <tr>\n",
       "      <th>3</th>\n",
       "      <td>Charlie</td>\n",
       "      <td>Chicago</td>\n",
       "      <td>80.0</td>\n",
       "    </tr>\n",
       "    <tr>\n",
       "      <th>4</th>\n",
       "      <td>Diana</td>\n",
       "      <td>Houston</td>\n",
       "      <td>NaN</td>\n",
       "    </tr>\n",
       "    <tr>\n",
       "      <th>5</th>\n",
       "      <td>NaN</td>\n",
       "      <td>NaN</td>\n",
       "      <td>200.0</td>\n",
       "    </tr>\n",
       "  </tbody>\n",
       "</table>\n",
       "</div>"
      ]
     },
     "execution_count": 4,
     "metadata": {},
     "output_type": "execute_result"
    }
   ],
   "execution_count": 4
  },
  {
   "metadata": {
    "ExecuteTime": {
     "end_time": "2025-09-17T13:00:10.546779Z",
     "start_time": "2025-09-17T13:00:10.531382Z"
    }
   },
   "cell_type": "code",
   "source": [
    "\n",
    "\n",
    "# 1. Customers DataFrame\n",
    "customers_data = {\n",
    "    'CustomerID': [101, 102, 103, 104, 105, 106],\n",
    "    'CustomerName': ['Aarav Patel', 'Priya Sharma', 'Rohan Mehta', 'Sneha Desai', 'Vikram Singh', 'Anjali Gupta'],\n",
    "    'Country': ['India', 'USA', 'India', 'UK', 'USA', 'Canada']\n",
    "}\n",
    "customers_df = pd.DataFrame(customers_data).set_index('CustomerID')\n",
    "\n",
    "# 2. Orders DataFrame (Note: Customer 106 has no orders)\n",
    "orders_data = {\n",
    "    'OrderID': ['ORD01', 'ORD02', 'ORD03', 'ORD04', 'ORD05'],\n",
    "    'CustomerID': [101, 102, 101, 103, 105],\n",
    "    'OrderDate': pd.to_datetime(['2025-05-15', '2025-05-18', '2025-06-01', '2025-06-05', '2025-06-10']),\n",
    "    'Amount': [5000, 8500, 3200, 12000, 7800]\n",
    "}\n",
    "orders_df = pd.DataFrame(orders_data).set_index('CustomerID')\n",
    "\n",
    "# 3. SalesTargets DataFrame (Note: Customers 103, 106 have no target)\n",
    "sales_targets_data = {\n",
    "    'CustomerID': [101, 102, 104, 105],\n",
    "    'Year': [2025, 2025, 2025, 2025],\n",
    "    'TargetAmount': [50000, 75000, 60000, 80000]\n",
    "}\n",
    "sales_targets_df = pd.DataFrame(sales_targets_data).set_index('CustomerID')\n"
   ],
   "id": "9ab29459e546421d",
   "outputs": [],
   "execution_count": 5
  },
  {
   "metadata": {},
   "cell_type": "markdown",
   "source": [
    "## Practice Question\n",
    "    Easy: Join all customer information with their order details."
   ],
   "id": "30f5b30e1511d038"
  },
  {
   "metadata": {},
   "cell_type": "markdown",
   "source": "    Medium: Show information for only those customers who have placed an order.",
   "id": "467eae425e635b4c"
  },
  {
   "metadata": {},
   "cell_type": "markdown",
   "source": "    Medium: Create a consolidated list of all customers and their sales targets, showing all records even if there isn't a match.",
   "id": "cbcf01a053126800"
  },
  {
   "metadata": {
    "ExecuteTime": {
     "end_time": "2025-09-17T13:06:22.287255Z",
     "start_time": "2025-09-17T13:06:22.273050Z"
    }
   },
   "cell_type": "code",
   "source": [
    "# Hard: Create a single DataFrame where the customer's name, country, their order amount, and their sales target are all in the same row.\n",
    "final_result=(\n",
    "    customers_df.join(orders_df,how='left')\n",
    "    .groupby(['CustomerID','CustomerName','Country'])['Amount'].sum().reset_index().set_index('CustomerID')\n",
    "    .join(sales_targets_df,how='inner')\n",
    ")\n",
    "print(final_result[['CustomerName','Country','Amount','TargetAmount']])"
   ],
   "id": "cd66cdb71255cd98",
   "outputs": [
    {
     "name": "stdout",
     "output_type": "stream",
     "text": [
      "            CustomerName Country  Amount  TargetAmount\n",
      "CustomerID                                            \n",
      "101          Aarav Patel   India  8200.0         50000\n",
      "102         Priya Sharma     USA  8500.0         75000\n",
      "104          Sneha Desai      UK     0.0         60000\n",
      "105         Vikram Singh     USA  7800.0         80000\n"
     ]
    }
   ],
   "execution_count": 17
  },
  {
   "metadata": {
    "ExecuteTime": {
     "end_time": "2025-09-17T13:35:58.691175Z",
     "start_time": "2025-09-17T13:35:58.676777Z"
    }
   },
   "cell_type": "code",
   "source": [
    "# Hard: Find customers who have placed an order but for whom no sales target is set.\n",
    "final_result=(\n",
    "    customers_df.join(orders_df,how='inner')\n",
    "    .groupby(['CustomerID','CustomerName'])['Amount'].sum().reset_index().set_index('CustomerID')\n",
    "    .join(sales_targets_df).reset_index()\n",
    "    .query(\"not TargetAmount>0\")\n",
    ")\n",
    "print(final_result['CustomerName'])"
   ],
   "id": "749bb17fd1e6a92b",
   "outputs": [
    {
     "name": "stdout",
     "output_type": "stream",
     "text": [
      "2    Rohan Mehta\n",
      "Name: CustomerName, dtype: object\n"
     ]
    }
   ],
   "execution_count": 37
  },
  {
   "metadata": {
    "ExecuteTime": {
     "end_time": "2025-09-17T13:52:22.108129Z",
     "start_time": "2025-09-17T13:52:22.094456Z"
    }
   },
   "cell_type": "code",
   "source": [
    "# Hard: For each country, find the sum of the total order amount and the total target amount.\n",
    "final_result1=(\n",
    "    customers_df.join(orders_df)\n",
    "    .groupby('Country')[['Amount']].sum()\n",
    ")\n",
    "final_result2=customers_df.join(sales_targets_df).groupby('Country')['TargetAmount'].sum()\n",
    "final_result=final_result1.join(final_result2)\n",
    "print(final_result)"
   ],
   "id": "617afbca3b5d880d",
   "outputs": [
    {
     "name": "stdout",
     "output_type": "stream",
     "text": [
      "          Amount  TargetAmount\n",
      "Country                       \n",
      "Canada       0.0           0.0\n",
      "India    20200.0       50000.0\n",
      "UK           0.0       60000.0\n",
      "USA      16300.0      155000.0\n"
     ]
    }
   ],
   "execution_count": 48
  }
 ],
 "metadata": {
  "kernelspec": {
   "display_name": "Python 3",
   "language": "python",
   "name": "python3"
  },
  "language_info": {
   "codemirror_mode": {
    "name": "ipython",
    "version": 2
   },
   "file_extension": ".py",
   "mimetype": "text/x-python",
   "name": "python",
   "nbconvert_exporter": "python",
   "pygments_lexer": "ipython2",
   "version": "2.7.6"
  }
 },
 "nbformat": 4,
 "nbformat_minor": 5
}
