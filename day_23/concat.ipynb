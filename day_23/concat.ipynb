{
 "cells": [
  {
   "cell_type": "code",
   "id": "initial_id",
   "metadata": {
    "collapsed": true,
    "ExecuteTime": {
     "end_time": "2025-09-16T15:19:29.433157Z",
     "start_time": "2025-09-16T15:19:28.630161Z"
    }
   },
   "source": "import pandas as pd",
   "outputs": [],
   "execution_count": 1
  },
  {
   "metadata": {},
   "cell_type": "markdown",
   "source": [
    "# concat() — stack DataFrames row-wise or column-wise\n",
    "    - concat() stacks DataFrames along an axis.\n",
    "    - Use axis=0 to append rows, axis=1 to join columns side-by-side.\n",
    "    - It preserves indexes by default; use ignore_index=True to reset.ta\n",
    "    - syntax : pd.concat([df1, df2, ...], axis=0 or 1, ignore_index=True or False)\n",
    "    - how to use :\n",
    "        (1) Row-wise concatenation (axis=0):\n",
    "            - Stacks DataFrames vertically, adding rows.\n",
    "            - Useful for combining datasets with the same columns.\n",
    "        (2) Column-wise concatenation (axis=1):\n",
    "            - Joins DataFrames side-by-side, adding columns.\n",
    "            - Useful for merging datasets with the same index.\n",
    "        (3) Ignore  index:\n",
    "            - Use ignore_index=True to reset the index in the result.\n",
    "            - This is helpful when the original indexes are not meaningful."
   ],
   "id": "2b01e891c0ae3403"
  },
  {
   "metadata": {
    "ExecuteTime": {
     "end_time": "2025-09-16T15:22:43.477067Z",
     "start_time": "2025-09-16T15:22:43.465841Z"
    }
   },
   "cell_type": "code",
   "source": [
    "jan = pd.DataFrame({\n",
    "    'OrderID': [101, 102],\n",
    "    'CustomerID': [1, 2],\n",
    "    'Product': ['Laptop', 'Phone'],\n",
    "    'Total': [1200, 800]\n",
    "})\n",
    "\n",
    "feb = pd.DataFrame({\n",
    "    'OrderID': [103, 104],\n",
    "    'CustomerID': [2, 3],\n",
    "    'Product': ['Tablet', 'Mouse'],\n",
    "    'Total': [450, 50]\n",
    "})"
   ],
   "id": "b86efca0c130974f",
   "outputs": [],
   "execution_count": 2
  },
  {
   "metadata": {
    "ExecuteTime": {
     "end_time": "2025-09-16T15:22:47.778913Z",
     "start_time": "2025-09-16T15:22:47.745315Z"
    }
   },
   "cell_type": "code",
   "source": [
    "# Row-wise append (axis=0)\n",
    "pd.concat([jan, feb])"
   ],
   "id": "a1e5ac28afa86f33",
   "outputs": [
    {
     "data": {
      "text/plain": [
       "   OrderID  CustomerID Product  Total\n",
       "0      101           1  Laptop   1200\n",
       "1      102           2   Phone    800\n",
       "0      103           2  Tablet    450\n",
       "1      104           3   Mouse     50"
      ],
      "text/html": [
       "<div>\n",
       "<style scoped>\n",
       "    .dataframe tbody tr th:only-of-type {\n",
       "        vertical-align: middle;\n",
       "    }\n",
       "\n",
       "    .dataframe tbody tr th {\n",
       "        vertical-align: top;\n",
       "    }\n",
       "\n",
       "    .dataframe thead th {\n",
       "        text-align: right;\n",
       "    }\n",
       "</style>\n",
       "<table border=\"1\" class=\"dataframe\">\n",
       "  <thead>\n",
       "    <tr style=\"text-align: right;\">\n",
       "      <th></th>\n",
       "      <th>OrderID</th>\n",
       "      <th>CustomerID</th>\n",
       "      <th>Product</th>\n",
       "      <th>Total</th>\n",
       "    </tr>\n",
       "  </thead>\n",
       "  <tbody>\n",
       "    <tr>\n",
       "      <th>0</th>\n",
       "      <td>101</td>\n",
       "      <td>1</td>\n",
       "      <td>Laptop</td>\n",
       "      <td>1200</td>\n",
       "    </tr>\n",
       "    <tr>\n",
       "      <th>1</th>\n",
       "      <td>102</td>\n",
       "      <td>2</td>\n",
       "      <td>Phone</td>\n",
       "      <td>800</td>\n",
       "    </tr>\n",
       "    <tr>\n",
       "      <th>0</th>\n",
       "      <td>103</td>\n",
       "      <td>2</td>\n",
       "      <td>Tablet</td>\n",
       "      <td>450</td>\n",
       "    </tr>\n",
       "    <tr>\n",
       "      <th>1</th>\n",
       "      <td>104</td>\n",
       "      <td>3</td>\n",
       "      <td>Mouse</td>\n",
       "      <td>50</td>\n",
       "    </tr>\n",
       "  </tbody>\n",
       "</table>\n",
       "</div>"
      ]
     },
     "execution_count": 3,
     "metadata": {},
     "output_type": "execute_result"
    }
   ],
   "execution_count": 3
  },
  {
   "metadata": {
    "ExecuteTime": {
     "end_time": "2025-09-16T15:23:03.426696Z",
     "start_time": "2025-09-16T15:23:03.413274Z"
    }
   },
   "cell_type": "code",
   "source": [
    "# Often you want a clean index:\n",
    "pd.concat([jan, feb], ignore_index=True)"
   ],
   "id": "f1b0fbd089eb13e9",
   "outputs": [
    {
     "data": {
      "text/plain": [
       "   OrderID  CustomerID Product  Total\n",
       "0      101           1  Laptop   1200\n",
       "1      102           2   Phone    800\n",
       "2      103           2  Tablet    450\n",
       "3      104           3   Mouse     50"
      ],
      "text/html": [
       "<div>\n",
       "<style scoped>\n",
       "    .dataframe tbody tr th:only-of-type {\n",
       "        vertical-align: middle;\n",
       "    }\n",
       "\n",
       "    .dataframe tbody tr th {\n",
       "        vertical-align: top;\n",
       "    }\n",
       "\n",
       "    .dataframe thead th {\n",
       "        text-align: right;\n",
       "    }\n",
       "</style>\n",
       "<table border=\"1\" class=\"dataframe\">\n",
       "  <thead>\n",
       "    <tr style=\"text-align: right;\">\n",
       "      <th></th>\n",
       "      <th>OrderID</th>\n",
       "      <th>CustomerID</th>\n",
       "      <th>Product</th>\n",
       "      <th>Total</th>\n",
       "    </tr>\n",
       "  </thead>\n",
       "  <tbody>\n",
       "    <tr>\n",
       "      <th>0</th>\n",
       "      <td>101</td>\n",
       "      <td>1</td>\n",
       "      <td>Laptop</td>\n",
       "      <td>1200</td>\n",
       "    </tr>\n",
       "    <tr>\n",
       "      <th>1</th>\n",
       "      <td>102</td>\n",
       "      <td>2</td>\n",
       "      <td>Phone</td>\n",
       "      <td>800</td>\n",
       "    </tr>\n",
       "    <tr>\n",
       "      <th>2</th>\n",
       "      <td>103</td>\n",
       "      <td>2</td>\n",
       "      <td>Tablet</td>\n",
       "      <td>450</td>\n",
       "    </tr>\n",
       "    <tr>\n",
       "      <th>3</th>\n",
       "      <td>104</td>\n",
       "      <td>3</td>\n",
       "      <td>Mouse</td>\n",
       "      <td>50</td>\n",
       "    </tr>\n",
       "  </tbody>\n",
       "</table>\n",
       "</div>"
      ]
     },
     "execution_count": 4,
     "metadata": {},
     "output_type": "execute_result"
    }
   ],
   "execution_count": 4
  },
  {
   "metadata": {
    "ExecuteTime": {
     "end_time": "2025-09-16T15:24:24.496443Z",
     "start_time": "2025-09-16T15:24:24.437242Z"
    }
   },
   "cell_type": "code",
   "source": [
    "# Column-wise combine (axis=1)\n",
    "# Create two frames with same index (say customer info and metrics):\n",
    "\n",
    "info = pd.DataFrame({\n",
    "    'CustomerID': [1,2,3],\n",
    "    'Name': ['Alice','Bob','Charlie']\n",
    "}).set_index('CustomerID')\n",
    "\n",
    "metrics = pd.DataFrame({\n",
    "    'CustomerID': [1,2,4],\n",
    "    'TotalSpent': [1200, 750, 300]\n",
    "}).set_index('CustomerID')\n",
    "\n",
    "pd.concat([info, metrics], axis=1)\n",
    "# Explanation: pandas aligns on the index. Missing values appear where no match exists."
   ],
   "id": "e8a6ad4ffa1488e3",
   "outputs": [
    {
     "data": {
      "text/plain": [
       "               Name  TotalSpent\n",
       "CustomerID                     \n",
       "1             Alice      1200.0\n",
       "2               Bob       750.0\n",
       "3           Charlie         NaN\n",
       "4               NaN       300.0"
      ],
      "text/html": [
       "<div>\n",
       "<style scoped>\n",
       "    .dataframe tbody tr th:only-of-type {\n",
       "        vertical-align: middle;\n",
       "    }\n",
       "\n",
       "    .dataframe tbody tr th {\n",
       "        vertical-align: top;\n",
       "    }\n",
       "\n",
       "    .dataframe thead th {\n",
       "        text-align: right;\n",
       "    }\n",
       "</style>\n",
       "<table border=\"1\" class=\"dataframe\">\n",
       "  <thead>\n",
       "    <tr style=\"text-align: right;\">\n",
       "      <th></th>\n",
       "      <th>Name</th>\n",
       "      <th>TotalSpent</th>\n",
       "    </tr>\n",
       "    <tr>\n",
       "      <th>CustomerID</th>\n",
       "      <th></th>\n",
       "      <th></th>\n",
       "    </tr>\n",
       "  </thead>\n",
       "  <tbody>\n",
       "    <tr>\n",
       "      <th>1</th>\n",
       "      <td>Alice</td>\n",
       "      <td>1200.0</td>\n",
       "    </tr>\n",
       "    <tr>\n",
       "      <th>2</th>\n",
       "      <td>Bob</td>\n",
       "      <td>750.0</td>\n",
       "    </tr>\n",
       "    <tr>\n",
       "      <th>3</th>\n",
       "      <td>Charlie</td>\n",
       "      <td>NaN</td>\n",
       "    </tr>\n",
       "    <tr>\n",
       "      <th>4</th>\n",
       "      <td>NaN</td>\n",
       "      <td>300.0</td>\n",
       "    </tr>\n",
       "  </tbody>\n",
       "</table>\n",
       "</div>"
      ]
     },
     "execution_count": 5,
     "metadata": {},
     "output_type": "execute_result"
    }
   ],
   "execution_count": 5
  }
 ],
 "metadata": {
  "kernelspec": {
   "display_name": "Python 3",
   "language": "python",
   "name": "python3"
  },
  "language_info": {
   "codemirror_mode": {
    "name": "ipython",
    "version": 2
   },
   "file_extension": ".py",
   "mimetype": "text/x-python",
   "name": "python",
   "nbconvert_exporter": "python",
   "pygments_lexer": "ipython2",
   "version": "2.7.6"
  }
 },
 "nbformat": 4,
 "nbformat_minor": 5
}
